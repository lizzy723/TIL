{
 "cells": [
  {
   "cell_type": "markdown",
   "metadata": {},
   "source": [
    "# Numpy\n",
    "How to create matrix in python <br>\n",
    "참고자료: [Chpater 2. Introduction to Numpy, *Python Data Science Handbook*](https://jakevdp.github.io/PythonDataScienceHandbook/02.00-introduction-to-numpy.html)\n",
    "\n",
    "1. [The Basics](#1.-The-Basics)<br>\n",
    "    1.1 [Numpy main object](#1.1-Numpy-main-object)<br>\n",
    "    1.2 [Array Creation + `.reshape()`](#1.2-Array-Creation-+--.reshape()) <br>\n",
    "    1.3 [Random](#1.3-Random)\n",
    "    \n",
    "2. [Numpy Standard Data Types](#2.-Numpy-Standard-Data-Types)<br>\n",
    "\n",
    "3. [Basic Operations](#3.-Basic-Operations)<br>\n",
    "    3.1 [matrix operations](#3.1-matrix-operations)<br>\n",
    "    3.2 [summarize](#3.2-summarize)<br>\n",
    "    3.3 [Indexing, Slicing and Iterating](#3.3-Indexing,-Slicing-and-Iterating)<br>\n",
    "    3.4 [Universal Functions](#3.4-Universal-Functions)<br>\n"
   ]
  },
  {
   "cell_type": "markdown",
   "metadata": {
    "colab_type": "text",
    "id": "Z0zNNxW9ErEo"
   },
   "source": [
    "## 1. The Basics\n"
   ]
  },
  {
   "cell_type": "markdown",
   "metadata": {
    "colab_type": "text",
    "id": "1lMRvD_PEutH"
   },
   "source": [
    "### 1.1 Numpy main object\n",
    "* Numpy’s main object is the **<font color=\"red\">homogeneous</font> multidimensional array**. (cf. `list`는 자료형이 서로 다른 원소를 포함할 수 있다.)\n",
    "    * It is a table of **elements** (usually numbers)\n",
    "    * all of the **same type**\n",
    "    * indexed by a tuple of **positive integers**. \n",
    "    * In Numpy dimensions are called **axes**.<br>\n",
    "        e.g. `[1, 2, 1]`: axis 하나. 3개의 elements. length = 3.\n",
    "* list로 numpy array 만들기: `np.array([1,2,3], dtype = )`\n",
    "* check an array : `a.size`,`a.shape`,`a.ndim`"
   ]
  },
  {
   "cell_type": "code",
   "execution_count": 2,
   "metadata": {
    "colab": {
     "base_uri": "https://localhost:8080/",
     "height": 34
    },
    "colab_type": "code",
    "executionInfo": {
     "elapsed": 1054,
     "status": "ok",
     "timestamp": 1572774557048,
     "user": {
      "displayName": "‍최상범[ 부교수 / 통계학과 ]",
      "photoUrl": "",
      "userId": "04920731355532988232"
     },
     "user_tz": -540
    },
    "id": "QR3aM_SMGa6y",
    "outputId": "0957702a-b2a7-40f2-f1fc-be4eb7b184ef"
   },
   "outputs": [
    {
     "data": {
      "text/plain": [
       "'1.18.1'"
      ]
     },
     "execution_count": 2,
     "metadata": {},
     "output_type": "execute_result"
    }
   ],
   "source": [
    "import numpy as np\n",
    "np.__version__"
   ]
  },
  {
   "cell_type": "code",
   "execution_count": 6,
   "metadata": {
    "colab": {
     "base_uri": "https://localhost:8080/",
     "height": 34
    },
    "colab_type": "code",
    "executionInfo": {
     "elapsed": 994,
     "status": "ok",
     "timestamp": 1572774465349,
     "user": {
      "displayName": "‍최상범[ 부교수 / 통계학과 ]",
      "photoUrl": "",
      "userId": "04920731355532988232"
     },
     "user_tz": -540
    },
    "id": "h6dTjxKeE9lC",
    "outputId": "5b076e5a-24d5-4c29-a4b2-77564601a8d4"
   },
   "outputs": [
    {
     "name": "stdout",
     "output_type": "stream",
     "text": [
      "<class 'numpy.ndarray'>\n",
      "[[1 2 3]\n",
      " [4 5 6]] \n",
      "\n",
      "The shape of a is (2, 3)\n",
      "1 2 3\n",
      "[[1 2 3]\n",
      " [4 5 5]]\n"
     ]
    }
   ],
   "source": [
    "#first axis -> length=2\n",
    "#second axis -> length=3\n",
    "\n",
    "a = np.array([[1,2,3],[4,5,6]])\n",
    "print(type(a))\n",
    "print(a, \"\\n\")\n",
    "\n",
    "print(f\"The shape of a is {a.shape}\")           \n",
    "print(a[0][0], a[0][1], a[0][2])   \n",
    "a[1][2] = 5                  \n",
    "print(a)                  "
   ]
  },
  {
   "cell_type": "code",
   "execution_count": 9,
   "metadata": {},
   "outputs": [
    {
     "name": "stdout",
     "output_type": "stream",
     "text": [
      "[1. 2. 3.]\n",
      "float64\n"
     ]
    }
   ],
   "source": [
    "a = np.array([1, 2, 3], dtype=float)\n",
    "print(a)\n",
    "print(a.dtype)"
   ]
  },
  {
   "cell_type": "code",
   "execution_count": 7,
   "metadata": {
    "colab": {
     "base_uri": "https://localhost:8080/",
     "height": 54
    },
    "colab_type": "code",
    "executionInfo": {
     "elapsed": 1983,
     "status": "ok",
     "timestamp": 1572412884775,
     "user": {
      "displayName": "‍최상범[ 부교수 / 통계학과 ]",
      "photoUrl": "",
      "userId": "04920731355532988232"
     },
     "user_tz": -540
    },
    "id": "rjjwhgASHHM5",
    "outputId": "41cdcafd-e04a-452b-bbff-ac6ae3badcc0"
   },
   "outputs": [
    {
     "name": "stdout",
     "output_type": "stream",
     "text": [
      "(2, 3)\n",
      "1 2 4\n"
     ]
    }
   ],
   "source": [
    "b = np.array([[1,2,3],[4,5,6]])    # Create a rank 2 array\n",
    "print(b.shape)                     # Prints \"(2, 3)\"\n",
    "print(b[0, 0], b[0, 1], b[1, 0])   # Prints \"1 2 4\""
   ]
  },
  {
   "cell_type": "markdown",
   "metadata": {
    "colab_type": "text",
    "id": "xJJRxymOE1Lg"
   },
   "source": [
    "### 1.2 Array Creation +  `.reshape()`"
   ]
  },
  {
   "cell_type": "markdown",
   "metadata": {},
   "source": [
    "- `np.arange(start, stop(exclusive), step)`: range 생각하기\n",
    "- `np.linspace(start, stop(inclusive), num)`: range와 유사하지만, **stop이 포함된다!**\n",
    "\n",
    "- `np.zeros(shape, dtype = 'float')` : shape(e.g. [2,3];2 by 3; 3개의 variable로 구성된 벡터 2개)/0으로 구성된 array\n",
    "- `np.ones(shape, dtype='float')` : 1로 구성된 array\n",
    "- `np.full((3,5),np.pi)`: $\\pi$로 구성된 3 by 5 matrix\n",
    "- `np.eye(3)` : create idendity matrix\n",
    "- `np.empty(3)`: 주어진 shape대로 arbitary array 제공\n",
    "    \n",
    "\n"
   ]
  },
  {
   "cell_type": "code",
   "execution_count": 9,
   "metadata": {
    "colab": {
     "base_uri": "https://localhost:8080/",
     "height": 35
    },
    "colab_type": "code",
    "executionInfo": {
     "elapsed": 696,
     "status": "ok",
     "timestamp": 1572414494187,
     "user": {
      "displayName": "‍최상범[ 부교수 / 통계학과 ]",
      "photoUrl": "",
      "userId": "04920731355532988232"
     },
     "user_tz": -540
    },
    "id": "ESksslfWNM_q",
    "outputId": "42d2bc4e-42e5-4b0e-8a70-6d75b133cea2"
   },
   "outputs": [
    {
     "data": {
      "text/plain": [
       "array([ 1,  3,  5,  7,  9, 11])"
      ]
     },
     "execution_count": 9,
     "metadata": {},
     "output_type": "execute_result"
    }
   ],
   "source": [
    "#ndim=1\n",
    "np.arange(1,12,2)"
   ]
  },
  {
   "cell_type": "code",
   "execution_count": 8,
   "metadata": {
    "colab": {
     "base_uri": "https://localhost:8080/",
     "height": 127
    },
    "colab_type": "code",
    "executionInfo": {
     "elapsed": 547,
     "status": "ok",
     "timestamp": 1572413031837,
     "user": {
      "displayName": "‍최상범[ 부교수 / 통계학과 ]",
      "photoUrl": "",
      "userId": "04920731355532988232"
     },
     "user_tz": -540
    },
    "id": "-2ShkEKiHVn6",
    "outputId": "a1a87bba-3ec7-4990-dedc-5fda555ecab9"
   },
   "outputs": [
    {
     "name": "stdout",
     "output_type": "stream",
     "text": [
      "[[ 0  1  2  3  4]\n",
      " [ 5  6  7  8  9]\n",
      " [10 11 12 13 14]]\n",
      "(3, 5)\n",
      "2\n"
     ]
    }
   ],
   "source": [
    "#ndim=2\n",
    "a = np.arange(15).reshape(3,5)\n",
    "print(a)\n",
    "print(a.shape)\n",
    "print(a.ndim)"
   ]
  },
  {
   "cell_type": "code",
   "execution_count": 6,
   "metadata": {
    "colab": {
     "base_uri": "https://localhost:8080/",
     "height": 146
    },
    "colab_type": "code",
    "executionInfo": {
     "elapsed": 653,
     "status": "ok",
     "timestamp": 1572419377117,
     "user": {
      "displayName": "‍최상범[ 부교수 / 통계학과 ]",
      "photoUrl": "",
      "userId": "04920731355532988232"
     },
     "user_tz": -540
    },
    "id": "sXWUyTCef1N6",
    "outputId": "9d98e7c3-90ef-454d-878e-e1aed68eb432"
   },
   "outputs": [
    {
     "data": {
      "text/plain": [
       "array([[[ 0,  1,  2,  3],\n",
       "        [ 4,  5,  6,  7],\n",
       "        [ 8,  9, 10, 11]],\n",
       "\n",
       "       [[12, 13, 14, 15],\n",
       "        [16, 17, 18, 19],\n",
       "        [20, 21, 22, 23]]])"
      ]
     },
     "execution_count": 6,
     "metadata": {},
     "output_type": "execute_result"
    }
   ],
   "source": [
    "#ndim=3\n",
    "np.arange(24).reshape(2,3,4)"
   ]
  },
  {
   "cell_type": "code",
   "execution_count": 10,
   "metadata": {
    "colab": {
     "base_uri": "https://localhost:8080/",
     "height": 35
    },
    "colab_type": "code",
    "executionInfo": {
     "elapsed": 482,
     "status": "ok",
     "timestamp": 1572414648530,
     "user": {
      "displayName": "‍최상범[ 부교수 / 통계학과 ]",
      "photoUrl": "",
      "userId": "04920731355532988232"
     },
     "user_tz": -540
    },
    "id": "dqrycodyNrz7",
    "outputId": "35cf9328-7a3e-4ae0-d16f-bbc31ecaede7"
   },
   "outputs": [
    {
     "data": {
      "text/plain": [
       "array([0. , 0.2, 0.4, 0.6, 0.8, 1. ])"
      ]
     },
     "execution_count": 10,
     "metadata": {},
     "output_type": "execute_result"
    }
   ],
   "source": [
    "np.linspace(0,1,6)"
   ]
  },
  {
   "cell_type": "code",
   "execution_count": 7,
   "metadata": {
    "colab": {
     "base_uri": "https://localhost:8080/",
     "height": 72
    },
    "colab_type": "code",
    "executionInfo": {
     "elapsed": 644,
     "status": "ok",
     "timestamp": 1572573876902,
     "user": {
      "displayName": "‍최상범[ 부교수 / 통계학과 ]",
      "photoUrl": "",
      "userId": "04920731355532988232"
     },
     "user_tz": -540
    },
    "id": "0uPpyqjHLQBZ",
    "outputId": "82d18805-9146-4ae1-896d-35451097b75c"
   },
   "outputs": [
    {
     "data": {
      "text/plain": [
       "array([[0., 0., 0., 0.],\n",
       "       [0., 0., 0., 0.],\n",
       "       [0., 0., 0., 0.]])"
      ]
     },
     "execution_count": 7,
     "metadata": {},
     "output_type": "execute_result"
    }
   ],
   "source": [
    "np.zeros((3,4)) "
   ]
  },
  {
   "cell_type": "code",
   "execution_count": 8,
   "metadata": {
    "colab": {
     "base_uri": "https://localhost:8080/",
     "height": 146
    },
    "colab_type": "code",
    "executionInfo": {
     "elapsed": 793,
     "status": "ok",
     "timestamp": 1572414007139,
     "user": {
      "displayName": "‍최상범[ 부교수 / 통계학과 ]",
      "photoUrl": "",
      "userId": "04920731355532988232"
     },
     "user_tz": -540
    },
    "id": "4q7tA3OLLTz5",
    "outputId": "90e3ac58-e92b-4ef5-e9b8-edd92d66cac4"
   },
   "outputs": [
    {
     "data": {
      "text/plain": [
       "array([[[1., 1., 1., 1.],\n",
       "        [1., 1., 1., 1.],\n",
       "        [1., 1., 1., 1.]],\n",
       "\n",
       "       [[1., 1., 1., 1.],\n",
       "        [1., 1., 1., 1.],\n",
       "        [1., 1., 1., 1.]]])"
      ]
     },
     "execution_count": 8,
     "metadata": {},
     "output_type": "execute_result"
    }
   ],
   "source": [
    "np.ones((2,3,4))"
   ]
  },
  {
   "cell_type": "code",
   "execution_count": 0,
   "metadata": {
    "colab": {
     "base_uri": "https://localhost:8080/",
     "height": 72
    },
    "colab_type": "code",
    "executionInfo": {
     "elapsed": 694,
     "status": "ok",
     "timestamp": 1572573867480,
     "user": {
      "displayName": "‍최상범[ 부교수 / 통계학과 ]",
      "photoUrl": "",
      "userId": "04920731355532988232"
     },
     "user_tz": -540
    },
    "id": "ENBCDxjNLZho",
    "outputId": "516eec61-e5a2-4487-9b82-eca709233403"
   },
   "outputs": [
    {
     "data": {
      "text/plain": [
       "array([[3.14159265, 3.14159265, 3.14159265, 3.14159265, 3.14159265],\n",
       "       [3.14159265, 3.14159265, 3.14159265, 3.14159265, 3.14159265],\n",
       "       [3.14159265, 3.14159265, 3.14159265, 3.14159265, 3.14159265]])"
      ]
     },
     "execution_count": 3,
     "metadata": {
      "tags": []
     },
     "output_type": "execute_result"
    }
   ],
   "source": [
    "# Create a 3x5 array filled with 3.14\n",
    "np.full((3,5),np.pi)"
   ]
  },
  {
   "cell_type": "code",
   "execution_count": 0,
   "metadata": {
    "colab": {
     "base_uri": "https://localhost:8080/",
     "height": 72
    },
    "colab_type": "code",
    "executionInfo": {
     "elapsed": 633,
     "status": "ok",
     "timestamp": 1572414119443,
     "user": {
      "displayName": "‍최상범[ 부교수 / 통계학과 ]",
      "photoUrl": "",
      "userId": "04920731355532988232"
     },
     "user_tz": -540
    },
    "id": "dAh5HZd7Lz-M",
    "outputId": "afdb0b52-588d-446f-fff6-e75cfe0a29e6"
   },
   "outputs": [
    {
     "data": {
      "text/plain": [
       "array([[1., 0., 0.],\n",
       "       [0., 1., 0.],\n",
       "       [0., 0., 1.]])"
      ]
     },
     "execution_count": 24,
     "metadata": {
      "tags": []
     },
     "output_type": "execute_result"
    }
   ],
   "source": [
    "# Create a 3x3 identity matrix\n",
    "np.eye(3)"
   ]
  },
  {
   "cell_type": "code",
   "execution_count": 11,
   "metadata": {
    "colab": {
     "base_uri": "https://localhost:8080/",
     "height": 35
    },
    "colab_type": "code",
    "executionInfo": {
     "elapsed": 632,
     "status": "ok",
     "timestamp": 1572573908923,
     "user": {
      "displayName": "‍최상범[ 부교수 / 통계학과 ]",
      "photoUrl": "",
      "userId": "04920731355532988232"
     },
     "user_tz": -540
    },
    "id": "lSIOhDd-fjNU",
    "outputId": "b6fb8617-8a7b-41ed-c23d-cedab04fb8b4"
   },
   "outputs": [
    {
     "data": {
      "text/plain": [
       "array([-1.49166815e-154, -1.29074432e-231,  2.20236068e-314])"
      ]
     },
     "execution_count": 11,
     "metadata": {},
     "output_type": "execute_result"
    }
   ],
   "source": [
    "# Create an uninitialized array of three integers\n",
    "# The values will be whatever happens to already exist at that memory location\n",
    "np.empty(3)"
   ]
  },
  {
   "cell_type": "markdown",
   "metadata": {},
   "source": [
    "### 1.3 Random\n",
    "- `np.random.seed()`: seed 설정\n",
    "- `np.random.random(size)`: U(0,1)로부터 sample 추출\n",
    "- `np.random.normal(mu, sd, size)` : N(mu, sd)로부터 sample 추출\n",
    "- `np.random.randint(low, high, size)` : **randint(random + integer)**; random **integers** from **`low` (inclusive)** to **`high` (exclusive)**.\n",
    "\n"
   ]
  },
  {
   "cell_type": "code",
   "execution_count": 10,
   "metadata": {
    "colab": {
     "base_uri": "https://localhost:8080/",
     "height": 54
    },
    "colab_type": "code",
    "executionInfo": {
     "elapsed": 547,
     "status": "ok",
     "timestamp": 1572414133694,
     "user": {
      "displayName": "‍최상범[ 부교수 / 통계학과 ]",
      "photoUrl": "",
      "userId": "04920731355532988232"
     },
     "user_tz": -540
    },
    "id": "OJus6KIIL2tO",
    "outputId": "b41be9e9-2b3f-40ab-a197-e5991fe0ab11"
   },
   "outputs": [
    {
     "data": {
      "text/plain": [
       "array([[0.82106209, 0.59147049, 0.60937408],\n",
       "       [0.6810063 , 0.79642441, 0.63489597],\n",
       "       [0.09711151, 0.9780428 , 0.55289161]])"
      ]
     },
     "execution_count": 10,
     "metadata": {},
     "output_type": "execute_result"
    }
   ],
   "source": [
    "# Create a 3x3 array of uniformly distributed\n",
    "# random values between 0 and 1\n",
    "np.random.random( (3, 3) )"
   ]
  },
  {
   "cell_type": "code",
   "execution_count": 11,
   "metadata": {
    "colab": {},
    "colab_type": "code",
    "id": "ImecilDpbXjV"
   },
   "outputs": [
    {
     "data": {
      "text/plain": [
       "array([[-0.52833964,  0.83589961, -1.37830805],\n",
       "       [-1.95376398,  0.70253718, -1.16398972],\n",
       "       [ 0.08605172, -0.39947309, -0.10317096]])"
      ]
     },
     "execution_count": 11,
     "metadata": {},
     "output_type": "execute_result"
    }
   ],
   "source": [
    "# Create a 3x3 array of normally distributed random values\n",
    "# with mean 0 and standard deviation 1\n",
    "np.random.normal(0, 1, (3, 3))"
   ]
  },
  {
   "cell_type": "code",
   "execution_count": 12,
   "metadata": {
    "colab": {},
    "colab_type": "code",
    "id": "sUvAEjf7beV2"
   },
   "outputs": [
    {
     "data": {
      "text/plain": [
       "array([[0, 1, 6],\n",
       "       [1, 9, 9],\n",
       "       [8, 8, 8]])"
      ]
     },
     "execution_count": 12,
     "metadata": {},
     "output_type": "execute_result"
    }
   ],
   "source": [
    "# Create a 3x3 array of random integers in the interval [0, 10)\n",
    "np.random.randint(0, 10, (3, 3))"
   ]
  },
  {
   "cell_type": "code",
   "execution_count": 14,
   "metadata": {
    "colab": {
     "base_uri": "https://localhost:8080/",
     "height": 35
    },
    "colab_type": "code",
    "executionInfo": {
     "elapsed": 605,
     "status": "ok",
     "timestamp": 1572574191683,
     "user": {
      "displayName": "‍최상범[ 부교수 / 통계학과 ]",
      "photoUrl": "",
      "userId": "04920731355532988232"
     },
     "user_tz": -540
    },
    "id": "72bA5H-TuTTo",
    "outputId": "020b8a88-af33-430c-9803-a8687b8479c9"
   },
   "outputs": [
    {
     "name": "stdout",
     "output_type": "stream",
     "text": [
      "x3 ndim:  3\n",
      "x3 shape: (3, 4, 5)\n",
      "x3 size:  60\n"
     ]
    }
   ],
   "source": [
    "np.random.seed(0)  # seed for reproducibility\n",
    "\n",
    "x1 = np.random.randint(10, size=6)  # One-dimensional array\n",
    "x2 = np.random.randint(10, size=(3, 4))  # Two-dimensional array\n",
    "x3 = np.random.randint(10, size=(3, 4, 5))  # Three-dimensional array\n",
    "\n",
    "print(\"x3 ndim: \", x3.ndim)\n",
    "print(\"x3 shape:\", x3.shape)\n",
    "print(\"x3 size: \", x3.size)"
   ]
  },
  {
   "cell_type": "markdown",
   "metadata": {},
   "source": [
    "---"
   ]
  },
  {
   "cell_type": "markdown",
   "metadata": {
    "colab_type": "text",
    "id": "n4VyfxdGha0V"
   },
   "source": [
    "## 2. Numpy Standard Data Types"
   ]
  },
  {
   "cell_type": "markdown",
   "metadata": {
    "colab_type": "text",
    "id": "IWhBkqvBTQ1S"
   },
   "source": [
    "* You could specify the type of data type, for example,\n",
    "  `np.zeros(10, dtype='int16')` or `np.zeros(10, dtype=np.int16)`.\n",
    "\n",
    "* Numpy standard data types:\n",
    "\n",
    "\n",
    "| Data type\t    | Description |\n",
    "|---------------|-------------|\n",
    "| ``bool_``     | Boolean (True or False) stored as a byte |\n",
    "| ``int_``      | Default integer type (same as C ``long``; normally either ``int64`` or ``int32``)| \n",
    "| ``intc``      | Identical to C ``int`` (normally ``int32`` or ``int64``)| \n",
    "| ``intp``      | Integer used for indexing (same as C ``ssize_t``; normally either ``int32`` or ``int64``)| \n",
    "| ``int8``      | Byte (-128 to 127)| \n",
    "| ``int16``     | Integer (-32768 to 32767)|\n",
    "| ``int32``     | Integer (-2147483648 to 2147483647)|\n",
    "| ``int64``     | Integer (-9223372036854775808 to 9223372036854775807)| \n",
    "| ``uint8``     | Unsigned integer (0 to 255)| \n",
    "| ``uint16``    | Unsigned integer (0 to 65535)| \n",
    "| ``uint32``    | Unsigned integer (0 to 4294967295)| \n",
    "| ``uint64``    | Unsigned integer (0 to 18446744073709551615)| \n",
    "| ``float_``    | Shorthand for ``float64``.| \n",
    "| ``float16``   | Half precision float: sign bit, 5 bits exponent, 10 bits mantissa| \n",
    "| ``float32``   | Single precision float: sign bit, 8 bits exponent, 23 bits mantissa| \n",
    "| ``float64``   | Double precision float: sign bit, 11 bits exponent, 52 bits mantissa| \n",
    "| ``complex_``  | Shorthand for ``complex128``.| \n",
    "| ``complex64`` | Complex number, represented by two 32-bit floats| \n",
    "| ``complex128``| Complex number, represented by two 64-bit floats| \n"
   ]
  },
  {
   "cell_type": "markdown",
   "metadata": {},
   "source": [
    "* 만약 데이터 타입과 맞지 않는 값을 대입하면 데이터 타입이 자동으로 바뀐다.\n",
    "* 원소 데이터 타입 바꾸기: `x1 = x1.astype(float)`"
   ]
  },
  {
   "cell_type": "code",
   "execution_count": 15,
   "metadata": {
    "colab": {
     "base_uri": "https://localhost:8080/",
     "height": 90
    },
    "colab_type": "code",
    "executionInfo": {
     "elapsed": 636,
     "status": "ok",
     "timestamp": 1572574712267,
     "user": {
      "displayName": "‍최상범[ 부교수 / 통계학과 ]",
      "photoUrl": "",
      "userId": "04920731355532988232"
     },
     "user_tz": -540
    },
    "id": "tpFR_4Lru5IC",
    "outputId": "818f9b0b-b73e-4f0c-a49d-c05592ae3636"
   },
   "outputs": [
    {
     "name": "stdout",
     "output_type": "stream",
     "text": [
      "[5 0 3 3 7 9]\n",
      "int64\n",
      "[3 0 3 3 7 9] \n",
      "\n",
      "[3.14 0.   3.   3.   7.   9.  ]\n"
     ]
    }
   ],
   "source": [
    "print(x1)\n",
    "print(x1.dtype)\n",
    "x1[0] = 3.14\n",
    "print(x1, \"\\n\")\n",
    "\n",
    "x1 = x1.astype(float)  #change data type\n",
    "x1[0] = 3.14\n",
    "print(x1)"
   ]
  },
  {
   "cell_type": "markdown",
   "metadata": {},
   "source": [
    "---"
   ]
  },
  {
   "cell_type": "markdown",
   "metadata": {
    "colab_type": "text",
    "id": "5QC_QJCOOSNV"
   },
   "source": [
    "## 3. Basic Operations"
   ]
  },
  {
   "cell_type": "markdown",
   "metadata": {},
   "source": [
    "### 3.1 matrix operations\n",
    "* **matrix operation도 가능** : e.g. `A@B` 또는 `A.dot(B)`로 계산 \n",
    "* **linear algebra**도 가능\n",
    "    "
   ]
  },
  {
   "cell_type": "code",
   "execution_count": 16,
   "metadata": {
    "colab": {},
    "colab_type": "code",
    "id": "J7YFpEwti2Hx"
   },
   "outputs": [],
   "source": [
    "#elementize operation \n",
    "A = np.array( [[1,1],\n",
    "               [0,1]] )\n",
    "B = np.array( [[2,0],\n",
    "               [3,4]])"
   ]
  },
  {
   "cell_type": "code",
   "execution_count": 18,
   "metadata": {
    "colab": {
     "base_uri": "https://localhost:8080/",
     "height": 52
    },
    "colab_type": "code",
    "executionInfo": {
     "elapsed": 544,
     "status": "ok",
     "timestamp": 1572775474012,
     "user": {
      "displayName": "‍최상범[ 부교수 / 통계학과 ]",
      "photoUrl": "",
      "userId": "04920731355532988232"
     },
     "user_tz": -540
    },
    "id": "TD5qIyRmi2UN",
    "outputId": "a751435d-54ca-425e-8083-562c48f09015"
   },
   "outputs": [
    {
     "data": {
      "text/plain": [
       "array([[5, 4],\n",
       "       [3, 4]])"
      ]
     },
     "execution_count": 18,
     "metadata": {},
     "output_type": "execute_result"
    }
   ],
   "source": [
    "A @ B                       # matrix product"
   ]
  },
  {
   "cell_type": "code",
   "execution_count": 19,
   "metadata": {
    "colab": {
     "base_uri": "https://localhost:8080/",
     "height": 54
    },
    "colab_type": "code",
    "executionInfo": {
     "elapsed": 800,
     "status": "ok",
     "timestamp": 1572420233107,
     "user": {
      "displayName": "‍최상범[ 부교수 / 통계학과 ]",
      "photoUrl": "",
      "userId": "04920731355532988232"
     },
     "user_tz": -540
    },
    "id": "q5oU__Kli2Yz",
    "outputId": "2c026c29-e42c-42ee-d9e4-c8c2400ef930"
   },
   "outputs": [
    {
     "data": {
      "text/plain": [
       "array([[5, 4],\n",
       "       [3, 4]])"
      ]
     },
     "execution_count": 19,
     "metadata": {},
     "output_type": "execute_result"
    }
   ],
   "source": [
    "A.dot(B)                    # another matrix product"
   ]
  },
  {
   "cell_type": "code",
   "execution_count": 20,
   "metadata": {
    "colab": {
     "base_uri": "https://localhost:8080/",
     "height": 146
    },
    "colab_type": "code",
    "executionInfo": {
     "elapsed": 797,
     "status": "ok",
     "timestamp": 1572496588487,
     "user": {
      "displayName": "‍최상범[ 부교수 / 통계학과 ]",
      "photoUrl": "",
      "userId": "04920731355532988232"
     },
     "user_tz": -540
    },
    "id": "rOgMTzgUFVe5",
    "outputId": "a8395a8e-8619-43fa-ddb2-9f7fb81c3c38"
   },
   "outputs": [
    {
     "name": "stdout",
     "output_type": "stream",
     "text": [
      "[[1 2]\n",
      " [3 4]]\n",
      "[[1 3]\n",
      " [2 4]]\n",
      "[[1 3]\n",
      " [2 4]]\n",
      "5\n"
     ]
    }
   ],
   "source": [
    "#linear algebra\n",
    "A = np.array([[1,2],\n",
    "              [3,4]])\n",
    "print(A)\n",
    "print(A.transpose())\n",
    "print(A.T)\n",
    "print(np.trace(A))"
   ]
  },
  {
   "cell_type": "code",
   "execution_count": 21,
   "metadata": {
    "colab": {
     "base_uri": "https://localhost:8080/",
     "height": 54
    },
    "colab_type": "code",
    "executionInfo": {
     "elapsed": 817,
     "status": "ok",
     "timestamp": 1572496756245,
     "user": {
      "displayName": "‍최상범[ 부교수 / 통계학과 ]",
      "photoUrl": "",
      "userId": "04920731355532988232"
     },
     "user_tz": -540
    },
    "id": "FlnSItaZGGI_",
    "outputId": "a6e7bbba-c99b-4f5b-eac1-3eed2b3e94da"
   },
   "outputs": [
    {
     "name": "stdout",
     "output_type": "stream",
     "text": [
      "[-3.  2.]\n",
      "[ 1. -1.]\n"
     ]
    }
   ],
   "source": [
    "b = np.array([1,-1])\n",
    "x = np.linalg.solve(A,b)   #linear algebra\n",
    "print(x)\n",
    "print(A @ x)"
   ]
  },
  {
   "cell_type": "markdown",
   "metadata": {},
   "source": [
    "### 3.2 summarize\n",
    "아래 함수들은 모두 `axis = 1` 일때 **row**를 기준으로 한다.(row의 합, 누적합, 최솟값,... 등등)\n",
    "- `a.sum()`\n",
    "- `a.cumsum()`\n",
    "- `a.min()`\n",
    "- `a.max()`\n",
    "- `a.mean()`\n",
    "- `a.var()`"
   ]
  },
  {
   "cell_type": "code",
   "execution_count": 2,
   "metadata": {
    "colab": {
     "base_uri": "https://localhost:8080/",
     "height": 109
    },
    "colab_type": "code",
    "executionInfo": {
     "elapsed": 608,
     "status": "ok",
     "timestamp": 1572420495042,
     "user": {
      "displayName": "‍최상범[ 부교수 / 통계학과 ]",
      "photoUrl": "",
      "userId": "04920731355532988232"
     },
     "user_tz": -540
    },
    "id": "paTogx-1jsXc",
    "outputId": "7750dbf1-7ff0-4396-b4e6-e6e92f00285f"
   },
   "outputs": [
    {
     "data": {
      "text/plain": [
       "array([[ 0,  1,  2,  3],\n",
       "       [ 4,  5,  6,  7],\n",
       "       [ 8,  9, 10, 11]])"
      ]
     },
     "execution_count": 2,
     "metadata": {},
     "output_type": "execute_result"
    }
   ],
   "source": [
    "a = np.arange(12).reshape(3,4)\n",
    "a"
   ]
  },
  {
   "cell_type": "code",
   "execution_count": 3,
   "metadata": {
    "colab": {},
    "colab_type": "code",
    "id": "ziOoJHvckNC0"
   },
   "outputs": [
    {
     "name": "stdout",
     "output_type": "stream",
     "text": [
      "66\n",
      "[ 0  1  3  6 10 15 21 28 36 45 55 66]\n",
      "0\n",
      "11\n",
      "5.5\n",
      "11.916666666666666\n"
     ]
    }
   ],
   "source": [
    "print(a.sum())\n",
    "print(a.cumsum())\n",
    "print(a.min())\n",
    "print(a.max())\n",
    "print(a.mean())\n",
    "print(a.var())"
   ]
  },
  {
   "cell_type": "code",
   "execution_count": 25,
   "metadata": {
    "colab": {
     "base_uri": "https://localhost:8080/",
     "height": 109
    },
    "colab_type": "code",
    "executionInfo": {
     "elapsed": 782,
     "status": "ok",
     "timestamp": 1572420961601,
     "user": {
      "displayName": "‍최상범[ 부교수 / 통계학과 ]",
      "photoUrl": "",
      "userId": "04920731355532988232"
     },
     "user_tz": -540
    },
    "id": "vXzyiyNvkVfy",
    "outputId": "0ab8d403-1df9-47fd-81a0-a6fc7bc9f5bd"
   },
   "outputs": [
    {
     "name": "stdout",
     "output_type": "stream",
     "text": [
      "[[ 0  1  2  3]\n",
      " [ 4  5  6  7]\n",
      " [ 8  9 10 11]]\n",
      "[ 6 22 38]\n",
      "[ 6 22 38]\n",
      "[12 15 18 21]\n",
      "[1.5 5.5 9.5]\n",
      "[4. 5. 6. 7.]\n"
     ]
    }
   ],
   "source": [
    "#축 바꾸기\n",
    "a = np.arange(12).reshape(3,4)\n",
    "print(a)\n",
    "print(a.sum(axis=1))\n",
    "print(a.sum(1))\n",
    "print(a.sum(0))\n",
    "print(a.mean(1))\n",
    "print(a.mean(0))"
   ]
  },
  {
   "cell_type": "markdown",
   "metadata": {},
   "source": [
    "### 3.3 Indexing, Slicing and Iterating"
   ]
  },
  {
   "cell_type": "markdown",
   "metadata": {},
   "source": [
    "* **indexing**\n",
    "    - `x[1]`두번째 element return\n",
    "    - `x[1,2]` 두번째 행의 3번째 열성분 return\n",
    "\n",
    "* **slicing**: `[]`안에 `,`가 들어갈 수 있다는 것이 특징!!!\n",
    "    - `x[star : stop : step]` : one-dimension에서\n",
    "    - `x[::, ::]` : comma(,)앞은 **행**, comma(,)뒤는 **열** slicing\n",
    "    - **slicing & indexing**  e.g. `x[:,0]`, `x[0,:]`\n",
    "\n",
    "* **iterating**: **`x.flat`** -> x의 모든 element "
   ]
  },
  {
   "cell_type": "code",
   "execution_count": 8,
   "metadata": {
    "colab": {
     "base_uri": "https://localhost:8080/",
     "height": 54
    },
    "colab_type": "code",
    "executionInfo": {
     "elapsed": 608,
     "status": "ok",
     "timestamp": 1572421251973,
     "user": {
      "displayName": "‍최상범[ 부교수 / 통계학과 ]",
      "photoUrl": "",
      "userId": "04920731355532988232"
     },
     "user_tz": -540
    },
    "id": "mcvOkVBXmjBS",
    "outputId": "a7477c48-873e-4d33-aedd-19cead7a0d6e"
   },
   "outputs": [
    {
     "name": "stdout",
     "output_type": "stream",
     "text": [
      "[0 1 2 3 4 5 6 7 8 9]\n",
      "[2 3 4]\n"
     ]
    }
   ],
   "source": [
    "#one-dimension\n",
    "a = np.arange(10)\n",
    "print(a)\n",
    "print(a[2:5])"
   ]
  },
  {
   "cell_type": "code",
   "execution_count": 17,
   "metadata": {
    "colab": {
     "base_uri": "https://localhost:8080/",
     "height": 72
    },
    "colab_type": "code",
    "executionInfo": {
     "elapsed": 672,
     "status": "ok",
     "timestamp": 1572574995126,
     "user": {
      "displayName": "‍최상범[ 부교수 / 통계학과 ]",
      "photoUrl": "",
      "userId": "04920731355532988232"
     },
     "user_tz": -540
    },
    "id": "FPCCZ1fxnL0d",
    "outputId": "f1e5c127-b14f-439a-d43c-741c154cd117",
    "scrolled": true
   },
   "outputs": [
    {
     "name": "stdout",
     "output_type": "stream",
     "text": [
      "[[ 0  1  2]\n",
      " [ 3  4  5]\n",
      " [ 6  7  8]\n",
      " [ 9 10 11]]\n",
      "[0 3 6 9]\n",
      "[0 1 2]\n",
      "[0 1 2]\n"
     ]
    }
   ],
   "source": [
    "#multi-dimension\n",
    "b = np.arange(12).reshape(4,3)\n",
    "print(b)\n",
    "print(b[:,0])   # first column\n",
    "print(b[0,:])   # first row\n",
    "print(b[0])     # equivalent to b[0,:]"
   ]
  },
  {
   "cell_type": "code",
   "execution_count": 18,
   "metadata": {},
   "outputs": [
    {
     "name": "stdout",
     "output_type": "stream",
     "text": [
      "[0 1 2]\n",
      "[3 4 5]\n",
      "[6 7 8]\n",
      "[ 9 10 11]\n"
     ]
    }
   ],
   "source": [
    "#iterating\n",
    "for row in b:\n",
    "    print(row)"
   ]
  },
  {
   "cell_type": "code",
   "execution_count": 11,
   "metadata": {
    "colab": {
     "base_uri": "https://localhost:8080/",
     "height": 237
    },
    "colab_type": "code",
    "executionInfo": {
     "elapsed": 639,
     "status": "ok",
     "timestamp": 1572421485740,
     "user": {
      "displayName": "‍최상범[ 부교수 / 통계학과 ]",
      "photoUrl": "",
      "userId": "04920731355532988232"
     },
     "user_tz": -540
    },
    "id": "w4LImPwTn4t7",
    "outputId": "a1560feb-b43d-4cdf-8e0b-71dd77ff2e4b"
   },
   "outputs": [
    {
     "name": "stdout",
     "output_type": "stream",
     "text": [
      "0\n",
      "1\n",
      "2\n",
      "3\n",
      "4\n",
      "5\n",
      "6\n",
      "7\n",
      "8\n",
      "9\n",
      "10\n",
      "11\n"
     ]
    }
   ],
   "source": [
    "#모든 원소를 iterate하고 싶을때\n",
    "for element in b.flat:\n",
    "    print(element)"
   ]
  },
  {
   "cell_type": "markdown",
   "metadata": {
    "colab_type": "text",
    "id": "uR4vRtDgmFev"
   },
   "source": [
    "### 3.4 Universal Functions\n",
    "* **elementwise**: e.g. `A*B` elementwise 곱셈\n",
    "- `y = x*10`과 `np.multiply(x, 10, out=y)`는 같은 의미\n",
    "- `np.power(2, x, out=y[::2])`의 결과는 `[ 2^0  0.  2^1.  0.  2^2.  0.  2^3.  0. 2^4.  0.]`"
   ]
  },
  {
   "cell_type": "code",
   "execution_count": 19,
   "metadata": {},
   "outputs": [
    {
     "data": {
      "text/plain": [
       "array([[2, 0],\n",
       "       [0, 4]])"
      ]
     },
     "execution_count": 19,
     "metadata": {},
     "output_type": "execute_result"
    }
   ],
   "source": [
    "#elementize operation \n",
    "A = np.array( [[1,1],\n",
    "               [0,1]] )\n",
    "B = np.array( [[2,0],\n",
    "               [3,4]])\n",
    "\n",
    "A * B                       # elementwise product"
   ]
  },
  {
   "cell_type": "code",
   "execution_count": 30,
   "metadata": {
    "colab": {
     "base_uri": "https://localhost:8080/",
     "height": 72
    },
    "colab_type": "code",
    "executionInfo": {
     "elapsed": 670,
     "status": "ok",
     "timestamp": 1572576119353,
     "user": {
      "displayName": "‍최상범[ 부교수 / 통계학과 ]",
      "photoUrl": "",
      "userId": "04920731355532988232"
     },
     "user_tz": -540
    },
    "id": "lI8qcyHj1uxD",
    "outputId": "3bc83864-dfb2-4783-d7b7-e3bfcb741f50"
   },
   "outputs": [
    {
     "name": "stdout",
     "output_type": "stream",
     "text": [
      "[[ 3.14159265  4.14159265  5.14159265]\n",
      " [ 6.14159265  7.14159265  8.14159265]\n",
      " [ 9.14159265 10.14159265 11.14159265]]\n",
      "[[  1   2   4]\n",
      " [  8  16  32]\n",
      " [ 64 128 256]]\n"
     ]
    }
   ],
   "source": [
    "x = np.arange(9).reshape(3,3)\n",
    "print(x + np.pi)\n",
    "print(2 ** x) "
   ]
  },
  {
   "cell_type": "code",
   "execution_count": 15,
   "metadata": {
    "colab": {
     "base_uri": "https://localhost:8080/",
     "height": 35
    },
    "colab_type": "code",
    "executionInfo": {
     "elapsed": 948,
     "status": "ok",
     "timestamp": 1572590816302,
     "user": {
      "displayName": "‍최상범[ 부교수 / 통계학과 ]",
      "photoUrl": "",
      "userId": "04920731355532988232"
     },
     "user_tz": -540
    },
    "id": "Fr8Q4qpWtwNP",
    "outputId": "2db68164-ad58-4cb6-a8b3-2cf0076c8021"
   },
   "outputs": [
    {
     "name": "stdout",
     "output_type": "stream",
     "text": [
      "[ 0. 10. 20. 30. 40.]\n"
     ]
    }
   ],
   "source": [
    "x = np.arange(5)\n",
    "y = np.empty(5)\n",
    "np.multiply(x, 10, out=y)\n",
    "print(y)"
   ]
  },
  {
   "cell_type": "code",
   "execution_count": 32,
   "metadata": {
    "colab": {
     "base_uri": "https://localhost:8080/",
     "height": 35
    },
    "colab_type": "code",
    "executionInfo": {
     "elapsed": 1021,
     "status": "ok",
     "timestamp": 1572590832585,
     "user": {
      "displayName": "‍최상범[ 부교수 / 통계학과 ]",
      "photoUrl": "",
      "userId": "04920731355532988232"
     },
     "user_tz": -540
    },
    "id": "P6QSwyDVtyxv",
    "outputId": "96f0bf9d-fbe6-49b0-ba05-7cb18ab5042a"
   },
   "outputs": [
    {
     "name": "stdout",
     "output_type": "stream",
     "text": [
      "[ 1.  0.  2.  0.  4.  0.  8.  0. 16.  0.]\n"
     ]
    }
   ],
   "source": [
    "y = np.zeros(10)\n",
    "np.power(2, x, out=y[::2])\n",
    "print(y)"
   ]
  },
  {
   "cell_type": "markdown",
   "metadata": {},
   "source": [
    "---"
   ]
  },
  {
   "cell_type": "markdown",
   "metadata": {
    "colab_type": "text",
    "id": "VArECqSnn-Qz"
   },
   "source": [
    "## 4. Shape Manipuation"
   ]
  },
  {
   "cell_type": "markdown",
   "metadata": {
    "colab_type": "text",
    "id": "Ts8iWif3n-V-"
   },
   "source": [
    "### 4.1 Changing the shape of an array\n",
    "- `.reshape()`\n",
    "- `.ravel()` : returns the array, flattened(`.flat`와 같은 결과)\n",
    "- `.T` : return the transposed array\n",
    "- `.resize()` : (The `reshape` function returns its argument with a modified shape,) whereas the `resize` method **modifies the array itself**\n",
    "* If a dimension is given as **-1** in a reshaping operation, the other dimensions are automatically calculated:<br>\n",
    "    e.g. `a.reshape(3,-1)`"
   ]
  },
  {
   "cell_type": "code",
   "execution_count": 22,
   "metadata": {
    "colab": {
     "base_uri": "https://localhost:8080/",
     "height": 90
    },
    "colab_type": "code",
    "executionInfo": {
     "elapsed": 781,
     "status": "ok",
     "timestamp": 1572492589484,
     "user": {
      "displayName": "‍최상범[ 부교수 / 통계학과 ]",
      "photoUrl": "",
      "userId": "04920731355532988232"
     },
     "user_tz": -540
    },
    "id": "2EbWW1nE2CGJ",
    "outputId": "f5e4fd41-04f7-4751-bfbc-517f37319282"
   },
   "outputs": [
    {
     "name": "stdout",
     "output_type": "stream",
     "text": [
      "[[ 0  1  2  3]\n",
      " [ 4  5  6  7]\n",
      " [ 8  9 10 11]]\n",
      "(3, 4)\n"
     ]
    }
   ],
   "source": [
    "a = np.arange(12).reshape(3,4)\n",
    "print(a)\n",
    "print(a.shape)"
   ]
  },
  {
   "cell_type": "code",
   "execution_count": 0,
   "metadata": {
    "colab": {
     "base_uri": "https://localhost:8080/",
     "height": 146
    },
    "colab_type": "code",
    "executionInfo": {
     "elapsed": 788,
     "status": "ok",
     "timestamp": 1572492444252,
     "user": {
      "displayName": "‍최상범[ 부교수 / 통계학과 ]",
      "photoUrl": "",
      "userId": "04920731355532988232"
     },
     "user_tz": -540
    },
    "id": "2Hvw471X2ajl",
    "outputId": "6ec34ea2-1805-44de-a6b4-7ad3b7aa51b0"
   },
   "outputs": [
    {
     "name": "stdout",
     "output_type": "stream",
     "text": [
      "[ 0  1  2  3  4  5  6  7  8  9 10 11]\n",
      "[[ 0  1  2  3  4  5]\n",
      " [ 6  7  8  9 10 11]]\n",
      "[[ 0  4  8]\n",
      " [ 1  5  9]\n",
      " [ 2  6 10]\n",
      " [ 3  7 11]]\n"
     ]
    }
   ],
   "source": [
    "print(a.ravel())        # returns the array, flattened\n",
    "print(a.reshape(2,6))   # returns the array with a modified shape\n",
    "print(a.T)              # returns the array, transposed"
   ]
  },
  {
   "cell_type": "code",
   "execution_count": 0,
   "metadata": {
    "colab": {
     "base_uri": "https://localhost:8080/",
     "height": 109
    },
    "colab_type": "code",
    "executionInfo": {
     "elapsed": 760,
     "status": "ok",
     "timestamp": 1572492592593,
     "user": {
      "displayName": "‍최상범[ 부교수 / 통계학과 ]",
      "photoUrl": "",
      "userId": "04920731355532988232"
     },
     "user_tz": -540
    },
    "id": "hNimV9Mn3G7O",
    "outputId": "9b170e0f-480f-4bb8-9e14-f2e23c95476b"
   },
   "outputs": [
    {
     "name": "stdout",
     "output_type": "stream",
     "text": [
      "[[ 0  1  2  3]\n",
      " [ 4  5  6  7]\n",
      " [ 8  9 10 11]]\n",
      "[[ 0  1  2  3  4  5]\n",
      " [ 6  7  8  9 10 11]]\n"
     ]
    }
   ],
   "source": [
    "print(a)\n",
    "a.resize(2,6)\n",
    "print(a)"
   ]
  },
  {
   "cell_type": "code",
   "execution_count": 23,
   "metadata": {
    "colab": {
     "base_uri": "https://localhost:8080/",
     "height": 72
    },
    "colab_type": "code",
    "executionInfo": {
     "elapsed": 712,
     "status": "ok",
     "timestamp": 1572492637783,
     "user": {
      "displayName": "‍최상범[ 부교수 / 통계학과 ]",
      "photoUrl": "",
      "userId": "04920731355532988232"
     },
     "user_tz": -540
    },
    "id": "MovHNZMw3Vp-",
    "outputId": "7c460199-657e-4eab-c794-b02d6bc3ede8"
   },
   "outputs": [
    {
     "data": {
      "text/plain": [
       "array([[ 0,  1,  2,  3],\n",
       "       [ 4,  5,  6,  7],\n",
       "       [ 8,  9, 10, 11]])"
      ]
     },
     "execution_count": 23,
     "metadata": {},
     "output_type": "execute_result"
    }
   ],
   "source": [
    "a.reshape(3,-1)"
   ]
  },
  {
   "cell_type": "markdown",
   "metadata": {
    "colab_type": "text",
    "id": "ysEA8Sx4n-23"
   },
   "source": [
    "### 4.2 Stacking together different arrays\n"
   ]
  },
  {
   "cell_type": "markdown",
   "metadata": {},
   "source": [
    "- **`np.vstack((a,b))`** : 수직으로 쌓기(`rbind()`) = **`np.concatenate([a,b])`**\n",
    "- **`np.hstack((a,b))`** : 수평으로 쌓기(`cbind()`) = **`np.concatenate([a,b], axis=1)`**"
   ]
  },
  {
   "cell_type": "code",
   "execution_count": 0,
   "metadata": {
    "colab": {
     "base_uri": "https://localhost:8080/",
     "height": 127
    },
    "colab_type": "code",
    "executionInfo": {
     "elapsed": 1736,
     "status": "ok",
     "timestamp": 1572575090621,
     "user": {
      "displayName": "‍최상범[ 부교수 / 통계학과 ]",
      "photoUrl": "",
      "userId": "04920731355532988232"
     },
     "user_tz": -540
    },
    "id": "3Aq0pmT54SzV",
    "outputId": "6a5bd8b2-be60-4966-d147-4876892da69f"
   },
   "outputs": [
    {
     "name": "stdout",
     "output_type": "stream",
     "text": [
      "[[1 2]\n",
      " [3 4]\n",
      " [1 1]\n",
      " [1 1]]\n",
      "[[1 2 1 1]\n",
      " [3 4 1 1]]\n"
     ]
    }
   ],
   "source": [
    "a = [[1,2],[3,4]]\n",
    "b = [[1,1],[1,1]]\n",
    "print(np.vstack((a,b)))  #rbind\n",
    "print(np.hstack((a,b)))  #cbind"
   ]
  },
  {
   "cell_type": "code",
   "execution_count": 0,
   "metadata": {
    "colab": {
     "base_uri": "https://localhost:8080/",
     "height": 127
    },
    "colab_type": "code",
    "executionInfo": {
     "elapsed": 629,
     "status": "ok",
     "timestamp": 1572575158057,
     "user": {
      "displayName": "‍최상범[ 부교수 / 통계학과 ]",
      "photoUrl": "",
      "userId": "04920731355532988232"
     },
     "user_tz": -540
    },
    "id": "l_8Q4nwFx5tI",
    "outputId": "fc33a912-1368-4598-a25d-b3596c42bc68"
   },
   "outputs": [
    {
     "name": "stdout",
     "output_type": "stream",
     "text": [
      "[[1 2]\n",
      " [3 4]\n",
      " [1 1]\n",
      " [1 1]]\n",
      "[[1 2 1 1]\n",
      " [3 4 1 1]]\n"
     ]
    }
   ],
   "source": [
    "print(np.concatenate([a,b]))\n",
    "print(np.concatenate([a,b], axis=1))"
   ]
  },
  {
   "cell_type": "markdown",
   "metadata": {},
   "source": [
    "---"
   ]
  },
  {
   "cell_type": "markdown",
   "metadata": {
    "colab_type": "text",
    "id": "HvLeyKZEn-9J"
   },
   "source": [
    "## 2.3 Splitting one array into several smaller ones\n",
    "\n",
    "Using `hsplit`, you can split an array along its horizontal axis, either by specifying the number of equally shaped arrays to return, or by specifying the columns after which the division should occur. \n",
    "\n",
    "`vsplit` splits along the vertical axis, and `array_split` allows one to specify along which axis to split.\n",
    "\n",
    "- `hsplit` : 가로'를' 자른다!\n",
    "    - `np.hsplit(a,3)` : 3개의 덩어리로 자른다\n",
    "    - `np.hsplit(a,(3,4))` : 3과 4자리에서 자른다.(총 3덩어리)\n",
    "- `vsplit` : 세로'를' 자른다! "
   ]
  },
  {
   "cell_type": "code",
   "execution_count": 24,
   "metadata": {
    "colab": {
     "base_uri": "https://localhost:8080/",
     "height": 201
    },
    "colab_type": "code",
    "executionInfo": {
     "elapsed": 788,
     "status": "ok",
     "timestamp": 1572575553347,
     "user": {
      "displayName": "‍최상범[ 부교수 / 통계학과 ]",
      "photoUrl": "",
      "userId": "04920731355532988232"
     },
     "user_tz": -540
    },
    "id": "Mm7QJYPX5cMW",
    "outputId": "0b8657ae-f3d0-441d-fc3c-6dc936a080c5"
   },
   "outputs": [
    {
     "name": "stdout",
     "output_type": "stream",
     "text": [
      "[[ 0  1  2  3  4  5  6  7  8  9 10 11]\n",
      " [12 13 14 15 16 17 18 19 20 21 22 23]]\n",
      "[array([[ 0,  1,  2,  3],\n",
      "       [12, 13, 14, 15]]), array([[ 4,  5,  6,  7],\n",
      "       [16, 17, 18, 19]]), array([[ 8,  9, 10, 11],\n",
      "       [20, 21, 22, 23]])]\n",
      "[[ 0  1  2  3]\n",
      " [12 13 14 15]]\n",
      "[[ 4  5  6  7]\n",
      " [16 17 18 19]]\n",
      "[[ 8  9 10 11]\n",
      " [20 21 22 23]]\n"
     ]
    }
   ],
   "source": [
    "a = np.arange(24).reshape(2,12)\n",
    "b = np.hsplit(a,3)  # Split a into 3\n",
    "print(a)\n",
    "print(b)\n",
    "print(b[0])\n",
    "print(b[1])\n",
    "print(b[2])"
   ]
  },
  {
   "cell_type": "code",
   "execution_count": 0,
   "metadata": {
    "colab": {
     "base_uri": "https://localhost:8080/",
     "height": 164
    },
    "colab_type": "code",
    "executionInfo": {
     "elapsed": 493,
     "status": "ok",
     "timestamp": 1572575588833,
     "user": {
      "displayName": "‍최상범[ 부교수 / 통계학과 ]",
      "photoUrl": "",
      "userId": "04920731355532988232"
     },
     "user_tz": -540
    },
    "id": "7UYxyrA659xf",
    "outputId": "59b59eb9-7a80-45c5-d68a-0f16e1b33847"
   },
   "outputs": [
    {
     "name": "stdout",
     "output_type": "stream",
     "text": [
      "[[ 0  1  2  3  4  5  6  7  8  9 10 11]\n",
      " [12 13 14 15 16 17 18 19 20 21 22 23]]\n",
      "[[ 0  1  2]\n",
      " [12 13 14]]\n",
      "[[ 3]\n",
      " [15]]\n",
      "[[ 4  5  6  7  8  9 10 11]\n",
      " [16 17 18 19 20 21 22 23]]\n"
     ]
    }
   ],
   "source": [
    "a1, a2, a3 = np.hsplit(a,(3,4))\n",
    "print(a)\n",
    "print(a1)\n",
    "print(a2)\n",
    "print(a3)"
   ]
  },
  {
   "cell_type": "markdown",
   "metadata": {},
   "source": [
    "---"
   ]
  },
  {
   "cell_type": "markdown",
   "metadata": {
    "colab_type": "text",
    "id": "KTl2YCN0n-xZ"
   },
   "source": [
    "## 2.4 Copies and views\n",
    "\n",
    "When operating and manipulating arrays, their data is sometimes copied into a new array and sometimes not.\n",
    "(*copy 안하고 그냥 할당하면 다 바뀐다*)"
   ]
  },
  {
   "cell_type": "code",
   "execution_count": 25,
   "metadata": {
    "colab": {
     "base_uri": "https://localhost:8080/",
     "height": 35
    },
    "colab_type": "code",
    "executionInfo": {
     "elapsed": 810,
     "status": "ok",
     "timestamp": 1572493670832,
     "user": {
      "displayName": "‍최상범[ 부교수 / 통계학과 ]",
      "photoUrl": "",
      "userId": "04920731355532988232"
     },
     "user_tz": -540
    },
    "id": "5vORPOxd7Os2",
    "outputId": "34a69662-3111-4ec9-c312-6a2bbd279b9e"
   },
   "outputs": [
    {
     "data": {
      "text/plain": [
       "[100, 2, 3]"
      ]
     },
     "execution_count": 25,
     "metadata": {},
     "output_type": "execute_result"
    }
   ],
   "source": [
    "a = [1,2,3]\n",
    "b = a \n",
    "a[0] = 100\n",
    "b"
   ]
  },
  {
   "cell_type": "markdown",
   "metadata": {
    "colab_type": "text",
    "id": "QNbFZtlAn-vS"
   },
   "source": [
    "The copy method makes a complete copy of the array and its data."
   ]
  },
  {
   "cell_type": "code",
   "execution_count": 28,
   "metadata": {
    "colab": {
     "base_uri": "https://localhost:8080/",
     "height": 54
    },
    "colab_type": "code",
    "executionInfo": {
     "elapsed": 773,
     "status": "ok",
     "timestamp": 1572493731355,
     "user": {
      "displayName": "‍최상범[ 부교수 / 통계학과 ]",
      "photoUrl": "",
      "userId": "04920731355532988232"
     },
     "user_tz": -540
    },
    "id": "cPg4oxa07YDG",
    "outputId": "e076d356-d776-4f76-d03d-914e4e757bd9"
   },
   "outputs": [
    {
     "name": "stdout",
     "output_type": "stream",
     "text": [
      "False\n",
      "[1, 2, 3]\n",
      "[100, 2, 3]\n"
     ]
    }
   ],
   "source": [
    "a = [1,2,3]\n",
    "c = a.copy()\n",
    "print(a is c)\n",
    "a[0] = 100\n",
    "print(c)\n",
    "print(a)"
   ]
  },
  {
   "cell_type": "markdown",
   "metadata": {},
   "source": [
    "---"
   ]
  },
  {
   "cell_type": "markdown",
   "metadata": {
    "colab_type": "text",
    "id": "tI-MMoCsQCus"
   },
   "source": [
    "## 2.5 Sorting Arrays\n",
    "\n",
    "To return a sorted version of the array without modifying the input, you can use np.sort:"
   ]
  },
  {
   "cell_type": "markdown",
   "metadata": {},
   "source": [
    "- `np.sort()` : 오름차순으로 sorting된 array 반환\n",
    "    - **axis = 0** : column내에서 정렬\n",
    "    - **axis = 1** : row내에서 정렬\n",
    "- `np.argsort()` : np.sort()하기 위한 element를 제시"
   ]
  },
  {
   "cell_type": "code",
   "execution_count": 29,
   "metadata": {
    "colab": {
     "base_uri": "https://localhost:8080/",
     "height": 72
    },
    "colab_type": "code",
    "executionInfo": {
     "elapsed": 890,
     "status": "ok",
     "timestamp": 1572599961837,
     "user": {
      "displayName": "‍최상범[ 부교수 / 통계학과 ]",
      "photoUrl": "",
      "userId": "04920731355532988232"
     },
     "user_tz": -540
    },
    "id": "nMpxjfRqQYL0",
    "outputId": "9b4501cf-733e-4737-b5ab-34be752904a3"
   },
   "outputs": [
    {
     "name": "stdout",
     "output_type": "stream",
     "text": [
      "[1 2 3 4 5]\n",
      "[1 0 3 2 4]\n",
      "[1 2 3 4 5]\n"
     ]
    }
   ],
   "source": [
    "x = np.array([2, 1, 4, 3, 5])\n",
    "print(np.sort(x))\n",
    "print(np.argsort(x))\n",
    "print(x[np.argsort(x)])"
   ]
  },
  {
   "cell_type": "code",
   "execution_count": 32,
   "metadata": {
    "colab": {},
    "colab_type": "code",
    "id": "E-clo-NoPeiD"
   },
   "outputs": [
    {
     "name": "stdout",
     "output_type": "stream",
     "text": [
      "[[4 1 3 4 3 0]\n",
      " [8 1 2 6 1 1]\n",
      " [8 6 9 5 5 5]\n",
      " [2 8 4 8 2 9]]\n"
     ]
    },
    {
     "data": {
      "text/plain": [
       "array([[0, 1, 3, 3, 4, 4],\n",
       "       [1, 1, 1, 2, 6, 8],\n",
       "       [5, 5, 5, 6, 8, 9],\n",
       "       [2, 2, 4, 8, 8, 9]])"
      ]
     },
     "execution_count": 32,
     "metadata": {},
     "output_type": "execute_result"
    }
   ],
   "source": [
    "X = np.random.randint(0, 10, (4, 6))\n",
    "print(X)\n",
    "np.sort(X,axis=0)\n",
    "np.sort(X,axis=1)"
   ]
  },
  {
   "cell_type": "markdown",
   "metadata": {},
   "source": [
    "---"
   ]
  },
  {
   "cell_type": "markdown",
   "metadata": {
    "colab_type": "text",
    "id": "tXlqeu4-n-tN"
   },
   "source": [
    "## 2.6 Fancy indexing and index tricks\n",
    "\n",
    "Numpy offers more indexing facilities than regular Python sequences. In addition to indexing by integers and slices, as we saw before, arrays can be indexed by arrays of integers and arrays of booleans."
   ]
  },
  {
   "cell_type": "markdown",
   "metadata": {},
   "source": [
    "##### array를 이용해서 indexing하기\n",
    "- one-dimension"
   ]
  },
  {
   "cell_type": "code",
   "execution_count": 33,
   "metadata": {
    "colab": {
     "base_uri": "https://localhost:8080/",
     "height": 35
    },
    "colab_type": "code",
    "executionInfo": {
     "elapsed": 811,
     "status": "ok",
     "timestamp": 1572494085960,
     "user": {
      "displayName": "‍최상범[ 부교수 / 통계학과 ]",
      "photoUrl": "",
      "userId": "04920731355532988232"
     },
     "user_tz": -540
    },
    "id": "TY9QAXAV8h3f",
    "outputId": "fe072da8-1944-4356-d447-2a678f5332a8"
   },
   "outputs": [
    {
     "data": {
      "text/plain": [
       "array([ 5,  5, 25, 30])"
      ]
     },
     "execution_count": 33,
     "metadata": {},
     "output_type": "execute_result"
    }
   ],
   "source": [
    "a = np.arange(10)*5\n",
    "i = np.array([1,1,5,6])\n",
    "a[i]"
   ]
  },
  {
   "cell_type": "code",
   "execution_count": 34,
   "metadata": {
    "colab": {
     "base_uri": "https://localhost:8080/",
     "height": 54
    },
    "colab_type": "code",
    "executionInfo": {
     "elapsed": 878,
     "status": "ok",
     "timestamp": 1572494118817,
     "user": {
      "displayName": "‍최상범[ 부교수 / 통계학과 ]",
      "photoUrl": "",
      "userId": "04920731355532988232"
     },
     "user_tz": -540
    },
    "id": "zR1QwyE588rY",
    "outputId": "95ae2833-55b5-4ee1-b413-ce701564e3e7"
   },
   "outputs": [
    {
     "data": {
      "text/plain": [
       "array([[ 5,  5],\n",
       "       [25, 30]])"
      ]
     },
     "execution_count": 34,
     "metadata": {},
     "output_type": "execute_result"
    }
   ],
   "source": [
    "j = np.array([[1,1],[5,6]])\n",
    "a[j]"
   ]
  },
  {
   "cell_type": "markdown",
   "metadata": {
    "colab_type": "text",
    "id": "_E6ptHt6-2As"
   },
   "source": [
    "We can also give indexes for more than **one dimension**. The arrays of indices for each dimension must have the same shape."
   ]
  },
  {
   "cell_type": "markdown",
   "metadata": {},
   "source": [
    "- two-dimension\n",
    "> `a[i,j]`에서 i는 row index, j는 column index"
   ]
  },
  {
   "cell_type": "code",
   "execution_count": 36,
   "metadata": {
    "colab": {
     "base_uri": "https://localhost:8080/",
     "height": 182
    },
    "colab_type": "code",
    "executionInfo": {
     "elapsed": 763,
     "status": "ok",
     "timestamp": 1572495104057,
     "user": {
      "displayName": "‍최상범[ 부교수 / 통계학과 ]",
      "photoUrl": "",
      "userId": "04920731355532988232"
     },
     "user_tz": -540
    },
    "id": "HKlRaDzC-2vC",
    "outputId": "42aa1c46-5c12-4bfc-eb05-8be1b5938ac0"
   },
   "outputs": [
    {
     "name": "stdout",
     "output_type": "stream",
     "text": [
      "[[ 0  1  2  3]\n",
      " [ 4  5  6  7]\n",
      " [ 8  9 10 11]]\n",
      "########\n",
      "[[ 2  5]\n",
      " [ 7 11]]\n",
      "########\n",
      "[[ 2  6]\n",
      " [ 6 10]]\n",
      "########\n",
      "[[[ 0  1  2  3]\n",
      "  [ 4  5  6  7]]\n",
      "\n",
      " [[ 4  5  6  7]\n",
      "  [ 8  9 10 11]]]\n"
     ]
    }
   ],
   "source": [
    "a = np.arange(12).reshape(3,4)\n",
    "i = np.array([[0,1],\n",
    "              [1,2]])\n",
    "j = np.array([[2,1],\n",
    "              [3,3]])\n",
    "print(a)\n",
    "print('########')\n",
    "print(a[i,j]) # i가 row index, j가 column index\n",
    "print('########')\n",
    "print(a[i,2])\n",
    "print('########')\n",
    "print(a[i,:])"
   ]
  },
  {
   "cell_type": "markdown",
   "metadata": {
    "colab_type": "text",
    "id": "C9PFl-6gAiWg"
   },
   "source": [
    "Another common use of indexing with arrays is the search of the maximum value of time-dependent series:"
   ]
  },
  {
   "cell_type": "code",
   "execution_count": 40,
   "metadata": {
    "colab": {
     "base_uri": "https://localhost:8080/",
     "height": 127
    },
    "colab_type": "code",
    "executionInfo": {
     "elapsed": 1367,
     "status": "ok",
     "timestamp": 1572495356924,
     "user": {
      "displayName": "‍최상범[ 부교수 / 통계학과 ]",
      "photoUrl": "",
      "userId": "04920731355532988232"
     },
     "user_tz": -540
    },
    "id": "pwkJRZd2BY-C",
    "outputId": "694f60f6-f087-4198-890a-3bb5b087946c"
   },
   "outputs": [
    {
     "name": "stdout",
     "output_type": "stream",
     "text": [
      "[ 20.    51.25  82.5  113.75 145.  ]\n",
      "[[ 0.          0.84147098  0.90929743  0.14112001]\n",
      " [-0.7568025  -0.95892427 -0.2794155   0.6569866 ]\n",
      " [ 0.98935825  0.41211849 -0.54402111 -0.99999021]\n",
      " [-0.53657292  0.42016704  0.99060736  0.65028784]\n",
      " [-0.28790332 -0.96139749 -0.75098725  0.14987721]]\n"
     ]
    }
   ],
   "source": [
    "time = np.linspace(20,145,5)                 # time scale\n",
    "data = np.sin(np.arange(20)).reshape(5,4)    # 4 time-dependent series \n",
    "print(time)\n",
    "print(data)"
   ]
  },
  {
   "cell_type": "code",
   "execution_count": 41,
   "metadata": {
    "colab": {
     "base_uri": "https://localhost:8080/",
     "height": 35
    },
    "colab_type": "code",
    "executionInfo": {
     "elapsed": 1401,
     "status": "ok",
     "timestamp": 1572495406524,
     "user": {
      "displayName": "‍최상범[ 부교수 / 통계학과 ]",
      "photoUrl": "",
      "userId": "04920731355532988232"
     },
     "user_tz": -540
    },
    "id": "hJvzrMDVB0iC",
    "outputId": "84f25f42-5fad-4fa1-8135-6bb339bb6d1e"
   },
   "outputs": [
    {
     "data": {
      "text/plain": [
       "array([2, 0, 3, 1])"
      ]
     },
     "execution_count": 41,
     "metadata": {},
     "output_type": "execute_result"
    }
   ],
   "source": [
    "ind = data.argmax(axis=0)  # index of the maxima for each series\n",
    "ind"
   ]
  },
  {
   "cell_type": "code",
   "execution_count": 47,
   "metadata": {
    "colab": {
     "base_uri": "https://localhost:8080/",
     "height": 72
    },
    "colab_type": "code",
    "executionInfo": {
     "elapsed": 694,
     "status": "ok",
     "timestamp": 1572495808027,
     "user": {
      "displayName": "‍최상범[ 부교수 / 통계학과 ]",
      "photoUrl": "",
      "userId": "04920731355532988232"
     },
     "user_tz": -540
    },
    "id": "tCfornl6B_L6",
    "outputId": "e982a0a9-1796-4ec6-d9bc-2c73a99e3c8f"
   },
   "outputs": [
    {
     "name": "stdout",
     "output_type": "stream",
     "text": [
      "[ 82.5   20.   113.75  51.25]\n",
      "[0.98935825 0.84147098 0.99060736 0.6569866 ]\n",
      "[0.98935825 0.84147098 0.99060736 0.6569866 ]\n"
     ]
    }
   ],
   "source": [
    "time_max = time[ind]       # times corresponding to the maxima\n",
    "data_max = data[ind, range(data.shape[1])]   \n",
    "print(time_max)\n",
    "print(data_max)##(2,0),(0,1),(3,2),(1,3)이 인덱싱된다.\n",
    "print(data.max(axis=0))##(2,0),(0,1),(3,2),(1,3)이 인덱싱된다.즉 같은 결과"
   ]
  },
  {
   "cell_type": "markdown",
   "metadata": {
    "colab_type": "text",
    "id": "BZQdqRwsAia_"
   },
   "source": [
    "You can also use indexing with arrays as a target to assign to:"
   ]
  },
  {
   "cell_type": "markdown",
   "metadata": {},
   "source": [
    "- **대치** e.g. `x[[1,3,4]]=99` : 1,3,4 자리에 99가 들어간다."
   ]
  },
  {
   "cell_type": "code",
   "execution_count": 0,
   "metadata": {
    "colab": {
     "base_uri": "https://localhost:8080/",
     "height": 35
    },
    "colab_type": "code",
    "executionInfo": {
     "elapsed": 696,
     "status": "ok",
     "timestamp": 1572495873637,
     "user": {
      "displayName": "‍최상범[ 부교수 / 통계학과 ]",
      "photoUrl": "",
      "userId": "04920731355532988232"
     },
     "user_tz": -540
    },
    "id": "ol4_QDuyDjoj",
    "outputId": "0d37088f-ea35-47c3-c21b-8d4b5089fe34"
   },
   "outputs": [
    {
     "data": {
      "text/plain": [
       "array([0, 0, 2, 0, 0])"
      ]
     },
     "execution_count": 40,
     "metadata": {
      "tags": []
     },
     "output_type": "execute_result"
    }
   ],
   "source": [
    "a = np.arange(5)\n",
    "a[[1,3,4]] = 0\n",
    "a"
   ]
  },
  {
   "cell_type": "code",
   "execution_count": 0,
   "metadata": {
    "colab": {
     "base_uri": "https://localhost:8080/",
     "height": 35
    },
    "colab_type": "code",
    "executionInfo": {
     "elapsed": 546,
     "status": "ok",
     "timestamp": 1572495931875,
     "user": {
      "displayName": "‍최상범[ 부교수 / 통계학과 ]",
      "photoUrl": "",
      "userId": "04920731355532988232"
     },
     "user_tz": -540
    },
    "id": "dEB3E8gLDykR",
    "outputId": "24416f48-c6f2-48f9-e506-7c45a32679fb"
   },
   "outputs": [
    {
     "data": {
      "text/plain": [
       "array([ 0, -1,  2, -2, -3])"
      ]
     },
     "execution_count": 43,
     "metadata": {
      "tags": []
     },
     "output_type": "execute_result"
    }
   ],
   "source": [
    "a[[1,3,4]] = [-1,-2,-3]\n",
    "a"
   ]
  },
  {
   "cell_type": "markdown",
   "metadata": {},
   "source": [
    "#### Boolean indexing"
   ]
  },
  {
   "cell_type": "markdown",
   "metadata": {
    "colab_type": "text",
    "id": "adSfqkjbAiuz"
   },
   "source": [
    "When we index arrays with arrays of (integer) indices we are providing the list of indices to pick. With boolean indices the approach is different; we explicitly choose which items in the array we want and which ones we don’t.\n",
    "\n",
    "The most natural way one can think of for boolean indexing is to use boolean arrays that have the same shape as the original array:"
   ]
  },
  {
   "cell_type": "code",
   "execution_count": 57,
   "metadata": {
    "colab": {
     "base_uri": "https://localhost:8080/",
     "height": 90
    },
    "colab_type": "code",
    "executionInfo": {
     "elapsed": 765,
     "status": "ok",
     "timestamp": 1572496206215,
     "user": {
      "displayName": "‍최상범[ 부교수 / 통계학과 ]",
      "photoUrl": "",
      "userId": "04920731355532988232"
     },
     "user_tz": -540
    },
    "id": "wdiDBO5kEkiK",
    "outputId": "5e5b3e71-5dcc-4442-d8dc-965cdb19cece"
   },
   "outputs": [
    {
     "name": "stdout",
     "output_type": "stream",
     "text": [
      "[[False False False False]\n",
      " [False  True  True  True]\n",
      " [ True  True  True  True]]\n",
      "[ 5  6  7  8  9 10 11]\n"
     ]
    }
   ],
   "source": [
    "a = np.arange(12).reshape(3,4)\n",
    "ind = a > 4\n",
    "print(ind)\n",
    "print(a[ind])"
   ]
  },
  {
   "cell_type": "code",
   "execution_count": 58,
   "metadata": {
    "colab": {
     "base_uri": "https://localhost:8080/",
     "height": 72
    },
    "colab_type": "code",
    "executionInfo": {
     "elapsed": 792,
     "status": "ok",
     "timestamp": 1572496208846,
     "user": {
      "displayName": "‍최상범[ 부교수 / 통계학과 ]",
      "photoUrl": "",
      "userId": "04920731355532988232"
     },
     "user_tz": -540
    },
    "id": "CReTrqGJE6nj",
    "outputId": "ece5411d-4e49-4e0d-f7d5-3b6f21396aa7"
   },
   "outputs": [
    {
     "name": "stdout",
     "output_type": "stream",
     "text": [
      "[[0 1 2 3]\n",
      " [4 0 0 0]\n",
      " [0 0 0 0]]\n"
     ]
    }
   ],
   "source": [
    "a[ind] = 0\n",
    "print(a)"
   ]
  },
  {
   "cell_type": "markdown",
   "metadata": {
    "colab_type": "text",
    "id": "bFc-cAinMLyy"
   },
   "source": [
    "## 2.7 Example: Selecting Random Points\n",
    "\n",
    "One common use of fancy indexing is the selection of subsets of rows from a matrix.\n",
    "For example, we might have an $N$ by $D$ matrix representing $N$ points in $D$ dimensions, such as the following points drawn from a two-dimensional normal distribution:"
   ]
  },
  {
   "cell_type": "code",
   "execution_count": 59,
   "metadata": {
    "colab": {
     "base_uri": "https://localhost:8080/",
     "height": 34
    },
    "colab_type": "code",
    "executionInfo": {
     "elapsed": 985,
     "status": "ok",
     "timestamp": 1572776775113,
     "user": {
      "displayName": "‍최상범[ 부교수 / 통계학과 ]",
      "photoUrl": "",
      "userId": "04920731355532988232"
     },
     "user_tz": -540
    },
    "id": "kQYzNi4jLm46",
    "outputId": "1755def9-6c5f-41aa-e829-4f4a248911e1"
   },
   "outputs": [
    {
     "data": {
      "text/plain": [
       "(100, 2)"
      ]
     },
     "execution_count": 59,
     "metadata": {},
     "output_type": "execute_result"
    }
   ],
   "source": [
    "mean = [0, 0]\n",
    "cov = [[1, 2],\n",
    "       [2, 5]]\n",
    "X = np.random.multivariate_normal(mean, cov, 100)\n",
    "X.shape"
   ]
  },
  {
   "cell_type": "code",
   "execution_count": 60,
   "metadata": {
    "colab": {
     "base_uri": "https://localhost:8080/",
     "height": 268
    },
    "colab_type": "code",
    "executionInfo": {
     "elapsed": 1518,
     "status": "ok",
     "timestamp": 1572776780741,
     "user": {
      "displayName": "‍최상범[ 부교수 / 통계학과 ]",
      "photoUrl": "",
      "userId": "04920731355532988232"
     },
     "user_tz": -540
    },
    "id": "HrdigPudLm5B",
    "outputId": "be941609-ac56-4627-d2a6-8896a079a928"
   },
   "outputs": [
    {
     "data": {
      "image/png": "[encoded data removed]",
      "text/plain": [
       "<Figure size 432x288 with 1 Axes>"
      ]
     },
     "metadata": {},
     "output_type": "display_data"
    }
   ],
   "source": [
    "%matplotlib inline\n",
    "import matplotlib.pyplot as plt\n",
    "import seaborn; seaborn.set()  # for plot styling\n",
    "\n",
    "plt.scatter(X[:, 0], X[:, 1]);"
   ]
  },
  {
   "cell_type": "markdown",
   "metadata": {
    "colab_type": "text",
    "id": "s4CDCdcxLm5F"
   },
   "source": [
    "Let's use fancy indexing to select 20 random points. We'll do this by first choosing 20 random indices with no repeats, and use these indices to select a portion of the original array:"
   ]
  },
  {
   "cell_type": "code",
   "execution_count": 61,
   "metadata": {
    "colab": {
     "base_uri": "https://localhost:8080/",
     "height": 52
    },
    "colab_type": "code",
    "executionInfo": {
     "elapsed": 1322,
     "status": "ok",
     "timestamp": 1572776790592,
     "user": {
      "displayName": "‍최상범[ 부교수 / 통계학과 ]",
      "photoUrl": "",
      "userId": "04920731355532988232"
     },
     "user_tz": -540
    },
    "id": "wglg1Ae0Lm5H",
    "outputId": "dc9111b3-5f1d-4ae9-a24b-3b7cd16d0bcf"
   },
   "outputs": [
    {
     "data": {
      "text/plain": [
       "array([ 0, 42, 22, 71, 34, 67, 55, 86, 77, 60, 17, 31, 65, 33, 97, 10, 54,\n",
       "       16, 89, 35])"
      ]
     },
     "execution_count": 61,
     "metadata": {},
     "output_type": "execute_result"
    }
   ],
   "source": [
    "indices = np.random.choice(X.shape[0], 20, replace=False)\n",
    "indices"
   ]
  },
  {
   "cell_type": "code",
   "execution_count": 62,
   "metadata": {
    "colab": {
     "base_uri": "https://localhost:8080/",
     "height": 34
    },
    "colab_type": "code",
    "executionInfo": {
     "elapsed": 1034,
     "status": "ok",
     "timestamp": 1572776793253,
     "user": {
      "displayName": "‍최상범[ 부교수 / 통계학과 ]",
      "photoUrl": "",
      "userId": "04920731355532988232"
     },
     "user_tz": -540
    },
    "id": "STN_gXReLm5U",
    "outputId": "7f605cea-7b57-4903-aed7-811d163502e3"
   },
   "outputs": [
    {
     "data": {
      "text/plain": [
       "(20, 2)"
      ]
     },
     "execution_count": 62,
     "metadata": {},
     "output_type": "execute_result"
    }
   ],
   "source": [
    "selection = X[indices]  # fancy indexing here\n",
    "selection.shape"
   ]
  },
  {
   "cell_type": "markdown",
   "metadata": {
    "colab_type": "text",
    "id": "xs37QfOQLm5Y"
   },
   "source": [
    "Now to see which points were selected, let's over-plot large circles at the locations of the selected points:"
   ]
  },
  {
   "cell_type": "code",
   "execution_count": 64,
   "metadata": {
    "colab": {
     "base_uri": "https://localhost:8080/",
     "height": 268
    },
    "colab_type": "code",
    "executionInfo": {
     "elapsed": 881,
     "status": "ok",
     "timestamp": 1572776797576,
     "user": {
      "displayName": "‍최상범[ 부교수 / 통계학과 ]",
      "photoUrl": "",
      "userId": "04920731355532988232"
     },
     "user_tz": -540
    },
    "id": "0oNOXAwxLm5Z",
    "outputId": "c0f349ff-f015-4cd9-cdb1-28dd2747207f"
   },
   "outputs": [
    {
     "data": {
      "image/png": "[encoded data removed]",
      "text/plain": [
       "<Figure size 432x288 with 1 Axes>"
      ]
     },
     "metadata": {
      "needs_background": "light"
     },
     "output_type": "display_data"
    }
   ],
   "source": [
    "plt.scatter(X[:, 0], X[:, 1], alpha=0.3)\n",
    "plt.scatter(selection[:, 0], selection[:, 1], facecolor=\"red\", s=100, alpha=0.8);"
   ]
  },
  {
   "cell_type": "markdown",
   "metadata": {
    "colab_type": "text",
    "id": "niPKY9UuvMpb"
   },
   "source": [
    "# 3. Aggregations and Bloadcasting"
   ]
  },
  {
   "cell_type": "markdown",
   "metadata": {
    "colab_type": "text",
    "id": "gV81JT9NvUiw"
   },
   "source": [
    "Often when faced with a large amount of data, a first step is to **compute summary statistics** for the data in question. Perhaps the most common summary statistics are the mean and standard deviation, which allow you to summarize the \"typical\" values in a dataset, but other aggregates are useful as well (the sum, product, median, minimum and maximum, quantiles, etc.).\n",
    "\n",
    "Numpy has fast **built-in aggregation functions for working on arrays**. \n"
   ]
  },
  {
   "cell_type": "markdown",
   "metadata": {},
   "source": [
    "(array에 한해서) **np 내장 함수**를 쓰면 그 속도가 훨씬 빠르다."
   ]
  },
  {
   "cell_type": "code",
   "execution_count": 65,
   "metadata": {
    "colab": {
     "base_uri": "https://localhost:8080/",
     "height": 52
    },
    "colab_type": "code",
    "executionInfo": {
     "elapsed": 9786,
     "status": "ok",
     "timestamp": 1572776848919,
     "user": {
      "displayName": "‍최상범[ 부교수 / 통계학과 ]",
      "photoUrl": "",
      "userId": "04920731355532988232"
     },
     "user_tz": -540
    },
    "id": "uzicI1PtvfG1",
    "outputId": "113a2f9d-657c-463e-b88d-233e8a66a3cd"
   },
   "outputs": [
    {
     "name": "stdout",
     "output_type": "stream",
     "text": [
      "165 ms ± 3.4 ms per loop (mean ± std. dev. of 7 runs, 10 loops each)\n",
      "385 µs ± 23.5 µs per loop (mean ± std. dev. of 7 runs, 1000 loops each)\n"
     ]
    }
   ],
   "source": [
    "import numpy as np\n",
    "big_array = np.random.rand(1000000)\n",
    "%timeit sum(big_array)\n",
    "%timeit np.sum(big_array)"
   ]
  },
  {
   "cell_type": "markdown",
   "metadata": {
    "colab_type": "text",
    "id": "-Ptge3FKvqKV"
   },
   "source": [
    "## 3.1 Multi dimensional aggregates \n",
    "\n",
    "One common type of aggregation operation is an aggregate along a row or column."
   ]
  },
  {
   "cell_type": "code",
   "execution_count": 67,
   "metadata": {
    "colab": {
     "base_uri": "https://localhost:8080/",
     "height": 182
    },
    "colab_type": "code",
    "executionInfo": {
     "elapsed": 887,
     "status": "ok",
     "timestamp": 1572601153905,
     "user": {
      "displayName": "‍최상범[ 부교수 / 통계학과 ]",
      "photoUrl": "",
      "userId": "04920731355532988232"
     },
     "user_tz": -540
    },
    "id": "O7S-Z84dvxsy",
    "outputId": "9f2719e7-055b-403c-a296-1c565fda6e33"
   },
   "outputs": [
    {
     "name": "stdout",
     "output_type": "stream",
     "text": [
      "[[0.04814957 0.37658656 0.70335799 0.75429697]\n",
      " [0.46597746 0.8952467  0.69163974 0.52887214]\n",
      " [0.66054816 0.31723307 0.63700736 0.78512042]]\n",
      "[0.3915584  0.52968878 0.67733503 0.68942985]\n",
      "[0.06527444 0.06740344 0.00083605 0.01304774]\n",
      "[0.25548862 0.25962172 0.02891447 0.11422669]\n"
     ]
    }
   ],
   "source": [
    "M = np.random.random((3, 4))\n",
    "print(M)\n",
    "print(M.mean(axis=0))\n",
    "print(M.var(axis=0))\n",
    "print(M.std(axis=0))"
   ]
  },
  {
   "cell_type": "code",
   "execution_count": 68,
   "metadata": {
    "colab": {
     "base_uri": "https://localhost:8080/",
     "height": 72
    },
    "colab_type": "code",
    "executionInfo": {
     "elapsed": 904,
     "status": "ok",
     "timestamp": 1572601179686,
     "user": {
      "displayName": "‍최상범[ 부교수 / 통계학과 ]",
      "photoUrl": "",
      "userId": "04920731355532988232"
     },
     "user_tz": -540
    },
    "id": "vdx1GhZVVXdg",
    "outputId": "6fd9a97d-df56-46af-a11c-01cfe0c6716f"
   },
   "outputs": [
    {
     "name": "stdout",
     "output_type": "stream",
     "text": [
      "[1.17467519 1.58906634 2.03200508 2.06828954]\n",
      "[1.88239109 2.58173604 2.39990902]\n",
      "[1.88239109 2.58173604 2.39990902]\n"
     ]
    }
   ],
   "source": [
    "print(M.sum(axis=0))\n",
    "print(M.sum(axis=1))\n",
    "print(M.sum(axis=-1))"
   ]
  },
  {
   "cell_type": "code",
   "execution_count": 69,
   "metadata": {
    "colab": {},
    "colab_type": "code",
    "id": "ul-zkfNYVYKt"
   },
   "outputs": [
    {
     "name": "stdout",
     "output_type": "stream",
     "text": [
      "[[0.04814957 0.37658656 0.70335799 0.75429697]\n",
      " [0.51412703 1.27183326 1.39499772 1.28316911]\n",
      " [1.17467519 1.58906634 2.03200508 2.06828954]]\n"
     ]
    }
   ],
   "source": [
    "print(M.cumsum(axis=0))"
   ]
  },
  {
   "cell_type": "markdown",
   "metadata": {
    "colab_type": "text",
    "id": "YR9BPrDh1ApK"
   },
   "source": [
    "## 3.2 Example: What is the Average Height of US Presidents?"
   ]
  },
  {
   "cell_type": "markdown",
   "metadata": {
    "colab_type": "text",
    "id": "qeW7bhVyuW4O"
   },
   "source": [
    "Aggregates available in Numpy can be extremely useful for summarizing a set of values.\n",
    "As a simple example, let's consider the heights of all US presidents.\n",
    "This data is available in the file *president_heights.csv*, which is a simple comma-separated list of labels and values:"
   ]
  },
  {
   "cell_type": "code",
   "execution_count": 0,
   "metadata": {
    "colab": {
     "base_uri": "https://localhost:8080/",
     "height": 124
    },
    "colab_type": "code",
    "executionInfo": {
     "elapsed": 28741,
     "status": "ok",
     "timestamp": 1572777404153,
     "user": {
      "displayName": "‍최상범[ 부교수 / 통계학과 ]",
      "photoUrl": "",
      "userId": "04920731355532988232"
     },
     "user_tz": -540
    },
    "id": "zp9NS4gx1lCN",
    "outputId": "ab8f0094-818c-4129-b999-a51d485d2abe"
   },
   "outputs": [
    {
     "name": "stdout",
     "output_type": "stream",
     "text": [
      "Go to this URL in a browser: https://accounts.google.com/o/oauth2/auth?client_id=947318989803-6bn6qk8qdgf4n4g3pfee6491hc0brc4i.apps.googleusercontent.com&redirect_uri=urn%3Aietf%3Awg%3Aoauth%3A2.0%3Aoob&scope=email%20https%3A%2F%2Fwww.googleapis.com%2Fauth%2Fdocs.test%20https%3A%2F%2Fwww.googleapis.com%2Fauth%2Fdrive%20https%3A%2F%2Fwww.googleapis.com%2Fauth%2Fdrive.photos.readonly%20https%3A%2F%2Fwww.googleapis.com%2Fauth%2Fpeopleapi.readonly&response_type=code\n",
      "\n",
      "Enter your authorization code:\n",
      "··········\n",
      "Mounted at /content/drive\n"
     ]
    }
   ],
   "source": [
    "from google.colab import drive\n",
    "drive.mount('/content/drive')"
   ]
  },
  {
   "cell_type": "code",
   "execution_count": 70,
   "metadata": {
    "colab": {
     "base_uri": "https://localhost:8080/",
     "height": 34
    },
    "colab_type": "code",
    "executionInfo": {
     "elapsed": 4219,
     "status": "ok",
     "timestamp": 1572777411761,
     "user": {
      "displayName": "‍최상범[ 부교수 / 통계학과 ]",
      "photoUrl": "",
      "userId": "04920731355532988232"
     },
     "user_tz": -540
    },
    "id": "pdbrO5kq10WG",
    "outputId": "222a025c-e3cc-4c1a-e5a2-b68444cb8182"
   },
   "outputs": [
    {
     "name": "stdout",
     "output_type": "stream",
     "text": [
      "/Users/choilizzy/Desktop/수업/데이터과학/수업자료/ch9\r\n"
     ]
    }
   ],
   "source": [
    "!pwd"
   ]
  },
  {
   "cell_type": "code",
   "execution_count": 0,
   "metadata": {
    "colab": {
     "base_uri": "https://localhost:8080/",
     "height": 52
    },
    "colab_type": "code",
    "executionInfo": {
     "elapsed": 5116,
     "status": "ok",
     "timestamp": 1572777417954,
     "user": {
      "displayName": "‍최상범[ 부교수 / 통계학과 ]",
      "photoUrl": "",
      "userId": "04920731355532988232"
     },
     "user_tz": -540
    },
    "id": "MGZ55VJA2PBe",
    "outputId": "749967b1-de0c-4820-fe0e-9b6fa52de333"
   },
   "outputs": [
    {
     "name": "stdout",
     "output_type": "stream",
     "text": [
      "/content/drive/My Drive/Courses at KU/Undergrad/2019-2 Statistical Data Science 1/Lecture Notes/Ch09_Py_numpy\n",
      "/content/drive/My Drive/Courses at KU/Undergrad/2019-2 Statistical Data Science 1/Lecture Notes/Ch09_Py_numpy\n"
     ]
    }
   ],
   "source": [
    "%cd /content/drive/My Drive/Courses at KU/Undergrad/2019-2 Statistical Data Science 1/Lecture Notes/Ch09_Py_numpy\n",
    "!pwd"
   ]
  },
  {
   "cell_type": "markdown",
   "metadata": {
    "colab_type": "text",
    "id": "EHVuH22uuW4T"
   },
   "source": [
    "We'll use the Pandas package to read the file and extract this information (note that the heights are measured in centimeters)."
   ]
  },
  {
   "cell_type": "code",
   "execution_count": 72,
   "metadata": {
    "colab": {
     "base_uri": "https://localhost:8080/",
     "height": 69
    },
    "colab_type": "code",
    "executionInfo": {
     "elapsed": 1052,
     "status": "ok",
     "timestamp": 1572777438782,
     "user": {
      "displayName": "‍최상범[ 부교수 / 통계학과 ]",
      "photoUrl": "",
      "userId": "04920731355532988232"
     },
     "user_tz": -540
    },
    "id": "iI7xQgz3uW4X",
    "outputId": "09644da1-a535-4237-b18d-c99367938591"
   },
   "outputs": [
    {
     "name": "stdout",
     "output_type": "stream",
     "text": [
      "[189 170 189 163 183 171 185 168 173 183 173 173 175 178 183 193 178 173\n",
      " 174 183 183 168 170 178 182 180 183 178 182 188 175 179 183 193 182 183\n",
      " 177 185 188 188 182 185]\n"
     ]
    }
   ],
   "source": [
    "import pandas as pd\n",
    "data = pd.read_csv('president_heights.csv')\n",
    "heights = np.array(data['height(cm)'])\n",
    "print(heights)"
   ]
  },
  {
   "cell_type": "code",
   "execution_count": 73,
   "metadata": {
    "scrolled": true
   },
   "outputs": [
    {
     "data": {
      "text/html": [
       "<div>\n",
       "<style scoped>\n",
       "    .dataframe tbody tr th:only-of-type {\n",
       "        vertical-align: middle;\n",
       "    }\n",
       "\n",
       "    .dataframe tbody tr th {\n",
       "        vertical-align: top;\n",
       "    }\n",
       "\n",
       "    .dataframe thead th {\n",
       "        text-align: right;\n",
       "    }\n",
       "</style>\n",
       "<table border=\"1\" class=\"dataframe\">\n",
       "  <thead>\n",
       "    <tr style=\"text-align: right;\">\n",
       "      <th></th>\n",
       "      <th>order</th>\n",
       "      <th>name</th>\n",
       "      <th>height(cm)</th>\n",
       "    </tr>\n",
       "  </thead>\n",
       "  <tbody>\n",
       "    <tr>\n",
       "      <td>0</td>\n",
       "      <td>1</td>\n",
       "      <td>George Washington</td>\n",
       "      <td>189</td>\n",
       "    </tr>\n",
       "    <tr>\n",
       "      <td>1</td>\n",
       "      <td>2</td>\n",
       "      <td>John Adams</td>\n",
       "      <td>170</td>\n",
       "    </tr>\n",
       "    <tr>\n",
       "      <td>2</td>\n",
       "      <td>3</td>\n",
       "      <td>Thomas Jefferson</td>\n",
       "      <td>189</td>\n",
       "    </tr>\n",
       "    <tr>\n",
       "      <td>3</td>\n",
       "      <td>4</td>\n",
       "      <td>James Madison</td>\n",
       "      <td>163</td>\n",
       "    </tr>\n",
       "    <tr>\n",
       "      <td>4</td>\n",
       "      <td>5</td>\n",
       "      <td>James Monroe</td>\n",
       "      <td>183</td>\n",
       "    </tr>\n",
       "    <tr>\n",
       "      <td>5</td>\n",
       "      <td>6</td>\n",
       "      <td>John Quincy Adams</td>\n",
       "      <td>171</td>\n",
       "    </tr>\n",
       "    <tr>\n",
       "      <td>6</td>\n",
       "      <td>7</td>\n",
       "      <td>Andrew Jackson</td>\n",
       "      <td>185</td>\n",
       "    </tr>\n",
       "    <tr>\n",
       "      <td>7</td>\n",
       "      <td>8</td>\n",
       "      <td>Martin Van Buren</td>\n",
       "      <td>168</td>\n",
       "    </tr>\n",
       "    <tr>\n",
       "      <td>8</td>\n",
       "      <td>9</td>\n",
       "      <td>William Henry Harrison</td>\n",
       "      <td>173</td>\n",
       "    </tr>\n",
       "    <tr>\n",
       "      <td>9</td>\n",
       "      <td>10</td>\n",
       "      <td>John Tyler</td>\n",
       "      <td>183</td>\n",
       "    </tr>\n",
       "    <tr>\n",
       "      <td>10</td>\n",
       "      <td>11</td>\n",
       "      <td>James K. Polk</td>\n",
       "      <td>173</td>\n",
       "    </tr>\n",
       "    <tr>\n",
       "      <td>11</td>\n",
       "      <td>12</td>\n",
       "      <td>Zachary Taylor</td>\n",
       "      <td>173</td>\n",
       "    </tr>\n",
       "    <tr>\n",
       "      <td>12</td>\n",
       "      <td>13</td>\n",
       "      <td>Millard Fillmore</td>\n",
       "      <td>175</td>\n",
       "    </tr>\n",
       "    <tr>\n",
       "      <td>13</td>\n",
       "      <td>14</td>\n",
       "      <td>Franklin Pierce</td>\n",
       "      <td>178</td>\n",
       "    </tr>\n",
       "    <tr>\n",
       "      <td>14</td>\n",
       "      <td>15</td>\n",
       "      <td>James Buchanan</td>\n",
       "      <td>183</td>\n",
       "    </tr>\n",
       "    <tr>\n",
       "      <td>15</td>\n",
       "      <td>16</td>\n",
       "      <td>Abraham Lincoln</td>\n",
       "      <td>193</td>\n",
       "    </tr>\n",
       "    <tr>\n",
       "      <td>16</td>\n",
       "      <td>17</td>\n",
       "      <td>Andrew Johnson</td>\n",
       "      <td>178</td>\n",
       "    </tr>\n",
       "    <tr>\n",
       "      <td>17</td>\n",
       "      <td>18</td>\n",
       "      <td>Ulysses S. Grant</td>\n",
       "      <td>173</td>\n",
       "    </tr>\n",
       "    <tr>\n",
       "      <td>18</td>\n",
       "      <td>19</td>\n",
       "      <td>Rutherford B. Hayes</td>\n",
       "      <td>174</td>\n",
       "    </tr>\n",
       "    <tr>\n",
       "      <td>19</td>\n",
       "      <td>20</td>\n",
       "      <td>James A. Garfield</td>\n",
       "      <td>183</td>\n",
       "    </tr>\n",
       "    <tr>\n",
       "      <td>20</td>\n",
       "      <td>21</td>\n",
       "      <td>Chester A. Arthur</td>\n",
       "      <td>183</td>\n",
       "    </tr>\n",
       "    <tr>\n",
       "      <td>21</td>\n",
       "      <td>23</td>\n",
       "      <td>Benjamin Harrison</td>\n",
       "      <td>168</td>\n",
       "    </tr>\n",
       "    <tr>\n",
       "      <td>22</td>\n",
       "      <td>25</td>\n",
       "      <td>William McKinley</td>\n",
       "      <td>170</td>\n",
       "    </tr>\n",
       "    <tr>\n",
       "      <td>23</td>\n",
       "      <td>26</td>\n",
       "      <td>Theodore Roosevelt</td>\n",
       "      <td>178</td>\n",
       "    </tr>\n",
       "    <tr>\n",
       "      <td>24</td>\n",
       "      <td>27</td>\n",
       "      <td>William Howard Taft</td>\n",
       "      <td>182</td>\n",
       "    </tr>\n",
       "    <tr>\n",
       "      <td>25</td>\n",
       "      <td>28</td>\n",
       "      <td>Woodrow Wilson</td>\n",
       "      <td>180</td>\n",
       "    </tr>\n",
       "    <tr>\n",
       "      <td>26</td>\n",
       "      <td>29</td>\n",
       "      <td>Warren G. Harding</td>\n",
       "      <td>183</td>\n",
       "    </tr>\n",
       "    <tr>\n",
       "      <td>27</td>\n",
       "      <td>30</td>\n",
       "      <td>Calvin Coolidge</td>\n",
       "      <td>178</td>\n",
       "    </tr>\n",
       "    <tr>\n",
       "      <td>28</td>\n",
       "      <td>31</td>\n",
       "      <td>Herbert Hoover</td>\n",
       "      <td>182</td>\n",
       "    </tr>\n",
       "    <tr>\n",
       "      <td>29</td>\n",
       "      <td>32</td>\n",
       "      <td>Franklin D. Roosevelt</td>\n",
       "      <td>188</td>\n",
       "    </tr>\n",
       "    <tr>\n",
       "      <td>30</td>\n",
       "      <td>33</td>\n",
       "      <td>Harry S. Truman</td>\n",
       "      <td>175</td>\n",
       "    </tr>\n",
       "    <tr>\n",
       "      <td>31</td>\n",
       "      <td>34</td>\n",
       "      <td>Dwight D. Eisenhower</td>\n",
       "      <td>179</td>\n",
       "    </tr>\n",
       "    <tr>\n",
       "      <td>32</td>\n",
       "      <td>35</td>\n",
       "      <td>John F. Kennedy</td>\n",
       "      <td>183</td>\n",
       "    </tr>\n",
       "    <tr>\n",
       "      <td>33</td>\n",
       "      <td>36</td>\n",
       "      <td>Lyndon B. Johnson</td>\n",
       "      <td>193</td>\n",
       "    </tr>\n",
       "    <tr>\n",
       "      <td>34</td>\n",
       "      <td>37</td>\n",
       "      <td>Richard Nixon</td>\n",
       "      <td>182</td>\n",
       "    </tr>\n",
       "    <tr>\n",
       "      <td>35</td>\n",
       "      <td>38</td>\n",
       "      <td>Gerald Ford</td>\n",
       "      <td>183</td>\n",
       "    </tr>\n",
       "    <tr>\n",
       "      <td>36</td>\n",
       "      <td>39</td>\n",
       "      <td>Jimmy Carter</td>\n",
       "      <td>177</td>\n",
       "    </tr>\n",
       "    <tr>\n",
       "      <td>37</td>\n",
       "      <td>40</td>\n",
       "      <td>Ronald Reagan</td>\n",
       "      <td>185</td>\n",
       "    </tr>\n",
       "    <tr>\n",
       "      <td>38</td>\n",
       "      <td>41</td>\n",
       "      <td>George H. W. Bush</td>\n",
       "      <td>188</td>\n",
       "    </tr>\n",
       "    <tr>\n",
       "      <td>39</td>\n",
       "      <td>42</td>\n",
       "      <td>Bill Clinton</td>\n",
       "      <td>188</td>\n",
       "    </tr>\n",
       "    <tr>\n",
       "      <td>40</td>\n",
       "      <td>43</td>\n",
       "      <td>George W. Bush</td>\n",
       "      <td>182</td>\n",
       "    </tr>\n",
       "    <tr>\n",
       "      <td>41</td>\n",
       "      <td>44</td>\n",
       "      <td>Barack Obama</td>\n",
       "      <td>185</td>\n",
       "    </tr>\n",
       "  </tbody>\n",
       "</table>\n",
       "</div>"
      ],
      "text/plain": [
       "    order                    name  height(cm)\n",
       "0       1       George Washington         189\n",
       "1       2              John Adams         170\n",
       "2       3        Thomas Jefferson         189\n",
       "3       4           James Madison         163\n",
       "4       5            James Monroe         183\n",
       "5       6       John Quincy Adams         171\n",
       "6       7          Andrew Jackson         185\n",
       "7       8        Martin Van Buren         168\n",
       "8       9  William Henry Harrison         173\n",
       "9      10              John Tyler         183\n",
       "10     11           James K. Polk         173\n",
       "11     12          Zachary Taylor         173\n",
       "12     13        Millard Fillmore         175\n",
       "13     14         Franklin Pierce         178\n",
       "14     15          James Buchanan         183\n",
       "15     16         Abraham Lincoln         193\n",
       "16     17          Andrew Johnson         178\n",
       "17     18        Ulysses S. Grant         173\n",
       "18     19     Rutherford B. Hayes         174\n",
       "19     20       James A. Garfield         183\n",
       "20     21       Chester A. Arthur         183\n",
       "21     23       Benjamin Harrison         168\n",
       "22     25        William McKinley         170\n",
       "23     26      Theodore Roosevelt         178\n",
       "24     27     William Howard Taft         182\n",
       "25     28          Woodrow Wilson         180\n",
       "26     29       Warren G. Harding         183\n",
       "27     30         Calvin Coolidge         178\n",
       "28     31          Herbert Hoover         182\n",
       "29     32   Franklin D. Roosevelt         188\n",
       "30     33         Harry S. Truman         175\n",
       "31     34    Dwight D. Eisenhower         179\n",
       "32     35         John F. Kennedy         183\n",
       "33     36       Lyndon B. Johnson         193\n",
       "34     37           Richard Nixon         182\n",
       "35     38             Gerald Ford         183\n",
       "36     39            Jimmy Carter         177\n",
       "37     40           Ronald Reagan         185\n",
       "38     41       George H. W. Bush         188\n",
       "39     42            Bill Clinton         188\n",
       "40     43          George W. Bush         182\n",
       "41     44            Barack Obama         185"
      ]
     },
     "execution_count": 73,
     "metadata": {},
     "output_type": "execute_result"
    }
   ],
   "source": [
    "data"
   ]
  },
  {
   "cell_type": "markdown",
   "metadata": {
    "colab_type": "text",
    "id": "oFs6kVVuuW4b"
   },
   "source": [
    "Now that we have this data array, we can compute a variety of summary statistics:"
   ]
  },
  {
   "cell_type": "code",
   "execution_count": 74,
   "metadata": {
    "colab": {
     "base_uri": "https://localhost:8080/",
     "height": 86
    },
    "colab_type": "code",
    "executionInfo": {
     "elapsed": 951,
     "status": "ok",
     "timestamp": 1572777442496,
     "user": {
      "displayName": "‍최상범[ 부교수 / 통계학과 ]",
      "photoUrl": "",
      "userId": "04920731355532988232"
     },
     "user_tz": -540
    },
    "id": "Bk_nsD72uW4d",
    "outputId": "b18891dc-3e6a-4f99-faa2-c48f2cd424d3"
   },
   "outputs": [
    {
     "name": "stdout",
     "output_type": "stream",
     "text": [
      "Mean height:        179.73809523809524\n",
      "Standard deviation: 6.931843442745892\n",
      "Minimum height:     163\n",
      "Maximum height:     193\n"
     ]
    }
   ],
   "source": [
    "print(\"Mean height:       \", heights.mean())\n",
    "print(\"Standard deviation:\", heights.std())\n",
    "print(\"Minimum height:    \", heights.min())\n",
    "print(\"Maximum height:    \", heights.max())"
   ]
  },
  {
   "cell_type": "markdown",
   "metadata": {
    "colab_type": "text",
    "id": "OtSJp_YhuW4g"
   },
   "source": [
    "Note that in each case, the aggregation operation reduced the entire array to a single summarizing value, which gives us information about the distribution of values.\n",
    "We may also wish to compute quantiles:"
   ]
  },
  {
   "cell_type": "code",
   "execution_count": 75,
   "metadata": {
    "colab": {
     "base_uri": "https://localhost:8080/",
     "height": 69
    },
    "colab_type": "code",
    "executionInfo": {
     "elapsed": 403,
     "status": "ok",
     "timestamp": 1572777444463,
     "user": {
      "displayName": "‍최상범[ 부교수 / 통계학과 ]",
      "photoUrl": "",
      "userId": "04920731355532988232"
     },
     "user_tz": -540
    },
    "id": "qP77wia-uW4h",
    "outputId": "44f86ca6-a415-4bad-c258-26ed36a92648"
   },
   "outputs": [
    {
     "name": "stdout",
     "output_type": "stream",
     "text": [
      "25th percentile:    174.25\n",
      "Median:             182.0\n",
      "75th percentile:    183.0\n"
     ]
    }
   ],
   "source": [
    "print(\"25th percentile:   \", np.percentile(heights, 25))\n",
    "print(\"Median:            \", np.median(heights))\n",
    "print(\"75th percentile:   \", np.percentile(heights, 75))"
   ]
  },
  {
   "cell_type": "markdown",
   "metadata": {
    "colab_type": "text",
    "id": "cLBFuGjwuW4l"
   },
   "source": [
    "The following code generates the histogram:"
   ]
  },
  {
   "cell_type": "code",
   "execution_count": 76,
   "metadata": {
    "colab": {},
    "colab_type": "code",
    "id": "JdCtumx2uW4n"
   },
   "outputs": [],
   "source": [
    "%matplotlib inline\n",
    "import matplotlib.pyplot as plt\n",
    "import seaborn; seaborn.set()  # set plot style"
   ]
  },
  {
   "cell_type": "code",
   "execution_count": 77,
   "metadata": {
    "colab": {
     "base_uri": "https://localhost:8080/",
     "height": 301
    },
    "colab_type": "code",
    "executionInfo": {
     "elapsed": 1108,
     "status": "ok",
     "timestamp": 1572777450314,
     "user": {
      "displayName": "‍최상범[ 부교수 / 통계학과 ]",
      "photoUrl": "",
      "userId": "04920731355532988232"
     },
     "user_tz": -540
    },
    "id": "1cVudy2juW4p",
    "outputId": "84d98293-5eff-49a8-ef20-3baf2e71151d"
   },
   "outputs": [
    {
     "data": {
      "image/png": "[encoded data removed]",
      "text/plain": [
       "<Figure size 432x288 with 1 Axes>"
      ]
     },
     "metadata": {},
     "output_type": "display_data"
    }
   ],
   "source": [
    "plt.hist(heights)\n",
    "plt.title('Height Distribution of US Presidents')\n",
    "plt.xlabel('height (cm)')\n",
    "plt.ylabel('number');"
   ]
  },
  {
   "cell_type": "markdown",
   "metadata": {
    "colab_type": "text",
    "id": "d3lOng0K8835"
   },
   "source": [
    "##  3.3 Broadcasting"
   ]
  },
  {
   "cell_type": "markdown",
   "metadata": {
    "colab_type": "text",
    "id": "WyxWOFJS-RPg"
   },
   "source": [
    "We saw in the previous section how Numpy's universal functions can be used to *vectorize* operations and thereby remove slow Python loops.\n",
    "Another means of vectorizing operations is to use Numpy's *broadcasting* functionality.\n",
    "\n",
    "Broadcasting is simply a set of rules for applying binary ufuncs (e.g., addition, subtraction, multiplication, etc.) on arrays of different sizes."
   ]
  },
  {
   "cell_type": "markdown",
   "metadata": {},
   "source": [
    "`(3,3)` + `(3,)` => **`(3,3)`** 에 맞춰서 broadcasting이 된다."
   ]
  },
  {
   "cell_type": "code",
   "execution_count": 78,
   "metadata": {
    "colab": {
     "base_uri": "https://localhost:8080/",
     "height": 72
    },
    "colab_type": "code",
    "executionInfo": {
     "elapsed": 805,
     "status": "ok",
     "timestamp": 1572595416300,
     "user": {
      "displayName": "‍최상범[ 부교수 / 통계학과 ]",
      "photoUrl": "",
      "userId": "04920731355532988232"
     },
     "user_tz": -540
    },
    "id": "EOkVJT2V-SrV",
    "outputId": "50a244ed-aed1-483d-fab4-88dede16cff3"
   },
   "outputs": [
    {
     "data": {
      "text/plain": [
       "array([[1., 2., 3.],\n",
       "       [1., 2., 3.],\n",
       "       [1., 2., 3.]])"
      ]
     },
     "execution_count": 78,
     "metadata": {},
     "output_type": "execute_result"
    }
   ],
   "source": [
    "M = np.zeros((3,3))\n",
    "a = np.array([1,2,3])\n",
    "M + a"
   ]
  },
  {
   "cell_type": "markdown",
   "metadata": {
    "colab_type": "text",
    "id": "33rwvp2u-8fY"
   },
   "source": [
    "Here the one-dimensional array `a` is stretched, or broadcast across the second dimension in order to match the shape of `M`."
   ]
  },
  {
   "cell_type": "code",
   "execution_count": 79,
   "metadata": {
    "colab": {
     "base_uri": "https://localhost:8080/",
     "height": 72
    },
    "colab_type": "code",
    "executionInfo": {
     "elapsed": 1423,
     "status": "ok",
     "timestamp": 1572595424180,
     "user": {
      "displayName": "‍최상범[ 부교수 / 통계학과 ]",
      "photoUrl": "",
      "userId": "04920731355532988232"
     },
     "user_tz": -540
    },
    "id": "3mKfOuYR_HyF",
    "outputId": "ac430a30-0f94-416c-adb5-45fc41fc045f"
   },
   "outputs": [
    {
     "data": {
      "text/plain": [
       "array([[1., 1., 1.],\n",
       "       [2., 2., 2.],\n",
       "       [3., 3., 3.]])"
      ]
     },
     "execution_count": 79,
     "metadata": {},
     "output_type": "execute_result"
    }
   ],
   "source": [
    "b = a[:,np.newaxis]\n",
    "M + b"
   ]
  },
  {
   "cell_type": "code",
   "execution_count": 80,
   "metadata": {
    "colab": {
     "base_uri": "https://localhost:8080/",
     "height": 72
    },
    "colab_type": "code",
    "executionInfo": {
     "elapsed": 915,
     "status": "ok",
     "timestamp": 1572595444292,
     "user": {
      "displayName": "‍최상범[ 부교수 / 통계학과 ]",
      "photoUrl": "",
      "userId": "04920731355532988232"
     },
     "user_tz": -540
    },
    "id": "_Z7faV-o_hNE",
    "outputId": "f04a77c4-c042-49d9-a262-374ed7086e15"
   },
   "outputs": [
    {
     "data": {
      "text/plain": [
       "array([[2, 3, 4],\n",
       "       [3, 4, 5],\n",
       "       [4, 5, 6]])"
      ]
     },
     "execution_count": 80,
     "metadata": {},
     "output_type": "execute_result"
    }
   ],
   "source": [
    "a + b"
   ]
  },
  {
   "cell_type": "code",
   "execution_count": 81,
   "metadata": {
    "colab": {
     "base_uri": "https://localhost:8080/",
     "height": 35
    },
    "colab_type": "code",
    "executionInfo": {
     "elapsed": 895,
     "status": "ok",
     "timestamp": 1572598551697,
     "user": {
      "displayName": "‍최상범[ 부교수 / 통계학과 ]",
      "photoUrl": "",
      "userId": "04920731355532988232"
     },
     "user_tz": -540
    },
    "id": "tlNJUVj3LL-2",
    "outputId": "3dae6c4d-e32b-4fa3-c6d5-b3f2e5ccd5a1"
   },
   "outputs": [
    {
     "data": {
      "text/plain": [
       "array([ 0.00000000e+00,  2.22044605e-17, -7.77156117e-17])"
      ]
     },
     "execution_count": 81,
     "metadata": {},
     "output_type": "execute_result"
    }
   ],
   "source": [
    "## Cenetering an array\n",
    "X = np.random.random((10, 3))\n",
    "X_mean = X.mean(0)\n",
    "X_centered = X - X_mean\n",
    "X_centered.mean(0)"
   ]
  },
  {
   "cell_type": "code",
   "execution_count": null,
   "metadata": {},
   "outputs": [],
   "source": []
  },
  {
   "cell_type": "code",
   "execution_count": null,
   "metadata": {},
   "outputs": [],
   "source": []
  }
 ],
 "metadata": {
  "kernelspec": {
   "display_name": "Python 3",
   "language": "python",
   "name": "python3"
  },
  "language_info": {
   "codemirror_mode": {
    "name": "ipython",
    "version": 3
   },
   "file_extension": ".py",
   "mimetype": "text/x-python",
   "name": "python",
   "nbconvert_exporter": "python",
   "pygments_lexer": "ipython3",
   "version": "3.7.6"
  }
 },
 "nbformat": 4,
 "nbformat_minor": 4
}
