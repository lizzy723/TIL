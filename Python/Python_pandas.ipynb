{
 "cells": [
  {
   "cell_type": "markdown",
   "metadata": {},
   "source": [
    "# Pandas\n",
    "Data manipulation with Pandas <br>\n",
    "참고자료: [Chpater 3. Data Manipulation with Pandas, *Python Data Science Handbook*](https://jakevdp.github.io/PythonDataScienceHandbook/03.00-introduction-to-pandas.html)<br>\n",
    "치팅시트: [Pandas Cheatsheet](http://pandas.pydata.org/Pandas_Cheat_Sheet.pdf)\n",
    "\n",
    "\n",
    "1. [The Basics](#1.-The-Basics)<br>\n",
    "    1.1 [Pandas Series](#1.1-Pandas-Series)<br>\n",
    "    1.2 [Pandas DataFrame](#1.1-Pandas-DataFrame)<br>\n",
    "    1.3 [Getting Data In/Out](#1.3-Getting-Data-In/Out)<br>\n",
    "2. [Basic Operations](#2.-Basic-Operations)<br>\n",
    "    2.1 [Data Indexing and Selection](#2.1-Data-Indexing-and-Selection)<br>\n",
    "    2.2 [Operations](#2.2-Operations)<br>\n",
    "    2.3 [Missing Data](#2.3-Missing-Data)<br>\n",
    "    2.4 [Hierarchical Indexing](#2.4-Hierarchical-Indexing)<br>\n",
    "    2.5 [Categoricals](#2.5-Categoricals)<br>\n",
    "    2.6 [Aggregation and Grouping](#2.6-Aggregation-and-Grouping)<br>\n",
    "    2.7 [Time Series and Plotting](#2.7-Time-Series-and-Plotting)<br>\n",
    "3. [Dataset Manipulation](#3.-Dataset-Manipulation) <br>\n",
    "    3.1 [Combining Datasets](#3.1-Combining-Datasets)<br>\n",
    "    3.2 [Pivot Tables](#3.2-Pivot-Tables)<br>\n",
    "    3.3 [long table, wide table](#3.3-long-table,-wide-table)"
   ]
  },
  {
   "cell_type": "markdown",
   "metadata": {},
   "source": [
    "---"
   ]
  },
  {
   "cell_type": "markdown",
   "metadata": {},
   "source": [
    "## 1. The Basics"
   ]
  },
  {
   "cell_type": "markdown",
   "metadata": {},
   "source": [
    "### 1.1 Pandas Series"
   ]
  },
  {
   "cell_type": "markdown",
   "metadata": {
    "colab_type": "text",
    "id": "AhS460ZKXE7P"
   },
   "source": [
    "At the very basic level, Pandas objects can be thought of as **enhanced versions of NumPy** structured arrays in which the rows and columns are identified **with labels** rather than simple integer indices.\n",
    "\n",
    "* **`Series`**: `pd.Series(data=None,index=None,dtype=None,...)`\n",
    "    - `data.values`: array value 반환\n",
    "    - `data.index` : index 반환\n",
    "    - `data = `와 `index = `를 합쳐서 **`dictionary`** 로 `pd.Series`만들 수 있다"
   ]
  },
  {
   "cell_type": "code",
   "execution_count": 1,
   "metadata": {
    "colab": {
     "base_uri": "https://localhost:8080/",
     "height": 35
    },
    "colab_type": "code",
    "executionInfo": {
     "elapsed": 1132,
     "status": "ok",
     "timestamp": 1573472927999,
     "user": {
      "displayName": "‍최상범[ 부교수 / 통계학과 ]",
      "photoUrl": "",
      "userId": "04920731355532988232"
     },
     "user_tz": -540
    },
    "id": "VJI-IWRTNqRb",
    "outputId": "45813e5c-0de5-474e-bc05-812c88aecf87"
   },
   "outputs": [
    {
     "data": {
      "text/plain": [
       "'1.0.1'"
      ]
     },
     "execution_count": 1,
     "metadata": {},
     "output_type": "execute_result"
    }
   ],
   "source": [
    "import pandas as pd\n",
    "pd.__version__"
   ]
  },
  {
   "cell_type": "code",
   "execution_count": 2,
   "metadata": {
    "colab": {
     "base_uri": "https://localhost:8080/",
     "height": 109
    },
    "colab_type": "code",
    "executionInfo": {
     "elapsed": 774,
     "status": "ok",
     "timestamp": 1573454821459,
     "user": {
      "displayName": "‍최상범[ 부교수 / 통계학과 ]",
      "photoUrl": "",
      "userId": "04920731355532988232"
     },
     "user_tz": -540
    },
    "id": "3sw2WOSuPzmt",
    "outputId": "cabc08fc-193b-43f5-f9a0-f25d5691ca03"
   },
   "outputs": [
    {
     "data": {
      "text/plain": [
       "0    0.25\n",
       "1    0.50\n",
       "2    0.75\n",
       "3    1.00\n",
       "dtype: float64"
      ]
     },
     "execution_count": 2,
     "metadata": {},
     "output_type": "execute_result"
    }
   ],
   "source": [
    "data = pd.Series([0.25, 0.5, 0.75, 1.0])\n",
    "data"
   ]
  },
  {
   "cell_type": "code",
   "execution_count": 3,
   "metadata": {
    "colab": {
     "base_uri": "https://localhost:8080/",
     "height": 109
    },
    "colab_type": "code",
    "executionInfo": {
     "elapsed": 791,
     "status": "ok",
     "timestamp": 1573454825754,
     "user": {
      "displayName": "‍최상범[ 부교수 / 통계학과 ]",
      "photoUrl": "",
      "userId": "04920731355532988232"
     },
     "user_tz": -540
    },
    "id": "in71eQonVYDA",
    "outputId": "2b4de31f-e03b-4af0-f7f1-e78577d26022"
   },
   "outputs": [
    {
     "name": "stdout",
     "output_type": "stream",
     "text": [
      "a    0.25\n",
      "b    0.50\n",
      "c    0.75\n",
      "d    1.00\n",
      "dtype: float64\n"
     ]
    }
   ],
   "source": [
    "# The Series object is basically interchangeable with a one-dimensional NumPy array:\n",
    "data = pd.Series([0.25, 0.5, 0.75, 1.0],\n",
    "                 index=['a', 'b', 'c', 'd'])\n",
    "print(data)"
   ]
  },
  {
   "cell_type": "code",
   "execution_count": 4,
   "metadata": {
    "colab": {
     "base_uri": "https://localhost:8080/",
     "height": 54
    },
    "colab_type": "code",
    "executionInfo": {
     "elapsed": 753,
     "status": "ok",
     "timestamp": 1573454851282,
     "user": {
      "displayName": "‍최상범[ 부교수 / 통계학과 ]",
      "photoUrl": "",
      "userId": "04920731355532988232"
     },
     "user_tz": -540
    },
    "id": "c3liYmgRPHlH",
    "outputId": "b333dbcd-24a6-4b07-d3ba-73a190f1aac6"
   },
   "outputs": [
    {
     "name": "stdout",
     "output_type": "stream",
     "text": [
      "[0.25 0.5  0.75 1.  ]\n",
      "Index(['a', 'b', 'c', 'd'], dtype='object')\n"
     ]
    }
   ],
   "source": [
    "print(data.values)\n",
    "print(data.index)"
   ]
  },
  {
   "cell_type": "code",
   "execution_count": 5,
   "metadata": {
    "colab": {
     "base_uri": "https://localhost:8080/",
     "height": 127
    },
    "colab_type": "code",
    "executionInfo": {
     "elapsed": 857,
     "status": "ok",
     "timestamp": 1573454856859,
     "user": {
      "displayName": "‍최상범[ 부교수 / 통계학과 ]",
      "photoUrl": "",
      "userId": "04920731355532988232"
     },
     "user_tz": -540
    },
    "id": "fyb1FRoCVxQD",
    "outputId": "89d4996a-da8e-49a3-f7df-bb3c13378954"
   },
   "outputs": [
    {
     "data": {
      "text/plain": [
       "California    38332521\n",
       "Texas         26448193\n",
       "New York      19651127\n",
       "Florida       19552860\n",
       "Illinois      12882135\n",
       "dtype: int64"
      ]
     },
     "execution_count": 5,
     "metadata": {},
     "output_type": "execute_result"
    }
   ],
   "source": [
    "# Series as specialized dictionary\n",
    "population_dict = {'California': 38332521,\n",
    "                   'Texas': 26448193,\n",
    "                   'New York': 19651127,\n",
    "                   'Florida': 19552860,\n",
    "                   'Illinois': 12882135}\n",
    "population = pd.Series(population_dict)\n",
    "population"
   ]
  },
  {
   "cell_type": "code",
   "execution_count": 6,
   "metadata": {
    "colab": {
     "base_uri": "https://localhost:8080/",
     "height": 35
    },
    "colab_type": "code",
    "executionInfo": {
     "elapsed": 648,
     "status": "ok",
     "timestamp": 1572853192191,
     "user": {
      "displayName": "‍최상범[ 부교수 / 통계학과 ]",
      "photoUrl": "",
      "userId": "04920731355532988232"
     },
     "user_tz": -540
    },
    "id": "v0LYg-adWwJv",
    "outputId": "35514a66-061d-42f6-d38e-ab2f05e12f62"
   },
   "outputs": [
    {
     "data": {
      "text/plain": [
       "26448193"
      ]
     },
     "execution_count": 6,
     "metadata": {},
     "output_type": "execute_result"
    }
   ],
   "source": [
    "population['Texas']"
   ]
  },
  {
   "cell_type": "markdown",
   "metadata": {
    "colab_type": "text",
    "id": "j4-ymhEXPeG8"
   },
   "source": [
    "### 1.2 Pandas DataFrame\n",
    "\n",
    "* **`DataFrame`**: `pd.DataFrame(data=None, index=None, columns=None, dtype=None, copy=False)`\n",
    "    - `data=` 와 `columns=`를 합쳐서 **`dictionary`** form으로 `pd.DataFrame`만들 수 있다\n",
    "    - `df.head()`, `df.tail()`, `df.columns`, `df.index`, `df.values`, `df.describe()` : DataFrame 살펴보기\n",
    "    - **Add column E** : `df['E'] = pd.Series(np.arange(6),index=df.index)`\n",
    "    - cf. `pd.date_range('20190101', periods=6, freq='D')` : 2019-01-01부터 시작하는 6개의 날을 생성하겠다\n"
   ]
  },
  {
   "cell_type": "code",
   "execution_count": 3,
   "metadata": {
    "colab": {
     "base_uri": "https://localhost:8080/",
     "height": 127
    },
    "colab_type": "code",
    "executionInfo": {
     "elapsed": 949,
     "status": "ok",
     "timestamp": 1573454897352,
     "user": {
      "displayName": "‍최상범[ 부교수 / 통계학과 ]",
      "photoUrl": "",
      "userId": "04920731355532988232"
     },
     "user_tz": -540
    },
    "id": "v0Yvup94dU3K",
    "outputId": "e03ebff8-fd35-49ca-9105-736702abaa6c"
   },
   "outputs": [
    {
     "data": {
      "text/plain": [
       "California    423967\n",
       "Texas         695662\n",
       "New York      141297\n",
       "Florida       170312\n",
       "Illinois      149995\n",
       "dtype: int64"
      ]
     },
     "execution_count": 3,
     "metadata": {},
     "output_type": "execute_result"
    }
   ],
   "source": [
    "area_dict = {'California': 423967, 'Texas': 695662, 'New York': 141297,\n",
    "             'Florida': 170312, 'Illinois': 149995}\n",
    "area = pd.Series(area_dict)\n",
    "area"
   ]
  },
  {
   "cell_type": "code",
   "execution_count": 6,
   "metadata": {
    "colab": {
     "base_uri": "https://localhost:8080/",
     "height": 206
    },
    "colab_type": "code",
    "executionInfo": {
     "elapsed": 1073,
     "status": "ok",
     "timestamp": 1573454900726,
     "user": {
      "displayName": "‍최상범[ 부교수 / 통계학과 ]",
      "photoUrl": "",
      "userId": "04920731355532988232"
     },
     "user_tz": -540
    },
    "id": "HOZ-ME1_daLi",
    "outputId": "cd12db64-01af-416d-c91d-6cb4ceaae5aa"
   },
   "outputs": [
    {
     "data": {
      "text/html": [
       "<div>\n",
       "<style scoped>\n",
       "    .dataframe tbody tr th:only-of-type {\n",
       "        vertical-align: middle;\n",
       "    }\n",
       "\n",
       "    .dataframe tbody tr th {\n",
       "        vertical-align: top;\n",
       "    }\n",
       "\n",
       "    .dataframe thead th {\n",
       "        text-align: right;\n",
       "    }\n",
       "</style>\n",
       "<table border=\"1\" class=\"dataframe\">\n",
       "  <thead>\n",
       "    <tr style=\"text-align: right;\">\n",
       "      <th></th>\n",
       "      <th>population</th>\n",
       "      <th>area</th>\n",
       "    </tr>\n",
       "  </thead>\n",
       "  <tbody>\n",
       "    <tr>\n",
       "      <th>California</th>\n",
       "      <td>38332521</td>\n",
       "      <td>423967</td>\n",
       "    </tr>\n",
       "    <tr>\n",
       "      <th>Texas</th>\n",
       "      <td>26448193</td>\n",
       "      <td>695662</td>\n",
       "    </tr>\n",
       "    <tr>\n",
       "      <th>New York</th>\n",
       "      <td>19651127</td>\n",
       "      <td>141297</td>\n",
       "    </tr>\n",
       "    <tr>\n",
       "      <th>Florida</th>\n",
       "      <td>19552860</td>\n",
       "      <td>170312</td>\n",
       "    </tr>\n",
       "    <tr>\n",
       "      <th>Illinois</th>\n",
       "      <td>12882135</td>\n",
       "      <td>149995</td>\n",
       "    </tr>\n",
       "  </tbody>\n",
       "</table>\n",
       "</div>"
      ],
      "text/plain": [
       "            population    area\n",
       "California    38332521  423967\n",
       "Texas         26448193  695662\n",
       "New York      19651127  141297\n",
       "Florida       19552860  170312\n",
       "Illinois      12882135  149995"
      ]
     },
     "execution_count": 6,
     "metadata": {},
     "output_type": "execute_result"
    }
   ],
   "source": [
    "states = pd.DataFrame({'population': population,\n",
    "                       'area': area})\n",
    "states"
   ]
  },
  {
   "cell_type": "code",
   "execution_count": 7,
   "metadata": {
    "colab": {
     "base_uri": "https://localhost:8080/",
     "height": 146
    },
    "colab_type": "code",
    "executionInfo": {
     "elapsed": 836,
     "status": "ok",
     "timestamp": 1573454958779,
     "user": {
      "displayName": "‍최상범[ 부교수 / 통계학과 ]",
      "photoUrl": "",
      "userId": "04920731355532988232"
     },
     "user_tz": -540
    },
    "id": "ET-NfVMAdiTp",
    "outputId": "98dbd0af-2256-4fcd-ec6f-ccda086f2a1a"
   },
   "outputs": [
    {
     "name": "stdout",
     "output_type": "stream",
     "text": [
      "Index(['population', 'area'], dtype='object') \n",
      "\n",
      "California    423967\n",
      "Texas         695662\n",
      "New York      141297\n",
      "Florida       170312\n",
      "Illinois      149995\n",
      "Name: area, dtype: int64\n"
     ]
    }
   ],
   "source": [
    "print(states.columns, \"\\n\")\n",
    "\n",
    "print(states['area'])"
   ]
  },
  {
   "cell_type": "code",
   "execution_count": 10,
   "metadata": {
    "colab": {
     "base_uri": "https://localhost:8080/",
     "height": 206
    },
    "colab_type": "code",
    "executionInfo": {
     "elapsed": 697,
     "status": "ok",
     "timestamp": 1573472991368,
     "user": {
      "displayName": "‍최상범[ 부교수 / 통계학과 ]",
      "photoUrl": "",
      "userId": "04920731355532988232"
     },
     "user_tz": -540
    },
    "id": "-XhdJP1Vd0VE",
    "outputId": "7c45596f-5aa9-4171-8a6b-5351682c0ac1"
   },
   "outputs": [
    {
     "data": {
      "text/html": [
       "<div>\n",
       "<style scoped>\n",
       "    .dataframe tbody tr th:only-of-type {\n",
       "        vertical-align: middle;\n",
       "    }\n",
       "\n",
       "    .dataframe tbody tr th {\n",
       "        vertical-align: top;\n",
       "    }\n",
       "\n",
       "    .dataframe thead th {\n",
       "        text-align: right;\n",
       "    }\n",
       "</style>\n",
       "<table border=\"1\" class=\"dataframe\">\n",
       "  <thead>\n",
       "    <tr style=\"text-align: right;\">\n",
       "      <th></th>\n",
       "      <th>colA</th>\n",
       "      <th>colB</th>\n",
       "    </tr>\n",
       "  </thead>\n",
       "  <tbody>\n",
       "    <tr>\n",
       "      <td>1</td>\n",
       "      <td>0.150549</td>\n",
       "      <td>0.278203</td>\n",
       "    </tr>\n",
       "    <tr>\n",
       "      <td>2</td>\n",
       "      <td>0.605013</td>\n",
       "      <td>0.102856</td>\n",
       "    </tr>\n",
       "    <tr>\n",
       "      <td>3</td>\n",
       "      <td>0.311396</td>\n",
       "      <td>0.405001</td>\n",
       "    </tr>\n",
       "    <tr>\n",
       "      <td>4</td>\n",
       "      <td>0.720321</td>\n",
       "      <td>0.974520</td>\n",
       "    </tr>\n",
       "    <tr>\n",
       "      <td>5</td>\n",
       "      <td>0.145396</td>\n",
       "      <td>0.848022</td>\n",
       "    </tr>\n",
       "  </tbody>\n",
       "</table>\n",
       "</div>"
      ],
      "text/plain": [
       "       colA      colB\n",
       "1  0.150549  0.278203\n",
       "2  0.605013  0.102856\n",
       "3  0.311396  0.405001\n",
       "4  0.720321  0.974520\n",
       "5  0.145396  0.848022"
      ]
     },
     "execution_count": 10,
     "metadata": {},
     "output_type": "execute_result"
    }
   ],
   "source": [
    "# Constructing DataFrame objects:\n",
    "import numpy as np\n",
    "data = pd.DataFrame(np.random.rand(5,2),  #Random values in a given shape.\n",
    "                    columns=['colA','colB'],\n",
    "                    index=[1,2,3,4,5])\n",
    "data"
   ]
  },
  {
   "cell_type": "code",
   "execution_count": 11,
   "metadata": {
    "colab": {
     "base_uri": "https://localhost:8080/",
     "height": 72
    },
    "colab_type": "code",
    "executionInfo": {
     "elapsed": 738,
     "status": "ok",
     "timestamp": 1573472993313,
     "user": {
      "displayName": "‍최상범[ 부교수 / 통계학과 ]",
      "photoUrl": "",
      "userId": "04920731355532988232"
     },
     "user_tz": -540
    },
    "id": "5qQn_wiQLWBV",
    "outputId": "ff36b948-f062-4fa7-bb67-bd43f5d2b1a2"
   },
   "outputs": [
    {
     "data": {
      "text/plain": [
       "DatetimeIndex(['2019-01-01', '2019-01-02', '2019-01-03', '2019-01-04',\n",
       "               '2019-01-05', '2019-01-06'],\n",
       "              dtype='datetime64[ns]', freq='D')"
      ]
     },
     "execution_count": 11,
     "metadata": {},
     "output_type": "execute_result"
    }
   ],
   "source": [
    "# Creating a DataFrame by passing a NumPy array, with a datetime index and labeled columns:\n",
    "dates = pd.date_range('20190101', periods=6, freq='D')\n",
    "dates"
   ]
  },
  {
   "cell_type": "code",
   "execution_count": 12,
   "metadata": {
    "colab": {
     "base_uri": "https://localhost:8080/",
     "height": 238
    },
    "colab_type": "code",
    "executionInfo": {
     "elapsed": 662,
     "status": "ok",
     "timestamp": 1573472995044,
     "user": {
      "displayName": "‍최상범[ 부교수 / 통계학과 ]",
      "photoUrl": "",
      "userId": "04920731355532988232"
     },
     "user_tz": -540
    },
    "id": "yrLnA0gPLmMM",
    "outputId": "39da261f-867c-4014-9b9f-9cfcaeeb8350"
   },
   "outputs": [
    {
     "data": {
      "text/html": [
       "<div>\n",
       "<style scoped>\n",
       "    .dataframe tbody tr th:only-of-type {\n",
       "        vertical-align: middle;\n",
       "    }\n",
       "\n",
       "    .dataframe tbody tr th {\n",
       "        vertical-align: top;\n",
       "    }\n",
       "\n",
       "    .dataframe thead th {\n",
       "        text-align: right;\n",
       "    }\n",
       "</style>\n",
       "<table border=\"1\" class=\"dataframe\">\n",
       "  <thead>\n",
       "    <tr style=\"text-align: right;\">\n",
       "      <th></th>\n",
       "      <th>A</th>\n",
       "      <th>B</th>\n",
       "      <th>C</th>\n",
       "      <th>D</th>\n",
       "    </tr>\n",
       "  </thead>\n",
       "  <tbody>\n",
       "    <tr>\n",
       "      <td>2019-01-01</td>\n",
       "      <td>0.393337</td>\n",
       "      <td>0.189602</td>\n",
       "      <td>0.319923</td>\n",
       "      <td>2.643076</td>\n",
       "    </tr>\n",
       "    <tr>\n",
       "      <td>2019-01-02</td>\n",
       "      <td>-0.675510</td>\n",
       "      <td>-1.008091</td>\n",
       "      <td>1.126024</td>\n",
       "      <td>-1.134150</td>\n",
       "    </tr>\n",
       "    <tr>\n",
       "      <td>2019-01-03</td>\n",
       "      <td>-2.279425</td>\n",
       "      <td>0.938188</td>\n",
       "      <td>-0.248389</td>\n",
       "      <td>-0.561731</td>\n",
       "    </tr>\n",
       "    <tr>\n",
       "      <td>2019-01-04</td>\n",
       "      <td>-0.770274</td>\n",
       "      <td>-0.206181</td>\n",
       "      <td>0.261334</td>\n",
       "      <td>1.133988</td>\n",
       "    </tr>\n",
       "    <tr>\n",
       "      <td>2019-01-05</td>\n",
       "      <td>1.306699</td>\n",
       "      <td>0.151692</td>\n",
       "      <td>1.682443</td>\n",
       "      <td>-0.706915</td>\n",
       "    </tr>\n",
       "    <tr>\n",
       "      <td>2019-01-06</td>\n",
       "      <td>-3.585249</td>\n",
       "      <td>0.692278</td>\n",
       "      <td>0.792287</td>\n",
       "      <td>-0.141272</td>\n",
       "    </tr>\n",
       "  </tbody>\n",
       "</table>\n",
       "</div>"
      ],
      "text/plain": [
       "                   A         B         C         D\n",
       "2019-01-01  0.393337  0.189602  0.319923  2.643076\n",
       "2019-01-02 -0.675510 -1.008091  1.126024 -1.134150\n",
       "2019-01-03 -2.279425  0.938188 -0.248389 -0.561731\n",
       "2019-01-04 -0.770274 -0.206181  0.261334  1.133988\n",
       "2019-01-05  1.306699  0.151692  1.682443 -0.706915\n",
       "2019-01-06 -3.585249  0.692278  0.792287 -0.141272"
      ]
     },
     "execution_count": 12,
     "metadata": {},
     "output_type": "execute_result"
    }
   ],
   "source": [
    "df = pd.DataFrame(np.random.randn(6,4), index=dates, columns=list('ABCD'))\n",
    "df"
   ]
  },
  {
   "cell_type": "code",
   "execution_count": 13,
   "metadata": {
    "colab": {
     "base_uri": "https://localhost:8080/",
     "height": 143
    },
    "colab_type": "code",
    "executionInfo": {
     "elapsed": 667,
     "status": "ok",
     "timestamp": 1573472997837,
     "user": {
      "displayName": "‍최상범[ 부교수 / 통계학과 ]",
      "photoUrl": "",
      "userId": "04920731355532988232"
     },
     "user_tz": -540
    },
    "id": "ewOQfpfBMEea",
    "outputId": "3637e65c-c701-4cc3-862f-227423bd4689"
   },
   "outputs": [
    {
     "data": {
      "text/html": [
       "<div>\n",
       "<style scoped>\n",
       "    .dataframe tbody tr th:only-of-type {\n",
       "        vertical-align: middle;\n",
       "    }\n",
       "\n",
       "    .dataframe tbody tr th {\n",
       "        vertical-align: top;\n",
       "    }\n",
       "\n",
       "    .dataframe thead th {\n",
       "        text-align: right;\n",
       "    }\n",
       "</style>\n",
       "<table border=\"1\" class=\"dataframe\">\n",
       "  <thead>\n",
       "    <tr style=\"text-align: right;\">\n",
       "      <th></th>\n",
       "      <th>A</th>\n",
       "      <th>B</th>\n",
       "      <th>C</th>\n",
       "      <th>D</th>\n",
       "    </tr>\n",
       "  </thead>\n",
       "  <tbody>\n",
       "    <tr>\n",
       "      <td>2019-01-01</td>\n",
       "      <td>0.393337</td>\n",
       "      <td>0.189602</td>\n",
       "      <td>0.319923</td>\n",
       "      <td>2.643076</td>\n",
       "    </tr>\n",
       "    <tr>\n",
       "      <td>2019-01-02</td>\n",
       "      <td>-0.675510</td>\n",
       "      <td>-1.008091</td>\n",
       "      <td>1.126024</td>\n",
       "      <td>-1.134150</td>\n",
       "    </tr>\n",
       "    <tr>\n",
       "      <td>2019-01-03</td>\n",
       "      <td>-2.279425</td>\n",
       "      <td>0.938188</td>\n",
       "      <td>-0.248389</td>\n",
       "      <td>-0.561731</td>\n",
       "    </tr>\n",
       "  </tbody>\n",
       "</table>\n",
       "</div>"
      ],
      "text/plain": [
       "                   A         B         C         D\n",
       "2019-01-01  0.393337  0.189602  0.319923  2.643076\n",
       "2019-01-02 -0.675510 -1.008091  1.126024 -1.134150\n",
       "2019-01-03 -2.279425  0.938188 -0.248389 -0.561731"
      ]
     },
     "execution_count": 13,
     "metadata": {},
     "output_type": "execute_result"
    }
   ],
   "source": [
    "# Here is how to view the top and bottom rows of the frame:\n",
    "df.head(3)\n",
    "#df.tail(3)"
   ]
  },
  {
   "cell_type": "code",
   "execution_count": 14,
   "metadata": {
    "colab": {
     "base_uri": "https://localhost:8080/",
     "height": 90
    },
    "colab_type": "code",
    "executionInfo": {
     "elapsed": 713,
     "status": "ok",
     "timestamp": 1573455166466,
     "user": {
      "displayName": "‍최상범[ 부교수 / 통계학과 ]",
      "photoUrl": "",
      "userId": "04920731355532988232"
     },
     "user_tz": -540
    },
    "id": "7QXPLDZqML9T",
    "outputId": "b7512312-a2da-4a2f-aae8-fa031e5d9dc5"
   },
   "outputs": [
    {
     "name": "stdout",
     "output_type": "stream",
     "text": [
      "DatetimeIndex(['2019-01-01', '2019-01-02', '2019-01-03', '2019-01-04',\n",
      "               '2019-01-05', '2019-01-06'],\n",
      "              dtype='datetime64[ns]', freq='D')\n",
      "Index(['A', 'B', 'C', 'D'], dtype='object')\n"
     ]
    }
   ],
   "source": [
    "print(df.index)\n",
    "print(df.columns)"
   ]
  },
  {
   "cell_type": "code",
   "execution_count": 15,
   "metadata": {
    "colab": {
     "base_uri": "https://localhost:8080/",
     "height": 238
    },
    "colab_type": "code",
    "executionInfo": {
     "elapsed": 853,
     "status": "ok",
     "timestamp": 1573473001464,
     "user": {
      "displayName": "‍최상범[ 부교수 / 통계학과 ]",
      "photoUrl": "",
      "userId": "04920731355532988232"
     },
     "user_tz": -540
    },
    "id": "euf2VFNIQZGR",
    "outputId": "f36c18e4-6560-4a72-9cd1-a126ceef22fe"
   },
   "outputs": [
    {
     "data": {
      "text/html": [
       "<div>\n",
       "<style scoped>\n",
       "    .dataframe tbody tr th:only-of-type {\n",
       "        vertical-align: middle;\n",
       "    }\n",
       "\n",
       "    .dataframe tbody tr th {\n",
       "        vertical-align: top;\n",
       "    }\n",
       "\n",
       "    .dataframe thead th {\n",
       "        text-align: right;\n",
       "    }\n",
       "</style>\n",
       "<table border=\"1\" class=\"dataframe\">\n",
       "  <thead>\n",
       "    <tr style=\"text-align: right;\">\n",
       "      <th></th>\n",
       "      <th>A</th>\n",
       "      <th>B</th>\n",
       "      <th>C</th>\n",
       "      <th>D</th>\n",
       "      <th>E</th>\n",
       "    </tr>\n",
       "  </thead>\n",
       "  <tbody>\n",
       "    <tr>\n",
       "      <td>2019-01-01</td>\n",
       "      <td>0.393337</td>\n",
       "      <td>0.189602</td>\n",
       "      <td>0.319923</td>\n",
       "      <td>2.643076</td>\n",
       "      <td>0</td>\n",
       "    </tr>\n",
       "    <tr>\n",
       "      <td>2019-01-02</td>\n",
       "      <td>-0.675510</td>\n",
       "      <td>-1.008091</td>\n",
       "      <td>1.126024</td>\n",
       "      <td>-1.134150</td>\n",
       "      <td>1</td>\n",
       "    </tr>\n",
       "    <tr>\n",
       "      <td>2019-01-03</td>\n",
       "      <td>-2.279425</td>\n",
       "      <td>0.938188</td>\n",
       "      <td>-0.248389</td>\n",
       "      <td>-0.561731</td>\n",
       "      <td>2</td>\n",
       "    </tr>\n",
       "    <tr>\n",
       "      <td>2019-01-04</td>\n",
       "      <td>-0.770274</td>\n",
       "      <td>-0.206181</td>\n",
       "      <td>0.261334</td>\n",
       "      <td>1.133988</td>\n",
       "      <td>3</td>\n",
       "    </tr>\n",
       "    <tr>\n",
       "      <td>2019-01-05</td>\n",
       "      <td>1.306699</td>\n",
       "      <td>0.151692</td>\n",
       "      <td>1.682443</td>\n",
       "      <td>-0.706915</td>\n",
       "      <td>4</td>\n",
       "    </tr>\n",
       "    <tr>\n",
       "      <td>2019-01-06</td>\n",
       "      <td>-3.585249</td>\n",
       "      <td>0.692278</td>\n",
       "      <td>0.792287</td>\n",
       "      <td>-0.141272</td>\n",
       "      <td>5</td>\n",
       "    </tr>\n",
       "  </tbody>\n",
       "</table>\n",
       "</div>"
      ],
      "text/plain": [
       "                   A         B         C         D  E\n",
       "2019-01-01  0.393337  0.189602  0.319923  2.643076  0\n",
       "2019-01-02 -0.675510 -1.008091  1.126024 -1.134150  1\n",
       "2019-01-03 -2.279425  0.938188 -0.248389 -0.561731  2\n",
       "2019-01-04 -0.770274 -0.206181  0.261334  1.133988  3\n",
       "2019-01-05  1.306699  0.151692  1.682443 -0.706915  4\n",
       "2019-01-06 -3.585249  0.692278  0.792287 -0.141272  5"
      ]
     },
     "execution_count": 15,
     "metadata": {},
     "output_type": "execute_result"
    }
   ],
   "source": [
    "# Add columne E \n",
    "df['E'] = pd.Series(np.arange(6),index=df.index)\n",
    "df"
   ]
  },
  {
   "cell_type": "code",
   "execution_count": 16,
   "metadata": {
    "colab": {
     "base_uri": "https://localhost:8080/",
     "height": 121
    },
    "colab_type": "code",
    "executionInfo": {
     "elapsed": 900,
     "status": "ok",
     "timestamp": 1573022045573,
     "user": {
      "displayName": "‍최상범[ 부교수 / 통계학과 ]",
      "photoUrl": "",
      "userId": "04920731355532988232"
     },
     "user_tz": -540
    },
    "id": "s_FmvlxNa4Qv",
    "outputId": "e862b139-8242-4669-a04c-48d880a31788"
   },
   "outputs": [
    {
     "data": {
      "text/plain": [
       "array([[ 0.39333684,  0.18960187,  0.3199233 ,  2.64307562,  0.        ],\n",
       "       [-0.67551008, -1.00809092,  1.1260238 , -1.13415023,  1.        ],\n",
       "       [-2.27942493,  0.93818772, -0.24838856, -0.56173118,  2.        ],\n",
       "       [-0.77027357, -0.20618135,  0.26133412,  1.13398835,  3.        ],\n",
       "       [ 1.30669931,  0.15169238,  1.68244282, -0.7069151 ,  4.        ],\n",
       "       [-3.58524867,  0.69227788,  0.79228706, -0.1412721 ,  5.        ]])"
      ]
     },
     "execution_count": 16,
     "metadata": {},
     "output_type": "execute_result"
    }
   ],
   "source": [
    "df.values"
   ]
  },
  {
   "cell_type": "code",
   "execution_count": 17,
   "metadata": {
    "colab": {
     "base_uri": "https://localhost:8080/",
     "height": 300
    },
    "colab_type": "code",
    "executionInfo": {
     "elapsed": 773,
     "status": "ok",
     "timestamp": 1573455347593,
     "user": {
      "displayName": "‍최상범[ 부교수 / 통계학과 ]",
      "photoUrl": "",
      "userId": "04920731355532988232"
     },
     "user_tz": -540
    },
    "id": "ZZAJd3wVMn3b",
    "outputId": "e28b478d-b549-4fd6-fa14-fcbe564b8310"
   },
   "outputs": [
    {
     "data": {
      "text/html": [
       "<div>\n",
       "<style scoped>\n",
       "    .dataframe tbody tr th:only-of-type {\n",
       "        vertical-align: middle;\n",
       "    }\n",
       "\n",
       "    .dataframe tbody tr th {\n",
       "        vertical-align: top;\n",
       "    }\n",
       "\n",
       "    .dataframe thead th {\n",
       "        text-align: right;\n",
       "    }\n",
       "</style>\n",
       "<table border=\"1\" class=\"dataframe\">\n",
       "  <thead>\n",
       "    <tr style=\"text-align: right;\">\n",
       "      <th></th>\n",
       "      <th>A</th>\n",
       "      <th>B</th>\n",
       "      <th>C</th>\n",
       "      <th>D</th>\n",
       "      <th>E</th>\n",
       "    </tr>\n",
       "  </thead>\n",
       "  <tbody>\n",
       "    <tr>\n",
       "      <td>count</td>\n",
       "      <td>6.000000</td>\n",
       "      <td>6.000000</td>\n",
       "      <td>6.000000</td>\n",
       "      <td>6.000000</td>\n",
       "      <td>6.000000</td>\n",
       "    </tr>\n",
       "    <tr>\n",
       "      <td>mean</td>\n",
       "      <td>-0.935070</td>\n",
       "      <td>0.126248</td>\n",
       "      <td>0.655604</td>\n",
       "      <td>0.205499</td>\n",
       "      <td>2.500000</td>\n",
       "    </tr>\n",
       "    <tr>\n",
       "      <td>std</td>\n",
       "      <td>1.772877</td>\n",
       "      <td>0.690149</td>\n",
       "      <td>0.689885</td>\n",
       "      <td>1.424073</td>\n",
       "      <td>1.870829</td>\n",
       "    </tr>\n",
       "    <tr>\n",
       "      <td>min</td>\n",
       "      <td>-3.585249</td>\n",
       "      <td>-1.008091</td>\n",
       "      <td>-0.248389</td>\n",
       "      <td>-1.134150</td>\n",
       "      <td>0.000000</td>\n",
       "    </tr>\n",
       "    <tr>\n",
       "      <td>25%</td>\n",
       "      <td>-1.902137</td>\n",
       "      <td>-0.116713</td>\n",
       "      <td>0.275981</td>\n",
       "      <td>-0.670619</td>\n",
       "      <td>1.250000</td>\n",
       "    </tr>\n",
       "    <tr>\n",
       "      <td>50%</td>\n",
       "      <td>-0.722892</td>\n",
       "      <td>0.170647</td>\n",
       "      <td>0.556105</td>\n",
       "      <td>-0.351502</td>\n",
       "      <td>2.500000</td>\n",
       "    </tr>\n",
       "    <tr>\n",
       "      <td>75%</td>\n",
       "      <td>0.126125</td>\n",
       "      <td>0.566609</td>\n",
       "      <td>1.042590</td>\n",
       "      <td>0.815173</td>\n",
       "      <td>3.750000</td>\n",
       "    </tr>\n",
       "    <tr>\n",
       "      <td>max</td>\n",
       "      <td>1.306699</td>\n",
       "      <td>0.938188</td>\n",
       "      <td>1.682443</td>\n",
       "      <td>2.643076</td>\n",
       "      <td>5.000000</td>\n",
       "    </tr>\n",
       "  </tbody>\n",
       "</table>\n",
       "</div>"
      ],
      "text/plain": [
       "              A         B         C         D         E\n",
       "count  6.000000  6.000000  6.000000  6.000000  6.000000\n",
       "mean  -0.935070  0.126248  0.655604  0.205499  2.500000\n",
       "std    1.772877  0.690149  0.689885  1.424073  1.870829\n",
       "min   -3.585249 -1.008091 -0.248389 -1.134150  0.000000\n",
       "25%   -1.902137 -0.116713  0.275981 -0.670619  1.250000\n",
       "50%   -0.722892  0.170647  0.556105 -0.351502  2.500000\n",
       "75%    0.126125  0.566609  1.042590  0.815173  3.750000\n",
       "max    1.306699  0.938188  1.682443  2.643076  5.000000"
      ]
     },
     "execution_count": 17,
     "metadata": {},
     "output_type": "execute_result"
    }
   ],
   "source": [
    "# describe() shows a quick statistic summary of your data:\n",
    "df.describe()"
   ]
  },
  {
   "cell_type": "markdown",
   "metadata": {
    "colab_type": "text",
    "id": "PmHgci5_kJC_"
   },
   "source": [
    "### 1.3 Getting Data In/Out"
   ]
  },
  {
   "cell_type": "markdown",
   "metadata": {},
   "source": [
    "1. write data\n",
    "\n",
    "    - 엑셀파일 : `.to_excel(path,sheet_name='data')`\n",
    "    - csv 파일 : `.to_csv(path)`\n",
    "    \n",
    "    \n",
    "    \n",
    "    \n",
    "2. read data <br>\n",
    "    `pd.read_excel(path,sheet_name='data', index_col=0, header=0)`\n",
    "    \n",
    "    - `index_col=` : **0**은 첫 열을 인덱스로 하겠다/**None**은 인덱스 없다\n",
    "    - `header=` : **0**은 첫 행을 column name으로 하겠다/**None**은 header 없다.\n",
    "    - 마찬가지로 `.read_csv( )` 사용가능\n",
    "    \n",
    "    \n",
    "    \n",
    "    \n",
    "3. 행이름(인덱스)와 열이름 제거하기\n",
    "    \n",
    "    - 인덱스 삭제 : `.reset_index(drop=True)`\n",
    "    - 열이름 삭제 : `.T.reset_index(drop=True).T`\n",
    "    - 값만 보기 : `.values`\n",
    "   \n",
    "   "
   ]
  },
  {
   "cell_type": "code",
   "execution_count": 117,
   "metadata": {
    "colab": {
     "base_uri": "https://localhost:8080/",
     "height": 129
    },
    "colab_type": "code",
    "executionInfo": {
     "elapsed": 24898,
     "status": "ok",
     "timestamp": 1573476262713,
     "user": {
      "displayName": "‍최상범[ 부교수 / 통계학과 ]",
      "photoUrl": "",
      "userId": "04920731355532988232"
     },
     "user_tz": -540
    },
    "id": "FF7WMr4ckoBE",
    "outputId": "58be83ee-fb18-4e45-fc3b-b33f55ed712d"
   },
   "outputs": [
    {
     "name": "stdout",
     "output_type": "stream",
     "text": [
      "Go to this URL in a browser: https://accounts.google.com/o/oauth2/auth?client_id=947318989803-6bn6qk8qdgf4n4g3pfee6491hc0brc4i.apps.googleusercontent.com&redirect_uri=urn%3Aietf%3Awg%3Aoauth%3A2.0%3Aoob&scope=email%20https%3A%2F%2Fwww.googleapis.com%2Fauth%2Fdocs.test%20https%3A%2F%2Fwww.googleapis.com%2Fauth%2Fdrive%20https%3A%2F%2Fwww.googleapis.com%2Fauth%2Fdrive.photos.readonly%20https%3A%2F%2Fwww.googleapis.com%2Fauth%2Fpeopleapi.readonly&response_type=code\n",
      "\n",
      "Enter your authorization code:\n",
      "··········\n",
      "Mounted at /content/drive\n"
     ]
    }
   ],
   "source": [
    "from google.colab import drive\n",
    "drive.mount('/content/drive')"
   ]
  },
  {
   "cell_type": "code",
   "execution_count": 118,
   "metadata": {
    "colab": {
     "base_uri": "https://localhost:8080/",
     "height": 35
    },
    "colab_type": "code",
    "executionInfo": {
     "elapsed": 2885,
     "status": "ok",
     "timestamp": 1573476277393,
     "user": {
      "displayName": "‍최상범[ 부교수 / 통계학과 ]",
      "photoUrl": "",
      "userId": "04920731355532988232"
     },
     "user_tz": -540
    },
    "id": "4S0-dxTAlFPN",
    "outputId": "7bd32a74-eac8-499c-c8f2-dae9d50cce29"
   },
   "outputs": [
    {
     "name": "stdout",
     "output_type": "stream",
     "text": [
      "/content\n"
     ]
    }
   ],
   "source": [
    "!pwd"
   ]
  },
  {
   "cell_type": "code",
   "execution_count": 119,
   "metadata": {
    "colab": {
     "base_uri": "https://localhost:8080/",
     "height": 35
    },
    "colab_type": "code",
    "executionInfo": {
     "elapsed": 813,
     "status": "ok",
     "timestamp": 1573476282499,
     "user": {
      "displayName": "‍최상범[ 부교수 / 통계학과 ]",
      "photoUrl": "",
      "userId": "04920731355532988232"
     },
     "user_tz": -540
    },
    "id": "hIprihxzk3mP",
    "outputId": "508386da-53b3-41ed-99e9-b49240356390"
   },
   "outputs": [
    {
     "name": "stdout",
     "output_type": "stream",
     "text": [
      "/content/drive/My Drive/Data\n"
     ]
    }
   ],
   "source": [
    "%cd /content/drive/My Drive/Data"
   ]
  },
  {
   "cell_type": "code",
   "execution_count": 46,
   "metadata": {
    "colab": {
     "base_uri": "https://localhost:8080/",
     "height": 238
    },
    "colab_type": "code",
    "executionInfo": {
     "elapsed": 759,
     "status": "ok",
     "timestamp": 1573476291343,
     "user": {
      "displayName": "‍최상범[ 부교수 / 통계학과 ]",
      "photoUrl": "",
      "userId": "04920731355532988232"
     },
     "user_tz": -540
    },
    "id": "M5d4jBFSkOFu",
    "outputId": "7f0e49cf-a089-47c1-d6ff-18376c6aff9a"
   },
   "outputs": [
    {
     "data": {
      "text/html": [
       "<div>\n",
       "<style scoped>\n",
       "    .dataframe tbody tr th:only-of-type {\n",
       "        vertical-align: middle;\n",
       "    }\n",
       "\n",
       "    .dataframe tbody tr th {\n",
       "        vertical-align: top;\n",
       "    }\n",
       "\n",
       "    .dataframe thead th {\n",
       "        text-align: right;\n",
       "    }\n",
       "</style>\n",
       "<table border=\"1\" class=\"dataframe\">\n",
       "  <thead>\n",
       "    <tr style=\"text-align: right;\">\n",
       "      <th></th>\n",
       "      <th>A</th>\n",
       "      <th>B</th>\n",
       "      <th>C</th>\n",
       "      <th>D</th>\n",
       "    </tr>\n",
       "  </thead>\n",
       "  <tbody>\n",
       "    <tr>\n",
       "      <td>2019-01-01</td>\n",
       "      <td>0.100993</td>\n",
       "      <td>0.403549</td>\n",
       "      <td>-1.681866</td>\n",
       "      <td>-0.938574</td>\n",
       "    </tr>\n",
       "    <tr>\n",
       "      <td>2019-01-02</td>\n",
       "      <td>0.936760</td>\n",
       "      <td>-0.714129</td>\n",
       "      <td>0.571850</td>\n",
       "      <td>1.267326</td>\n",
       "    </tr>\n",
       "    <tr>\n",
       "      <td>2019-01-03</td>\n",
       "      <td>-1.192585</td>\n",
       "      <td>0.694835</td>\n",
       "      <td>-1.932788</td>\n",
       "      <td>1.934869</td>\n",
       "    </tr>\n",
       "    <tr>\n",
       "      <td>2019-01-04</td>\n",
       "      <td>0.131231</td>\n",
       "      <td>1.270200</td>\n",
       "      <td>0.183235</td>\n",
       "      <td>0.574098</td>\n",
       "    </tr>\n",
       "    <tr>\n",
       "      <td>2019-01-05</td>\n",
       "      <td>-0.250669</td>\n",
       "      <td>-0.508907</td>\n",
       "      <td>0.595792</td>\n",
       "      <td>0.527211</td>\n",
       "    </tr>\n",
       "    <tr>\n",
       "      <td>2019-01-06</td>\n",
       "      <td>-0.540293</td>\n",
       "      <td>-1.666321</td>\n",
       "      <td>0.275150</td>\n",
       "      <td>1.674158</td>\n",
       "    </tr>\n",
       "  </tbody>\n",
       "</table>\n",
       "</div>"
      ],
      "text/plain": [
       "                   A         B         C         D\n",
       "2019-01-01  0.100993  0.403549 -1.681866 -0.938574\n",
       "2019-01-02  0.936760 -0.714129  0.571850  1.267326\n",
       "2019-01-03 -1.192585  0.694835 -1.932788  1.934869\n",
       "2019-01-04  0.131231  1.270200  0.183235  0.574098\n",
       "2019-01-05 -0.250669 -0.508907  0.595792  0.527211\n",
       "2019-01-06 -0.540293 -1.666321  0.275150  1.674158"
      ]
     },
     "execution_count": 46,
     "metadata": {},
     "output_type": "execute_result"
    }
   ],
   "source": [
    "dates = pd.date_range('20190101', periods=6)\n",
    "data = pd.DataFrame(np.random.randn(6,4), index=dates, columns=list('ABCD'))\n",
    "data"
   ]
  },
  {
   "cell_type": "code",
   "execution_count": 47,
   "metadata": {
    "colab": {},
    "colab_type": "code",
    "id": "njgJHKTVki2t"
   },
   "outputs": [],
   "source": [
    "# Writing your csv file:\n",
    "data.to_csv(\"foo.csv\")"
   ]
  },
  {
   "cell_type": "code",
   "execution_count": 48,
   "metadata": {
    "colab": {
     "base_uri": "https://localhost:8080/",
     "height": 238
    },
    "colab_type": "code",
    "executionInfo": {
     "elapsed": 691,
     "status": "ok",
     "timestamp": 1573476306202,
     "user": {
      "displayName": "‍최상범[ 부교수 / 통계학과 ]",
      "photoUrl": "",
      "userId": "04920731355532988232"
     },
     "user_tz": -540
    },
    "id": "Y32b1YrBrRNC",
    "outputId": "98c6c623-f565-471c-943e-da1c28341149"
   },
   "outputs": [
    {
     "data": {
      "text/html": [
       "<div>\n",
       "<style scoped>\n",
       "    .dataframe tbody tr th:only-of-type {\n",
       "        vertical-align: middle;\n",
       "    }\n",
       "\n",
       "    .dataframe tbody tr th {\n",
       "        vertical-align: top;\n",
       "    }\n",
       "\n",
       "    .dataframe thead th {\n",
       "        text-align: right;\n",
       "    }\n",
       "</style>\n",
       "<table border=\"1\" class=\"dataframe\">\n",
       "  <thead>\n",
       "    <tr style=\"text-align: right;\">\n",
       "      <th></th>\n",
       "      <th>A</th>\n",
       "      <th>B</th>\n",
       "      <th>C</th>\n",
       "      <th>D</th>\n",
       "    </tr>\n",
       "  </thead>\n",
       "  <tbody>\n",
       "    <tr>\n",
       "      <td>2019-01-01</td>\n",
       "      <td>0.100993</td>\n",
       "      <td>0.403549</td>\n",
       "      <td>-1.681866</td>\n",
       "      <td>-0.938574</td>\n",
       "    </tr>\n",
       "    <tr>\n",
       "      <td>2019-01-02</td>\n",
       "      <td>0.936760</td>\n",
       "      <td>-0.714129</td>\n",
       "      <td>0.571850</td>\n",
       "      <td>1.267326</td>\n",
       "    </tr>\n",
       "    <tr>\n",
       "      <td>2019-01-03</td>\n",
       "      <td>-1.192585</td>\n",
       "      <td>0.694835</td>\n",
       "      <td>-1.932788</td>\n",
       "      <td>1.934869</td>\n",
       "    </tr>\n",
       "    <tr>\n",
       "      <td>2019-01-04</td>\n",
       "      <td>0.131231</td>\n",
       "      <td>1.270200</td>\n",
       "      <td>0.183235</td>\n",
       "      <td>0.574098</td>\n",
       "    </tr>\n",
       "    <tr>\n",
       "      <td>2019-01-05</td>\n",
       "      <td>-0.250669</td>\n",
       "      <td>-0.508907</td>\n",
       "      <td>0.595792</td>\n",
       "      <td>0.527211</td>\n",
       "    </tr>\n",
       "    <tr>\n",
       "      <td>2019-01-06</td>\n",
       "      <td>-0.540293</td>\n",
       "      <td>-1.666321</td>\n",
       "      <td>0.275150</td>\n",
       "      <td>1.674158</td>\n",
       "    </tr>\n",
       "  </tbody>\n",
       "</table>\n",
       "</div>"
      ],
      "text/plain": [
       "                   A         B         C         D\n",
       "2019-01-01  0.100993  0.403549 -1.681866 -0.938574\n",
       "2019-01-02  0.936760 -0.714129  0.571850  1.267326\n",
       "2019-01-03 -1.192585  0.694835 -1.932788  1.934869\n",
       "2019-01-04  0.131231  1.270200  0.183235  0.574098\n",
       "2019-01-05 -0.250669 -0.508907  0.595792  0.527211\n",
       "2019-01-06 -0.540293 -1.666321  0.275150  1.674158"
      ]
     },
     "execution_count": 48,
     "metadata": {},
     "output_type": "execute_result"
    }
   ],
   "source": [
    "# Reading from a csv file in my drive:\n",
    "data2 = pd.read_csv(\"foo.csv\",index_col=0)\n",
    "data2"
   ]
  },
  {
   "cell_type": "code",
   "execution_count": 51,
   "metadata": {
    "colab": {},
    "colab_type": "code",
    "id": "M7aD2IthrYct"
   },
   "outputs": [],
   "source": [
    "# Wring to an excel file:\n",
    "data.to_excel(\"foo.xlsx\",sheet_name='Sheet1')"
   ]
  },
  {
   "cell_type": "code",
   "execution_count": 54,
   "metadata": {
    "colab": {
     "base_uri": "https://localhost:8080/",
     "height": 238
    },
    "colab_type": "code",
    "executionInfo": {
     "elapsed": 669,
     "status": "ok",
     "timestamp": 1573476315209,
     "user": {
      "displayName": "‍최상범[ 부교수 / 통계학과 ]",
      "photoUrl": "",
      "userId": "04920731355532988232"
     },
     "user_tz": -540
    },
    "id": "AQm3obgbsmHz",
    "outputId": "0b262491-bc82-4705-a829-d90a6208c259"
   },
   "outputs": [
    {
     "data": {
      "text/html": [
       "<div>\n",
       "<style scoped>\n",
       "    .dataframe tbody tr th:only-of-type {\n",
       "        vertical-align: middle;\n",
       "    }\n",
       "\n",
       "    .dataframe tbody tr th {\n",
       "        vertical-align: top;\n",
       "    }\n",
       "\n",
       "    .dataframe thead th {\n",
       "        text-align: right;\n",
       "    }\n",
       "</style>\n",
       "<table border=\"1\" class=\"dataframe\">\n",
       "  <thead>\n",
       "    <tr style=\"text-align: right;\">\n",
       "      <th></th>\n",
       "      <th>A</th>\n",
       "      <th>B</th>\n",
       "      <th>C</th>\n",
       "      <th>D</th>\n",
       "    </tr>\n",
       "  </thead>\n",
       "  <tbody>\n",
       "    <tr>\n",
       "      <td>2019-01-01</td>\n",
       "      <td>0.100993</td>\n",
       "      <td>0.403549</td>\n",
       "      <td>-1.681866</td>\n",
       "      <td>-0.938574</td>\n",
       "    </tr>\n",
       "    <tr>\n",
       "      <td>2019-01-02</td>\n",
       "      <td>0.936760</td>\n",
       "      <td>-0.714129</td>\n",
       "      <td>0.571850</td>\n",
       "      <td>1.267326</td>\n",
       "    </tr>\n",
       "    <tr>\n",
       "      <td>2019-01-03</td>\n",
       "      <td>-1.192585</td>\n",
       "      <td>0.694835</td>\n",
       "      <td>-1.932788</td>\n",
       "      <td>1.934869</td>\n",
       "    </tr>\n",
       "    <tr>\n",
       "      <td>2019-01-04</td>\n",
       "      <td>0.131231</td>\n",
       "      <td>1.270200</td>\n",
       "      <td>0.183235</td>\n",
       "      <td>0.574098</td>\n",
       "    </tr>\n",
       "    <tr>\n",
       "      <td>2019-01-05</td>\n",
       "      <td>-0.250669</td>\n",
       "      <td>-0.508907</td>\n",
       "      <td>0.595792</td>\n",
       "      <td>0.527211</td>\n",
       "    </tr>\n",
       "    <tr>\n",
       "      <td>2019-01-06</td>\n",
       "      <td>-0.540293</td>\n",
       "      <td>-1.666321</td>\n",
       "      <td>0.275150</td>\n",
       "      <td>1.674158</td>\n",
       "    </tr>\n",
       "  </tbody>\n",
       "</table>\n",
       "</div>"
      ],
      "text/plain": [
       "                   A         B         C         D\n",
       "2019-01-01  0.100993  0.403549 -1.681866 -0.938574\n",
       "2019-01-02  0.936760 -0.714129  0.571850  1.267326\n",
       "2019-01-03 -1.192585  0.694835 -1.932788  1.934869\n",
       "2019-01-04  0.131231  1.270200  0.183235  0.574098\n",
       "2019-01-05 -0.250669 -0.508907  0.595792  0.527211\n",
       "2019-01-06 -0.540293 -1.666321  0.275150  1.674158"
      ]
     },
     "execution_count": 54,
     "metadata": {},
     "output_type": "execute_result"
    }
   ],
   "source": [
    "# Reading from an excel file:\n",
    "data3 = pd.read_excel('foo.xlsx','Sheet1',index_col=0)\n",
    "data3"
   ]
  },
  {
   "cell_type": "markdown",
   "metadata": {},
   "source": [
    "---"
   ]
  },
  {
   "cell_type": "markdown",
   "metadata": {
    "colab_type": "text",
    "id": "lXmWKOX-OkPr"
   },
   "source": [
    "## 2. Basic Operations\n",
    "### 2.1 Data Indexing and Selection"
   ]
  },
  {
   "cell_type": "markdown",
   "metadata": {
    "colab_type": "text",
    "id": "7gnCOvPsNc9e"
   },
   "source": [
    "* **Selection**: 이 방법으로는 **행, 열 모두** 선택하는 건 불가능하다. \n",
    "    - `df['A']` : Selecting **a single column**, which yields a Series, equivalent to `df.A`\n",
    "    - `df[0:2]` : Selecting via `[]`, which **slices the rows**.\n",
    "    \n",
    "- **Selection by label(index 및 column이름을 이용):** `.loc[row, column]`\n",
    "    - `df.loc[:,['A','C']]` : A, C만 뽑고 싶을 때\n",
    "    - `df.loc[:,'A':'C']` : A부터 C까지 뽑고 싶을 때\n",
    "* **Selection by position(상대적 위치를 이용):** `iloc[]`\n",
    "    - e.g. `df.iloc[2:4,0:3]`\n",
    "    \n",
    "- **Boolean indexing**\n",
    "    - expression이 참을 return하는 **row**만 return : `df[(df.A>0) & (df.E<4)]`\n",
    "    - expression이 참을 return하는 **cell**만 return : `df[df>0]`(참이 아닌 cell은 **NaN**)\n",
    "    - expression이 참을 return하는 **row**만 return : \n",
    "        ```\n",
    "        ind = df2['F'].isin(['one'])\n",
    "        df2[ind]\n",
    "        ```\n",
    "        - cf. `isin()`: 포함하면 `True` return\n",
    "        \n",
    "- **특정 셀 가져오기**\n",
    "    - `df.at[dates[0],'G'] = -1` : **at**은 row, column 명으로 \n",
    "    - `df.iat[1,5] = np.nan` : **iat**은 상대적 위치로\n",
    "        - cf. `np.nan` : NaN 생성"
   ]
  },
  {
   "cell_type": "markdown",
   "metadata": {},
   "source": [
    "* 특정 colum 가져오기 : `data[   ]`, `data[[  ,  ]]`(여러개도 가능)\n",
    "* 특정 열에 한한 통계갑 도출 가능 : `data[  ].min()`\n",
    "* 특정 행 가져오기 : `data.loc[  ]`, `data.iloc[  ]`\n",
    "* 특정 행과 열을 가져오기 : `data.loc[ , ]`, `data.iloc[ , ]`\n",
    "* 특정 셀 가져오기 : `data.at[  ,  ]`, `data.iat[  ,  ]`"
   ]
  },
  {
   "cell_type": "code",
   "execution_count": 18,
   "metadata": {
    "colab": {
     "base_uri": "https://localhost:8080/",
     "height": 146
    },
    "colab_type": "code",
    "executionInfo": {
     "elapsed": 687,
     "status": "ok",
     "timestamp": 1573473006257,
     "user": {
      "displayName": "‍최상범[ 부교수 / 통계학과 ]",
      "photoUrl": "",
      "userId": "04920731355532988232"
     },
     "user_tz": -540
    },
    "id": "OAosP-QQNlCf",
    "outputId": "9279f323-80c9-49df-a0a3-d70d4891ea89"
   },
   "outputs": [
    {
     "data": {
      "text/plain": [
       "2019-01-01    0.393337\n",
       "2019-01-02   -0.675510\n",
       "2019-01-03   -2.279425\n",
       "2019-01-04   -0.770274\n",
       "2019-01-05    1.306699\n",
       "2019-01-06   -3.585249\n",
       "Freq: D, Name: A, dtype: float64"
      ]
     },
     "execution_count": 18,
     "metadata": {},
     "output_type": "execute_result"
    }
   ],
   "source": [
    "# Selecting a single column, which yields a Series, equivalent to df.A:\n",
    "df['A']\n",
    "# df.A"
   ]
  },
  {
   "cell_type": "code",
   "execution_count": 19,
   "metadata": {
    "colab": {
     "base_uri": "https://localhost:8080/",
     "height": 112
    },
    "colab_type": "code",
    "executionInfo": {
     "elapsed": 670,
     "status": "ok",
     "timestamp": 1573473009155,
     "user": {
      "displayName": "‍최상범[ 부교수 / 통계학과 ]",
      "photoUrl": "",
      "userId": "04920731355532988232"
     },
     "user_tz": -540
    },
    "id": "MgPBM8tuNszl",
    "outputId": "d6f7abe1-6582-431a-ed13-5cd2e876e635"
   },
   "outputs": [
    {
     "data": {
      "text/html": [
       "<div>\n",
       "<style scoped>\n",
       "    .dataframe tbody tr th:only-of-type {\n",
       "        vertical-align: middle;\n",
       "    }\n",
       "\n",
       "    .dataframe tbody tr th {\n",
       "        vertical-align: top;\n",
       "    }\n",
       "\n",
       "    .dataframe thead th {\n",
       "        text-align: right;\n",
       "    }\n",
       "</style>\n",
       "<table border=\"1\" class=\"dataframe\">\n",
       "  <thead>\n",
       "    <tr style=\"text-align: right;\">\n",
       "      <th></th>\n",
       "      <th>A</th>\n",
       "      <th>B</th>\n",
       "      <th>C</th>\n",
       "      <th>D</th>\n",
       "      <th>E</th>\n",
       "    </tr>\n",
       "  </thead>\n",
       "  <tbody>\n",
       "    <tr>\n",
       "      <td>2019-01-01</td>\n",
       "      <td>0.393337</td>\n",
       "      <td>0.189602</td>\n",
       "      <td>0.319923</td>\n",
       "      <td>2.643076</td>\n",
       "      <td>0</td>\n",
       "    </tr>\n",
       "    <tr>\n",
       "      <td>2019-01-02</td>\n",
       "      <td>-0.675510</td>\n",
       "      <td>-1.008091</td>\n",
       "      <td>1.126024</td>\n",
       "      <td>-1.134150</td>\n",
       "      <td>1</td>\n",
       "    </tr>\n",
       "  </tbody>\n",
       "</table>\n",
       "</div>"
      ],
      "text/plain": [
       "                   A         B         C         D  E\n",
       "2019-01-01  0.393337  0.189602  0.319923  2.643076  0\n",
       "2019-01-02 -0.675510 -1.008091  1.126024 -1.134150  1"
      ]
     },
     "execution_count": 19,
     "metadata": {},
     "output_type": "execute_result"
    }
   ],
   "source": [
    "# Selecting via [], which slices the rows.\n",
    "df[0:2]"
   ]
  },
  {
   "cell_type": "code",
   "execution_count": 20,
   "metadata": {
    "colab": {
     "base_uri": "https://localhost:8080/",
     "height": 127
    },
    "colab_type": "code",
    "executionInfo": {
     "elapsed": 671,
     "status": "ok",
     "timestamp": 1573473014082,
     "user": {
      "displayName": "‍최상범[ 부교수 / 통계학과 ]",
      "photoUrl": "",
      "userId": "04920731355532988232"
     },
     "user_tz": -540
    },
    "id": "N6BE6FCdOIQX",
    "outputId": "49f6bb59-b8a1-4dba-b381-f8941e3f5a69"
   },
   "outputs": [
    {
     "data": {
      "text/plain": [
       "A    0.393337\n",
       "B    0.189602\n",
       "C    0.319923\n",
       "D    2.643076\n",
       "E    0.000000\n",
       "Name: 2019-01-01 00:00:00, dtype: float64"
      ]
     },
     "execution_count": 20,
     "metadata": {},
     "output_type": "execute_result"
    }
   ],
   "source": [
    "# For getting a cross section using a label:\n",
    "df.loc[dates[0]]"
   ]
  },
  {
   "cell_type": "code",
   "execution_count": 21,
   "metadata": {
    "colab": {
     "base_uri": "https://localhost:8080/",
     "height": 238
    },
    "colab_type": "code",
    "executionInfo": {
     "elapsed": 707,
     "status": "ok",
     "timestamp": 1573473016764,
     "user": {
      "displayName": "‍최상범[ 부교수 / 통계학과 ]",
      "photoUrl": "",
      "userId": "04920731355532988232"
     },
     "user_tz": -540
    },
    "id": "kMjpQIyoOW4O",
    "outputId": "d1436a0b-b7f0-47a1-fe93-221e83b963de"
   },
   "outputs": [
    {
     "data": {
      "text/html": [
       "<div>\n",
       "<style scoped>\n",
       "    .dataframe tbody tr th:only-of-type {\n",
       "        vertical-align: middle;\n",
       "    }\n",
       "\n",
       "    .dataframe tbody tr th {\n",
       "        vertical-align: top;\n",
       "    }\n",
       "\n",
       "    .dataframe thead th {\n",
       "        text-align: right;\n",
       "    }\n",
       "</style>\n",
       "<table border=\"1\" class=\"dataframe\">\n",
       "  <thead>\n",
       "    <tr style=\"text-align: right;\">\n",
       "      <th></th>\n",
       "      <th>A</th>\n",
       "      <th>C</th>\n",
       "    </tr>\n",
       "  </thead>\n",
       "  <tbody>\n",
       "    <tr>\n",
       "      <td>2019-01-01</td>\n",
       "      <td>0.393337</td>\n",
       "      <td>0.319923</td>\n",
       "    </tr>\n",
       "    <tr>\n",
       "      <td>2019-01-02</td>\n",
       "      <td>-0.675510</td>\n",
       "      <td>1.126024</td>\n",
       "    </tr>\n",
       "    <tr>\n",
       "      <td>2019-01-03</td>\n",
       "      <td>-2.279425</td>\n",
       "      <td>-0.248389</td>\n",
       "    </tr>\n",
       "    <tr>\n",
       "      <td>2019-01-04</td>\n",
       "      <td>-0.770274</td>\n",
       "      <td>0.261334</td>\n",
       "    </tr>\n",
       "    <tr>\n",
       "      <td>2019-01-05</td>\n",
       "      <td>1.306699</td>\n",
       "      <td>1.682443</td>\n",
       "    </tr>\n",
       "    <tr>\n",
       "      <td>2019-01-06</td>\n",
       "      <td>-3.585249</td>\n",
       "      <td>0.792287</td>\n",
       "    </tr>\n",
       "  </tbody>\n",
       "</table>\n",
       "</div>"
      ],
      "text/plain": [
       "                   A         C\n",
       "2019-01-01  0.393337  0.319923\n",
       "2019-01-02 -0.675510  1.126024\n",
       "2019-01-03 -2.279425 -0.248389\n",
       "2019-01-04 -0.770274  0.261334\n",
       "2019-01-05  1.306699  1.682443\n",
       "2019-01-06 -3.585249  0.792287"
      ]
     },
     "execution_count": 21,
     "metadata": {},
     "output_type": "execute_result"
    }
   ],
   "source": [
    "# For getting a cross section using a label:\n",
    "df.loc[:,['A','C']]"
   ]
  },
  {
   "cell_type": "code",
   "execution_count": 22,
   "metadata": {
    "colab": {
     "base_uri": "https://localhost:8080/",
     "height": 238
    },
    "colab_type": "code",
    "executionInfo": {
     "elapsed": 806,
     "status": "ok",
     "timestamp": 1573473120187,
     "user": {
      "displayName": "‍최상범[ 부교수 / 통계학과 ]",
      "photoUrl": "",
      "userId": "04920731355532988232"
     },
     "user_tz": -540
    },
    "id": "eMtvqMTQQbIK",
    "outputId": "b0e729fd-6a90-479c-d255-ec57443e0749"
   },
   "outputs": [
    {
     "data": {
      "text/html": [
       "<div>\n",
       "<style scoped>\n",
       "    .dataframe tbody tr th:only-of-type {\n",
       "        vertical-align: middle;\n",
       "    }\n",
       "\n",
       "    .dataframe tbody tr th {\n",
       "        vertical-align: top;\n",
       "    }\n",
       "\n",
       "    .dataframe thead th {\n",
       "        text-align: right;\n",
       "    }\n",
       "</style>\n",
       "<table border=\"1\" class=\"dataframe\">\n",
       "  <thead>\n",
       "    <tr style=\"text-align: right;\">\n",
       "      <th></th>\n",
       "      <th>A</th>\n",
       "      <th>B</th>\n",
       "      <th>C</th>\n",
       "    </tr>\n",
       "  </thead>\n",
       "  <tbody>\n",
       "    <tr>\n",
       "      <td>2019-01-01</td>\n",
       "      <td>0.393337</td>\n",
       "      <td>0.189602</td>\n",
       "      <td>0.319923</td>\n",
       "    </tr>\n",
       "    <tr>\n",
       "      <td>2019-01-02</td>\n",
       "      <td>-0.675510</td>\n",
       "      <td>-1.008091</td>\n",
       "      <td>1.126024</td>\n",
       "    </tr>\n",
       "    <tr>\n",
       "      <td>2019-01-03</td>\n",
       "      <td>-2.279425</td>\n",
       "      <td>0.938188</td>\n",
       "      <td>-0.248389</td>\n",
       "    </tr>\n",
       "    <tr>\n",
       "      <td>2019-01-04</td>\n",
       "      <td>-0.770274</td>\n",
       "      <td>-0.206181</td>\n",
       "      <td>0.261334</td>\n",
       "    </tr>\n",
       "    <tr>\n",
       "      <td>2019-01-05</td>\n",
       "      <td>1.306699</td>\n",
       "      <td>0.151692</td>\n",
       "      <td>1.682443</td>\n",
       "    </tr>\n",
       "    <tr>\n",
       "      <td>2019-01-06</td>\n",
       "      <td>-3.585249</td>\n",
       "      <td>0.692278</td>\n",
       "      <td>0.792287</td>\n",
       "    </tr>\n",
       "  </tbody>\n",
       "</table>\n",
       "</div>"
      ],
      "text/plain": [
       "                   A         B         C\n",
       "2019-01-01  0.393337  0.189602  0.319923\n",
       "2019-01-02 -0.675510 -1.008091  1.126024\n",
       "2019-01-03 -2.279425  0.938188 -0.248389\n",
       "2019-01-04 -0.770274 -0.206181  0.261334\n",
       "2019-01-05  1.306699  0.151692  1.682443\n",
       "2019-01-06 -3.585249  0.692278  0.792287"
      ]
     },
     "execution_count": 22,
     "metadata": {},
     "output_type": "execute_result"
    }
   ],
   "source": [
    "df.loc[:,'A':'C']"
   ]
  },
  {
   "cell_type": "code",
   "execution_count": 23,
   "metadata": {
    "colab": {
     "base_uri": "https://localhost:8080/",
     "height": 175
    },
    "colab_type": "code",
    "executionInfo": {
     "elapsed": 730,
     "status": "ok",
     "timestamp": 1573473123719,
     "user": {
      "displayName": "‍최상범[ 부교수 / 통계학과 ]",
      "photoUrl": "",
      "userId": "04920731355532988232"
     },
     "user_tz": -540
    },
    "id": "YKkpomgzOdAD",
    "outputId": "5c9f563c-5740-4b87-bd04-dba1dba1130d"
   },
   "outputs": [
    {
     "data": {
      "text/html": [
       "<div>\n",
       "<style scoped>\n",
       "    .dataframe tbody tr th:only-of-type {\n",
       "        vertical-align: middle;\n",
       "    }\n",
       "\n",
       "    .dataframe tbody tr th {\n",
       "        vertical-align: top;\n",
       "    }\n",
       "\n",
       "    .dataframe thead th {\n",
       "        text-align: right;\n",
       "    }\n",
       "</style>\n",
       "<table border=\"1\" class=\"dataframe\">\n",
       "  <thead>\n",
       "    <tr style=\"text-align: right;\">\n",
       "      <th></th>\n",
       "      <th>A</th>\n",
       "      <th>B</th>\n",
       "      <th>C</th>\n",
       "    </tr>\n",
       "  </thead>\n",
       "  <tbody>\n",
       "    <tr>\n",
       "      <td>2019-01-02</td>\n",
       "      <td>-0.675510</td>\n",
       "      <td>-1.008091</td>\n",
       "      <td>1.126024</td>\n",
       "    </tr>\n",
       "    <tr>\n",
       "      <td>2019-01-03</td>\n",
       "      <td>-2.279425</td>\n",
       "      <td>0.938188</td>\n",
       "      <td>-0.248389</td>\n",
       "    </tr>\n",
       "    <tr>\n",
       "      <td>2019-01-04</td>\n",
       "      <td>-0.770274</td>\n",
       "      <td>-0.206181</td>\n",
       "      <td>0.261334</td>\n",
       "    </tr>\n",
       "    <tr>\n",
       "      <td>2019-01-05</td>\n",
       "      <td>1.306699</td>\n",
       "      <td>0.151692</td>\n",
       "      <td>1.682443</td>\n",
       "    </tr>\n",
       "  </tbody>\n",
       "</table>\n",
       "</div>"
      ],
      "text/plain": [
       "                   A         B         C\n",
       "2019-01-02 -0.675510 -1.008091  1.126024\n",
       "2019-01-03 -2.279425  0.938188 -0.248389\n",
       "2019-01-04 -0.770274 -0.206181  0.261334\n",
       "2019-01-05  1.306699  0.151692  1.682443"
      ]
     },
     "execution_count": 23,
     "metadata": {},
     "output_type": "execute_result"
    }
   ],
   "source": [
    "df.loc['20190102':'20190105','A':'C']"
   ]
  },
  {
   "cell_type": "code",
   "execution_count": 24,
   "metadata": {
    "colab": {
     "base_uri": "https://localhost:8080/",
     "height": 143
    },
    "colab_type": "code",
    "executionInfo": {
     "elapsed": 671,
     "status": "ok",
     "timestamp": 1573473139382,
     "user": {
      "displayName": "‍최상범[ 부교수 / 통계학과 ]",
      "photoUrl": "",
      "userId": "04920731355532988232"
     },
     "user_tz": -540
    },
    "id": "9u6XMZhSOp-p",
    "outputId": "1cd58a7c-3438-4d0f-f565-7b1efaf3964c"
   },
   "outputs": [
    {
     "data": {
      "text/html": [
       "<div>\n",
       "<style scoped>\n",
       "    .dataframe tbody tr th:only-of-type {\n",
       "        vertical-align: middle;\n",
       "    }\n",
       "\n",
       "    .dataframe tbody tr th {\n",
       "        vertical-align: top;\n",
       "    }\n",
       "\n",
       "    .dataframe thead th {\n",
       "        text-align: right;\n",
       "    }\n",
       "</style>\n",
       "<table border=\"1\" class=\"dataframe\">\n",
       "  <thead>\n",
       "    <tr style=\"text-align: right;\">\n",
       "      <th></th>\n",
       "      <th>A</th>\n",
       "      <th>B</th>\n",
       "      <th>C</th>\n",
       "    </tr>\n",
       "  </thead>\n",
       "  <tbody>\n",
       "    <tr>\n",
       "      <td>2019-01-02</td>\n",
       "      <td>-0.675510</td>\n",
       "      <td>-1.008091</td>\n",
       "      <td>1.126024</td>\n",
       "    </tr>\n",
       "    <tr>\n",
       "      <td>2019-01-03</td>\n",
       "      <td>-2.279425</td>\n",
       "      <td>0.938188</td>\n",
       "      <td>-0.248389</td>\n",
       "    </tr>\n",
       "    <tr>\n",
       "      <td>2019-01-04</td>\n",
       "      <td>-0.770274</td>\n",
       "      <td>-0.206181</td>\n",
       "      <td>0.261334</td>\n",
       "    </tr>\n",
       "  </tbody>\n",
       "</table>\n",
       "</div>"
      ],
      "text/plain": [
       "                   A         B         C\n",
       "2019-01-02 -0.675510 -1.008091  1.126024\n",
       "2019-01-03 -2.279425  0.938188 -0.248389\n",
       "2019-01-04 -0.770274 -0.206181  0.261334"
      ]
     },
     "execution_count": 24,
     "metadata": {},
     "output_type": "execute_result"
    }
   ],
   "source": [
    "df.loc[dates[1:4],'A':'C']"
   ]
  },
  {
   "cell_type": "code",
   "execution_count": 25,
   "metadata": {},
   "outputs": [
    {
     "data": {
      "text/plain": [
       "DatetimeIndex(['2019-01-01', '2019-01-02', '2019-01-03', '2019-01-04',\n",
       "               '2019-01-05', '2019-01-06'],\n",
       "              dtype='datetime64[ns]', freq='D')"
      ]
     },
     "execution_count": 25,
     "metadata": {},
     "output_type": "execute_result"
    }
   ],
   "source": [
    "dates"
   ]
  },
  {
   "cell_type": "code",
   "execution_count": 27,
   "metadata": {
    "colab": {
     "base_uri": "https://localhost:8080/",
     "height": 127
    },
    "colab_type": "code",
    "executionInfo": {
     "elapsed": 825,
     "status": "ok",
     "timestamp": 1573473143152,
     "user": {
      "displayName": "‍최상범[ 부교수 / 통계학과 ]",
      "photoUrl": "",
      "userId": "04920731355532988232"
     },
     "user_tz": -540
    },
    "id": "R66JixOrO_YN",
    "outputId": "f527c103-eb10-4ca3-e2ae-7a2de57c54bc"
   },
   "outputs": [
    {
     "data": {
      "text/plain": [
       "A   -0.770274\n",
       "B   -0.206181\n",
       "C    0.261334\n",
       "D    1.133988\n",
       "E    3.000000\n",
       "Name: 2019-01-04 00:00:00, dtype: float64"
      ]
     },
     "execution_count": 27,
     "metadata": {},
     "output_type": "execute_result"
    }
   ],
   "source": [
    "# Select via the position of the passed integers:\n",
    "df.iloc[3]"
   ]
  },
  {
   "cell_type": "code",
   "execution_count": 28,
   "metadata": {
    "colab": {
     "base_uri": "https://localhost:8080/",
     "height": 112
    },
    "colab_type": "code",
    "executionInfo": {
     "elapsed": 863,
     "status": "ok",
     "timestamp": 1573455891260,
     "user": {
      "displayName": "‍최상범[ 부교수 / 통계학과 ]",
      "photoUrl": "",
      "userId": "04920731355532988232"
     },
     "user_tz": -540
    },
    "id": "6CBNNNy1PCBH",
    "outputId": "fb31d6e5-2d45-48cd-d4fc-a71408b130e7"
   },
   "outputs": [
    {
     "data": {
      "text/html": [
       "<div>\n",
       "<style scoped>\n",
       "    .dataframe tbody tr th:only-of-type {\n",
       "        vertical-align: middle;\n",
       "    }\n",
       "\n",
       "    .dataframe tbody tr th {\n",
       "        vertical-align: top;\n",
       "    }\n",
       "\n",
       "    .dataframe thead th {\n",
       "        text-align: right;\n",
       "    }\n",
       "</style>\n",
       "<table border=\"1\" class=\"dataframe\">\n",
       "  <thead>\n",
       "    <tr style=\"text-align: right;\">\n",
       "      <th></th>\n",
       "      <th>A</th>\n",
       "      <th>B</th>\n",
       "      <th>C</th>\n",
       "    </tr>\n",
       "  </thead>\n",
       "  <tbody>\n",
       "    <tr>\n",
       "      <td>2019-01-03</td>\n",
       "      <td>-2.279425</td>\n",
       "      <td>0.938188</td>\n",
       "      <td>-0.248389</td>\n",
       "    </tr>\n",
       "    <tr>\n",
       "      <td>2019-01-04</td>\n",
       "      <td>-0.770274</td>\n",
       "      <td>-0.206181</td>\n",
       "      <td>0.261334</td>\n",
       "    </tr>\n",
       "  </tbody>\n",
       "</table>\n",
       "</div>"
      ],
      "text/plain": [
       "                   A         B         C\n",
       "2019-01-03 -2.279425  0.938188 -0.248389\n",
       "2019-01-04 -0.770274 -0.206181  0.261334"
      ]
     },
     "execution_count": 28,
     "metadata": {},
     "output_type": "execute_result"
    }
   ],
   "source": [
    "df.iloc[2:4,0:3]"
   ]
  },
  {
   "cell_type": "code",
   "execution_count": 29,
   "metadata": {
    "colab": {
     "base_uri": "https://localhost:8080/",
     "height": 112
    },
    "colab_type": "code",
    "executionInfo": {
     "elapsed": 986,
     "status": "ok",
     "timestamp": 1573019032864,
     "user": {
      "displayName": "‍최상범[ 부교수 / 통계학과 ]",
      "photoUrl": "",
      "userId": "04920731355532988232"
     },
     "user_tz": -540
    },
    "id": "6324wBLzPJff",
    "outputId": "35ba2fec-b681-4535-b1f3-d8692def17fa"
   },
   "outputs": [
    {
     "data": {
      "text/html": [
       "<div>\n",
       "<style scoped>\n",
       "    .dataframe tbody tr th:only-of-type {\n",
       "        vertical-align: middle;\n",
       "    }\n",
       "\n",
       "    .dataframe tbody tr th {\n",
       "        vertical-align: top;\n",
       "    }\n",
       "\n",
       "    .dataframe thead th {\n",
       "        text-align: right;\n",
       "    }\n",
       "</style>\n",
       "<table border=\"1\" class=\"dataframe\">\n",
       "  <thead>\n",
       "    <tr style=\"text-align: right;\">\n",
       "      <th></th>\n",
       "      <th>A</th>\n",
       "      <th>B</th>\n",
       "      <th>C</th>\n",
       "      <th>D</th>\n",
       "      <th>E</th>\n",
       "    </tr>\n",
       "  </thead>\n",
       "  <tbody>\n",
       "    <tr>\n",
       "      <td>2019-01-03</td>\n",
       "      <td>-2.279425</td>\n",
       "      <td>0.938188</td>\n",
       "      <td>-0.248389</td>\n",
       "      <td>-0.561731</td>\n",
       "      <td>2</td>\n",
       "    </tr>\n",
       "    <tr>\n",
       "      <td>2019-01-04</td>\n",
       "      <td>-0.770274</td>\n",
       "      <td>-0.206181</td>\n",
       "      <td>0.261334</td>\n",
       "      <td>1.133988</td>\n",
       "      <td>3</td>\n",
       "    </tr>\n",
       "  </tbody>\n",
       "</table>\n",
       "</div>"
      ],
      "text/plain": [
       "                   A         B         C         D  E\n",
       "2019-01-03 -2.279425  0.938188 -0.248389 -0.561731  2\n",
       "2019-01-04 -0.770274 -0.206181  0.261334  1.133988  3"
      ]
     },
     "execution_count": 29,
     "metadata": {},
     "output_type": "execute_result"
    }
   ],
   "source": [
    "df.iloc[2:4,:]"
   ]
  },
  {
   "cell_type": "code",
   "execution_count": 30,
   "metadata": {
    "colab": {
     "base_uri": "https://localhost:8080/",
     "height": 238
    },
    "colab_type": "code",
    "executionInfo": {
     "elapsed": 869,
     "status": "ok",
     "timestamp": 1573019035014,
     "user": {
      "displayName": "‍최상범[ 부교수 / 통계학과 ]",
      "photoUrl": "",
      "userId": "04920731355532988232"
     },
     "user_tz": -540
    },
    "id": "o4k4e6jfPJyb",
    "outputId": "32760a09-c697-403c-9ed7-1212b7412a51"
   },
   "outputs": [
    {
     "data": {
      "text/html": [
       "<div>\n",
       "<style scoped>\n",
       "    .dataframe tbody tr th:only-of-type {\n",
       "        vertical-align: middle;\n",
       "    }\n",
       "\n",
       "    .dataframe tbody tr th {\n",
       "        vertical-align: top;\n",
       "    }\n",
       "\n",
       "    .dataframe thead th {\n",
       "        text-align: right;\n",
       "    }\n",
       "</style>\n",
       "<table border=\"1\" class=\"dataframe\">\n",
       "  <thead>\n",
       "    <tr style=\"text-align: right;\">\n",
       "      <th></th>\n",
       "      <th>A</th>\n",
       "      <th>B</th>\n",
       "      <th>C</th>\n",
       "    </tr>\n",
       "  </thead>\n",
       "  <tbody>\n",
       "    <tr>\n",
       "      <td>2019-01-01</td>\n",
       "      <td>0.393337</td>\n",
       "      <td>0.189602</td>\n",
       "      <td>0.319923</td>\n",
       "    </tr>\n",
       "    <tr>\n",
       "      <td>2019-01-02</td>\n",
       "      <td>-0.675510</td>\n",
       "      <td>-1.008091</td>\n",
       "      <td>1.126024</td>\n",
       "    </tr>\n",
       "    <tr>\n",
       "      <td>2019-01-03</td>\n",
       "      <td>-2.279425</td>\n",
       "      <td>0.938188</td>\n",
       "      <td>-0.248389</td>\n",
       "    </tr>\n",
       "    <tr>\n",
       "      <td>2019-01-04</td>\n",
       "      <td>-0.770274</td>\n",
       "      <td>-0.206181</td>\n",
       "      <td>0.261334</td>\n",
       "    </tr>\n",
       "    <tr>\n",
       "      <td>2019-01-05</td>\n",
       "      <td>1.306699</td>\n",
       "      <td>0.151692</td>\n",
       "      <td>1.682443</td>\n",
       "    </tr>\n",
       "    <tr>\n",
       "      <td>2019-01-06</td>\n",
       "      <td>-3.585249</td>\n",
       "      <td>0.692278</td>\n",
       "      <td>0.792287</td>\n",
       "    </tr>\n",
       "  </tbody>\n",
       "</table>\n",
       "</div>"
      ],
      "text/plain": [
       "                   A         B         C\n",
       "2019-01-01  0.393337  0.189602  0.319923\n",
       "2019-01-02 -0.675510 -1.008091  1.126024\n",
       "2019-01-03 -2.279425  0.938188 -0.248389\n",
       "2019-01-04 -0.770274 -0.206181  0.261334\n",
       "2019-01-05  1.306699  0.151692  1.682443\n",
       "2019-01-06 -3.585249  0.692278  0.792287"
      ]
     },
     "execution_count": 30,
     "metadata": {},
     "output_type": "execute_result"
    }
   ],
   "source": [
    "df.iloc[:,0:3]"
   ]
  },
  {
   "cell_type": "code",
   "execution_count": 22,
   "metadata": {
    "colab": {
     "base_uri": "https://localhost:8080/",
     "height": 112
    },
    "colab_type": "code",
    "executionInfo": {
     "elapsed": 921,
     "status": "ok",
     "timestamp": 1573455902632,
     "user": {
      "displayName": "‍최상범[ 부교수 / 통계학과 ]",
      "photoUrl": "",
      "userId": "04920731355532988232"
     },
     "user_tz": -540
    },
    "id": "lzMmjI9rSpcz",
    "outputId": "b044d4f6-e479-497d-acc5-5fffbb1d6608"
   },
   "outputs": [
    {
     "data": {
      "text/html": [
       "<div>\n",
       "<style scoped>\n",
       "    .dataframe tbody tr th:only-of-type {\n",
       "        vertical-align: middle;\n",
       "    }\n",
       "\n",
       "    .dataframe tbody tr th {\n",
       "        vertical-align: top;\n",
       "    }\n",
       "\n",
       "    .dataframe thead th {\n",
       "        text-align: right;\n",
       "    }\n",
       "</style>\n",
       "<table border=\"1\" class=\"dataframe\">\n",
       "  <thead>\n",
       "    <tr style=\"text-align: right;\">\n",
       "      <th></th>\n",
       "      <th>A</th>\n",
       "      <th>B</th>\n",
       "      <th>C</th>\n",
       "      <th>D</th>\n",
       "      <th>E</th>\n",
       "    </tr>\n",
       "  </thead>\n",
       "  <tbody>\n",
       "    <tr>\n",
       "      <td>2019-01-02</td>\n",
       "      <td>0.291902</td>\n",
       "      <td>0.124607</td>\n",
       "      <td>-0.622321</td>\n",
       "      <td>-1.154632</td>\n",
       "      <td>1</td>\n",
       "    </tr>\n",
       "    <tr>\n",
       "      <td>2019-01-03</td>\n",
       "      <td>0.472267</td>\n",
       "      <td>-0.505303</td>\n",
       "      <td>-0.066491</td>\n",
       "      <td>1.229147</td>\n",
       "      <td>2</td>\n",
       "    </tr>\n",
       "    <tr>\n",
       "      <td>2019-01-04</td>\n",
       "      <td>1.584309</td>\n",
       "      <td>-0.524077</td>\n",
       "      <td>-2.039237</td>\n",
       "      <td>0.743191</td>\n",
       "      <td>3</td>\n",
       "    </tr>\n",
       "  </tbody>\n",
       "</table>\n",
       "</div>"
      ],
      "text/plain": [
       "                   A         B         C         D  E\n",
       "2019-01-02  0.291902  0.124607 -0.622321 -1.154632  1\n",
       "2019-01-03  0.472267 -0.505303 -0.066491  1.229147  2\n",
       "2019-01-04  1.584309 -0.524077 -2.039237  0.743191  3"
      ]
     },
     "execution_count": 22,
     "metadata": {},
     "output_type": "execute_result"
    }
   ],
   "source": [
    "#Boolean indexing\n",
    "df[(df.A>0) & (df.E<4)]"
   ]
  },
  {
   "cell_type": "code",
   "execution_count": 23,
   "metadata": {
    "colab": {
     "base_uri": "https://localhost:8080/",
     "height": 238
    },
    "colab_type": "code",
    "executionInfo": {
     "elapsed": 869,
     "status": "ok",
     "timestamp": 1573455914057,
     "user": {
      "displayName": "‍최상범[ 부교수 / 통계학과 ]",
      "photoUrl": "",
      "userId": "04920731355532988232"
     },
     "user_tz": -540
    },
    "id": "1JwiXOpcTIcZ",
    "outputId": "c61c00f5-42a6-4d00-ad35-772aea177472"
   },
   "outputs": [
    {
     "data": {
      "text/html": [
       "<div>\n",
       "<style scoped>\n",
       "    .dataframe tbody tr th:only-of-type {\n",
       "        vertical-align: middle;\n",
       "    }\n",
       "\n",
       "    .dataframe tbody tr th {\n",
       "        vertical-align: top;\n",
       "    }\n",
       "\n",
       "    .dataframe thead th {\n",
       "        text-align: right;\n",
       "    }\n",
       "</style>\n",
       "<table border=\"1\" class=\"dataframe\">\n",
       "  <thead>\n",
       "    <tr style=\"text-align: right;\">\n",
       "      <th></th>\n",
       "      <th>A</th>\n",
       "      <th>B</th>\n",
       "      <th>C</th>\n",
       "      <th>D</th>\n",
       "      <th>E</th>\n",
       "    </tr>\n",
       "  </thead>\n",
       "  <tbody>\n",
       "    <tr>\n",
       "      <td>2019-01-01</td>\n",
       "      <td>NaN</td>\n",
       "      <td>0.878950</td>\n",
       "      <td>NaN</td>\n",
       "      <td>1.158598</td>\n",
       "      <td>NaN</td>\n",
       "    </tr>\n",
       "    <tr>\n",
       "      <td>2019-01-02</td>\n",
       "      <td>0.291902</td>\n",
       "      <td>0.124607</td>\n",
       "      <td>NaN</td>\n",
       "      <td>NaN</td>\n",
       "      <td>1.0</td>\n",
       "    </tr>\n",
       "    <tr>\n",
       "      <td>2019-01-03</td>\n",
       "      <td>0.472267</td>\n",
       "      <td>NaN</td>\n",
       "      <td>NaN</td>\n",
       "      <td>1.229147</td>\n",
       "      <td>2.0</td>\n",
       "    </tr>\n",
       "    <tr>\n",
       "      <td>2019-01-04</td>\n",
       "      <td>1.584309</td>\n",
       "      <td>NaN</td>\n",
       "      <td>NaN</td>\n",
       "      <td>0.743191</td>\n",
       "      <td>3.0</td>\n",
       "    </tr>\n",
       "    <tr>\n",
       "      <td>2019-01-05</td>\n",
       "      <td>1.770755</td>\n",
       "      <td>NaN</td>\n",
       "      <td>0.324731</td>\n",
       "      <td>0.678581</td>\n",
       "      <td>4.0</td>\n",
       "    </tr>\n",
       "    <tr>\n",
       "      <td>2019-01-06</td>\n",
       "      <td>NaN</td>\n",
       "      <td>1.671757</td>\n",
       "      <td>NaN</td>\n",
       "      <td>0.086469</td>\n",
       "      <td>5.0</td>\n",
       "    </tr>\n",
       "  </tbody>\n",
       "</table>\n",
       "</div>"
      ],
      "text/plain": [
       "                   A         B         C         D    E\n",
       "2019-01-01       NaN  0.878950       NaN  1.158598  NaN\n",
       "2019-01-02  0.291902  0.124607       NaN       NaN  1.0\n",
       "2019-01-03  0.472267       NaN       NaN  1.229147  2.0\n",
       "2019-01-04  1.584309       NaN       NaN  0.743191  3.0\n",
       "2019-01-05  1.770755       NaN  0.324731  0.678581  4.0\n",
       "2019-01-06       NaN  1.671757       NaN  0.086469  5.0"
      ]
     },
     "execution_count": 23,
     "metadata": {},
     "output_type": "execute_result"
    }
   ],
   "source": [
    "df[df>0]\n",
    "# 참이 아닌 cell은 NaN"
   ]
  },
  {
   "cell_type": "code",
   "execution_count": 24,
   "metadata": {
    "colab": {
     "base_uri": "https://localhost:8080/",
     "height": 238
    },
    "colab_type": "code",
    "executionInfo": {
     "elapsed": 2019,
     "status": "ok",
     "timestamp": 1573456156214,
     "user": {
      "displayName": "‍최상범[ 부교수 / 통계학과 ]",
      "photoUrl": "",
      "userId": "04920731355532988232"
     },
     "user_tz": -540
    },
    "id": "ls4rTbGdTPX5",
    "outputId": "fac90ddf-2869-428e-95dd-ed61f00b59a5"
   },
   "outputs": [
    {
     "data": {
      "text/html": [
       "<div>\n",
       "<style scoped>\n",
       "    .dataframe tbody tr th:only-of-type {\n",
       "        vertical-align: middle;\n",
       "    }\n",
       "\n",
       "    .dataframe tbody tr th {\n",
       "        vertical-align: top;\n",
       "    }\n",
       "\n",
       "    .dataframe thead th {\n",
       "        text-align: right;\n",
       "    }\n",
       "</style>\n",
       "<table border=\"1\" class=\"dataframe\">\n",
       "  <thead>\n",
       "    <tr style=\"text-align: right;\">\n",
       "      <th></th>\n",
       "      <th>A</th>\n",
       "      <th>B</th>\n",
       "      <th>C</th>\n",
       "      <th>D</th>\n",
       "      <th>E</th>\n",
       "      <th>F</th>\n",
       "    </tr>\n",
       "  </thead>\n",
       "  <tbody>\n",
       "    <tr>\n",
       "      <td>2019-01-01</td>\n",
       "      <td>-0.030586</td>\n",
       "      <td>0.878950</td>\n",
       "      <td>-0.245474</td>\n",
       "      <td>1.158598</td>\n",
       "      <td>0</td>\n",
       "      <td>one</td>\n",
       "    </tr>\n",
       "    <tr>\n",
       "      <td>2019-01-02</td>\n",
       "      <td>0.291902</td>\n",
       "      <td>0.124607</td>\n",
       "      <td>-0.622321</td>\n",
       "      <td>-1.154632</td>\n",
       "      <td>1</td>\n",
       "      <td>two</td>\n",
       "    </tr>\n",
       "    <tr>\n",
       "      <td>2019-01-03</td>\n",
       "      <td>0.472267</td>\n",
       "      <td>-0.505303</td>\n",
       "      <td>-0.066491</td>\n",
       "      <td>1.229147</td>\n",
       "      <td>2</td>\n",
       "      <td>three</td>\n",
       "    </tr>\n",
       "    <tr>\n",
       "      <td>2019-01-04</td>\n",
       "      <td>1.584309</td>\n",
       "      <td>-0.524077</td>\n",
       "      <td>-2.039237</td>\n",
       "      <td>0.743191</td>\n",
       "      <td>3</td>\n",
       "      <td>one</td>\n",
       "    </tr>\n",
       "    <tr>\n",
       "      <td>2019-01-05</td>\n",
       "      <td>1.770755</td>\n",
       "      <td>-0.709663</td>\n",
       "      <td>0.324731</td>\n",
       "      <td>0.678581</td>\n",
       "      <td>4</td>\n",
       "      <td>two</td>\n",
       "    </tr>\n",
       "    <tr>\n",
       "      <td>2019-01-06</td>\n",
       "      <td>-0.401276</td>\n",
       "      <td>1.671757</td>\n",
       "      <td>-2.108728</td>\n",
       "      <td>0.086469</td>\n",
       "      <td>5</td>\n",
       "      <td>three</td>\n",
       "    </tr>\n",
       "  </tbody>\n",
       "</table>\n",
       "</div>"
      ],
      "text/plain": [
       "                   A         B         C         D  E      F\n",
       "2019-01-01 -0.030586  0.878950 -0.245474  1.158598  0    one\n",
       "2019-01-02  0.291902  0.124607 -0.622321 -1.154632  1    two\n",
       "2019-01-03  0.472267 -0.505303 -0.066491  1.229147  2  three\n",
       "2019-01-04  1.584309 -0.524077 -2.039237  0.743191  3    one\n",
       "2019-01-05  1.770755 -0.709663  0.324731  0.678581  4    two\n",
       "2019-01-06 -0.401276  1.671757 -2.108728  0.086469  5  three"
      ]
     },
     "execution_count": 24,
     "metadata": {},
     "output_type": "execute_result"
    }
   ],
   "source": [
    "# Using the isin() method for filtering:\n",
    "df2 = df.copy()\n",
    "df2['F'] = ['one','two','three'] * 2\n",
    "df2"
   ]
  },
  {
   "cell_type": "code",
   "execution_count": 25,
   "metadata": {
    "colab": {
     "base_uri": "https://localhost:8080/",
     "height": 112
    },
    "colab_type": "code",
    "executionInfo": {
     "elapsed": 909,
     "status": "ok",
     "timestamp": 1573021596942,
     "user": {
      "displayName": "‍최상범[ 부교수 / 통계학과 ]",
      "photoUrl": "",
      "userId": "04920731355532988232"
     },
     "user_tz": -540
    },
    "id": "ar93vb4XTfbM",
    "outputId": "fc7e33a5-5a49-431c-f0e9-ab4cc0e2e6e4"
   },
   "outputs": [
    {
     "data": {
      "text/html": [
       "<div>\n",
       "<style scoped>\n",
       "    .dataframe tbody tr th:only-of-type {\n",
       "        vertical-align: middle;\n",
       "    }\n",
       "\n",
       "    .dataframe tbody tr th {\n",
       "        vertical-align: top;\n",
       "    }\n",
       "\n",
       "    .dataframe thead th {\n",
       "        text-align: right;\n",
       "    }\n",
       "</style>\n",
       "<table border=\"1\" class=\"dataframe\">\n",
       "  <thead>\n",
       "    <tr style=\"text-align: right;\">\n",
       "      <th></th>\n",
       "      <th>A</th>\n",
       "      <th>B</th>\n",
       "      <th>C</th>\n",
       "      <th>D</th>\n",
       "      <th>E</th>\n",
       "      <th>F</th>\n",
       "    </tr>\n",
       "  </thead>\n",
       "  <tbody>\n",
       "    <tr>\n",
       "      <td>2019-01-01</td>\n",
       "      <td>-0.030586</td>\n",
       "      <td>0.878950</td>\n",
       "      <td>-0.245474</td>\n",
       "      <td>1.158598</td>\n",
       "      <td>0</td>\n",
       "      <td>one</td>\n",
       "    </tr>\n",
       "    <tr>\n",
       "      <td>2019-01-04</td>\n",
       "      <td>1.584309</td>\n",
       "      <td>-0.524077</td>\n",
       "      <td>-2.039237</td>\n",
       "      <td>0.743191</td>\n",
       "      <td>3</td>\n",
       "      <td>one</td>\n",
       "    </tr>\n",
       "  </tbody>\n",
       "</table>\n",
       "</div>"
      ],
      "text/plain": [
       "                   A         B         C         D  E    F\n",
       "2019-01-01 -0.030586  0.878950 -0.245474  1.158598  0  one\n",
       "2019-01-04  1.584309 -0.524077 -2.039237  0.743191  3  one"
      ]
     },
     "execution_count": 25,
     "metadata": {},
     "output_type": "execute_result"
    }
   ],
   "source": [
    "ind = df2['F'].isin(['one'])\n",
    "df2[ind]"
   ]
  },
  {
   "cell_type": "code",
   "execution_count": 26,
   "metadata": {
    "colab": {
     "base_uri": "https://localhost:8080/",
     "height": 238
    },
    "colab_type": "code",
    "executionInfo": {
     "elapsed": 824,
     "status": "ok",
     "timestamp": 1573456436530,
     "user": {
      "displayName": "‍최상범[ 부교수 / 통계학과 ]",
      "photoUrl": "",
      "userId": "04920731355532988232"
     },
     "user_tz": -540
    },
    "id": "PhLLJBw7bGvd",
    "outputId": "81f8db65-6dc1-4b64-ab97-69a3400cf964"
   },
   "outputs": [
    {
     "data": {
      "text/html": [
       "<div>\n",
       "<style scoped>\n",
       "    .dataframe tbody tr th:only-of-type {\n",
       "        vertical-align: middle;\n",
       "    }\n",
       "\n",
       "    .dataframe tbody tr th {\n",
       "        vertical-align: top;\n",
       "    }\n",
       "\n",
       "    .dataframe thead th {\n",
       "        text-align: right;\n",
       "    }\n",
       "</style>\n",
       "<table border=\"1\" class=\"dataframe\">\n",
       "  <thead>\n",
       "    <tr style=\"text-align: right;\">\n",
       "      <th></th>\n",
       "      <th>A</th>\n",
       "      <th>B</th>\n",
       "      <th>C</th>\n",
       "      <th>D</th>\n",
       "      <th>E</th>\n",
       "      <th>G</th>\n",
       "    </tr>\n",
       "  </thead>\n",
       "  <tbody>\n",
       "    <tr>\n",
       "      <td>2019-01-01</td>\n",
       "      <td>-0.030586</td>\n",
       "      <td>0.878950</td>\n",
       "      <td>-0.245474</td>\n",
       "      <td>1.158598</td>\n",
       "      <td>0</td>\n",
       "      <td>1.0</td>\n",
       "    </tr>\n",
       "    <tr>\n",
       "      <td>2019-01-02</td>\n",
       "      <td>0.291902</td>\n",
       "      <td>0.124607</td>\n",
       "      <td>-0.622321</td>\n",
       "      <td>-1.154632</td>\n",
       "      <td>1</td>\n",
       "      <td>2.0</td>\n",
       "    </tr>\n",
       "    <tr>\n",
       "      <td>2019-01-03</td>\n",
       "      <td>0.472267</td>\n",
       "      <td>-0.505303</td>\n",
       "      <td>-0.066491</td>\n",
       "      <td>1.229147</td>\n",
       "      <td>2</td>\n",
       "      <td>3.0</td>\n",
       "    </tr>\n",
       "    <tr>\n",
       "      <td>2019-01-04</td>\n",
       "      <td>1.584309</td>\n",
       "      <td>-0.524077</td>\n",
       "      <td>-2.039237</td>\n",
       "      <td>0.743191</td>\n",
       "      <td>3</td>\n",
       "      <td>4.0</td>\n",
       "    </tr>\n",
       "    <tr>\n",
       "      <td>2019-01-05</td>\n",
       "      <td>1.770755</td>\n",
       "      <td>-0.709663</td>\n",
       "      <td>0.324731</td>\n",
       "      <td>0.678581</td>\n",
       "      <td>4</td>\n",
       "      <td>5.0</td>\n",
       "    </tr>\n",
       "    <tr>\n",
       "      <td>2019-01-06</td>\n",
       "      <td>-0.401276</td>\n",
       "      <td>1.671757</td>\n",
       "      <td>-2.108728</td>\n",
       "      <td>0.086469</td>\n",
       "      <td>5</td>\n",
       "      <td>6.0</td>\n",
       "    </tr>\n",
       "  </tbody>\n",
       "</table>\n",
       "</div>"
      ],
      "text/plain": [
       "                   A         B         C         D  E    G\n",
       "2019-01-01 -0.030586  0.878950 -0.245474  1.158598  0  1.0\n",
       "2019-01-02  0.291902  0.124607 -0.622321 -1.154632  1  2.0\n",
       "2019-01-03  0.472267 -0.505303 -0.066491  1.229147  2  3.0\n",
       "2019-01-04  1.584309 -0.524077 -2.039237  0.743191  3  4.0\n",
       "2019-01-05  1.770755 -0.709663  0.324731  0.678581  4  5.0\n",
       "2019-01-06 -0.401276  1.671757 -2.108728  0.086469  5  6.0"
      ]
     },
     "execution_count": 26,
     "metadata": {},
     "output_type": "execute_result"
    }
   ],
   "source": [
    "# Setting a new column automatically aligns the data by the indexes.\n",
    "df['G'] = np.array([1,2,3,4,5,6],dtype=float)\n",
    "df"
   ]
  },
  {
   "cell_type": "code",
   "execution_count": 27,
   "metadata": {
    "colab": {
     "base_uri": "https://localhost:8080/",
     "height": 238
    },
    "colab_type": "code",
    "executionInfo": {
     "elapsed": 820,
     "status": "ok",
     "timestamp": 1573456438845,
     "user": {
      "displayName": "‍최상범[ 부교수 / 통계학과 ]",
      "photoUrl": "",
      "userId": "04920731355532988232"
     },
     "user_tz": -540
    },
    "id": "zmT-b5IObMh2",
    "outputId": "eadb734c-1d23-4a9b-ce92-f5128f612ee4"
   },
   "outputs": [
    {
     "data": {
      "text/html": [
       "<div>\n",
       "<style scoped>\n",
       "    .dataframe tbody tr th:only-of-type {\n",
       "        vertical-align: middle;\n",
       "    }\n",
       "\n",
       "    .dataframe tbody tr th {\n",
       "        vertical-align: top;\n",
       "    }\n",
       "\n",
       "    .dataframe thead th {\n",
       "        text-align: right;\n",
       "    }\n",
       "</style>\n",
       "<table border=\"1\" class=\"dataframe\">\n",
       "  <thead>\n",
       "    <tr style=\"text-align: right;\">\n",
       "      <th></th>\n",
       "      <th>A</th>\n",
       "      <th>B</th>\n",
       "      <th>C</th>\n",
       "      <th>D</th>\n",
       "      <th>E</th>\n",
       "      <th>G</th>\n",
       "    </tr>\n",
       "  </thead>\n",
       "  <tbody>\n",
       "    <tr>\n",
       "      <td>2019-01-01</td>\n",
       "      <td>-0.030586</td>\n",
       "      <td>0.878950</td>\n",
       "      <td>-0.245474</td>\n",
       "      <td>1.158598</td>\n",
       "      <td>0</td>\n",
       "      <td>-1.0</td>\n",
       "    </tr>\n",
       "    <tr>\n",
       "      <td>2019-01-02</td>\n",
       "      <td>0.291902</td>\n",
       "      <td>0.124607</td>\n",
       "      <td>-0.622321</td>\n",
       "      <td>-1.154632</td>\n",
       "      <td>1</td>\n",
       "      <td>2.0</td>\n",
       "    </tr>\n",
       "    <tr>\n",
       "      <td>2019-01-03</td>\n",
       "      <td>0.472267</td>\n",
       "      <td>-0.505303</td>\n",
       "      <td>-0.066491</td>\n",
       "      <td>1.229147</td>\n",
       "      <td>2</td>\n",
       "      <td>3.0</td>\n",
       "    </tr>\n",
       "    <tr>\n",
       "      <td>2019-01-04</td>\n",
       "      <td>1.584309</td>\n",
       "      <td>-0.524077</td>\n",
       "      <td>-2.039237</td>\n",
       "      <td>0.743191</td>\n",
       "      <td>3</td>\n",
       "      <td>4.0</td>\n",
       "    </tr>\n",
       "    <tr>\n",
       "      <td>2019-01-05</td>\n",
       "      <td>1.770755</td>\n",
       "      <td>-0.709663</td>\n",
       "      <td>0.324731</td>\n",
       "      <td>0.678581</td>\n",
       "      <td>4</td>\n",
       "      <td>5.0</td>\n",
       "    </tr>\n",
       "    <tr>\n",
       "      <td>2019-01-06</td>\n",
       "      <td>-0.401276</td>\n",
       "      <td>1.671757</td>\n",
       "      <td>-2.108728</td>\n",
       "      <td>0.086469</td>\n",
       "      <td>5</td>\n",
       "      <td>6.0</td>\n",
       "    </tr>\n",
       "  </tbody>\n",
       "</table>\n",
       "</div>"
      ],
      "text/plain": [
       "                   A         B         C         D  E    G\n",
       "2019-01-01 -0.030586  0.878950 -0.245474  1.158598  0 -1.0\n",
       "2019-01-02  0.291902  0.124607 -0.622321 -1.154632  1  2.0\n",
       "2019-01-03  0.472267 -0.505303 -0.066491  1.229147  2  3.0\n",
       "2019-01-04  1.584309 -0.524077 -2.039237  0.743191  3  4.0\n",
       "2019-01-05  1.770755 -0.709663  0.324731  0.678581  4  5.0\n",
       "2019-01-06 -0.401276  1.671757 -2.108728  0.086469  5  6.0"
      ]
     },
     "execution_count": 27,
     "metadata": {},
     "output_type": "execute_result"
    }
   ],
   "source": [
    "# Setting values by label:\n",
    "df.at[dates[0],'G'] = -1\n",
    "df"
   ]
  },
  {
   "cell_type": "code",
   "execution_count": 28,
   "metadata": {
    "colab": {
     "base_uri": "https://localhost:8080/",
     "height": 238
    },
    "colab_type": "code",
    "executionInfo": {
     "elapsed": 904,
     "status": "ok",
     "timestamp": 1573456457057,
     "user": {
      "displayName": "‍최상범[ 부교수 / 통계학과 ]",
      "photoUrl": "",
      "userId": "04920731355532988232"
     },
     "user_tz": -540
    },
    "id": "-LjC87xab0JM",
    "outputId": "cc98a311-1bf1-4dca-c844-ec854e6a7504"
   },
   "outputs": [
    {
     "data": {
      "text/html": [
       "<div>\n",
       "<style scoped>\n",
       "    .dataframe tbody tr th:only-of-type {\n",
       "        vertical-align: middle;\n",
       "    }\n",
       "\n",
       "    .dataframe tbody tr th {\n",
       "        vertical-align: top;\n",
       "    }\n",
       "\n",
       "    .dataframe thead th {\n",
       "        text-align: right;\n",
       "    }\n",
       "</style>\n",
       "<table border=\"1\" class=\"dataframe\">\n",
       "  <thead>\n",
       "    <tr style=\"text-align: right;\">\n",
       "      <th></th>\n",
       "      <th>A</th>\n",
       "      <th>B</th>\n",
       "      <th>C</th>\n",
       "      <th>D</th>\n",
       "      <th>E</th>\n",
       "      <th>G</th>\n",
       "    </tr>\n",
       "  </thead>\n",
       "  <tbody>\n",
       "    <tr>\n",
       "      <td>2019-01-01</td>\n",
       "      <td>-0.030586</td>\n",
       "      <td>0.878950</td>\n",
       "      <td>-0.245474</td>\n",
       "      <td>1.158598</td>\n",
       "      <td>0</td>\n",
       "      <td>-1.0</td>\n",
       "    </tr>\n",
       "    <tr>\n",
       "      <td>2019-01-02</td>\n",
       "      <td>0.291902</td>\n",
       "      <td>0.124607</td>\n",
       "      <td>-0.622321</td>\n",
       "      <td>-1.154632</td>\n",
       "      <td>1</td>\n",
       "      <td>NaN</td>\n",
       "    </tr>\n",
       "    <tr>\n",
       "      <td>2019-01-03</td>\n",
       "      <td>0.472267</td>\n",
       "      <td>-0.505303</td>\n",
       "      <td>-0.066491</td>\n",
       "      <td>1.229147</td>\n",
       "      <td>2</td>\n",
       "      <td>3.0</td>\n",
       "    </tr>\n",
       "    <tr>\n",
       "      <td>2019-01-04</td>\n",
       "      <td>1.584309</td>\n",
       "      <td>-0.524077</td>\n",
       "      <td>-2.039237</td>\n",
       "      <td>0.743191</td>\n",
       "      <td>3</td>\n",
       "      <td>4.0</td>\n",
       "    </tr>\n",
       "    <tr>\n",
       "      <td>2019-01-05</td>\n",
       "      <td>1.770755</td>\n",
       "      <td>-0.709663</td>\n",
       "      <td>0.324731</td>\n",
       "      <td>0.678581</td>\n",
       "      <td>4</td>\n",
       "      <td>5.0</td>\n",
       "    </tr>\n",
       "    <tr>\n",
       "      <td>2019-01-06</td>\n",
       "      <td>-0.401276</td>\n",
       "      <td>1.671757</td>\n",
       "      <td>-2.108728</td>\n",
       "      <td>0.086469</td>\n",
       "      <td>5</td>\n",
       "      <td>6.0</td>\n",
       "    </tr>\n",
       "  </tbody>\n",
       "</table>\n",
       "</div>"
      ],
      "text/plain": [
       "                   A         B         C         D  E    G\n",
       "2019-01-01 -0.030586  0.878950 -0.245474  1.158598  0 -1.0\n",
       "2019-01-02  0.291902  0.124607 -0.622321 -1.154632  1  NaN\n",
       "2019-01-03  0.472267 -0.505303 -0.066491  1.229147  2  3.0\n",
       "2019-01-04  1.584309 -0.524077 -2.039237  0.743191  3  4.0\n",
       "2019-01-05  1.770755 -0.709663  0.324731  0.678581  4  5.0\n",
       "2019-01-06 -0.401276  1.671757 -2.108728  0.086469  5  6.0"
      ]
     },
     "execution_count": 28,
     "metadata": {},
     "output_type": "execute_result"
    }
   ],
   "source": [
    "# Setting values by position:\n",
    "df.iat[1,5] = np.nan\n",
    "df"
   ]
  },
  {
   "cell_type": "markdown",
   "metadata": {
    "colab_type": "text",
    "id": "IP57A7I0Okb8"
   },
   "source": [
    "### 2.2 Operations"
   ]
  },
  {
   "cell_type": "markdown",
   "metadata": {},
   "source": [
    "- **`.mean()`**\n",
    "    - 0은 column별, 1은 row 별\n",
    "    - `df.mean(1)` = **`df.apply(np.mean,axis=1)`**\n",
    "    \n",
    "    \n",
    "* **pandas operation**\n",
    "\n",
    "| Python Operator | Pandas Method(s)                      |\n",
    "|-----------------|---------------------------------------|\n",
    "| ``+``           | ``add()``                             |\n",
    "| ``-``           | ``sub()``, ``subtract()``             |\n",
    "| ``*``           | ``mul()``, ``multiply()``             |\n",
    "| ``/``           | ``truediv()``, ``div()``, ``divide()``|\n",
    "| ``//``          | ``floordiv()``                        |\n",
    "| ``%``           | ``mod()``                             |\n",
    "| ``**``          | ``pow()``                             |\n",
    "\n",
    "- **.add()** : index맞춰서 더해준다.\n",
    "    - `A + B` = `A.add(B,level=None)`"
   ]
  },
  {
   "cell_type": "code",
   "execution_count": 32,
   "metadata": {
    "colab": {
     "base_uri": "https://localhost:8080/",
     "height": 127
    },
    "colab_type": "code",
    "executionInfo": {
     "elapsed": 734,
     "status": "ok",
     "timestamp": 1573473239879,
     "user": {
      "displayName": "‍최상범[ 부교수 / 통계학과 ]",
      "photoUrl": "",
      "userId": "04920731355532988232"
     },
     "user_tz": -540
    },
    "id": "jVP0bEhEdFad",
    "outputId": "3e1baa1f-d2fe-4caa-99c9-2e0c7c2c5a1e"
   },
   "outputs": [
    {
     "data": {
      "text/plain": [
       "A   -0.935070\n",
       "B    0.126248\n",
       "C    0.655604\n",
       "D    0.205499\n",
       "E    2.500000\n",
       "dtype: float64"
      ]
     },
     "execution_count": 32,
     "metadata": {},
     "output_type": "execute_result"
    }
   ],
   "source": [
    "# Performing a descriptive statistic:\n",
    "df.mean()"
   ]
  },
  {
   "cell_type": "code",
   "execution_count": 33,
   "metadata": {
    "colab": {
     "base_uri": "https://localhost:8080/",
     "height": 139
    },
    "colab_type": "code",
    "executionInfo": {
     "elapsed": 974,
     "status": "ok",
     "timestamp": 1573022663967,
     "user": {
      "displayName": "‍최상범[ 부교수 / 통계학과 ]",
      "photoUrl": "",
      "userId": "04920731355532988232"
     },
     "user_tz": -540
    },
    "id": "iE7OTgFPdOlx",
    "outputId": "5d186d8f-b604-436a-cf96-51ad52e23dbf"
   },
   "outputs": [
    {
     "data": {
      "text/plain": [
       "2019-01-01    0.709188\n",
       "2019-01-02   -0.138345\n",
       "2019-01-03   -0.030271\n",
       "2019-01-04    0.683774\n",
       "2019-01-05    1.286784\n",
       "2019-01-06    0.551609\n",
       "Freq: D, dtype: float64"
      ]
     },
     "execution_count": 33,
     "metadata": {},
     "output_type": "execute_result"
    }
   ],
   "source": [
    "# Same operation on the other axis (row=1, column=0):\n",
    "df.mean(1)"
   ]
  },
  {
   "cell_type": "code",
   "execution_count": 25,
   "metadata": {
    "colab": {
     "base_uri": "https://localhost:8080/",
     "height": 127
    },
    "colab_type": "code",
    "executionInfo": {
     "elapsed": 717,
     "status": "ok",
     "timestamp": 1573473268825,
     "user": {
      "displayName": "‍최상범[ 부교수 / 통계학과 ]",
      "photoUrl": "",
      "userId": "04920731355532988232"
     },
     "user_tz": -540
    },
    "id": "8a6SBOlDdkZ4",
    "outputId": "9adfa173-aa76-493d-b1a9-8bba27da7000"
   },
   "outputs": [
    {
     "data": {
      "text/plain": [
       "A    0.381381\n",
       "B   -0.233968\n",
       "C    0.134921\n",
       "D   -0.279058\n",
       "E    2.500000\n",
       "dtype: float64"
      ]
     },
     "execution_count": 25,
     "metadata": {
      "tags": []
     },
     "output_type": "execute_result"
    }
   ],
   "source": [
    "df.apply(np.mean,axis=0)"
   ]
  },
  {
   "cell_type": "code",
   "execution_count": 0,
   "metadata": {
    "colab": {
     "base_uri": "https://localhost:8080/",
     "height": 139
    },
    "colab_type": "code",
    "executionInfo": {
     "elapsed": 797,
     "status": "ok",
     "timestamp": 1573022814478,
     "user": {
      "displayName": "‍최상범[ 부교수 / 통계학과 ]",
      "photoUrl": "",
      "userId": "04920731355532988232"
     },
     "user_tz": -540
    },
    "id": "PBov3mVndyF_",
    "outputId": "d48785f4-2f5c-47f6-82c3-48aea682393a"
   },
   "outputs": [
    {
     "data": {
      "text/plain": [
       "2019-01-01    24.656332\n",
       "2019-01-02    13.881689\n",
       "2019-01-03    25.602768\n",
       "2019-01-04    25.646333\n",
       "2019-01-05    26.104444\n",
       "2019-01-06    26.255633\n",
       "Freq: D, dtype: float64"
      ]
     },
     "execution_count": 99,
     "metadata": {
      "tags": []
     },
     "output_type": "execute_result"
    }
   ],
   "source": [
    "df.apply(np.mean,axis=1)"
   ]
  },
  {
   "cell_type": "markdown",
   "metadata": {},
   "source": [
    "---"
   ]
  },
  {
   "cell_type": "code",
   "execution_count": 31,
   "metadata": {
    "colab": {
     "base_uri": "https://localhost:8080/",
     "height": 109
    },
    "colab_type": "code",
    "executionInfo": {
     "elapsed": 793,
     "status": "ok",
     "timestamp": 1573473325007,
     "user": {
      "displayName": "‍최상범[ 부교수 / 통계학과 ]",
      "photoUrl": "",
      "userId": "04920731355532988232"
     },
     "user_tz": -540
    },
    "id": "_nJZEi54nH11",
    "outputId": "94f5c784-7b62-4938-e5bd-84269ec1a50d"
   },
   "outputs": [
    {
     "data": {
      "text/plain": [
       "0    NaN\n",
       "1    5.0\n",
       "2    9.0\n",
       "3    NaN\n",
       "dtype: float64"
      ]
     },
     "execution_count": 31,
     "metadata": {},
     "output_type": "execute_result"
    }
   ],
   "source": [
    "A = pd.Series([2, 4, 6], index=[0, 1, 2])\n",
    "B = pd.Series([1, 3, 5], index=[1, 2, 3])\n",
    "A + B"
   ]
  },
  {
   "cell_type": "code",
   "execution_count": 32,
   "metadata": {
    "colab": {
     "base_uri": "https://localhost:8080/",
     "height": 109
    },
    "colab_type": "code",
    "executionInfo": {
     "elapsed": 850,
     "status": "ok",
     "timestamp": 1573473326674,
     "user": {
      "displayName": "‍최상범[ 부교수 / 통계학과 ]",
      "photoUrl": "",
      "userId": "04920731355532988232"
     },
     "user_tz": -540
    },
    "id": "TYJ_asLMnQDe",
    "outputId": "7e724aa5-17a8-493f-b7d4-1d01b93b152b"
   },
   "outputs": [
    {
     "data": {
      "text/plain": [
       "0    2.0\n",
       "1    5.0\n",
       "2    9.0\n",
       "3    5.0\n",
       "dtype: float64"
      ]
     },
     "execution_count": 32,
     "metadata": {},
     "output_type": "execute_result"
    }
   ],
   "source": [
    "A.add(B,fill_value=0)"
   ]
  },
  {
   "cell_type": "code",
   "execution_count": 33,
   "metadata": {
    "colab": {
     "base_uri": "https://localhost:8080/",
     "height": 109
    },
    "colab_type": "code",
    "executionInfo": {
     "elapsed": 711,
     "status": "ok",
     "timestamp": 1573473353828,
     "user": {
      "displayName": "‍최상범[ 부교수 / 통계학과 ]",
      "photoUrl": "",
      "userId": "04920731355532988232"
     },
     "user_tz": -540
    },
    "id": "IzveX3jKUaMe",
    "outputId": "443802c3-9644-405b-f4b2-d3812d4639b5"
   },
   "outputs": [
    {
     "data": {
      "text/plain": [
       "0    NaN\n",
       "1    5.0\n",
       "2    9.0\n",
       "3    NaN\n",
       "dtype: float64"
      ]
     },
     "execution_count": 33,
     "metadata": {},
     "output_type": "execute_result"
    }
   ],
   "source": [
    "A.add(B,level=None)"
   ]
  },
  {
   "cell_type": "code",
   "execution_count": 72,
   "metadata": {
    "colab": {
     "base_uri": "https://localhost:8080/",
     "height": 112
    },
    "colab_type": "code",
    "executionInfo": {
     "elapsed": 707,
     "status": "ok",
     "timestamp": 1573473677610,
     "user": {
      "displayName": "‍최상범[ 부교수 / 통계학과 ]",
      "photoUrl": "",
      "userId": "04920731355532988232"
     },
     "user_tz": -540
    },
    "id": "N-MdwQ73npSY",
    "outputId": "8a206dd2-c099-4bef-ac59-17f1d7468158"
   },
   "outputs": [
    {
     "data": {
      "text/html": [
       "<div>\n",
       "<style scoped>\n",
       "    .dataframe tbody tr th:only-of-type {\n",
       "        vertical-align: middle;\n",
       "    }\n",
       "\n",
       "    .dataframe tbody tr th {\n",
       "        vertical-align: top;\n",
       "    }\n",
       "\n",
       "    .dataframe thead th {\n",
       "        text-align: right;\n",
       "    }\n",
       "</style>\n",
       "<table border=\"1\" class=\"dataframe\">\n",
       "  <thead>\n",
       "    <tr style=\"text-align: right;\">\n",
       "      <th></th>\n",
       "      <th>A</th>\n",
       "      <th>B</th>\n",
       "    </tr>\n",
       "  </thead>\n",
       "  <tbody>\n",
       "    <tr>\n",
       "      <td>0</td>\n",
       "      <td>13</td>\n",
       "      <td>2</td>\n",
       "    </tr>\n",
       "    <tr>\n",
       "      <td>1</td>\n",
       "      <td>2</td>\n",
       "      <td>6</td>\n",
       "    </tr>\n",
       "  </tbody>\n",
       "</table>\n",
       "</div>"
      ],
      "text/plain": [
       "    A  B\n",
       "0  13  2\n",
       "1   2  6"
      ]
     },
     "execution_count": 72,
     "metadata": {},
     "output_type": "execute_result"
    }
   ],
   "source": [
    "# Same operation on the other axis: \n",
    "rng = np.random.RandomState(123)\n",
    "df_a = pd.DataFrame(rng.randint(0, 20, (2, 2)), columns=list('AB'))\n",
    "df_a"
   ]
  },
  {
   "cell_type": "code",
   "execution_count": 73,
   "metadata": {
    "colab": {
     "base_uri": "https://localhost:8080/",
     "height": 143
    },
    "colab_type": "code",
    "executionInfo": {
     "elapsed": 716,
     "status": "ok",
     "timestamp": 1573473683976,
     "user": {
      "displayName": "‍최상범[ 부교수 / 통계학과 ]",
      "photoUrl": "",
      "userId": "04920731355532988232"
     },
     "user_tz": -540
    },
    "id": "mfGWEOVznrhH",
    "outputId": "6aab94f4-34a5-4bdf-8d07-04f5a2073ec5"
   },
   "outputs": [
    {
     "data": {
      "text/html": [
       "<div>\n",
       "<style scoped>\n",
       "    .dataframe tbody tr th:only-of-type {\n",
       "        vertical-align: middle;\n",
       "    }\n",
       "\n",
       "    .dataframe tbody tr th {\n",
       "        vertical-align: top;\n",
       "    }\n",
       "\n",
       "    .dataframe thead th {\n",
       "        text-align: right;\n",
       "    }\n",
       "</style>\n",
       "<table border=\"1\" class=\"dataframe\">\n",
       "  <thead>\n",
       "    <tr style=\"text-align: right;\">\n",
       "      <th></th>\n",
       "      <th>B</th>\n",
       "      <th>A</th>\n",
       "      <th>C</th>\n",
       "    </tr>\n",
       "  </thead>\n",
       "  <tbody>\n",
       "    <tr>\n",
       "      <td>0</td>\n",
       "      <td>1</td>\n",
       "      <td>3</td>\n",
       "      <td>9</td>\n",
       "    </tr>\n",
       "    <tr>\n",
       "      <td>1</td>\n",
       "      <td>6</td>\n",
       "      <td>1</td>\n",
       "      <td>0</td>\n",
       "    </tr>\n",
       "    <tr>\n",
       "      <td>2</td>\n",
       "      <td>1</td>\n",
       "      <td>9</td>\n",
       "      <td>0</td>\n",
       "    </tr>\n",
       "  </tbody>\n",
       "</table>\n",
       "</div>"
      ],
      "text/plain": [
       "   B  A  C\n",
       "0  1  3  9\n",
       "1  6  1  0\n",
       "2  1  9  0"
      ]
     },
     "execution_count": 73,
     "metadata": {},
     "output_type": "execute_result"
    }
   ],
   "source": [
    "df_b = pd.DataFrame(rng.randint(0, 10, (3, 3)),\n",
    "                 columns=list('BAC'))\n",
    "df_b"
   ]
  },
  {
   "cell_type": "code",
   "execution_count": 74,
   "metadata": {
    "colab": {
     "base_uri": "https://localhost:8080/",
     "height": 143
    },
    "colab_type": "code",
    "executionInfo": {
     "elapsed": 735,
     "status": "ok",
     "timestamp": 1573473688272,
     "user": {
      "displayName": "‍최상범[ 부교수 / 통계학과 ]",
      "photoUrl": "",
      "userId": "04920731355532988232"
     },
     "user_tz": -540
    },
    "id": "VrIfj7cOnsQ4",
    "outputId": "82e22c1b-3a12-4dd8-abf5-85d2f73e8953"
   },
   "outputs": [
    {
     "data": {
      "text/html": [
       "<div>\n",
       "<style scoped>\n",
       "    .dataframe tbody tr th:only-of-type {\n",
       "        vertical-align: middle;\n",
       "    }\n",
       "\n",
       "    .dataframe tbody tr th {\n",
       "        vertical-align: top;\n",
       "    }\n",
       "\n",
       "    .dataframe thead th {\n",
       "        text-align: right;\n",
       "    }\n",
       "</style>\n",
       "<table border=\"1\" class=\"dataframe\">\n",
       "  <thead>\n",
       "    <tr style=\"text-align: right;\">\n",
       "      <th></th>\n",
       "      <th>A</th>\n",
       "      <th>B</th>\n",
       "      <th>C</th>\n",
       "    </tr>\n",
       "  </thead>\n",
       "  <tbody>\n",
       "    <tr>\n",
       "      <td>0</td>\n",
       "      <td>16.0</td>\n",
       "      <td>3.0</td>\n",
       "      <td>NaN</td>\n",
       "    </tr>\n",
       "    <tr>\n",
       "      <td>1</td>\n",
       "      <td>3.0</td>\n",
       "      <td>12.0</td>\n",
       "      <td>NaN</td>\n",
       "    </tr>\n",
       "    <tr>\n",
       "      <td>2</td>\n",
       "      <td>NaN</td>\n",
       "      <td>NaN</td>\n",
       "      <td>NaN</td>\n",
       "    </tr>\n",
       "  </tbody>\n",
       "</table>\n",
       "</div>"
      ],
      "text/plain": [
       "      A     B   C\n",
       "0  16.0   3.0 NaN\n",
       "1   3.0  12.0 NaN\n",
       "2   NaN   NaN NaN"
      ]
     },
     "execution_count": 74,
     "metadata": {},
     "output_type": "execute_result"
    }
   ],
   "source": [
    "df_a + df_b"
   ]
  },
  {
   "cell_type": "code",
   "execution_count": 39,
   "metadata": {
    "colab": {
     "base_uri": "https://localhost:8080/",
     "height": 72
    },
    "colab_type": "code",
    "executionInfo": {
     "elapsed": 859,
     "status": "ok",
     "timestamp": 1573473708203,
     "user": {
      "displayName": "‍최상범[ 부교수 / 통계학과 ]",
      "photoUrl": "",
      "userId": "04920731355532988232"
     },
     "user_tz": -540
    },
    "id": "s42wbNFhgMZI",
    "outputId": "261692ba-86a6-4ad9-fdd4-ca37184c2b47"
   },
   "outputs": [
    {
     "name": "stdout",
     "output_type": "stream",
     "text": [
      "[[ 0  1  2  3]\n",
      " [ 4  5  6  7]\n",
      " [ 8  9 10 11]]\n"
     ]
    },
    {
     "data": {
      "text/plain": [
       "array([[0, 0, 0, 0],\n",
       "       [4, 4, 4, 4],\n",
       "       [8, 8, 8, 8]])"
      ]
     },
     "execution_count": 39,
     "metadata": {},
     "output_type": "execute_result"
    }
   ],
   "source": [
    "# Ufuncs: Operations Between DataFrame and Series\n",
    "A = np.arange(12).reshape(3,4)\n",
    "print(A)\n",
    "A - A[0]"
   ]
  },
  {
   "cell_type": "code",
   "execution_count": 40,
   "metadata": {
    "colab": {
     "base_uri": "https://localhost:8080/",
     "height": 143
    },
    "colab_type": "code",
    "executionInfo": {
     "elapsed": 721,
     "status": "ok",
     "timestamp": 1573473721151,
     "user": {
      "displayName": "‍최상범[ 부교수 / 통계학과 ]",
      "photoUrl": "",
      "userId": "04920731355532988232"
     },
     "user_tz": -540
    },
    "id": "hR2YNSnAoTPV",
    "outputId": "7ad2357e-79e4-4b93-b4f2-62d351d992c1"
   },
   "outputs": [
    {
     "data": {
      "text/html": [
       "<div>\n",
       "<style scoped>\n",
       "    .dataframe tbody tr th:only-of-type {\n",
       "        vertical-align: middle;\n",
       "    }\n",
       "\n",
       "    .dataframe tbody tr th {\n",
       "        vertical-align: top;\n",
       "    }\n",
       "\n",
       "    .dataframe thead th {\n",
       "        text-align: right;\n",
       "    }\n",
       "</style>\n",
       "<table border=\"1\" class=\"dataframe\">\n",
       "  <thead>\n",
       "    <tr style=\"text-align: right;\">\n",
       "      <th></th>\n",
       "      <th>B</th>\n",
       "      <th>A</th>\n",
       "      <th>C</th>\n",
       "    </tr>\n",
       "  </thead>\n",
       "  <tbody>\n",
       "    <tr>\n",
       "      <td>0</td>\n",
       "      <td>0</td>\n",
       "      <td>0</td>\n",
       "      <td>0</td>\n",
       "    </tr>\n",
       "    <tr>\n",
       "      <td>1</td>\n",
       "      <td>5</td>\n",
       "      <td>-2</td>\n",
       "      <td>-9</td>\n",
       "    </tr>\n",
       "    <tr>\n",
       "      <td>2</td>\n",
       "      <td>0</td>\n",
       "      <td>6</td>\n",
       "      <td>-9</td>\n",
       "    </tr>\n",
       "  </tbody>\n",
       "</table>\n",
       "</div>"
      ],
      "text/plain": [
       "   B  A  C\n",
       "0  0  0  0\n",
       "1  5 -2 -9\n",
       "2  0  6 -9"
      ]
     },
     "execution_count": 40,
     "metadata": {},
     "output_type": "execute_result"
    }
   ],
   "source": [
    "df_b - df_b.iloc[0]"
   ]
  },
  {
   "cell_type": "code",
   "execution_count": 41,
   "metadata": {
    "colab": {
     "base_uri": "https://localhost:8080/",
     "height": 143
    },
    "colab_type": "code",
    "executionInfo": {
     "elapsed": 786,
     "status": "ok",
     "timestamp": 1573473741301,
     "user": {
      "displayName": "‍최상범[ 부교수 / 통계학과 ]",
      "photoUrl": "",
      "userId": "04920731355532988232"
     },
     "user_tz": -540
    },
    "id": "pNhkYKXOpUDG",
    "outputId": "0520987c-8d40-4e4d-dd1b-5c3ed42913d9"
   },
   "outputs": [
    {
     "data": {
      "text/html": [
       "<div>\n",
       "<style scoped>\n",
       "    .dataframe tbody tr th:only-of-type {\n",
       "        vertical-align: middle;\n",
       "    }\n",
       "\n",
       "    .dataframe tbody tr th {\n",
       "        vertical-align: top;\n",
       "    }\n",
       "\n",
       "    .dataframe thead th {\n",
       "        text-align: right;\n",
       "    }\n",
       "</style>\n",
       "<table border=\"1\" class=\"dataframe\">\n",
       "  <thead>\n",
       "    <tr style=\"text-align: right;\">\n",
       "      <th></th>\n",
       "      <th>B</th>\n",
       "      <th>A</th>\n",
       "      <th>C</th>\n",
       "    </tr>\n",
       "  </thead>\n",
       "  <tbody>\n",
       "    <tr>\n",
       "      <td>0</td>\n",
       "      <td>0</td>\n",
       "      <td>0</td>\n",
       "      <td>0</td>\n",
       "    </tr>\n",
       "    <tr>\n",
       "      <td>1</td>\n",
       "      <td>5</td>\n",
       "      <td>-2</td>\n",
       "      <td>-9</td>\n",
       "    </tr>\n",
       "    <tr>\n",
       "      <td>2</td>\n",
       "      <td>0</td>\n",
       "      <td>6</td>\n",
       "      <td>-9</td>\n",
       "    </tr>\n",
       "  </tbody>\n",
       "</table>\n",
       "</div>"
      ],
      "text/plain": [
       "   B  A  C\n",
       "0  0  0  0\n",
       "1  5 -2 -9\n",
       "2  0  6 -9"
      ]
     },
     "execution_count": 41,
     "metadata": {},
     "output_type": "execute_result"
    }
   ],
   "source": [
    "df_b.subtract(df_b.iloc[0])"
   ]
  },
  {
   "cell_type": "code",
   "execution_count": 42,
   "metadata": {
    "colab": {
     "base_uri": "https://localhost:8080/",
     "height": 143
    },
    "colab_type": "code",
    "executionInfo": {
     "elapsed": 820,
     "status": "ok",
     "timestamp": 1573473763060,
     "user": {
      "displayName": "‍최상범[ 부교수 / 통계학과 ]",
      "photoUrl": "",
      "userId": "04920731355532988232"
     },
     "user_tz": -540
    },
    "id": "mWeXD5UgpFyW",
    "outputId": "457c5365-db97-4fa8-cf71-536eab2ca8c0"
   },
   "outputs": [
    {
     "data": {
      "text/html": [
       "<div>\n",
       "<style scoped>\n",
       "    .dataframe tbody tr th:only-of-type {\n",
       "        vertical-align: middle;\n",
       "    }\n",
       "\n",
       "    .dataframe tbody tr th {\n",
       "        vertical-align: top;\n",
       "    }\n",
       "\n",
       "    .dataframe thead th {\n",
       "        text-align: right;\n",
       "    }\n",
       "</style>\n",
       "<table border=\"1\" class=\"dataframe\">\n",
       "  <thead>\n",
       "    <tr style=\"text-align: right;\">\n",
       "      <th></th>\n",
       "      <th>B</th>\n",
       "      <th>A</th>\n",
       "      <th>C</th>\n",
       "    </tr>\n",
       "  </thead>\n",
       "  <tbody>\n",
       "    <tr>\n",
       "      <td>0</td>\n",
       "      <td>-2</td>\n",
       "      <td>0</td>\n",
       "      <td>6</td>\n",
       "    </tr>\n",
       "    <tr>\n",
       "      <td>1</td>\n",
       "      <td>5</td>\n",
       "      <td>0</td>\n",
       "      <td>-1</td>\n",
       "    </tr>\n",
       "    <tr>\n",
       "      <td>2</td>\n",
       "      <td>-8</td>\n",
       "      <td>0</td>\n",
       "      <td>-9</td>\n",
       "    </tr>\n",
       "  </tbody>\n",
       "</table>\n",
       "</div>"
      ],
      "text/plain": [
       "   B  A  C\n",
       "0 -2  0  6\n",
       "1  5  0 -1\n",
       "2 -8  0 -9"
      ]
     },
     "execution_count": 42,
     "metadata": {},
     "output_type": "execute_result"
    }
   ],
   "source": [
    "df_b.subtract(df_b['A'],axis=0)"
   ]
  },
  {
   "cell_type": "markdown",
   "metadata": {
    "colab_type": "text",
    "id": "gpSgwj3zOkns"
   },
   "source": [
    "### 2.3 Missing Data"
   ]
  },
  {
   "cell_type": "markdown",
   "metadata": {},
   "source": [
    "- missing value in pandas `np.nan`\n",
    "    - 에러없이 연산이 가능하게 해준다( 단 결과는 모두 `nan`)\n",
    "    - data type을 지정할 수 있다.(한 array내에서 모두 같은 데이터타입을 같게 해준다)\n",
    "    \n",
    "    \n",
    "- missing value를 무시하고 계산하는 방법\n",
    "    - `np.nansum()`\n",
    "    - `np.nanmin()`\n",
    "    - `np.nanmax()`\n",
    "    \n",
    "    \n",
    "- **pandas**에서 결측치\n",
    "    - `None`은 `nan`으로 바뀐다.\n",
    "    - `nan` 관련 function\n",
    "        - ``isnull()``: Generate a boolean mask indicating missing values\n",
    "        - ``notnull()``: Opposite of ``isnull()``\n",
    "        - ``dropna()``: Return a filtered version of the data\n",
    "            - **axis** : 'columns(=1)', 'rows(=0)'\n",
    "            - **how** : 'all' --> 모두 NaN이면 열을 제거\n",
    "            - **thresh** : 3 --> 3개 이상의 non-missing인 행만 남김\n",
    "        - ``fillna()``: Return a copy of the data with missing values filled or imputed\n",
    "            - 특정 숫자로 결측치를 대체하고 싶을 경우 e.g. `N.fillna(0)`\n",
    "            - **axis=1** : 각 행별로\n",
    "            - **method**\n",
    "                - 'bfill' : NaN의 바로 뒤 열값으로 채움(backward)\n",
    "                - 'ffill' : NaN의 바로 앞 열값으로 채움(forward)"
   ]
  },
  {
   "cell_type": "code",
   "execution_count": 52,
   "metadata": {
    "colab": {
     "base_uri": "https://localhost:8080/",
     "height": 35
    },
    "colab_type": "code",
    "executionInfo": {
     "elapsed": 751,
     "status": "ok",
     "timestamp": 1573473800000,
     "user": {
      "displayName": "‍최상범[ 부교수 / 통계학과 ]",
      "photoUrl": "",
      "userId": "04920731355532988232"
     },
     "user_tz": -540
    },
    "id": "cnMu5lUZq3oI",
    "outputId": "a372118d-17eb-46f3-f268-c67d89dc3010"
   },
   "outputs": [
    {
     "data": {
      "text/plain": [
       "array([1, None, 3, 4], dtype=object)"
      ]
     },
     "execution_count": 52,
     "metadata": {},
     "output_type": "execute_result"
    }
   ],
   "source": [
    "# None: Pythonic missing data\n",
    "vals1 = np.array([1, None, 3, 4])\n",
    "vals1"
   ]
  },
  {
   "cell_type": "code",
   "execution_count": 44,
   "metadata": {
    "colab": {
     "base_uri": "https://localhost:8080/",
     "height": 301
    },
    "colab_type": "code",
    "executionInfo": {
     "elapsed": 797,
     "status": "error",
     "timestamp": 1573473804787,
     "user": {
      "displayName": "‍최상범[ 부교수 / 통계학과 ]",
      "photoUrl": "",
      "userId": "04920731355532988232"
     },
     "user_tz": -540
    },
    "id": "j39RJw3Yq7ZX",
    "outputId": "4ff45567-81fd-446d-c25a-e4baaeb827f3"
   },
   "outputs": [
    {
     "ename": "TypeError",
     "evalue": "unsupported operand type(s) for +: 'int' and 'NoneType'",
     "output_type": "error",
     "traceback": [
      "\u001b[0;31m---------------------------------------------------------------------------\u001b[0m",
      "\u001b[0;31mTypeError\u001b[0m                                 Traceback (most recent call last)",
      "\u001b[0;32m<ipython-input-44-30a3fc8c6726>\u001b[0m in \u001b[0;36m<module>\u001b[0;34m\u001b[0m\n\u001b[0;32m----> 1\u001b[0;31m \u001b[0mvals1\u001b[0m\u001b[0;34m.\u001b[0m\u001b[0msum\u001b[0m\u001b[0;34m(\u001b[0m\u001b[0;34m)\u001b[0m\u001b[0;34m\u001b[0m\u001b[0;34m\u001b[0m\u001b[0m\n\u001b[0m",
      "\u001b[0;32m/anaconda3/lib/python3.6/site-packages/numpy/core/_methods.py\u001b[0m in \u001b[0;36m_sum\u001b[0;34m(a, axis, dtype, out, keepdims, initial, where)\u001b[0m\n\u001b[1;32m     36\u001b[0m def _sum(a, axis=None, dtype=None, out=None, keepdims=False,\n\u001b[1;32m     37\u001b[0m          initial=_NoValue, where=True):\n\u001b[0;32m---> 38\u001b[0;31m     \u001b[0;32mreturn\u001b[0m \u001b[0mumr_sum\u001b[0m\u001b[0;34m(\u001b[0m\u001b[0ma\u001b[0m\u001b[0;34m,\u001b[0m \u001b[0maxis\u001b[0m\u001b[0;34m,\u001b[0m \u001b[0mdtype\u001b[0m\u001b[0;34m,\u001b[0m \u001b[0mout\u001b[0m\u001b[0;34m,\u001b[0m \u001b[0mkeepdims\u001b[0m\u001b[0;34m,\u001b[0m \u001b[0minitial\u001b[0m\u001b[0;34m,\u001b[0m \u001b[0mwhere\u001b[0m\u001b[0;34m)\u001b[0m\u001b[0;34m\u001b[0m\u001b[0;34m\u001b[0m\u001b[0m\n\u001b[0m\u001b[1;32m     39\u001b[0m \u001b[0;34m\u001b[0m\u001b[0m\n\u001b[1;32m     40\u001b[0m def _prod(a, axis=None, dtype=None, out=None, keepdims=False,\n",
      "\u001b[0;31mTypeError\u001b[0m: unsupported operand type(s) for +: 'int' and 'NoneType'"
     ]
    }
   ],
   "source": [
    "vals1.sum()"
   ]
  },
  {
   "cell_type": "code",
   "execution_count": 45,
   "metadata": {
    "colab": {
     "base_uri": "https://localhost:8080/",
     "height": 35
    },
    "colab_type": "code",
    "executionInfo": {
     "elapsed": 712,
     "status": "ok",
     "timestamp": 1573473812949,
     "user": {
      "displayName": "‍최상범[ 부교수 / 통계학과 ]",
      "photoUrl": "",
      "userId": "04920731355532988232"
     },
     "user_tz": -540
    },
    "id": "i-nE2gzGrGav",
    "outputId": "e2bf6c0c-5956-441f-aa63-f7e6ace91ad6"
   },
   "outputs": [
    {
     "data": {
      "text/plain": [
       "dtype('float64')"
      ]
     },
     "execution_count": 45,
     "metadata": {},
     "output_type": "execute_result"
    }
   ],
   "source": [
    "# NaN: Missing numerical data\n",
    "vals2 = np.array([1, np.nan, 3, 4]) \n",
    "vals2.dtype"
   ]
  },
  {
   "cell_type": "code",
   "execution_count": 46,
   "metadata": {
    "colab": {
     "base_uri": "https://localhost:8080/",
     "height": 35
    },
    "colab_type": "code",
    "executionInfo": {
     "elapsed": 667,
     "status": "ok",
     "timestamp": 1573473827233,
     "user": {
      "displayName": "‍최상범[ 부교수 / 통계학과 ]",
      "photoUrl": "",
      "userId": "04920731355532988232"
     },
     "user_tz": -540
    },
    "id": "AQ0eR_DXib6g",
    "outputId": "249c2f86-c3b2-4c65-8956-0fd9a2dcee67"
   },
   "outputs": [
    {
     "data": {
      "text/plain": [
       "nan"
      ]
     },
     "execution_count": 46,
     "metadata": {},
     "output_type": "execute_result"
    }
   ],
   "source": [
    "1 + np.nan"
   ]
  },
  {
   "cell_type": "code",
   "execution_count": 40,
   "metadata": {
    "colab": {
     "base_uri": "https://localhost:8080/",
     "height": 35
    },
    "colab_type": "code",
    "executionInfo": {
     "elapsed": 753,
     "status": "ok",
     "timestamp": 1573473847646,
     "user": {
      "displayName": "‍최상범[ 부교수 / 통계학과 ]",
      "photoUrl": "",
      "userId": "04920731355532988232"
     },
     "user_tz": -540
    },
    "id": "s4zR2UKJiaUN",
    "outputId": "36b840d9-5b47-4366-e0aa-429bf51e1157"
   },
   "outputs": [
    {
     "data": {
      "text/plain": [
       "(nan, nan, nan)"
      ]
     },
     "execution_count": 40,
     "metadata": {
      "tags": []
     },
     "output_type": "execute_result"
    }
   ],
   "source": [
    "vals2.sum(), vals2.min(), vals2.max()"
   ]
  },
  {
   "cell_type": "code",
   "execution_count": 41,
   "metadata": {
    "colab": {
     "base_uri": "https://localhost:8080/",
     "height": 35
    },
    "colab_type": "code",
    "executionInfo": {
     "elapsed": 870,
     "status": "ok",
     "timestamp": 1573473849552,
     "user": {
      "displayName": "‍최상범[ 부교수 / 통계학과 ]",
      "photoUrl": "",
      "userId": "04920731355532988232"
     },
     "user_tz": -540
    },
    "id": "u4Ah3j8vrT_u",
    "outputId": "abeb07e9-0b58-4be7-de97-fa2c0bc41b74"
   },
   "outputs": [
    {
     "data": {
      "text/plain": [
       "(8.0, 1.0, 4.0)"
      ]
     },
     "execution_count": 41,
     "metadata": {
      "tags": []
     },
     "output_type": "execute_result"
    }
   ],
   "source": [
    "# NumPy does provide some special aggregations that will ignore these missing values:\n",
    "np.nansum(vals2), np.nanmin(vals2), np.nanmax(vals2)"
   ]
  },
  {
   "cell_type": "code",
   "execution_count": 42,
   "metadata": {
    "colab": {
     "base_uri": "https://localhost:8080/",
     "height": 109
    },
    "colab_type": "code",
    "executionInfo": {
     "elapsed": 713,
     "status": "ok",
     "timestamp": 1573473962316,
     "user": {
      "displayName": "‍최상범[ 부교수 / 통계학과 ]",
      "photoUrl": "",
      "userId": "04920731355532988232"
     },
     "user_tz": -540
    },
    "id": "M6FaoN4orhnI",
    "outputId": "11ec5541-540e-4503-8c6b-46009ccb11b2"
   },
   "outputs": [
    {
     "data": {
      "text/plain": [
       "0    1.0\n",
       "1    NaN\n",
       "2    2.0\n",
       "3    NaN\n",
       "dtype: float64"
      ]
     },
     "execution_count": 42,
     "metadata": {
      "tags": []
     },
     "output_type": "execute_result"
    }
   ],
   "source": [
    "# NaN and None both have their place, and Pandas is built to handle the two of them nearly interchangeably.\n",
    "pd.Series([1, np.nan, 2, None])"
   ]
  },
  {
   "cell_type": "code",
   "execution_count": 53,
   "metadata": {
    "colab": {
     "base_uri": "https://localhost:8080/",
     "height": 104
    },
    "colab_type": "code",
    "executionInfo": {
     "elapsed": 1122,
     "status": "ok",
     "timestamp": 1573024113157,
     "user": {
      "displayName": "‍최상범[ 부교수 / 통계학과 ]",
      "photoUrl": "",
      "userId": "04920731355532988232"
     },
     "user_tz": -540
    },
    "id": "VLJYGfUCr8tg",
    "outputId": "1bc12a9d-6b3a-4345-a6c2-f414d9f406e7"
   },
   "outputs": [
    {
     "data": {
      "text/plain": [
       "0    False\n",
       "1     True\n",
       "2    False\n",
       "3     True\n",
       "dtype: bool"
      ]
     },
     "execution_count": 53,
     "metadata": {},
     "output_type": "execute_result"
    }
   ],
   "source": [
    "data = pd.Series([1, np.nan, 'hello', None])\n",
    "data.isnull()"
   ]
  },
  {
   "cell_type": "code",
   "execution_count": 54,
   "metadata": {
    "colab": {
     "base_uri": "https://localhost:8080/",
     "height": 69
    },
    "colab_type": "code",
    "executionInfo": {
     "elapsed": 1289,
     "status": "ok",
     "timestamp": 1573024117919,
     "user": {
      "displayName": "‍최상범[ 부교수 / 통계학과 ]",
      "photoUrl": "",
      "userId": "04920731355532988232"
     },
     "user_tz": -540
    },
    "id": "Dp89h1UZr_Do",
    "outputId": "a08ea36c-75e6-4164-de6d-e9b0e8795e15"
   },
   "outputs": [
    {
     "data": {
      "text/plain": [
       "0        1\n",
       "2    hello\n",
       "dtype: object"
      ]
     },
     "execution_count": 54,
     "metadata": {},
     "output_type": "execute_result"
    }
   ],
   "source": [
    "data[data.notnull()]"
   ]
  },
  {
   "cell_type": "code",
   "execution_count": 55,
   "metadata": {
    "colab": {
     "base_uri": "https://localhost:8080/",
     "height": 143
    },
    "colab_type": "code",
    "executionInfo": {
     "elapsed": 798,
     "status": "ok",
     "timestamp": 1573024121338,
     "user": {
      "displayName": "‍최상범[ 부교수 / 통계학과 ]",
      "photoUrl": "",
      "userId": "04920731355532988232"
     },
     "user_tz": -540
    },
    "id": "fcKk2478sEg_",
    "outputId": "4f498d50-5393-4425-faf3-27fc420366cc"
   },
   "outputs": [
    {
     "data": {
      "text/html": [
       "<div>\n",
       "<style scoped>\n",
       "    .dataframe tbody tr th:only-of-type {\n",
       "        vertical-align: middle;\n",
       "    }\n",
       "\n",
       "    .dataframe tbody tr th {\n",
       "        vertical-align: top;\n",
       "    }\n",
       "\n",
       "    .dataframe thead th {\n",
       "        text-align: right;\n",
       "    }\n",
       "</style>\n",
       "<table border=\"1\" class=\"dataframe\">\n",
       "  <thead>\n",
       "    <tr style=\"text-align: right;\">\n",
       "      <th></th>\n",
       "      <th>0</th>\n",
       "      <th>1</th>\n",
       "      <th>2</th>\n",
       "    </tr>\n",
       "  </thead>\n",
       "  <tbody>\n",
       "    <tr>\n",
       "      <td>0</td>\n",
       "      <td>1.0</td>\n",
       "      <td>NaN</td>\n",
       "      <td>2</td>\n",
       "    </tr>\n",
       "    <tr>\n",
       "      <td>1</td>\n",
       "      <td>2.0</td>\n",
       "      <td>3.0</td>\n",
       "      <td>5</td>\n",
       "    </tr>\n",
       "    <tr>\n",
       "      <td>2</td>\n",
       "      <td>NaN</td>\n",
       "      <td>4.0</td>\n",
       "      <td>6</td>\n",
       "    </tr>\n",
       "  </tbody>\n",
       "</table>\n",
       "</div>"
      ],
      "text/plain": [
       "     0    1  2\n",
       "0  1.0  NaN  2\n",
       "1  2.0  3.0  5\n",
       "2  NaN  4.0  6"
      ]
     },
     "execution_count": 55,
     "metadata": {},
     "output_type": "execute_result"
    }
   ],
   "source": [
    "df = pd.DataFrame([[1,      np.nan, 2],\n",
    "                   [2,      3,      5],\n",
    "                   [np.nan, 4,      6]])\n",
    "df"
   ]
  },
  {
   "cell_type": "code",
   "execution_count": 56,
   "metadata": {
    "colab": {
     "base_uri": "https://localhost:8080/",
     "height": 81
    },
    "colab_type": "code",
    "executionInfo": {
     "elapsed": 826,
     "status": "ok",
     "timestamp": 1573024125767,
     "user": {
      "displayName": "‍최상범[ 부교수 / 통계학과 ]",
      "photoUrl": "",
      "userId": "04920731355532988232"
     },
     "user_tz": -540
    },
    "id": "WThPDUwcsFU3",
    "outputId": "bd8aeedd-393d-403f-cc7a-ab208de23634"
   },
   "outputs": [
    {
     "data": {
      "text/html": [
       "<div>\n",
       "<style scoped>\n",
       "    .dataframe tbody tr th:only-of-type {\n",
       "        vertical-align: middle;\n",
       "    }\n",
       "\n",
       "    .dataframe tbody tr th {\n",
       "        vertical-align: top;\n",
       "    }\n",
       "\n",
       "    .dataframe thead th {\n",
       "        text-align: right;\n",
       "    }\n",
       "</style>\n",
       "<table border=\"1\" class=\"dataframe\">\n",
       "  <thead>\n",
       "    <tr style=\"text-align: right;\">\n",
       "      <th></th>\n",
       "      <th>0</th>\n",
       "      <th>1</th>\n",
       "      <th>2</th>\n",
       "    </tr>\n",
       "  </thead>\n",
       "  <tbody>\n",
       "    <tr>\n",
       "      <td>1</td>\n",
       "      <td>2.0</td>\n",
       "      <td>3.0</td>\n",
       "      <td>5</td>\n",
       "    </tr>\n",
       "  </tbody>\n",
       "</table>\n",
       "</div>"
      ],
      "text/plain": [
       "     0    1  2\n",
       "1  2.0  3.0  5"
      ]
     },
     "execution_count": 56,
     "metadata": {},
     "output_type": "execute_result"
    }
   ],
   "source": [
    "df.dropna()  # drop rows with nan"
   ]
  },
  {
   "cell_type": "code",
   "execution_count": 57,
   "metadata": {
    "colab": {
     "base_uri": "https://localhost:8080/",
     "height": 143
    },
    "colab_type": "code",
    "executionInfo": {
     "elapsed": 977,
     "status": "ok",
     "timestamp": 1573024127683,
     "user": {
      "displayName": "‍최상범[ 부교수 / 통계학과 ]",
      "photoUrl": "",
      "userId": "04920731355532988232"
     },
     "user_tz": -540
    },
    "id": "uk3zkSUZsKYf",
    "outputId": "441f2cf6-f747-4a33-e321-d08213949eab"
   },
   "outputs": [
    {
     "data": {
      "text/html": [
       "<div>\n",
       "<style scoped>\n",
       "    .dataframe tbody tr th:only-of-type {\n",
       "        vertical-align: middle;\n",
       "    }\n",
       "\n",
       "    .dataframe tbody tr th {\n",
       "        vertical-align: top;\n",
       "    }\n",
       "\n",
       "    .dataframe thead th {\n",
       "        text-align: right;\n",
       "    }\n",
       "</style>\n",
       "<table border=\"1\" class=\"dataframe\">\n",
       "  <thead>\n",
       "    <tr style=\"text-align: right;\">\n",
       "      <th></th>\n",
       "      <th>2</th>\n",
       "    </tr>\n",
       "  </thead>\n",
       "  <tbody>\n",
       "    <tr>\n",
       "      <td>0</td>\n",
       "      <td>2</td>\n",
       "    </tr>\n",
       "    <tr>\n",
       "      <td>1</td>\n",
       "      <td>5</td>\n",
       "    </tr>\n",
       "    <tr>\n",
       "      <td>2</td>\n",
       "      <td>6</td>\n",
       "    </tr>\n",
       "  </tbody>\n",
       "</table>\n",
       "</div>"
      ],
      "text/plain": [
       "   2\n",
       "0  2\n",
       "1  5\n",
       "2  6"
      ]
     },
     "execution_count": 57,
     "metadata": {},
     "output_type": "execute_result"
    }
   ],
   "source": [
    "df.dropna(axis=1)  # drop columns with nan"
   ]
  },
  {
   "cell_type": "markdown",
   "metadata": {
    "colab_type": "text",
    "id": "k4zxi_B1O93-"
   },
   "source": [
    "### 2.4 Hierarchical Indexing"
   ]
  },
  {
   "cell_type": "markdown",
   "metadata": {},
   "source": [
    "- `index=[['a', 'a', 'b', 'b'], [1, 2, 1, 2]]`: index를 두개이상 지정할 수 있다.\n",
    "- multi-index(또는 multi-column만들기) : \n",
    "    ```\n",
    "    index = pd.MultiIndex.from_product([[2013, 2014], [1, 2]],\n",
    "                                   names=['year', 'visit'])\n",
    "    ```\n",
    "- (wide format을) long format으로 만들기 : `df.stack()`\n",
    "- (long format을) wide format으로 만들기 : `df.unstack()`"
   ]
  },
  {
   "cell_type": "code",
   "execution_count": 47,
   "metadata": {
    "colab": {
     "base_uri": "https://localhost:8080/",
     "height": 175
    },
    "colab_type": "code",
    "executionInfo": {
     "elapsed": 909,
     "status": "ok",
     "timestamp": 1573474134405,
     "user": {
      "displayName": "‍최상범[ 부교수 / 통계학과 ]",
      "photoUrl": "",
      "userId": "04920731355532988232"
     },
     "user_tz": -540
    },
    "id": "5_O8l47y3C9T",
    "outputId": "77f2fd53-557b-4245-f352-6044a604918d"
   },
   "outputs": [
    {
     "data": {
      "text/html": [
       "<div>\n",
       "<style scoped>\n",
       "    .dataframe tbody tr th:only-of-type {\n",
       "        vertical-align: middle;\n",
       "    }\n",
       "\n",
       "    .dataframe tbody tr th {\n",
       "        vertical-align: top;\n",
       "    }\n",
       "\n",
       "    .dataframe thead th {\n",
       "        text-align: right;\n",
       "    }\n",
       "</style>\n",
       "<table border=\"1\" class=\"dataframe\">\n",
       "  <thead>\n",
       "    <tr style=\"text-align: right;\">\n",
       "      <th></th>\n",
       "      <th></th>\n",
       "      <th>data1</th>\n",
       "      <th>data2</th>\n",
       "    </tr>\n",
       "  </thead>\n",
       "  <tbody>\n",
       "    <tr>\n",
       "      <td rowspan=\"2\" valign=\"top\">a</td>\n",
       "      <td>1</td>\n",
       "      <td>0.120208</td>\n",
       "      <td>0.935037</td>\n",
       "    </tr>\n",
       "    <tr>\n",
       "      <td>2</td>\n",
       "      <td>0.143203</td>\n",
       "      <td>0.122340</td>\n",
       "    </tr>\n",
       "    <tr>\n",
       "      <td rowspan=\"2\" valign=\"top\">b</td>\n",
       "      <td>1</td>\n",
       "      <td>0.427984</td>\n",
       "      <td>0.488205</td>\n",
       "    </tr>\n",
       "    <tr>\n",
       "      <td>2</td>\n",
       "      <td>0.586582</td>\n",
       "      <td>0.672603</td>\n",
       "    </tr>\n",
       "  </tbody>\n",
       "</table>\n",
       "</div>"
      ],
      "text/plain": [
       "        data1     data2\n",
       "a 1  0.120208  0.935037\n",
       "  2  0.143203  0.122340\n",
       "b 1  0.427984  0.488205\n",
       "  2  0.586582  0.672603"
      ]
     },
     "execution_count": 47,
     "metadata": {},
     "output_type": "execute_result"
    }
   ],
   "source": [
    "df = pd.DataFrame(np.random.rand(4, 2),\n",
    "                  index=[['a', 'a', 'b', 'b'], [1, 2, 1, 2]],\n",
    "                  columns=['data1', 'data2'])\n",
    "df"
   ]
  },
  {
   "cell_type": "code",
   "execution_count": 55,
   "metadata": {
    "colab": {
     "base_uri": "https://localhost:8080/",
     "height": 182
    },
    "colab_type": "code",
    "executionInfo": {
     "elapsed": 635,
     "status": "ok",
     "timestamp": 1572861740849,
     "user": {
      "displayName": "‍최상범[ 부교수 / 통계학과 ]",
      "photoUrl": "",
      "userId": "04920731355532988232"
     },
     "user_tz": -540
    },
    "id": "w2AMa6gf3WME",
    "outputId": "71a0feb7-a819-452f-cb66-e3868800db90"
   },
   "outputs": [
    {
     "data": {
      "text/plain": [
       "a  1  data1    0.120208\n",
       "      data2    0.935037\n",
       "   2  data1    0.143203\n",
       "      data2    0.122340\n",
       "b  1  data1    0.427984\n",
       "      data2    0.488205\n",
       "   2  data1    0.586582\n",
       "      data2    0.672603\n",
       "dtype: float64"
      ]
     },
     "execution_count": 55,
     "metadata": {},
     "output_type": "execute_result"
    }
   ],
   "source": [
    "df.stack()  # long-format data "
   ]
  },
  {
   "cell_type": "code",
   "execution_count": 56,
   "metadata": {},
   "outputs": [
    {
     "data": {
      "text/html": [
       "<div>\n",
       "<style scoped>\n",
       "    .dataframe tbody tr th:only-of-type {\n",
       "        vertical-align: middle;\n",
       "    }\n",
       "\n",
       "    .dataframe tbody tr th {\n",
       "        vertical-align: top;\n",
       "    }\n",
       "\n",
       "    .dataframe thead th {\n",
       "        text-align: right;\n",
       "    }\n",
       "</style>\n",
       "<table border=\"1\" class=\"dataframe\">\n",
       "  <thead>\n",
       "    <tr style=\"text-align: right;\">\n",
       "      <th></th>\n",
       "      <th></th>\n",
       "      <th>data1</th>\n",
       "      <th>data2</th>\n",
       "    </tr>\n",
       "  </thead>\n",
       "  <tbody>\n",
       "    <tr>\n",
       "      <td rowspan=\"2\" valign=\"top\">a</td>\n",
       "      <td>1</td>\n",
       "      <td>0.120208</td>\n",
       "      <td>0.935037</td>\n",
       "    </tr>\n",
       "    <tr>\n",
       "      <td>2</td>\n",
       "      <td>0.143203</td>\n",
       "      <td>0.122340</td>\n",
       "    </tr>\n",
       "    <tr>\n",
       "      <td rowspan=\"2\" valign=\"top\">b</td>\n",
       "      <td>1</td>\n",
       "      <td>0.427984</td>\n",
       "      <td>0.488205</td>\n",
       "    </tr>\n",
       "    <tr>\n",
       "      <td>2</td>\n",
       "      <td>0.586582</td>\n",
       "      <td>0.672603</td>\n",
       "    </tr>\n",
       "  </tbody>\n",
       "</table>\n",
       "</div>"
      ],
      "text/plain": [
       "        data1     data2\n",
       "a 1  0.120208  0.935037\n",
       "  2  0.143203  0.122340\n",
       "b 1  0.427984  0.488205\n",
       "  2  0.586582  0.672603"
      ]
     },
     "execution_count": 56,
     "metadata": {},
     "output_type": "execute_result"
    }
   ],
   "source": [
    "df"
   ]
  },
  {
   "cell_type": "code",
   "execution_count": 49,
   "metadata": {
    "colab": {
     "base_uri": "https://localhost:8080/",
     "height": 143
    },
    "colab_type": "code",
    "executionInfo": {
     "elapsed": 651,
     "status": "ok",
     "timestamp": 1572861767262,
     "user": {
      "displayName": "‍최상범[ 부교수 / 통계학과 ]",
      "photoUrl": "",
      "userId": "04920731355532988232"
     },
     "user_tz": -540
    },
    "id": "5-jLEu0V3dV7",
    "outputId": "cfe543cf-9cc9-43dc-f7b7-30a7f1000a68"
   },
   "outputs": [
    {
     "data": {
      "text/html": [
       "<div>\n",
       "<style scoped>\n",
       "    .dataframe tbody tr th:only-of-type {\n",
       "        vertical-align: middle;\n",
       "    }\n",
       "\n",
       "    .dataframe tbody tr th {\n",
       "        vertical-align: top;\n",
       "    }\n",
       "\n",
       "    .dataframe thead tr th {\n",
       "        text-align: left;\n",
       "    }\n",
       "</style>\n",
       "<table border=\"1\" class=\"dataframe\">\n",
       "  <thead>\n",
       "    <tr>\n",
       "      <th></th>\n",
       "      <th colspan=\"2\" halign=\"left\">data1</th>\n",
       "      <th colspan=\"2\" halign=\"left\">data2</th>\n",
       "    </tr>\n",
       "    <tr>\n",
       "      <th></th>\n",
       "      <th>1</th>\n",
       "      <th>2</th>\n",
       "      <th>1</th>\n",
       "      <th>2</th>\n",
       "    </tr>\n",
       "  </thead>\n",
       "  <tbody>\n",
       "    <tr>\n",
       "      <td>a</td>\n",
       "      <td>0.120208</td>\n",
       "      <td>0.143203</td>\n",
       "      <td>0.935037</td>\n",
       "      <td>0.122340</td>\n",
       "    </tr>\n",
       "    <tr>\n",
       "      <td>b</td>\n",
       "      <td>0.427984</td>\n",
       "      <td>0.586582</td>\n",
       "      <td>0.488205</td>\n",
       "      <td>0.672603</td>\n",
       "    </tr>\n",
       "  </tbody>\n",
       "</table>\n",
       "</div>"
      ],
      "text/plain": [
       "      data1               data2          \n",
       "          1         2         1         2\n",
       "a  0.120208  0.143203  0.935037  0.122340\n",
       "b  0.427984  0.586582  0.488205  0.672603"
      ]
     },
     "execution_count": 49,
     "metadata": {},
     "output_type": "execute_result"
    }
   ],
   "source": [
    "df.unstack()  # wide-format data "
   ]
  },
  {
   "cell_type": "markdown",
   "metadata": {
    "colab_type": "text",
    "id": "LyqRcEUWkdxK"
   },
   "source": [
    "In a ``DataFrame``, the rows and columns are completely symmetric, and just as the rows can have multiple levels of indices, the columns can have multiple levels as well."
   ]
  },
  {
   "cell_type": "code",
   "execution_count": 57,
   "metadata": {
    "colab": {
     "base_uri": "https://localhost:8080/",
     "height": 238
    },
    "colab_type": "code",
    "executionInfo": {
     "elapsed": 759,
     "status": "ok",
     "timestamp": 1573474323143,
     "user": {
      "displayName": "‍최상범[ 부교수 / 통계학과 ]",
      "photoUrl": "",
      "userId": "04920731355532988232"
     },
     "user_tz": -540
    },
    "id": "_bA0kP0u30Xj",
    "outputId": "642d3a95-2d9e-4496-ca77-f97a38918193"
   },
   "outputs": [
    {
     "data": {
      "text/html": [
       "<div>\n",
       "<style scoped>\n",
       "    .dataframe tbody tr th:only-of-type {\n",
       "        vertical-align: middle;\n",
       "    }\n",
       "\n",
       "    .dataframe tbody tr th {\n",
       "        vertical-align: top;\n",
       "    }\n",
       "\n",
       "    .dataframe thead tr th {\n",
       "        text-align: left;\n",
       "    }\n",
       "\n",
       "    .dataframe thead tr:last-of-type th {\n",
       "        text-align: right;\n",
       "    }\n",
       "</style>\n",
       "<table border=\"1\" class=\"dataframe\">\n",
       "  <thead>\n",
       "    <tr>\n",
       "      <th></th>\n",
       "      <th>subject</th>\n",
       "      <th colspan=\"2\" halign=\"left\">Bob</th>\n",
       "      <th colspan=\"2\" halign=\"left\">Guido</th>\n",
       "      <th colspan=\"2\" halign=\"left\">Sue</th>\n",
       "    </tr>\n",
       "    <tr>\n",
       "      <th></th>\n",
       "      <th>type</th>\n",
       "      <th>HR</th>\n",
       "      <th>Temp</th>\n",
       "      <th>HR</th>\n",
       "      <th>Temp</th>\n",
       "      <th>HR</th>\n",
       "      <th>Temp</th>\n",
       "    </tr>\n",
       "    <tr>\n",
       "      <th>year</th>\n",
       "      <th>visit</th>\n",
       "      <th></th>\n",
       "      <th></th>\n",
       "      <th></th>\n",
       "      <th></th>\n",
       "      <th></th>\n",
       "      <th></th>\n",
       "    </tr>\n",
       "  </thead>\n",
       "  <tbody>\n",
       "    <tr>\n",
       "      <td rowspan=\"2\" valign=\"top\">2013</td>\n",
       "      <td>1</td>\n",
       "      <td>16.0</td>\n",
       "      <td>37.9</td>\n",
       "      <td>35.0</td>\n",
       "      <td>37.0</td>\n",
       "      <td>42.0</td>\n",
       "      <td>36.7</td>\n",
       "    </tr>\n",
       "    <tr>\n",
       "      <td>2</td>\n",
       "      <td>39.0</td>\n",
       "      <td>37.2</td>\n",
       "      <td>23.0</td>\n",
       "      <td>36.8</td>\n",
       "      <td>34.0</td>\n",
       "      <td>38.0</td>\n",
       "    </tr>\n",
       "    <tr>\n",
       "      <td rowspan=\"2\" valign=\"top\">2014</td>\n",
       "      <td>1</td>\n",
       "      <td>40.0</td>\n",
       "      <td>37.6</td>\n",
       "      <td>20.0</td>\n",
       "      <td>35.9</td>\n",
       "      <td>43.0</td>\n",
       "      <td>35.2</td>\n",
       "    </tr>\n",
       "    <tr>\n",
       "      <td>2</td>\n",
       "      <td>46.0</td>\n",
       "      <td>37.5</td>\n",
       "      <td>60.0</td>\n",
       "      <td>39.0</td>\n",
       "      <td>34.0</td>\n",
       "      <td>37.5</td>\n",
       "    </tr>\n",
       "  </tbody>\n",
       "</table>\n",
       "</div>"
      ],
      "text/plain": [
       "subject      Bob       Guido         Sue      \n",
       "type          HR  Temp    HR  Temp    HR  Temp\n",
       "year visit                                    \n",
       "2013 1      16.0  37.9  35.0  37.0  42.0  36.7\n",
       "     2      39.0  37.2  23.0  36.8  34.0  38.0\n",
       "2014 1      40.0  37.6  20.0  35.9  43.0  35.2\n",
       "     2      46.0  37.5  60.0  39.0  34.0  37.5"
      ]
     },
     "execution_count": 57,
     "metadata": {},
     "output_type": "execute_result"
    }
   ],
   "source": [
    "# hierarchical indices and columns\n",
    "index = pd.MultiIndex.from_product([[2013, 2014], [1, 2]],\n",
    "                                   names=['year', 'visit'])\n",
    "columns = pd.MultiIndex.from_product([['Bob', 'Guido', 'Sue'], ['HR', 'Temp']],\n",
    "                                     names=['subject', 'type'])\n",
    "\n",
    "# mock some data\n",
    "data = np.round(np.random.randn(4, 6), 1)\n",
    "data[:, ::2] *= 10\n",
    "data += 37\n",
    "\n",
    "# create the DataFrame\n",
    "health_data = pd.DataFrame(data, index=index, columns=columns)\n",
    "health_data"
   ]
  },
  {
   "cell_type": "code",
   "execution_count": 71,
   "metadata": {},
   "outputs": [
    {
     "data": {
      "text/plain": [
       "MultiIndex([(2013, 1),\n",
       "            (2013, 2),\n",
       "            (2014, 1),\n",
       "            (2014, 2)],\n",
       "           names=['year', 'visit'])"
      ]
     },
     "execution_count": 71,
     "metadata": {},
     "output_type": "execute_result"
    }
   ],
   "source": [
    "health_data.index"
   ]
  },
  {
   "cell_type": "code",
   "execution_count": 58,
   "metadata": {
    "colab": {
     "base_uri": "https://localhost:8080/",
     "height": 206
    },
    "colab_type": "code",
    "executionInfo": {
     "elapsed": 702,
     "status": "ok",
     "timestamp": 1573474406520,
     "user": {
      "displayName": "‍최상범[ 부교수 / 통계학과 ]",
      "photoUrl": "",
      "userId": "04920731355532988232"
     },
     "user_tz": -540
    },
    "id": "g0GFOM7v4Agr",
    "outputId": "017b27e2-31d9-4ffc-f13a-e3af610ae679"
   },
   "outputs": [
    {
     "data": {
      "text/html": [
       "<div>\n",
       "<style scoped>\n",
       "    .dataframe tbody tr th:only-of-type {\n",
       "        vertical-align: middle;\n",
       "    }\n",
       "\n",
       "    .dataframe tbody tr th {\n",
       "        vertical-align: top;\n",
       "    }\n",
       "\n",
       "    .dataframe thead th {\n",
       "        text-align: right;\n",
       "    }\n",
       "</style>\n",
       "<table border=\"1\" class=\"dataframe\">\n",
       "  <thead>\n",
       "    <tr style=\"text-align: right;\">\n",
       "      <th></th>\n",
       "      <th>type</th>\n",
       "      <th>HR</th>\n",
       "      <th>Temp</th>\n",
       "    </tr>\n",
       "    <tr>\n",
       "      <th>year</th>\n",
       "      <th>visit</th>\n",
       "      <th></th>\n",
       "      <th></th>\n",
       "    </tr>\n",
       "  </thead>\n",
       "  <tbody>\n",
       "    <tr>\n",
       "      <td rowspan=\"2\" valign=\"top\">2013</td>\n",
       "      <td>1</td>\n",
       "      <td>35.0</td>\n",
       "      <td>37.0</td>\n",
       "    </tr>\n",
       "    <tr>\n",
       "      <td>2</td>\n",
       "      <td>23.0</td>\n",
       "      <td>36.8</td>\n",
       "    </tr>\n",
       "    <tr>\n",
       "      <td rowspan=\"2\" valign=\"top\">2014</td>\n",
       "      <td>1</td>\n",
       "      <td>20.0</td>\n",
       "      <td>35.9</td>\n",
       "    </tr>\n",
       "    <tr>\n",
       "      <td>2</td>\n",
       "      <td>60.0</td>\n",
       "      <td>39.0</td>\n",
       "    </tr>\n",
       "  </tbody>\n",
       "</table>\n",
       "</div>"
      ],
      "text/plain": [
       "type          HR  Temp\n",
       "year visit            \n",
       "2013 1      35.0  37.0\n",
       "     2      23.0  36.8\n",
       "2014 1      20.0  35.9\n",
       "     2      60.0  39.0"
      ]
     },
     "execution_count": 58,
     "metadata": {},
     "output_type": "execute_result"
    }
   ],
   "source": [
    "health_data['Guido']"
   ]
  },
  {
   "cell_type": "code",
   "execution_count": 59,
   "metadata": {
    "colab": {
     "base_uri": "https://localhost:8080/",
     "height": 127
    },
    "colab_type": "code",
    "executionInfo": {
     "elapsed": 607,
     "status": "ok",
     "timestamp": 1573474407981,
     "user": {
      "displayName": "‍최상범[ 부교수 / 통계학과 ]",
      "photoUrl": "",
      "userId": "04920731355532988232"
     },
     "user_tz": -540
    },
    "id": "K5Gkev5h4GJ7",
    "outputId": "c3ddd943-b2bf-4ee9-e8ea-1bc4d0eb0b2e"
   },
   "outputs": [
    {
     "data": {
      "text/plain": [
       "year  visit\n",
       "2013  1        35.0\n",
       "      2        23.0\n",
       "2014  1        20.0\n",
       "      2        60.0\n",
       "Name: (Guido, HR), dtype: float64"
      ]
     },
     "execution_count": 59,
     "metadata": {},
     "output_type": "execute_result"
    }
   ],
   "source": [
    "health_data['Guido', 'HR']"
   ]
  },
  {
   "cell_type": "code",
   "execution_count": 60,
   "metadata": {
    "colab": {
     "base_uri": "https://localhost:8080/",
     "height": 175
    },
    "colab_type": "code",
    "executionInfo": {
     "elapsed": 766,
     "status": "ok",
     "timestamp": 1573474418019,
     "user": {
      "displayName": "‍최상범[ 부교수 / 통계학과 ]",
      "photoUrl": "",
      "userId": "04920731355532988232"
     },
     "user_tz": -540
    },
    "id": "1pEFAuLv4KQ8",
    "outputId": "1ad57c7c-4efd-4d23-a3a0-c6201aee6aa4"
   },
   "outputs": [
    {
     "data": {
      "text/html": [
       "<div>\n",
       "<style scoped>\n",
       "    .dataframe tbody tr th:only-of-type {\n",
       "        vertical-align: middle;\n",
       "    }\n",
       "\n",
       "    .dataframe tbody tr th {\n",
       "        vertical-align: top;\n",
       "    }\n",
       "\n",
       "    .dataframe thead tr th {\n",
       "        text-align: left;\n",
       "    }\n",
       "\n",
       "    .dataframe thead tr:last-of-type th {\n",
       "        text-align: right;\n",
       "    }\n",
       "</style>\n",
       "<table border=\"1\" class=\"dataframe\">\n",
       "  <thead>\n",
       "    <tr>\n",
       "      <th></th>\n",
       "      <th>subject</th>\n",
       "      <th colspan=\"2\" halign=\"left\">Bob</th>\n",
       "    </tr>\n",
       "    <tr>\n",
       "      <th></th>\n",
       "      <th>type</th>\n",
       "      <th>HR</th>\n",
       "      <th>Temp</th>\n",
       "    </tr>\n",
       "    <tr>\n",
       "      <th>year</th>\n",
       "      <th>visit</th>\n",
       "      <th></th>\n",
       "      <th></th>\n",
       "    </tr>\n",
       "  </thead>\n",
       "  <tbody>\n",
       "    <tr>\n",
       "      <td rowspan=\"2\" valign=\"top\">2013</td>\n",
       "      <td>1</td>\n",
       "      <td>16.0</td>\n",
       "      <td>37.9</td>\n",
       "    </tr>\n",
       "    <tr>\n",
       "      <td>2</td>\n",
       "      <td>39.0</td>\n",
       "      <td>37.2</td>\n",
       "    </tr>\n",
       "  </tbody>\n",
       "</table>\n",
       "</div>"
      ],
      "text/plain": [
       "subject      Bob      \n",
       "type          HR  Temp\n",
       "year visit            \n",
       "2013 1      16.0  37.9\n",
       "     2      39.0  37.2"
      ]
     },
     "execution_count": 60,
     "metadata": {},
     "output_type": "execute_result"
    }
   ],
   "source": [
    "health_data.iloc[:2, :2]"
   ]
  },
  {
   "cell_type": "code",
   "execution_count": 61,
   "metadata": {
    "colab": {
     "base_uri": "https://localhost:8080/",
     "height": 238
    },
    "colab_type": "code",
    "executionInfo": {
     "elapsed": 712,
     "status": "ok",
     "timestamp": 1573474439168,
     "user": {
      "displayName": "‍최상범[ 부교수 / 통계학과 ]",
      "photoUrl": "",
      "userId": "04920731355532988232"
     },
     "user_tz": -540
    },
    "id": "z_V9ADhq4Lzw",
    "outputId": "a2d39313-d360-4ebc-fbec-962f5472e61d"
   },
   "outputs": [
    {
     "data": {
      "text/html": [
       "<div>\n",
       "<style scoped>\n",
       "    .dataframe tbody tr th:only-of-type {\n",
       "        vertical-align: middle;\n",
       "    }\n",
       "\n",
       "    .dataframe tbody tr th {\n",
       "        vertical-align: top;\n",
       "    }\n",
       "\n",
       "    .dataframe thead tr th {\n",
       "        text-align: left;\n",
       "    }\n",
       "\n",
       "    .dataframe thead tr:last-of-type th {\n",
       "        text-align: right;\n",
       "    }\n",
       "</style>\n",
       "<table border=\"1\" class=\"dataframe\">\n",
       "  <thead>\n",
       "    <tr>\n",
       "      <th></th>\n",
       "      <th>subject</th>\n",
       "      <th colspan=\"2\" halign=\"left\">Bob</th>\n",
       "    </tr>\n",
       "    <tr>\n",
       "      <th></th>\n",
       "      <th>type</th>\n",
       "      <th>HR</th>\n",
       "      <th>Temp</th>\n",
       "    </tr>\n",
       "    <tr>\n",
       "      <th>year</th>\n",
       "      <th>visit</th>\n",
       "      <th></th>\n",
       "      <th></th>\n",
       "    </tr>\n",
       "  </thead>\n",
       "  <tbody>\n",
       "    <tr>\n",
       "      <td rowspan=\"2\" valign=\"top\">2013</td>\n",
       "      <td>1</td>\n",
       "      <td>16.0</td>\n",
       "      <td>37.9</td>\n",
       "    </tr>\n",
       "    <tr>\n",
       "      <td>2</td>\n",
       "      <td>39.0</td>\n",
       "      <td>37.2</td>\n",
       "    </tr>\n",
       "    <tr>\n",
       "      <td rowspan=\"2\" valign=\"top\">2014</td>\n",
       "      <td>1</td>\n",
       "      <td>40.0</td>\n",
       "      <td>37.6</td>\n",
       "    </tr>\n",
       "    <tr>\n",
       "      <td>2</td>\n",
       "      <td>46.0</td>\n",
       "      <td>37.5</td>\n",
       "    </tr>\n",
       "  </tbody>\n",
       "</table>\n",
       "</div>"
      ],
      "text/plain": [
       "subject      Bob      \n",
       "type          HR  Temp\n",
       "year visit            \n",
       "2013 1      16.0  37.9\n",
       "     2      39.0  37.2\n",
       "2014 1      40.0  37.6\n",
       "     2      46.0  37.5"
      ]
     },
     "execution_count": 61,
     "metadata": {},
     "output_type": "execute_result"
    }
   ],
   "source": [
    "health_data.loc[:, ['Bob', 'HR']]"
   ]
  },
  {
   "cell_type": "markdown",
   "metadata": {
    "colab_type": "text",
    "id": "wf2IWjg70G4Z"
   },
   "source": [
    "### 2.5 Categoricals"
   ]
  },
  {
   "cell_type": "markdown",
   "metadata": {},
   "source": [
    "(`r`의 factor(& level)와 유사)\n",
    "- type casting : `a.astype('category')` => `CategoricalDtype(categories=[1, 2, 3, 4], ordered=False)`\n",
    "- level 이름 바꾸기 : `df['grade'].cat.categories = ['very good','so so','very bad']`"
   ]
  },
  {
   "cell_type": "code",
   "execution_count": 69,
   "metadata": {
    "colab": {
     "base_uri": "https://localhost:8080/",
     "height": 35
    },
    "colab_type": "code",
    "executionInfo": {
     "elapsed": 804,
     "status": "ok",
     "timestamp": 1573474810062,
     "user": {
      "displayName": "‍최상범[ 부교수 / 통계학과 ]",
      "photoUrl": "",
      "userId": "04920731355532988232"
     },
     "user_tz": -540
    },
    "id": "J6NFy8l10GnN",
    "outputId": "8ca12a29-61d6-48ea-f7c7-c55f7ef22029"
   },
   "outputs": [
    {
     "data": {
      "text/plain": [
       "dtype('int64')"
      ]
     },
     "execution_count": 69,
     "metadata": {},
     "output_type": "execute_result"
    }
   ],
   "source": [
    "a = pd.Series([1,2,3,4])\n",
    "a.dtype"
   ]
  },
  {
   "cell_type": "code",
   "execution_count": 70,
   "metadata": {
    "colab": {
     "base_uri": "https://localhost:8080/",
     "height": 319
    },
    "colab_type": "code",
    "executionInfo": {
     "elapsed": 702,
     "status": "error",
     "timestamp": 1573474813944,
     "user": {
      "displayName": "‍최상범[ 부교수 / 통계학과 ]",
      "photoUrl": "",
      "userId": "04920731355532988232"
     },
     "user_tz": -540
    },
    "id": "OTTv-6yP0b0P",
    "outputId": "9f1bcae8-b3dc-4e65-e95f-dd1ff656d6d6"
   },
   "outputs": [
    {
     "ename": "TypeError",
     "evalue": "Series cannot perform the operation +",
     "output_type": "error",
     "traceback": [
      "\u001b[0;31m---------------------------------------------------------------------------\u001b[0m",
      "\u001b[0;31mTypeError\u001b[0m                                 Traceback (most recent call last)",
      "\u001b[0;32m<ipython-input-70-3c951597f4be>\u001b[0m in \u001b[0;36m<module>\u001b[0;34m\u001b[0m\n\u001b[1;32m      1\u001b[0m \u001b[0ma2\u001b[0m \u001b[0;34m=\u001b[0m \u001b[0ma\u001b[0m\u001b[0;34m.\u001b[0m\u001b[0mastype\u001b[0m\u001b[0;34m(\u001b[0m\u001b[0;34m'category'\u001b[0m\u001b[0;34m)\u001b[0m\u001b[0;34m\u001b[0m\u001b[0;34m\u001b[0m\u001b[0m\n\u001b[0;32m----> 2\u001b[0;31m \u001b[0ma2\u001b[0m \u001b[0;34m+\u001b[0m \u001b[0;36m1\u001b[0m\u001b[0;34m\u001b[0m\u001b[0;34m\u001b[0m\u001b[0m\n\u001b[0m",
      "\u001b[0;32m/anaconda3/lib/python3.6/site-packages/pandas/core/ops/__init__.py\u001b[0m in \u001b[0;36mwrapper\u001b[0;34m(left, right)\u001b[0m\n\u001b[1;32m    983\u001b[0m             raise TypeError(\n\u001b[1;32m    984\u001b[0m                 \u001b[0;34m\"{typ} cannot perform the operation \"\u001b[0m\u001b[0;34m\u001b[0m\u001b[0;34m\u001b[0m\u001b[0m\n\u001b[0;32m--> 985\u001b[0;31m                 \u001b[0;34m\"{op}\"\u001b[0m\u001b[0;34m.\u001b[0m\u001b[0mformat\u001b[0m\u001b[0;34m(\u001b[0m\u001b[0mtyp\u001b[0m\u001b[0;34m=\u001b[0m\u001b[0mtype\u001b[0m\u001b[0;34m(\u001b[0m\u001b[0mleft\u001b[0m\u001b[0;34m)\u001b[0m\u001b[0;34m.\u001b[0m\u001b[0m__name__\u001b[0m\u001b[0;34m,\u001b[0m \u001b[0mop\u001b[0m\u001b[0;34m=\u001b[0m\u001b[0mstr_rep\u001b[0m\u001b[0;34m)\u001b[0m\u001b[0;34m\u001b[0m\u001b[0;34m\u001b[0m\u001b[0m\n\u001b[0m\u001b[1;32m    986\u001b[0m             )\n\u001b[1;32m    987\u001b[0m \u001b[0;34m\u001b[0m\u001b[0m\n",
      "\u001b[0;31mTypeError\u001b[0m: Series cannot perform the operation +"
     ]
    }
   ],
   "source": [
    "a2 = a.astype('category')\n",
    "a2 + 1"
   ]
  },
  {
   "cell_type": "code",
   "execution_count": 72,
   "metadata": {},
   "outputs": [
    {
     "data": {
      "text/plain": [
       "CategoricalDtype(categories=[1, 2, 3, 4], ordered=False)"
      ]
     },
     "execution_count": 72,
     "metadata": {},
     "output_type": "execute_result"
    }
   ],
   "source": [
    "a2.dtype"
   ]
  },
  {
   "cell_type": "code",
   "execution_count": 73,
   "metadata": {
    "colab": {
     "base_uri": "https://localhost:8080/",
     "height": 238
    },
    "colab_type": "code",
    "executionInfo": {
     "elapsed": 832,
     "status": "ok",
     "timestamp": 1573474824132,
     "user": {
      "displayName": "‍최상범[ 부교수 / 통계학과 ]",
      "photoUrl": "",
      "userId": "04920731355532988232"
     },
     "user_tz": -540
    },
    "id": "B1HI7pZE0lE0",
    "outputId": "234573cc-e2d7-4315-9f4b-42e71fb198aa"
   },
   "outputs": [
    {
     "data": {
      "text/html": [
       "<div>\n",
       "<style scoped>\n",
       "    .dataframe tbody tr th:only-of-type {\n",
       "        vertical-align: middle;\n",
       "    }\n",
       "\n",
       "    .dataframe tbody tr th {\n",
       "        vertical-align: top;\n",
       "    }\n",
       "\n",
       "    .dataframe thead th {\n",
       "        text-align: right;\n",
       "    }\n",
       "</style>\n",
       "<table border=\"1\" class=\"dataframe\">\n",
       "  <thead>\n",
       "    <tr style=\"text-align: right;\">\n",
       "      <th></th>\n",
       "      <th>id</th>\n",
       "      <th>raw_grade</th>\n",
       "    </tr>\n",
       "  </thead>\n",
       "  <tbody>\n",
       "    <tr>\n",
       "      <td>0</td>\n",
       "      <td>1</td>\n",
       "      <td>A</td>\n",
       "    </tr>\n",
       "    <tr>\n",
       "      <td>1</td>\n",
       "      <td>2</td>\n",
       "      <td>C</td>\n",
       "    </tr>\n",
       "    <tr>\n",
       "      <td>2</td>\n",
       "      <td>3</td>\n",
       "      <td>B</td>\n",
       "    </tr>\n",
       "    <tr>\n",
       "      <td>3</td>\n",
       "      <td>4</td>\n",
       "      <td>C</td>\n",
       "    </tr>\n",
       "    <tr>\n",
       "      <td>4</td>\n",
       "      <td>5</td>\n",
       "      <td>A</td>\n",
       "    </tr>\n",
       "    <tr>\n",
       "      <td>5</td>\n",
       "      <td>6</td>\n",
       "      <td>B</td>\n",
       "    </tr>\n",
       "  </tbody>\n",
       "</table>\n",
       "</div>"
      ],
      "text/plain": [
       "   id raw_grade\n",
       "0   1         A\n",
       "1   2         C\n",
       "2   3         B\n",
       "3   4         C\n",
       "4   5         A\n",
       "5   6         B"
      ]
     },
     "execution_count": 73,
     "metadata": {},
     "output_type": "execute_result"
    }
   ],
   "source": [
    "df = pd.DataFrame({'id':np.arange(1,7),\n",
    "                   'raw_grade':['A','C','B','C','A','B']})\n",
    "df"
   ]
  },
  {
   "cell_type": "code",
   "execution_count": 74,
   "metadata": {
    "colab": {
     "base_uri": "https://localhost:8080/",
     "height": 164
    },
    "colab_type": "code",
    "executionInfo": {
     "elapsed": 872,
     "status": "ok",
     "timestamp": 1573474836427,
     "user": {
      "displayName": "‍최상범[ 부교수 / 통계학과 ]",
      "photoUrl": "",
      "userId": "04920731355532988232"
     },
     "user_tz": -540
    },
    "id": "F_xfFxC21Ktb",
    "outputId": "1cb7839b-1957-461c-cd01-b5e6341c43bb"
   },
   "outputs": [
    {
     "data": {
      "text/plain": [
       "0    A\n",
       "1    C\n",
       "2    B\n",
       "3    C\n",
       "4    A\n",
       "5    B\n",
       "Name: grade, dtype: category\n",
       "Categories (3, object): [A, B, C]"
      ]
     },
     "execution_count": 74,
     "metadata": {},
     "output_type": "execute_result"
    }
   ],
   "source": [
    "df['grade'] = df['raw_grade'].astype('category')\n",
    "df['grade']"
   ]
  },
  {
   "cell_type": "code",
   "execution_count": 75,
   "metadata": {
    "colab": {
     "base_uri": "https://localhost:8080/",
     "height": 164
    },
    "colab_type": "code",
    "executionInfo": {
     "elapsed": 734,
     "status": "ok",
     "timestamp": 1573474845140,
     "user": {
      "displayName": "‍최상범[ 부교수 / 통계학과 ]",
      "photoUrl": "",
      "userId": "04920731355532988232"
     },
     "user_tz": -540
    },
    "id": "UWqZSK2H1VpT",
    "outputId": "ed2b00ad-f6a7-4cea-a474-d1f877e6a6eb"
   },
   "outputs": [
    {
     "data": {
      "text/plain": [
       "0    very good\n",
       "1     very bad\n",
       "2        so so\n",
       "3     very bad\n",
       "4    very good\n",
       "5        so so\n",
       "Name: grade, dtype: category\n",
       "Categories (3, object): [very good, so so, very bad]"
      ]
     },
     "execution_count": 75,
     "metadata": {},
     "output_type": "execute_result"
    }
   ],
   "source": [
    "df['grade'].cat.categories = ['very good','so so','very bad']\n",
    "df['grade']"
   ]
  },
  {
   "cell_type": "markdown",
   "metadata": {
    "colab_type": "text",
    "id": "DoM-amrDOVKp"
   },
   "source": [
    "### 2.6 Aggregation and Grouping"
   ]
  },
  {
   "cell_type": "markdown",
   "metadata": {},
   "source": [
    "* **Aggregation**\n",
    "\n",
    "\n",
    "| Aggregation              | Description                     |\n",
    "|--------------------------|---------------------------------|\n",
    "| ``count()``              | Total number of items           |\n",
    "| ``first()``, ``last()``  | First and last item             |\n",
    "| ``mean()``, ``median()`` | Mean and median                 |\n",
    "| ``min()``, ``max()``     | Minimum and maximum             |\n",
    "| ``std()``, ``var()``     | Standard deviation and variance |\n",
    "| ``mad()``                | Mean absolute deviation         |\n",
    "| ``prod()``               | Product of all items            |\n",
    "| ``sum()``                | Sum of all items                |\n",
    "\n",
    "- e.g. `score.count()`, `score[score.sex=='M'].count()`\n",
    "- **`.apply()`** : 사용자 정의 함수로 aggregation 가능\n",
    "<br><br>\n",
    "* **Grouping**\n",
    "    - 하나의 column만 뽑아서 통계량 계산 : `score.groupby('school')['math'].describe()`\n",
    "    - 여러개 column 뽑기 : `score.groupby('school')['math','stat'].mean()`\n",
    "    - 한번에 여러개의 통계량 계산하기(`aggregate()`) : `score.groupby('school')['math','stat'].aggregate(['mean','std'])`\n",
    "    - column 마다 서로다른 통계량 계산하기 : `score.groupby('school').aggregate({'math':'mean','stat':'std'})`"
   ]
  },
  {
   "cell_type": "markdown",
   "metadata": {},
   "source": [
    "* **Transformation**\n",
    "\n",
    "    **`.transform(lambda x: (x-x.mean())/x.std())`**(Standardization) => *DataFrame with transformed values and that has the same axis length as self*\n"
   ]
  },
  {
   "cell_type": "code",
   "execution_count": 76,
   "metadata": {
    "colab": {
     "base_uri": "https://localhost:8080/",
     "height": 426
    },
    "colab_type": "code",
    "executionInfo": {
     "elapsed": 744,
     "status": "ok",
     "timestamp": 1573474862766,
     "user": {
      "displayName": "‍최상범[ 부교수 / 통계학과 ]",
      "photoUrl": "",
      "userId": "04920731355532988232"
     },
     "user_tz": -540
    },
    "id": "x0JOWS52PNq7",
    "outputId": "4aab1b3e-ba73-48b6-93b8-a0ca070af9fb"
   },
   "outputs": [
    {
     "data": {
      "text/html": [
       "<div>\n",
       "<style scoped>\n",
       "    .dataframe tbody tr th:only-of-type {\n",
       "        vertical-align: middle;\n",
       "    }\n",
       "\n",
       "    .dataframe tbody tr th {\n",
       "        vertical-align: top;\n",
       "    }\n",
       "\n",
       "    .dataframe thead th {\n",
       "        text-align: right;\n",
       "    }\n",
       "</style>\n",
       "<table border=\"1\" class=\"dataframe\">\n",
       "  <thead>\n",
       "    <tr style=\"text-align: right;\">\n",
       "      <th></th>\n",
       "      <th>school</th>\n",
       "      <th>math</th>\n",
       "      <th>stat</th>\n",
       "      <th>sex</th>\n",
       "      <th>age</th>\n",
       "    </tr>\n",
       "  </thead>\n",
       "  <tbody>\n",
       "    <tr>\n",
       "      <td>0</td>\n",
       "      <td>Korea</td>\n",
       "      <td>66</td>\n",
       "      <td>46</td>\n",
       "      <td>M</td>\n",
       "      <td>22</td>\n",
       "    </tr>\n",
       "    <tr>\n",
       "      <td>1</td>\n",
       "      <td>Yonsei</td>\n",
       "      <td>92</td>\n",
       "      <td>96</td>\n",
       "      <td>F</td>\n",
       "      <td>24</td>\n",
       "    </tr>\n",
       "    <tr>\n",
       "      <td>2</td>\n",
       "      <td>Hanyang</td>\n",
       "      <td>98</td>\n",
       "      <td>25</td>\n",
       "      <td>M</td>\n",
       "      <td>27</td>\n",
       "    </tr>\n",
       "    <tr>\n",
       "      <td>3</td>\n",
       "      <td>Korea</td>\n",
       "      <td>17</td>\n",
       "      <td>83</td>\n",
       "      <td>F</td>\n",
       "      <td>22</td>\n",
       "    </tr>\n",
       "    <tr>\n",
       "      <td>4</td>\n",
       "      <td>Yonsei</td>\n",
       "      <td>83</td>\n",
       "      <td>78</td>\n",
       "      <td>M</td>\n",
       "      <td>24</td>\n",
       "    </tr>\n",
       "    <tr>\n",
       "      <td>5</td>\n",
       "      <td>Hanyang</td>\n",
       "      <td>57</td>\n",
       "      <td>36</td>\n",
       "      <td>F</td>\n",
       "      <td>28</td>\n",
       "    </tr>\n",
       "    <tr>\n",
       "      <td>6</td>\n",
       "      <td>Korea</td>\n",
       "      <td>86</td>\n",
       "      <td>96</td>\n",
       "      <td>M</td>\n",
       "      <td>20</td>\n",
       "    </tr>\n",
       "    <tr>\n",
       "      <td>7</td>\n",
       "      <td>Yonsei</td>\n",
       "      <td>97</td>\n",
       "      <td>80</td>\n",
       "      <td>F</td>\n",
       "      <td>27</td>\n",
       "    </tr>\n",
       "    <tr>\n",
       "      <td>8</td>\n",
       "      <td>Hanyang</td>\n",
       "      <td>96</td>\n",
       "      <td>68</td>\n",
       "      <td>M</td>\n",
       "      <td>29</td>\n",
       "    </tr>\n",
       "    <tr>\n",
       "      <td>9</td>\n",
       "      <td>Korea</td>\n",
       "      <td>47</td>\n",
       "      <td>49</td>\n",
       "      <td>F</td>\n",
       "      <td>23</td>\n",
       "    </tr>\n",
       "    <tr>\n",
       "      <td>10</td>\n",
       "      <td>Yonsei</td>\n",
       "      <td>73</td>\n",
       "      <td>55</td>\n",
       "      <td>M</td>\n",
       "      <td>24</td>\n",
       "    </tr>\n",
       "    <tr>\n",
       "      <td>11</td>\n",
       "      <td>Hanyang</td>\n",
       "      <td>32</td>\n",
       "      <td>67</td>\n",
       "      <td>F</td>\n",
       "      <td>26</td>\n",
       "    </tr>\n",
       "  </tbody>\n",
       "</table>\n",
       "</div>"
      ],
      "text/plain": [
       "     school  math  stat sex  age\n",
       "0     Korea    66    46   M   22\n",
       "1    Yonsei    92    96   F   24\n",
       "2   Hanyang    98    25   M   27\n",
       "3     Korea    17    83   F   22\n",
       "4    Yonsei    83    78   M   24\n",
       "5   Hanyang    57    36   F   28\n",
       "6     Korea    86    96   M   20\n",
       "7    Yonsei    97    80   F   27\n",
       "8   Hanyang    96    68   M   29\n",
       "9     Korea    47    49   F   23\n",
       "10   Yonsei    73    55   M   24\n",
       "11  Hanyang    32    67   F   26"
      ]
     },
     "execution_count": 76,
     "metadata": {},
     "output_type": "execute_result"
    }
   ],
   "source": [
    "rng = np.random.RandomState(123)\n",
    "school = ['Korea','Yonsei','Hanyang'] * 4\n",
    "math = rng.randint(0,100,12)\n",
    "stat = rng.randint(0,100,12)\n",
    "sex = ['M','F'] * 6\n",
    "age = rng.randint(20,30,12)\n",
    "score = pd.DataFrame({'school':school,'math':math,'stat':stat,'sex':sex,'age':age})\n",
    "score"
   ]
  },
  {
   "cell_type": "code",
   "execution_count": 78,
   "metadata": {
    "colab": {
     "base_uri": "https://localhost:8080/",
     "height": 127
    },
    "colab_type": "code",
    "executionInfo": {
     "elapsed": 724,
     "status": "ok",
     "timestamp": 1573475089074,
     "user": {
      "displayName": "‍최상범[ 부교수 / 통계학과 ]",
      "photoUrl": "",
      "userId": "04920731355532988232"
     },
     "user_tz": -540
    },
    "id": "KumkqqQ2ajbN",
    "outputId": "5476498a-5935-43b7-88ee-e9b958c47c66"
   },
   "outputs": [
    {
     "data": {
      "text/plain": [
       "school    12\n",
       "math      12\n",
       "stat      12\n",
       "sex       12\n",
       "age       12\n",
       "dtype: int64"
      ]
     },
     "execution_count": 78,
     "metadata": {},
     "output_type": "execute_result"
    }
   ],
   "source": [
    "score.count()"
   ]
  },
  {
   "cell_type": "code",
   "execution_count": 80,
   "metadata": {
    "colab": {
     "base_uri": "https://localhost:8080/",
     "height": 127
    },
    "colab_type": "code",
    "executionInfo": {
     "elapsed": 665,
     "status": "ok",
     "timestamp": 1573475090893,
     "user": {
      "displayName": "‍최상범[ 부교수 / 통계학과 ]",
      "photoUrl": "",
      "userId": "04920731355532988232"
     },
     "user_tz": -540
    },
    "id": "6GSO3CifaWFA",
    "outputId": "1e63b24b-aa3a-4d39-e449-a545c5b99afb"
   },
   "outputs": [
    {
     "data": {
      "text/plain": [
       "school    6\n",
       "math      6\n",
       "stat      6\n",
       "sex       6\n",
       "age       6\n",
       "dtype: int64"
      ]
     },
     "execution_count": 80,
     "metadata": {},
     "output_type": "execute_result"
    }
   ],
   "source": [
    "score[score.sex=='M'].count()"
   ]
  },
  {
   "cell_type": "markdown",
   "metadata": {
    "colab_type": "text",
    "id": "6VkW7BdbSjd_"
   },
   "source": [
    "The following table summarizes some other built-in Pandas aggregations:\n",
    "\n",
    "| Aggregation              | Description                     |\n",
    "|--------------------------|---------------------------------|\n",
    "| ``count()``              | Total number of items           |\n",
    "| ``first()``, ``last()``  | First and last item             |\n",
    "| ``mean()``, ``median()`` | Mean and median                 |\n",
    "| ``min()``, ``max()``     | Minimum and maximum             |\n",
    "| ``std()``, ``var()``     | Standard deviation and variance |\n",
    "| ``mad()``                | Mean absolute deviation         |\n",
    "| ``prod()``               | Product of all items            |\n",
    "| ``sum()``                | Sum of all items                |\n",
    "\n",
    "These are all methods of ``DataFrame`` and ``Series`` objects."
   ]
  },
  {
   "cell_type": "code",
   "execution_count": 79,
   "metadata": {
    "colab": {
     "base_uri": "https://localhost:8080/",
     "height": 300
    },
    "colab_type": "code",
    "executionInfo": {
     "elapsed": 975,
     "status": "ok",
     "timestamp": 1573475095421,
     "user": {
      "displayName": "‍최상범[ 부교수 / 통계학과 ]",
      "photoUrl": "",
      "userId": "04920731355532988232"
     },
     "user_tz": -540
    },
    "id": "xhIDHj8pSmUR",
    "outputId": "eefd56a0-e34d-44dc-929b-77f6f0c4bc41"
   },
   "outputs": [
    {
     "data": {
      "text/html": [
       "<div>\n",
       "<style scoped>\n",
       "    .dataframe tbody tr th:only-of-type {\n",
       "        vertical-align: middle;\n",
       "    }\n",
       "\n",
       "    .dataframe tbody tr th {\n",
       "        vertical-align: top;\n",
       "    }\n",
       "\n",
       "    .dataframe thead th {\n",
       "        text-align: right;\n",
       "    }\n",
       "</style>\n",
       "<table border=\"1\" class=\"dataframe\">\n",
       "  <thead>\n",
       "    <tr style=\"text-align: right;\">\n",
       "      <th></th>\n",
       "      <th>math</th>\n",
       "      <th>stat</th>\n",
       "      <th>age</th>\n",
       "    </tr>\n",
       "  </thead>\n",
       "  <tbody>\n",
       "    <tr>\n",
       "      <th>count</th>\n",
       "      <td>12.000000</td>\n",
       "      <td>12.000000</td>\n",
       "      <td>12.000000</td>\n",
       "    </tr>\n",
       "    <tr>\n",
       "      <th>mean</th>\n",
       "      <td>70.333333</td>\n",
       "      <td>64.916667</td>\n",
       "      <td>24.666667</td>\n",
       "    </tr>\n",
       "    <tr>\n",
       "      <th>std</th>\n",
       "      <td>27.090197</td>\n",
       "      <td>22.984019</td>\n",
       "      <td>2.741378</td>\n",
       "    </tr>\n",
       "    <tr>\n",
       "      <th>min</th>\n",
       "      <td>17.000000</td>\n",
       "      <td>25.000000</td>\n",
       "      <td>20.000000</td>\n",
       "    </tr>\n",
       "    <tr>\n",
       "      <th>25%</th>\n",
       "      <td>54.500000</td>\n",
       "      <td>48.250000</td>\n",
       "      <td>22.750000</td>\n",
       "    </tr>\n",
       "    <tr>\n",
       "      <th>50%</th>\n",
       "      <td>78.000000</td>\n",
       "      <td>67.500000</td>\n",
       "      <td>24.000000</td>\n",
       "    </tr>\n",
       "    <tr>\n",
       "      <th>75%</th>\n",
       "      <td>93.000000</td>\n",
       "      <td>80.750000</td>\n",
       "      <td>27.000000</td>\n",
       "    </tr>\n",
       "    <tr>\n",
       "      <th>max</th>\n",
       "      <td>98.000000</td>\n",
       "      <td>96.000000</td>\n",
       "      <td>29.000000</td>\n",
       "    </tr>\n",
       "  </tbody>\n",
       "</table>\n",
       "</div>"
      ],
      "text/plain": [
       "            math       stat        age\n",
       "count  12.000000  12.000000  12.000000\n",
       "mean   70.333333  64.916667  24.666667\n",
       "std    27.090197  22.984019   2.741378\n",
       "min    17.000000  25.000000  20.000000\n",
       "25%    54.500000  48.250000  22.750000\n",
       "50%    78.000000  67.500000  24.000000\n",
       "75%    93.000000  80.750000  27.000000\n",
       "max    98.000000  96.000000  29.000000"
      ]
     },
     "execution_count": 79,
     "metadata": {
      "tags": []
     },
     "output_type": "execute_result"
    }
   ],
   "source": [
    "score.describe()"
   ]
  },
  {
   "cell_type": "code",
   "execution_count": 81,
   "metadata": {
    "colab": {
     "base_uri": "https://localhost:8080/",
     "height": 35
    },
    "colab_type": "code",
    "executionInfo": {
     "elapsed": 727,
     "status": "ok",
     "timestamp": 1573475404430,
     "user": {
      "displayName": "‍최상범[ 부교수 / 통계학과 ]",
      "photoUrl": "",
      "userId": "04920731355532988232"
     },
     "user_tz": -540
    },
    "id": "g21aIl8n07O0",
    "outputId": "b04a1266-c9e7-403d-dc79-a82e525d86da"
   },
   "outputs": [
    {
     "data": {
      "text/plain": [
       "83.66666666666667"
      ]
     },
     "execution_count": 81,
     "metadata": {
      "tags": []
     },
     "output_type": "execute_result"
    }
   ],
   "source": [
    "# Math mean for male students\n",
    "score[score.sex=='M']['math'].mean()"
   ]
  },
  {
   "cell_type": "markdown",
   "metadata": {
    "colab_type": "text",
    "id": "O84Ttq5USEYv"
   },
   "source": [
    "Simple aggregations can give you a flavor of your dataset, but often we would prefer to aggregate conditionally on some label or index: this is implemented in the so-called ``groupby`` operation.\n",
    "The name \"group by\" comes from a command in the SQL database language, but it is perhaps more illuminative to think of it in the terms first coined by Hadley Wickham of Rstats fame: *split, apply, combine*."
   ]
  },
  {
   "cell_type": "code",
   "execution_count": 82,
   "metadata": {
    "colab": {
     "base_uri": "https://localhost:8080/",
     "height": 35
    },
    "colab_type": "code",
    "executionInfo": {
     "elapsed": 718,
     "status": "ok",
     "timestamp": 1573475410673,
     "user": {
      "displayName": "‍최상범[ 부교수 / 통계학과 ]",
      "photoUrl": "",
      "userId": "04920731355532988232"
     },
     "user_tz": -540
    },
    "id": "fabjExSvSZFv",
    "outputId": "0399da92-bb5e-4d61-f3e0-f52c8d0e0b8d"
   },
   "outputs": [
    {
     "data": {
      "text/plain": [
       "<pandas.core.groupby.generic.DataFrameGroupBy object at 0x7f74e1696f60>"
      ]
     },
     "execution_count": 82,
     "metadata": {
      "tags": []
     },
     "output_type": "execute_result"
    }
   ],
   "source": [
    "score.groupby('school')"
   ]
  },
  {
   "cell_type": "markdown",
   "metadata": {
    "colab_type": "text",
    "id": "AQ-7C5paUMWY"
   },
   "source": [
    "Perhaps the most important operations made available by a ``GroupBy`` are *aggregate*, *filter*, *transform*, and *apply*."
   ]
  },
  {
   "cell_type": "code",
   "execution_count": 83,
   "metadata": {
    "colab": {
     "base_uri": "https://localhost:8080/",
     "height": 175
    },
    "colab_type": "code",
    "executionInfo": {
     "elapsed": 724,
     "status": "ok",
     "timestamp": 1573475419231,
     "user": {
      "displayName": "‍최상범[ 부교수 / 통계학과 ]",
      "photoUrl": "",
      "userId": "04920731355532988232"
     },
     "user_tz": -540
    },
    "id": "juxBaPr7SeTg",
    "outputId": "05cb0961-0f3e-4cdb-c4f4-e1228b16d54c"
   },
   "outputs": [
    {
     "data": {
      "text/html": [
       "<div>\n",
       "<style scoped>\n",
       "    .dataframe tbody tr th:only-of-type {\n",
       "        vertical-align: middle;\n",
       "    }\n",
       "\n",
       "    .dataframe tbody tr th {\n",
       "        vertical-align: top;\n",
       "    }\n",
       "\n",
       "    .dataframe thead th {\n",
       "        text-align: right;\n",
       "    }\n",
       "</style>\n",
       "<table border=\"1\" class=\"dataframe\">\n",
       "  <thead>\n",
       "    <tr style=\"text-align: right;\">\n",
       "      <th></th>\n",
       "      <th>count</th>\n",
       "      <th>mean</th>\n",
       "      <th>std</th>\n",
       "      <th>min</th>\n",
       "      <th>25%</th>\n",
       "      <th>50%</th>\n",
       "      <th>75%</th>\n",
       "      <th>max</th>\n",
       "    </tr>\n",
       "    <tr>\n",
       "      <th>school</th>\n",
       "      <th></th>\n",
       "      <th></th>\n",
       "      <th></th>\n",
       "      <th></th>\n",
       "      <th></th>\n",
       "      <th></th>\n",
       "      <th></th>\n",
       "      <th></th>\n",
       "    </tr>\n",
       "  </thead>\n",
       "  <tbody>\n",
       "    <tr>\n",
       "      <th>Hanyang</th>\n",
       "      <td>4.0</td>\n",
       "      <td>70.75</td>\n",
       "      <td>31.993489</td>\n",
       "      <td>32.0</td>\n",
       "      <td>50.75</td>\n",
       "      <td>76.5</td>\n",
       "      <td>96.50</td>\n",
       "      <td>98.0</td>\n",
       "    </tr>\n",
       "    <tr>\n",
       "      <th>Korea</th>\n",
       "      <td>4.0</td>\n",
       "      <td>54.00</td>\n",
       "      <td>29.359837</td>\n",
       "      <td>17.0</td>\n",
       "      <td>39.50</td>\n",
       "      <td>56.5</td>\n",
       "      <td>71.00</td>\n",
       "      <td>86.0</td>\n",
       "    </tr>\n",
       "    <tr>\n",
       "      <th>Yonsei</th>\n",
       "      <td>4.0</td>\n",
       "      <td>86.25</td>\n",
       "      <td>10.563301</td>\n",
       "      <td>73.0</td>\n",
       "      <td>80.50</td>\n",
       "      <td>87.5</td>\n",
       "      <td>93.25</td>\n",
       "      <td>97.0</td>\n",
       "    </tr>\n",
       "  </tbody>\n",
       "</table>\n",
       "</div>"
      ],
      "text/plain": [
       "         count   mean        std   min    25%   50%    75%   max\n",
       "school                                                          \n",
       "Hanyang    4.0  70.75  31.993489  32.0  50.75  76.5  96.50  98.0\n",
       "Korea      4.0  54.00  29.359837  17.0  39.50  56.5  71.00  86.0\n",
       "Yonsei     4.0  86.25  10.563301  73.0  80.50  87.5  93.25  97.0"
      ]
     },
     "execution_count": 83,
     "metadata": {
      "tags": []
     },
     "output_type": "execute_result"
    }
   ],
   "source": [
    "score.groupby('school')['math'].describe()"
   ]
  },
  {
   "cell_type": "code",
   "execution_count": 84,
   "metadata": {
    "colab": {
     "base_uri": "https://localhost:8080/",
     "height": 175
    },
    "colab_type": "code",
    "executionInfo": {
     "elapsed": 849,
     "status": "ok",
     "timestamp": 1573475425382,
     "user": {
      "displayName": "‍최상범[ 부교수 / 통계학과 ]",
      "photoUrl": "",
      "userId": "04920731355532988232"
     },
     "user_tz": -540
    },
    "id": "siMRkD7QS_Z3",
    "outputId": "d826a3b1-11eb-4aeb-f1b9-3ee75c2cad15"
   },
   "outputs": [
    {
     "data": {
      "text/html": [
       "<div>\n",
       "<style scoped>\n",
       "    .dataframe tbody tr th:only-of-type {\n",
       "        vertical-align: middle;\n",
       "    }\n",
       "\n",
       "    .dataframe tbody tr th {\n",
       "        vertical-align: top;\n",
       "    }\n",
       "\n",
       "    .dataframe thead th {\n",
       "        text-align: right;\n",
       "    }\n",
       "</style>\n",
       "<table border=\"1\" class=\"dataframe\">\n",
       "  <thead>\n",
       "    <tr style=\"text-align: right;\">\n",
       "      <th></th>\n",
       "      <th>math</th>\n",
       "      <th>stat</th>\n",
       "    </tr>\n",
       "    <tr>\n",
       "      <th>school</th>\n",
       "      <th></th>\n",
       "      <th></th>\n",
       "    </tr>\n",
       "  </thead>\n",
       "  <tbody>\n",
       "    <tr>\n",
       "      <th>Hanyang</th>\n",
       "      <td>70.75</td>\n",
       "      <td>49.00</td>\n",
       "    </tr>\n",
       "    <tr>\n",
       "      <th>Korea</th>\n",
       "      <td>54.00</td>\n",
       "      <td>68.50</td>\n",
       "    </tr>\n",
       "    <tr>\n",
       "      <th>Yonsei</th>\n",
       "      <td>86.25</td>\n",
       "      <td>77.25</td>\n",
       "    </tr>\n",
       "  </tbody>\n",
       "</table>\n",
       "</div>"
      ],
      "text/plain": [
       "          math   stat\n",
       "school               \n",
       "Hanyang  70.75  49.00\n",
       "Korea    54.00  68.50\n",
       "Yonsei   86.25  77.25"
      ]
     },
     "execution_count": 84,
     "metadata": {
      "tags": []
     },
     "output_type": "execute_result"
    }
   ],
   "source": [
    "score.groupby('school')['math','stat'].mean()"
   ]
  },
  {
   "cell_type": "code",
   "execution_count": 85,
   "metadata": {
    "colab": {
     "base_uri": "https://localhost:8080/",
     "height": 206
    },
    "colab_type": "code",
    "executionInfo": {
     "elapsed": 704,
     "status": "ok",
     "timestamp": 1573475428557,
     "user": {
      "displayName": "‍최상범[ 부교수 / 통계학과 ]",
      "photoUrl": "",
      "userId": "04920731355532988232"
     },
     "user_tz": -540
    },
    "id": "0UqzYs_aS_K4",
    "outputId": "56d604e4-d3e2-4e6d-b961-af524edf5545"
   },
   "outputs": [
    {
     "data": {
      "text/html": [
       "<div>\n",
       "<style scoped>\n",
       "    .dataframe tbody tr th:only-of-type {\n",
       "        vertical-align: middle;\n",
       "    }\n",
       "\n",
       "    .dataframe tbody tr th {\n",
       "        vertical-align: top;\n",
       "    }\n",
       "\n",
       "    .dataframe thead tr th {\n",
       "        text-align: left;\n",
       "    }\n",
       "\n",
       "    .dataframe thead tr:last-of-type th {\n",
       "        text-align: right;\n",
       "    }\n",
       "</style>\n",
       "<table border=\"1\" class=\"dataframe\">\n",
       "  <thead>\n",
       "    <tr>\n",
       "      <th></th>\n",
       "      <th colspan=\"2\" halign=\"left\">math</th>\n",
       "      <th colspan=\"2\" halign=\"left\">stat</th>\n",
       "    </tr>\n",
       "    <tr>\n",
       "      <th></th>\n",
       "      <th>mean</th>\n",
       "      <th>std</th>\n",
       "      <th>mean</th>\n",
       "      <th>std</th>\n",
       "    </tr>\n",
       "    <tr>\n",
       "      <th>school</th>\n",
       "      <th></th>\n",
       "      <th></th>\n",
       "      <th></th>\n",
       "      <th></th>\n",
       "    </tr>\n",
       "  </thead>\n",
       "  <tbody>\n",
       "    <tr>\n",
       "      <th>Hanyang</th>\n",
       "      <td>70.75</td>\n",
       "      <td>31.993489</td>\n",
       "      <td>49.00</td>\n",
       "      <td>21.832697</td>\n",
       "    </tr>\n",
       "    <tr>\n",
       "      <th>Korea</th>\n",
       "      <td>54.00</td>\n",
       "      <td>29.359837</td>\n",
       "      <td>68.50</td>\n",
       "      <td>24.852901</td>\n",
       "    </tr>\n",
       "    <tr>\n",
       "      <th>Yonsei</th>\n",
       "      <td>86.25</td>\n",
       "      <td>10.563301</td>\n",
       "      <td>77.25</td>\n",
       "      <td>16.879475</td>\n",
       "    </tr>\n",
       "  </tbody>\n",
       "</table>\n",
       "</div>"
      ],
      "text/plain": [
       "          math              stat           \n",
       "          mean        std   mean        std\n",
       "school                                     \n",
       "Hanyang  70.75  31.993489  49.00  21.832697\n",
       "Korea    54.00  29.359837  68.50  24.852901\n",
       "Yonsei   86.25  10.563301  77.25  16.879475"
      ]
     },
     "execution_count": 85,
     "metadata": {
      "tags": []
     },
     "output_type": "execute_result"
    }
   ],
   "source": [
    "score.groupby('school')['math','stat'].aggregate(['mean','std'])"
   ]
  },
  {
   "cell_type": "code",
   "execution_count": 86,
   "metadata": {
    "colab": {
     "base_uri": "https://localhost:8080/",
     "height": 175
    },
    "colab_type": "code",
    "executionInfo": {
     "elapsed": 846,
     "status": "ok",
     "timestamp": 1573475434214,
     "user": {
      "displayName": "‍최상범[ 부교수 / 통계학과 ]",
      "photoUrl": "",
      "userId": "04920731355532988232"
     },
     "user_tz": -540
    },
    "id": "Te81WoaGWanY",
    "outputId": "274a6329-2085-4286-84cb-053fde4510e3"
   },
   "outputs": [
    {
     "data": {
      "text/html": [
       "<div>\n",
       "<style scoped>\n",
       "    .dataframe tbody tr th:only-of-type {\n",
       "        vertical-align: middle;\n",
       "    }\n",
       "\n",
       "    .dataframe tbody tr th {\n",
       "        vertical-align: top;\n",
       "    }\n",
       "\n",
       "    .dataframe thead th {\n",
       "        text-align: right;\n",
       "    }\n",
       "</style>\n",
       "<table border=\"1\" class=\"dataframe\">\n",
       "  <thead>\n",
       "    <tr style=\"text-align: right;\">\n",
       "      <th></th>\n",
       "      <th>math</th>\n",
       "      <th>stat</th>\n",
       "    </tr>\n",
       "    <tr>\n",
       "      <th>school</th>\n",
       "      <th></th>\n",
       "      <th></th>\n",
       "    </tr>\n",
       "  </thead>\n",
       "  <tbody>\n",
       "    <tr>\n",
       "      <th>Hanyang</th>\n",
       "      <td>70.75</td>\n",
       "      <td>21.832697</td>\n",
       "    </tr>\n",
       "    <tr>\n",
       "      <th>Korea</th>\n",
       "      <td>54.00</td>\n",
       "      <td>24.852901</td>\n",
       "    </tr>\n",
       "    <tr>\n",
       "      <th>Yonsei</th>\n",
       "      <td>86.25</td>\n",
       "      <td>16.879475</td>\n",
       "    </tr>\n",
       "  </tbody>\n",
       "</table>\n",
       "</div>"
      ],
      "text/plain": [
       "          math       stat\n",
       "school                   \n",
       "Hanyang  70.75  21.832697\n",
       "Korea    54.00  24.852901\n",
       "Yonsei   86.25  16.879475"
      ]
     },
     "execution_count": 86,
     "metadata": {
      "tags": []
     },
     "output_type": "execute_result"
    }
   ],
   "source": [
    "score.groupby('school').aggregate({'math':'mean','stat':'std'})"
   ]
  },
  {
   "cell_type": "markdown",
   "metadata": {
    "colab_type": "text",
    "id": "ulRjqD0_3k__"
   },
   "source": [
    "While aggregation must return a reduced version of the data, *transformation* can return some transformed version of the full data to recombine."
   ]
  },
  {
   "cell_type": "code",
   "execution_count": 15,
   "metadata": {
    "colab": {
     "base_uri": "https://localhost:8080/",
     "height": 426
    },
    "colab_type": "code",
    "executionInfo": {
     "elapsed": 668,
     "status": "ok",
     "timestamp": 1573475493161,
     "user": {
      "displayName": "‍최상범[ 부교수 / 통계학과 ]",
      "photoUrl": "",
      "userId": "04920731355532988232"
     },
     "user_tz": -540
    },
    "id": "0xq2PTxpv0Lr",
    "outputId": "c41e545c-b855-47b1-b5be-d43f1060a9ab"
   },
   "outputs": [
    {
     "data": {
      "text/html": [
       "<div>\n",
       "<style scoped>\n",
       "    .dataframe tbody tr th:only-of-type {\n",
       "        vertical-align: middle;\n",
       "    }\n",
       "\n",
       "    .dataframe tbody tr th {\n",
       "        vertical-align: top;\n",
       "    }\n",
       "\n",
       "    .dataframe thead th {\n",
       "        text-align: right;\n",
       "    }\n",
       "</style>\n",
       "<table border=\"1\" class=\"dataframe\">\n",
       "  <thead>\n",
       "    <tr style=\"text-align: right;\">\n",
       "      <th></th>\n",
       "      <th>math</th>\n",
       "      <th>stat</th>\n",
       "    </tr>\n",
       "  </thead>\n",
       "  <tbody>\n",
       "    <tr>\n",
       "      <td>0</td>\n",
       "      <td>0.408722</td>\n",
       "      <td>-0.905327</td>\n",
       "    </tr>\n",
       "    <tr>\n",
       "      <td>1</td>\n",
       "      <td>0.544337</td>\n",
       "      <td>1.110817</td>\n",
       "    </tr>\n",
       "    <tr>\n",
       "      <td>2</td>\n",
       "      <td>0.851736</td>\n",
       "      <td>-1.099269</td>\n",
       "    </tr>\n",
       "    <tr>\n",
       "      <td>3</td>\n",
       "      <td>-1.260225</td>\n",
       "      <td>0.583433</td>\n",
       "    </tr>\n",
       "    <tr>\n",
       "      <td>4</td>\n",
       "      <td>-0.307669</td>\n",
       "      <td>0.044433</td>\n",
       "    </tr>\n",
       "    <tr>\n",
       "      <td>5</td>\n",
       "      <td>-0.429775</td>\n",
       "      <td>-0.595437</td>\n",
       "    </tr>\n",
       "    <tr>\n",
       "      <td>6</td>\n",
       "      <td>1.089924</td>\n",
       "      <td>1.106511</td>\n",
       "    </tr>\n",
       "    <tr>\n",
       "      <td>7</td>\n",
       "      <td>1.017674</td>\n",
       "      <td>0.162920</td>\n",
       "    </tr>\n",
       "    <tr>\n",
       "      <td>8</td>\n",
       "      <td>0.789223</td>\n",
       "      <td>0.870254</td>\n",
       "    </tr>\n",
       "    <tr>\n",
       "      <td>9</td>\n",
       "      <td>-0.238421</td>\n",
       "      <td>-0.784617</td>\n",
       "    </tr>\n",
       "    <tr>\n",
       "      <td>10</td>\n",
       "      <td>-1.254343</td>\n",
       "      <td>-1.318169</td>\n",
       "    </tr>\n",
       "    <tr>\n",
       "      <td>11</td>\n",
       "      <td>-1.211184</td>\n",
       "      <td>0.824452</td>\n",
       "    </tr>\n",
       "  </tbody>\n",
       "</table>\n",
       "</div>"
      ],
      "text/plain": [
       "        math      stat\n",
       "0   0.408722 -0.905327\n",
       "1   0.544337  1.110817\n",
       "2   0.851736 -1.099269\n",
       "3  -1.260225  0.583433\n",
       "4  -0.307669  0.044433\n",
       "5  -0.429775 -0.595437\n",
       "6   1.089924  1.106511\n",
       "7   1.017674  0.162920\n",
       "8   0.789223  0.870254\n",
       "9  -0.238421 -0.784617\n",
       "10 -1.254343 -1.318169\n",
       "11 -1.211184  0.824452"
      ]
     },
     "execution_count": 15,
     "metadata": {},
     "output_type": "execute_result"
    }
   ],
   "source": [
    "# data transformation: standardization\n",
    "score.groupby('school')['math','stat'].transform(lambda x: (x-x.mean())/x.std())\n",
    "## cf. score[['math', 'stat']].transform(lambda x: (x-x.mean())/x.std())"
   ]
  },
  {
   "cell_type": "markdown",
   "metadata": {
    "colab_type": "text",
    "id": "5fNDQP478JoV"
   },
   "source": [
    "The apply() method lets you apply an arbitrary function to the group results."
   ]
  },
  {
   "cell_type": "code",
   "execution_count": 17,
   "metadata": {
    "colab": {
     "base_uri": "https://localhost:8080/",
     "height": 175
    },
    "colab_type": "code",
    "executionInfo": {
     "elapsed": 868,
     "status": "ok",
     "timestamp": 1573475690553,
     "user": {
      "displayName": "‍최상범[ 부교수 / 통계학과 ]",
      "photoUrl": "",
      "userId": "04920731355532988232"
     },
     "user_tz": -540
    },
    "id": "Kt1tcmgK1qTX",
    "outputId": "cc8f9092-2fdf-4062-b69f-756399671ffa"
   },
   "outputs": [
    {
     "data": {
      "text/html": [
       "<div>\n",
       "<style scoped>\n",
       "    .dataframe tbody tr th:only-of-type {\n",
       "        vertical-align: middle;\n",
       "    }\n",
       "\n",
       "    .dataframe tbody tr th {\n",
       "        vertical-align: top;\n",
       "    }\n",
       "\n",
       "    .dataframe thead th {\n",
       "        text-align: right;\n",
       "    }\n",
       "</style>\n",
       "<table border=\"1\" class=\"dataframe\">\n",
       "  <thead>\n",
       "    <tr style=\"text-align: right;\">\n",
       "      <th></th>\n",
       "      <th>math</th>\n",
       "      <th>stat</th>\n",
       "    </tr>\n",
       "    <tr>\n",
       "      <th>school</th>\n",
       "      <th></th>\n",
       "      <th></th>\n",
       "    </tr>\n",
       "  </thead>\n",
       "  <tbody>\n",
       "    <tr>\n",
       "      <td>Hanyang</td>\n",
       "      <td>1023.583333</td>\n",
       "      <td>476.666667</td>\n",
       "    </tr>\n",
       "    <tr>\n",
       "      <td>Korea</td>\n",
       "      <td>862.000000</td>\n",
       "      <td>617.666667</td>\n",
       "    </tr>\n",
       "    <tr>\n",
       "      <td>Yonsei</td>\n",
       "      <td>111.583333</td>\n",
       "      <td>284.916667</td>\n",
       "    </tr>\n",
       "  </tbody>\n",
       "</table>\n",
       "</div>"
      ],
      "text/plain": [
       "                math        stat\n",
       "school                          \n",
       "Hanyang  1023.583333  476.666667\n",
       "Korea     862.000000  617.666667\n",
       "Yonsei    111.583333  284.916667"
      ]
     },
     "execution_count": 17,
     "metadata": {},
     "output_type": "execute_result"
    }
   ],
   "source": [
    "def sample_var(x):\n",
    "    return np.sum((x-x.mean())**2)/(x.count()-1)\n",
    "\n",
    "score.groupby('school')[['math','stat']].apply(sample_var)"
   ]
  },
  {
   "cell_type": "code",
   "execution_count": 83,
   "metadata": {},
   "outputs": [
    {
     "data": {
      "text/html": [
       "<div>\n",
       "<style scoped>\n",
       "    .dataframe tbody tr th:only-of-type {\n",
       "        vertical-align: middle;\n",
       "    }\n",
       "\n",
       "    .dataframe tbody tr th {\n",
       "        vertical-align: top;\n",
       "    }\n",
       "\n",
       "    .dataframe thead th {\n",
       "        text-align: right;\n",
       "    }\n",
       "</style>\n",
       "<table border=\"1\" class=\"dataframe\">\n",
       "  <thead>\n",
       "    <tr style=\"text-align: right;\">\n",
       "      <th></th>\n",
       "      <th>math</th>\n",
       "      <th>stat</th>\n",
       "    </tr>\n",
       "    <tr>\n",
       "      <th>school</th>\n",
       "      <th></th>\n",
       "      <th></th>\n",
       "    </tr>\n",
       "  </thead>\n",
       "  <tbody>\n",
       "    <tr>\n",
       "      <td>Hanyang</td>\n",
       "      <td>1023.583333</td>\n",
       "      <td>476.666667</td>\n",
       "    </tr>\n",
       "    <tr>\n",
       "      <td>Korea</td>\n",
       "      <td>862.000000</td>\n",
       "      <td>617.666667</td>\n",
       "    </tr>\n",
       "    <tr>\n",
       "      <td>Yonsei</td>\n",
       "      <td>111.583333</td>\n",
       "      <td>284.916667</td>\n",
       "    </tr>\n",
       "  </tbody>\n",
       "</table>\n",
       "</div>"
      ],
      "text/plain": [
       "                math        stat\n",
       "school                          \n",
       "Hanyang  1023.583333  476.666667\n",
       "Korea     862.000000  617.666667\n",
       "Yonsei    111.583333  284.916667"
      ]
     },
     "execution_count": 83,
     "metadata": {},
     "output_type": "execute_result"
    }
   ],
   "source": [
    "score.groupby('school')[['math', 'stat']].std()**2"
   ]
  },
  {
   "cell_type": "code",
   "execution_count": 84,
   "metadata": {},
   "outputs": [
    {
     "data": {
      "text/html": [
       "<div>\n",
       "<style scoped>\n",
       "    .dataframe tbody tr th:only-of-type {\n",
       "        vertical-align: middle;\n",
       "    }\n",
       "\n",
       "    .dataframe tbody tr th {\n",
       "        vertical-align: top;\n",
       "    }\n",
       "\n",
       "    .dataframe thead th {\n",
       "        text-align: right;\n",
       "    }\n",
       "</style>\n",
       "<table border=\"1\" class=\"dataframe\">\n",
       "  <thead>\n",
       "    <tr style=\"text-align: right;\">\n",
       "      <th></th>\n",
       "      <th></th>\n",
       "      <th>math</th>\n",
       "      <th>stat</th>\n",
       "    </tr>\n",
       "    <tr>\n",
       "      <th>school</th>\n",
       "      <th>sex</th>\n",
       "      <th></th>\n",
       "      <th></th>\n",
       "    </tr>\n",
       "  </thead>\n",
       "  <tbody>\n",
       "    <tr>\n",
       "      <td rowspan=\"2\" valign=\"top\">Hanyang</td>\n",
       "      <td>F</td>\n",
       "      <td>44.5</td>\n",
       "      <td>51.5</td>\n",
       "    </tr>\n",
       "    <tr>\n",
       "      <td>M</td>\n",
       "      <td>97.0</td>\n",
       "      <td>46.5</td>\n",
       "    </tr>\n",
       "    <tr>\n",
       "      <td rowspan=\"2\" valign=\"top\">Korea</td>\n",
       "      <td>F</td>\n",
       "      <td>32.0</td>\n",
       "      <td>66.0</td>\n",
       "    </tr>\n",
       "    <tr>\n",
       "      <td>M</td>\n",
       "      <td>76.0</td>\n",
       "      <td>71.0</td>\n",
       "    </tr>\n",
       "    <tr>\n",
       "      <td rowspan=\"2\" valign=\"top\">Yonsei</td>\n",
       "      <td>F</td>\n",
       "      <td>94.5</td>\n",
       "      <td>88.0</td>\n",
       "    </tr>\n",
       "    <tr>\n",
       "      <td>M</td>\n",
       "      <td>78.0</td>\n",
       "      <td>66.5</td>\n",
       "    </tr>\n",
       "  </tbody>\n",
       "</table>\n",
       "</div>"
      ],
      "text/plain": [
       "             math  stat\n",
       "school  sex            \n",
       "Hanyang F    44.5  51.5\n",
       "        M    97.0  46.5\n",
       "Korea   F    32.0  66.0\n",
       "        M    76.0  71.0\n",
       "Yonsei  F    94.5  88.0\n",
       "        M    78.0  66.5"
      ]
     },
     "execution_count": 84,
     "metadata": {},
     "output_type": "execute_result"
    }
   ],
   "source": [
    "score.groupby(['school','sex'])['math','stat'].mean()"
   ]
  },
  {
   "cell_type": "code",
   "execution_count": 25,
   "metadata": {
    "colab": {
     "base_uri": "https://localhost:8080/",
     "height": 206
    },
    "colab_type": "code",
    "executionInfo": {
     "elapsed": 896,
     "status": "ok",
     "timestamp": 1573475696074,
     "user": {
      "displayName": "‍최상범[ 부교수 / 통계학과 ]",
      "photoUrl": "",
      "userId": "04920731355532988232"
     },
     "user_tz": -540
    },
    "id": "Cv8FL23N_glA",
    "outputId": "ea2c36d7-e81b-4f9d-92d6-f12632b4aa5f"
   },
   "outputs": [
    {
     "data": {
      "text/html": [
       "<div>\n",
       "<style scoped>\n",
       "    .dataframe tbody tr th:only-of-type {\n",
       "        vertical-align: middle;\n",
       "    }\n",
       "\n",
       "    .dataframe tbody tr th {\n",
       "        vertical-align: top;\n",
       "    }\n",
       "\n",
       "    .dataframe thead tr th {\n",
       "        text-align: left;\n",
       "    }\n",
       "\n",
       "    .dataframe thead tr:last-of-type th {\n",
       "        text-align: right;\n",
       "    }\n",
       "</style>\n",
       "<table border=\"1\" class=\"dataframe\">\n",
       "  <thead>\n",
       "    <tr>\n",
       "      <th></th>\n",
       "      <th colspan=\"2\" halign=\"left\">math</th>\n",
       "      <th colspan=\"2\" halign=\"left\">stat</th>\n",
       "    </tr>\n",
       "    <tr>\n",
       "      <th>sex</th>\n",
       "      <th>F</th>\n",
       "      <th>M</th>\n",
       "      <th>F</th>\n",
       "      <th>M</th>\n",
       "    </tr>\n",
       "    <tr>\n",
       "      <th>school</th>\n",
       "      <th></th>\n",
       "      <th></th>\n",
       "      <th></th>\n",
       "      <th></th>\n",
       "    </tr>\n",
       "  </thead>\n",
       "  <tbody>\n",
       "    <tr>\n",
       "      <td>Hanyang</td>\n",
       "      <td>44.5</td>\n",
       "      <td>97.0</td>\n",
       "      <td>51.5</td>\n",
       "      <td>46.5</td>\n",
       "    </tr>\n",
       "    <tr>\n",
       "      <td>Korea</td>\n",
       "      <td>32.0</td>\n",
       "      <td>76.0</td>\n",
       "      <td>66.0</td>\n",
       "      <td>71.0</td>\n",
       "    </tr>\n",
       "    <tr>\n",
       "      <td>Yonsei</td>\n",
       "      <td>94.5</td>\n",
       "      <td>78.0</td>\n",
       "      <td>88.0</td>\n",
       "      <td>66.5</td>\n",
       "    </tr>\n",
       "  </tbody>\n",
       "</table>\n",
       "</div>"
      ],
      "text/plain": [
       "         math        stat      \n",
       "sex         F     M     F     M\n",
       "school                         \n",
       "Hanyang  44.5  97.0  51.5  46.5\n",
       "Korea    32.0  76.0  66.0  71.0\n",
       "Yonsei   94.5  78.0  88.0  66.5"
      ]
     },
     "execution_count": 25,
     "metadata": {},
     "output_type": "execute_result"
    }
   ],
   "source": [
    "# R> group_by(school, sex) %>% filter(math,stat) %>% summarise(mean) %>% 'tidy data'\n",
    "score.groupby(['school','sex'])['math','stat'].mean() ##long format\n",
    "score.groupby(['school','sex'])['math','stat'].mean().unstack()  ##wide format"
   ]
  },
  {
   "cell_type": "markdown",
   "metadata": {
    "colab_type": "text",
    "id": "MmSaFcLWtLK_"
   },
   "source": [
    "### 2.7 Time Series and Plotting"
   ]
  },
  {
   "cell_type": "markdown",
   "metadata": {},
   "source": [
    "* **DateTime object 만들기**\n",
    "    - `pd.to_datetime()`\n",
    "    - `pd.date_range(\"2014/01/01\",periods=120,freq='M')` <br>\n",
    "        cf. `pd.period_range()` for periods, and `pd.timedelta_range()`for time deltas.\n",
    "    - `.to_period('M')` : 달 단위로 바꾸기\n",
    "    - `.to_timestamp()` : 월 초로 바꾸기"
   ]
  },
  {
   "cell_type": "code",
   "execution_count": 38,
   "metadata": {
    "colab": {
     "base_uri": "https://localhost:8080/",
     "height": 72
    },
    "colab_type": "code",
    "executionInfo": {
     "elapsed": 770,
     "status": "ok",
     "timestamp": 1573476212378,
     "user": {
      "displayName": "‍최상범[ 부교수 / 통계학과 ]",
      "photoUrl": "",
      "userId": "04920731355532988232"
     },
     "user_tz": -540
    },
    "id": "D1L-RvkBfSxO",
    "outputId": "dd9134ff-68bd-45fd-dbb2-d03e1b27f520"
   },
   "outputs": [
    {
     "data": {
      "text/plain": [
       "DatetimeIndex(['2015-07-03', '2015-07-04', '2015-07-06', '2015-07-07',\n",
       "               '2015-07-08'],\n",
       "              dtype='datetime64[ns]', freq=None)"
      ]
     },
     "execution_count": 38,
     "metadata": {},
     "output_type": "execute_result"
    }
   ],
   "source": [
    "dates = pd.to_datetime(['2015, 7, 3', '4th of July, 2015',\n",
    "                       '2015-Jul-6', '07-07-2015', '20150708'])\n",
    "dates"
   ]
  },
  {
   "cell_type": "code",
   "execution_count": 39,
   "metadata": {
    "colab": {
     "base_uri": "https://localhost:8080/",
     "height": 164
    },
    "colab_type": "code",
    "executionInfo": {
     "elapsed": 734,
     "status": "ok",
     "timestamp": 1573476223455,
     "user": {
      "displayName": "‍최상범[ 부교수 / 통계학과 ]",
      "photoUrl": "",
      "userId": "04920731355532988232"
     },
     "user_tz": -540
    },
    "id": "v7C4Sfq1tcZ3",
    "outputId": "95a11c33-35da-4389-bfe8-36677cafa3dd"
   },
   "outputs": [
    {
     "data": {
      "text/plain": [
       "DatetimeIndex(['2014-01-31', '2014-02-28', '2014-03-31', '2014-04-30',\n",
       "               '2014-05-31', '2014-06-30', '2014-07-31', '2014-08-31',\n",
       "               '2014-09-30', '2014-10-31',\n",
       "               ...\n",
       "               '2023-03-31', '2023-04-30', '2023-05-31', '2023-06-30',\n",
       "               '2023-07-31', '2023-08-31', '2023-09-30', '2023-10-31',\n",
       "               '2023-11-30', '2023-12-31'],\n",
       "              dtype='datetime64[ns]', length=120, freq='M')"
      ]
     },
     "execution_count": 39,
     "metadata": {},
     "output_type": "execute_result"
    }
   ],
   "source": [
    "rng = pd.date_range(\"2014/01/01\",periods=120,freq='M')\n",
    "rng"
   ]
  },
  {
   "cell_type": "code",
   "execution_count": 40,
   "metadata": {
    "colab": {
     "base_uri": "https://localhost:8080/",
     "height": 127
    },
    "colab_type": "code",
    "executionInfo": {
     "elapsed": 682,
     "status": "ok",
     "timestamp": 1573476022784,
     "user": {
      "displayName": "‍최상범[ 부교수 / 통계학과 ]",
      "photoUrl": "",
      "userId": "04920731355532988232"
     },
     "user_tz": -540
    },
    "id": "gl5tqYNPuIyB",
    "outputId": "bd34703f-51f2-43ae-cf6c-5dd18a61268a"
   },
   "outputs": [
    {
     "data": {
      "text/plain": [
       "2014-01-31   -0.515518\n",
       "2014-02-28   -0.176998\n",
       "2014-03-31   -0.344334\n",
       "2014-04-30   -0.261589\n",
       "2014-05-31   -1.253120\n",
       "Freq: M, dtype: float64"
      ]
     },
     "execution_count": 40,
     "metadata": {},
     "output_type": "execute_result"
    }
   ],
   "source": [
    "# random walk\n",
    "stock = error = np.random.randn(len(rng))\n",
    "for i in range(1,len(rng)):\n",
    "    stock[i] = stock[i-1] + error[i]\n",
    "\n",
    "stock = pd.Series(stock,index=rng)\n",
    "stock.head()"
   ]
  },
  {
   "cell_type": "code",
   "execution_count": 41,
   "metadata": {
    "colab": {
     "base_uri": "https://localhost:8080/",
     "height": 127
    },
    "colab_type": "code",
    "executionInfo": {
     "elapsed": 778,
     "status": "ok",
     "timestamp": 1573476043717,
     "user": {
      "displayName": "‍최상범[ 부교수 / 통계학과 ]",
      "photoUrl": "",
      "userId": "04920731355532988232"
     },
     "user_tz": -540
    },
    "id": "tORYKT_GvNe9",
    "outputId": "cc88782e-bea8-4619-c9dc-a7834caceedc"
   },
   "outputs": [
    {
     "data": {
      "text/plain": [
       "2014-01   -0.515518\n",
       "2014-02   -0.176998\n",
       "2014-03   -0.344334\n",
       "2014-04   -0.261589\n",
       "2014-05   -1.253120\n",
       "Freq: M, dtype: float64"
      ]
     },
     "execution_count": 41,
     "metadata": {},
     "output_type": "execute_result"
    }
   ],
   "source": [
    "# Change time period to 'M'onth\n",
    "ts = stock.to_period('M')\n",
    "ts.head()"
   ]
  },
  {
   "cell_type": "code",
   "execution_count": 42,
   "metadata": {
    "colab": {
     "base_uri": "https://localhost:8080/",
     "height": 237
    },
    "colab_type": "code",
    "executionInfo": {
     "elapsed": 747,
     "status": "ok",
     "timestamp": 1573476051402,
     "user": {
      "displayName": "‍최상범[ 부교수 / 통계학과 ]",
      "photoUrl": "",
      "userId": "04920731355532988232"
     },
     "user_tz": -540
    },
    "id": "XkAhrQe8vo26",
    "outputId": "49e8f317-e377-4e3a-d13d-120255d9c71b"
   },
   "outputs": [
    {
     "data": {
      "text/plain": [
       "2014-01-01    -0.515518\n",
       "2014-02-01    -0.176998\n",
       "2014-03-01    -0.344334\n",
       "2014-04-01    -0.261589\n",
       "2014-05-01    -1.253120\n",
       "                ...    \n",
       "2023-08-01   -21.709455\n",
       "2023-09-01   -20.197798\n",
       "2023-10-01   -20.092433\n",
       "2023-11-01   -20.050363\n",
       "2023-12-01   -21.011453\n",
       "Freq: MS, Length: 120, dtype: float64"
      ]
     },
     "execution_count": 42,
     "metadata": {},
     "output_type": "execute_result"
    }
   ],
   "source": [
    "# Cast to DatetimeIndex of timestamps, at beginning of period.\n",
    "ts.to_timestamp()"
   ]
  },
  {
   "cell_type": "code",
   "execution_count": 43,
   "metadata": {
    "colab": {
     "base_uri": "https://localhost:8080/",
     "height": 283
    },
    "colab_type": "code",
    "executionInfo": {
     "elapsed": 1197,
     "status": "ok",
     "timestamp": 1573476059813,
     "user": {
      "displayName": "‍최상범[ 부교수 / 통계학과 ]",
      "photoUrl": "",
      "userId": "04920731355532988232"
     },
     "user_tz": -540
    },
    "id": "8GERcdzMwANt",
    "outputId": "5bdcf1a7-9ec2-4fa0-c426-6567435dab4c"
   },
   "outputs": [
    {
     "data": {
      "text/plain": [
       "<matplotlib.axes._subplots.AxesSubplot at 0x11621ac50>"
      ]
     },
     "execution_count": 43,
     "metadata": {},
     "output_type": "execute_result"
    },
    {
     "data": {
      "image/png": "[encoded data removed]",
      "text/plain": [
       "<Figure size 432x288 with 1 Axes>"
      ]
     },
     "metadata": {
      "needs_background": "light"
     },
     "output_type": "display_data"
    }
   ],
   "source": [
    "ts.plot()"
   ]
  },
  {
   "cell_type": "code",
   "execution_count": 44,
   "metadata": {
    "colab": {
     "base_uri": "https://localhost:8080/",
     "height": 295
    },
    "colab_type": "code",
    "executionInfo": {
     "elapsed": 844,
     "status": "ok",
     "timestamp": 1573476076099,
     "user": {
      "displayName": "‍최상범[ 부교수 / 통계학과 ]",
      "photoUrl": "",
      "userId": "04920731355532988232"
     },
     "user_tz": -540
    },
    "id": "I1syoHj0y4bz",
    "outputId": "d5fe7e20-6513-4d31-eadf-09f6c4341c83"
   },
   "outputs": [
    {
     "data": {
      "text/plain": [
       "<matplotlib.axes._subplots.AxesSubplot at 0x121f67a20>"
      ]
     },
     "execution_count": 44,
     "metadata": {},
     "output_type": "execute_result"
    },
    {
     "data": {
      "image/png": "[encoded data removed]",
      "text/plain": [
       "<Figure size 432x288 with 1 Axes>"
      ]
     },
     "metadata": {
      "needs_background": "light"
     },
     "output_type": "display_data"
    }
   ],
   "source": [
    "# Another example:\n",
    "ts = pd.Series(np.random.randn(1000),\n",
    "               index=pd.date_range('1/1/2010',periods=1000))\n",
    "ts = ts.cumsum()\n",
    "ts.plot()"
   ]
  },
  {
   "cell_type": "markdown",
   "metadata": {},
   "source": [
    "---"
   ]
  },
  {
   "cell_type": "markdown",
   "metadata": {},
   "source": [
    "## 3. Dataset Manipulation"
   ]
  },
  {
   "cell_type": "markdown",
   "metadata": {
    "colab_type": "text",
    "id": "2s-jMTJYO-HE"
   },
   "source": [
    "### 3.1 Combining Datasets"
   ]
  },
  {
   "cell_type": "markdown",
   "metadata": {},
   "source": [
    "\n",
    "\n",
    "\n",
    "\n",
    "\n",
    "1. **`pd.concat([Q1,Q2], ignore_index=, join= , axis=0)`** : (default) **아래**로 붙이기( = `x.append(y)` 결과동일)\n",
    "    - `ignore_index = True`: 순서대로 붙이기.  index 재정렬\n",
    "    - `join='inner'`: 공통으로 가지고 있는 열만 아래로 붙임\n",
    "    - `axis = 1`: 옆으로 붙이기(--> 그냥 `merge`써라   cf. `axis=0` (default) 아래로 붙이기 \n",
    "    - multi index로 붙이기 : `pd.concat([x,y], keys=['x','y']`\n",
    "\n",
    "\n",
    "\n",
    "2. **`pd.merge([Q1,Q2], on=, how=)`** : \n",
    "    -  `on='b'` : 'b'열을 기준으로 옆으로 붙이기\n",
    "    - 모든 가능한 콤비네이션으로 붙임/**데이터 loss가 없도록**\n",
    "    - 같은 이름의 변수가 있을경우 e.g. `b`--> `b_x`, `b_y`\n",
    "    - 공통되는 열의 이름이 다를 경우 : `left_on = `, '`right_on = `--> 둘 중 하나(열) 제거 `drop('e', axis = 1)`\n",
    "    - `how`: **inner(교집합), outer(합집합), left(왼쪽에 있는걸 기준으로 해라)**\n",
    "    \n",
    "\n",
    "\n",
    "\n"
   ]
  },
  {
   "cell_type": "code",
   "execution_count": 66,
   "metadata": {
    "colab": {
     "base_uri": "https://localhost:8080/",
     "height": 146
    },
    "colab_type": "code",
    "executionInfo": {
     "elapsed": 841,
     "status": "ok",
     "timestamp": 1573474451759,
     "user": {
      "displayName": "‍최상범[ 부교수 / 통계학과 ]",
      "photoUrl": "",
      "userId": "04920731355532988232"
     },
     "user_tz": -540
    },
    "id": "M_YSVAgz43ME",
    "outputId": "d6746934-4c09-4fb0-a717-267dd71fe92e"
   },
   "outputs": [
    {
     "data": {
      "text/plain": [
       "1    A\n",
       "2    B\n",
       "3    C\n",
       "4    D\n",
       "5    E\n",
       "6    F\n",
       "dtype: object"
      ]
     },
     "execution_count": 66,
     "metadata": {},
     "output_type": "execute_result"
    }
   ],
   "source": [
    "ser1 = pd.Series(['A', 'B', 'C'], index=[1, 2, 3])\n",
    "ser2 = pd.Series(['D', 'E', 'F'], index=[4, 5, 6])\n",
    "pd.concat([ser1, ser2])"
   ]
  },
  {
   "cell_type": "code",
   "execution_count": 67,
   "metadata": {
    "colab": {
     "base_uri": "https://localhost:8080/",
     "height": 164
    },
    "colab_type": "code",
    "executionInfo": {
     "elapsed": 704,
     "status": "ok",
     "timestamp": 1573474491258,
     "user": {
      "displayName": "‍최상범[ 부교수 / 통계학과 ]",
      "photoUrl": "",
      "userId": "04920731355532988232"
     },
     "user_tz": -540
    },
    "id": "ROj88i3o52EY",
    "outputId": "b5dbdf12-ee40-4be7-85e5-59d30950faa5"
   },
   "outputs": [
    {
     "name": "stdout",
     "output_type": "stream",
     "text": [
      "   A  B\n",
      "1  1  2\n",
      "2  3  4\n",
      "3  5  6\n",
      "    A   B\n",
      "2  10  20\n",
      "3  30  40\n",
      "4  50  60\n"
     ]
    }
   ],
   "source": [
    "x_mat = np.arange(1,7).reshape(3,2)\n",
    "y_mat = 10*x_mat\n",
    "x = pd.DataFrame(x_mat,columns=list('AB'),index=[1,2,3])\n",
    "y = pd.DataFrame(y_mat,columns=list('AB'),index=[2,3,4])\n",
    "print(x)\n",
    "print(y)"
   ]
  },
  {
   "cell_type": "code",
   "execution_count": 68,
   "metadata": {
    "colab": {
     "base_uri": "https://localhost:8080/",
     "height": 238
    },
    "colab_type": "code",
    "executionInfo": {
     "elapsed": 727,
     "status": "ok",
     "timestamp": 1573474493040,
     "user": {
      "displayName": "‍최상범[ 부교수 / 통계학과 ]",
      "photoUrl": "",
      "userId": "04920731355532988232"
     },
     "user_tz": -540
    },
    "id": "7X58o3HC7unB",
    "outputId": "bd1c5519-e26d-406d-d5d0-a272cceeace4"
   },
   "outputs": [
    {
     "data": {
      "text/html": [
       "<div>\n",
       "<style scoped>\n",
       "    .dataframe tbody tr th:only-of-type {\n",
       "        vertical-align: middle;\n",
       "    }\n",
       "\n",
       "    .dataframe tbody tr th {\n",
       "        vertical-align: top;\n",
       "    }\n",
       "\n",
       "    .dataframe thead th {\n",
       "        text-align: right;\n",
       "    }\n",
       "</style>\n",
       "<table border=\"1\" class=\"dataframe\">\n",
       "  <thead>\n",
       "    <tr style=\"text-align: right;\">\n",
       "      <th></th>\n",
       "      <th>A</th>\n",
       "      <th>B</th>\n",
       "    </tr>\n",
       "  </thead>\n",
       "  <tbody>\n",
       "    <tr>\n",
       "      <td>1</td>\n",
       "      <td>1</td>\n",
       "      <td>2</td>\n",
       "    </tr>\n",
       "    <tr>\n",
       "      <td>2</td>\n",
       "      <td>3</td>\n",
       "      <td>4</td>\n",
       "    </tr>\n",
       "    <tr>\n",
       "      <td>3</td>\n",
       "      <td>5</td>\n",
       "      <td>6</td>\n",
       "    </tr>\n",
       "    <tr>\n",
       "      <td>2</td>\n",
       "      <td>10</td>\n",
       "      <td>20</td>\n",
       "    </tr>\n",
       "    <tr>\n",
       "      <td>3</td>\n",
       "      <td>30</td>\n",
       "      <td>40</td>\n",
       "    </tr>\n",
       "    <tr>\n",
       "      <td>4</td>\n",
       "      <td>50</td>\n",
       "      <td>60</td>\n",
       "    </tr>\n",
       "  </tbody>\n",
       "</table>\n",
       "</div>"
      ],
      "text/plain": [
       "    A   B\n",
       "1   1   2\n",
       "2   3   4\n",
       "3   5   6\n",
       "2  10  20\n",
       "3  30  40\n",
       "4  50  60"
      ]
     },
     "execution_count": 68,
     "metadata": {},
     "output_type": "execute_result"
    }
   ],
   "source": [
    "pd.concat([x,y],axis=0)"
   ]
  },
  {
   "cell_type": "code",
   "execution_count": 60,
   "metadata": {
    "colab": {
     "base_uri": "https://localhost:8080/",
     "height": 238
    },
    "colab_type": "code",
    "executionInfo": {
     "elapsed": 783,
     "status": "ok",
     "timestamp": 1573474494956,
     "user": {
      "displayName": "‍최상범[ 부교수 / 통계학과 ]",
      "photoUrl": "",
      "userId": "04920731355532988232"
     },
     "user_tz": -540
    },
    "id": "XKJ65-fz8V5w",
    "outputId": "bab3a437-68e7-4169-fd5b-11906e8bcc5a"
   },
   "outputs": [
    {
     "data": {
      "text/html": [
       "<div>\n",
       "<style scoped>\n",
       "    .dataframe tbody tr th:only-of-type {\n",
       "        vertical-align: middle;\n",
       "    }\n",
       "\n",
       "    .dataframe tbody tr th {\n",
       "        vertical-align: top;\n",
       "    }\n",
       "\n",
       "    .dataframe thead th {\n",
       "        text-align: right;\n",
       "    }\n",
       "</style>\n",
       "<table border=\"1\" class=\"dataframe\">\n",
       "  <thead>\n",
       "    <tr style=\"text-align: right;\">\n",
       "      <th></th>\n",
       "      <th>A</th>\n",
       "      <th>B</th>\n",
       "    </tr>\n",
       "  </thead>\n",
       "  <tbody>\n",
       "    <tr>\n",
       "      <th>0</th>\n",
       "      <td>1</td>\n",
       "      <td>2</td>\n",
       "    </tr>\n",
       "    <tr>\n",
       "      <th>1</th>\n",
       "      <td>3</td>\n",
       "      <td>4</td>\n",
       "    </tr>\n",
       "    <tr>\n",
       "      <th>2</th>\n",
       "      <td>5</td>\n",
       "      <td>6</td>\n",
       "    </tr>\n",
       "    <tr>\n",
       "      <th>3</th>\n",
       "      <td>10</td>\n",
       "      <td>20</td>\n",
       "    </tr>\n",
       "    <tr>\n",
       "      <th>4</th>\n",
       "      <td>30</td>\n",
       "      <td>40</td>\n",
       "    </tr>\n",
       "    <tr>\n",
       "      <th>5</th>\n",
       "      <td>50</td>\n",
       "      <td>60</td>\n",
       "    </tr>\n",
       "  </tbody>\n",
       "</table>\n",
       "</div>"
      ],
      "text/plain": [
       "    A   B\n",
       "0   1   2\n",
       "1   3   4\n",
       "2   5   6\n",
       "3  10  20\n",
       "4  30  40\n",
       "5  50  60"
      ]
     },
     "execution_count": 60,
     "metadata": {
      "tags": []
     },
     "output_type": "execute_result"
    }
   ],
   "source": [
    "pd.concat([x,y],ignore_index=True)"
   ]
  },
  {
   "cell_type": "code",
   "execution_count": 61,
   "metadata": {
    "colab": {
     "base_uri": "https://localhost:8080/",
     "height": 175
    },
    "colab_type": "code",
    "executionInfo": {
     "elapsed": 758,
     "status": "ok",
     "timestamp": 1573474496369,
     "user": {
      "displayName": "‍최상범[ 부교수 / 통계학과 ]",
      "photoUrl": "",
      "userId": "04920731355532988232"
     },
     "user_tz": -540
    },
    "id": "mnv_diSu7wNk",
    "outputId": "c39f44c3-8796-4b82-cd0b-6c012adb693e"
   },
   "outputs": [
    {
     "data": {
      "text/html": [
       "<div>\n",
       "<style scoped>\n",
       "    .dataframe tbody tr th:only-of-type {\n",
       "        vertical-align: middle;\n",
       "    }\n",
       "\n",
       "    .dataframe tbody tr th {\n",
       "        vertical-align: top;\n",
       "    }\n",
       "\n",
       "    .dataframe thead th {\n",
       "        text-align: right;\n",
       "    }\n",
       "</style>\n",
       "<table border=\"1\" class=\"dataframe\">\n",
       "  <thead>\n",
       "    <tr style=\"text-align: right;\">\n",
       "      <th></th>\n",
       "      <th>A</th>\n",
       "      <th>B</th>\n",
       "      <th>A</th>\n",
       "      <th>B</th>\n",
       "    </tr>\n",
       "  </thead>\n",
       "  <tbody>\n",
       "    <tr>\n",
       "      <th>1</th>\n",
       "      <td>1.0</td>\n",
       "      <td>2.0</td>\n",
       "      <td>NaN</td>\n",
       "      <td>NaN</td>\n",
       "    </tr>\n",
       "    <tr>\n",
       "      <th>2</th>\n",
       "      <td>3.0</td>\n",
       "      <td>4.0</td>\n",
       "      <td>10.0</td>\n",
       "      <td>20.0</td>\n",
       "    </tr>\n",
       "    <tr>\n",
       "      <th>3</th>\n",
       "      <td>5.0</td>\n",
       "      <td>6.0</td>\n",
       "      <td>30.0</td>\n",
       "      <td>40.0</td>\n",
       "    </tr>\n",
       "    <tr>\n",
       "      <th>4</th>\n",
       "      <td>NaN</td>\n",
       "      <td>NaN</td>\n",
       "      <td>50.0</td>\n",
       "      <td>60.0</td>\n",
       "    </tr>\n",
       "  </tbody>\n",
       "</table>\n",
       "</div>"
      ],
      "text/plain": [
       "     A    B     A     B\n",
       "1  1.0  2.0   NaN   NaN\n",
       "2  3.0  4.0  10.0  20.0\n",
       "3  5.0  6.0  30.0  40.0\n",
       "4  NaN  NaN  50.0  60.0"
      ]
     },
     "execution_count": 61,
     "metadata": {
      "tags": []
     },
     "output_type": "execute_result"
    }
   ],
   "source": [
    "pd.concat([x,y],axis=1)"
   ]
  },
  {
   "cell_type": "code",
   "execution_count": 55,
   "metadata": {
    "colab": {
     "base_uri": "https://localhost:8080/",
     "height": 238
    },
    "colab_type": "code",
    "executionInfo": {
     "elapsed": 693,
     "status": "ok",
     "timestamp": 1573474483546,
     "user": {
      "displayName": "‍최상범[ 부교수 / 통계학과 ]",
      "photoUrl": "",
      "userId": "04920731355532988232"
     },
     "user_tz": -540
    },
    "id": "1DdD9E0m9HrV",
    "outputId": "545c4e83-2cce-44fa-facb-fd06b3b506c6"
   },
   "outputs": [
    {
     "data": {
      "text/html": [
       "<div>\n",
       "<style scoped>\n",
       "    .dataframe tbody tr th:only-of-type {\n",
       "        vertical-align: middle;\n",
       "    }\n",
       "\n",
       "    .dataframe tbody tr th {\n",
       "        vertical-align: top;\n",
       "    }\n",
       "\n",
       "    .dataframe thead th {\n",
       "        text-align: right;\n",
       "    }\n",
       "</style>\n",
       "<table border=\"1\" class=\"dataframe\">\n",
       "  <thead>\n",
       "    <tr style=\"text-align: right;\">\n",
       "      <th></th>\n",
       "      <th>A</th>\n",
       "      <th>B</th>\n",
       "    </tr>\n",
       "  </thead>\n",
       "  <tbody>\n",
       "    <tr>\n",
       "      <th>1</th>\n",
       "      <td>1</td>\n",
       "      <td>2</td>\n",
       "    </tr>\n",
       "    <tr>\n",
       "      <th>2</th>\n",
       "      <td>3</td>\n",
       "      <td>4</td>\n",
       "    </tr>\n",
       "    <tr>\n",
       "      <th>3</th>\n",
       "      <td>5</td>\n",
       "      <td>6</td>\n",
       "    </tr>\n",
       "    <tr>\n",
       "      <th>2</th>\n",
       "      <td>10</td>\n",
       "      <td>20</td>\n",
       "    </tr>\n",
       "    <tr>\n",
       "      <th>3</th>\n",
       "      <td>30</td>\n",
       "      <td>40</td>\n",
       "    </tr>\n",
       "    <tr>\n",
       "      <th>4</th>\n",
       "      <td>50</td>\n",
       "      <td>60</td>\n",
       "    </tr>\n",
       "  </tbody>\n",
       "</table>\n",
       "</div>"
      ],
      "text/plain": [
       "    A   B\n",
       "1   1   2\n",
       "2   3   4\n",
       "3   5   6\n",
       "2  10  20\n",
       "3  30  40\n",
       "4  50  60"
      ]
     },
     "execution_count": 55,
     "metadata": {
      "tags": []
     },
     "output_type": "execute_result"
    }
   ],
   "source": [
    "# The append() method\n",
    "x.append(y)"
   ]
  },
  {
   "cell_type": "code",
   "execution_count": 62,
   "metadata": {
    "colab": {
     "base_uri": "https://localhost:8080/",
     "height": 164
    },
    "colab_type": "code",
    "executionInfo": {
     "elapsed": 773,
     "status": "ok",
     "timestamp": 1573474516234,
     "user": {
      "displayName": "‍최상범[ 부교수 / 통계학과 ]",
      "photoUrl": "",
      "userId": "04920731355532988232"
     },
     "user_tz": -540
    },
    "id": "a3JjoqHg8CSF",
    "outputId": "455f3b6f-0fe0-4290-be85-dbbd9e6e2115"
   },
   "outputs": [
    {
     "name": "stdout",
     "output_type": "stream",
     "text": [
      "   A  B\n",
      "1  1  2\n",
      "2  3  4\n",
      "3  5  6\n",
      "    A   B\n",
      "1  10  20\n",
      "2  30  40\n",
      "3  50  60\n"
     ]
    }
   ],
   "source": [
    "x_mat = np.arange(1,7).reshape(3,2)\n",
    "y_mat = 10*x_mat\n",
    "x = pd.DataFrame(x_mat,columns=list('AB'))\n",
    "y = pd.DataFrame(y_mat,columns=list('AB'))\n",
    "x.index = y.index = [1,2,3]\n",
    "print(x)\n",
    "print(y)"
   ]
  },
  {
   "cell_type": "code",
   "execution_count": 63,
   "metadata": {
    "colab": {
     "base_uri": "https://localhost:8080/",
     "height": 238
    },
    "colab_type": "code",
    "executionInfo": {
     "elapsed": 657,
     "status": "ok",
     "timestamp": 1573474519397,
     "user": {
      "displayName": "‍최상범[ 부교수 / 통계학과 ]",
      "photoUrl": "",
      "userId": "04920731355532988232"
     },
     "user_tz": -540
    },
    "id": "ZemU7R9V85Vn",
    "outputId": "92c5240c-3628-430b-9d05-0f0b60421130"
   },
   "outputs": [
    {
     "data": {
      "text/html": [
       "<div>\n",
       "<style scoped>\n",
       "    .dataframe tbody tr th:only-of-type {\n",
       "        vertical-align: middle;\n",
       "    }\n",
       "\n",
       "    .dataframe tbody tr th {\n",
       "        vertical-align: top;\n",
       "    }\n",
       "\n",
       "    .dataframe thead th {\n",
       "        text-align: right;\n",
       "    }\n",
       "</style>\n",
       "<table border=\"1\" class=\"dataframe\">\n",
       "  <thead>\n",
       "    <tr style=\"text-align: right;\">\n",
       "      <th></th>\n",
       "      <th></th>\n",
       "      <th>A</th>\n",
       "      <th>B</th>\n",
       "    </tr>\n",
       "  </thead>\n",
       "  <tbody>\n",
       "    <tr>\n",
       "      <th rowspan=\"3\" valign=\"top\">x</th>\n",
       "      <th>1</th>\n",
       "      <td>1</td>\n",
       "      <td>2</td>\n",
       "    </tr>\n",
       "    <tr>\n",
       "      <th>2</th>\n",
       "      <td>3</td>\n",
       "      <td>4</td>\n",
       "    </tr>\n",
       "    <tr>\n",
       "      <th>3</th>\n",
       "      <td>5</td>\n",
       "      <td>6</td>\n",
       "    </tr>\n",
       "    <tr>\n",
       "      <th rowspan=\"3\" valign=\"top\">y</th>\n",
       "      <th>1</th>\n",
       "      <td>10</td>\n",
       "      <td>20</td>\n",
       "    </tr>\n",
       "    <tr>\n",
       "      <th>2</th>\n",
       "      <td>30</td>\n",
       "      <td>40</td>\n",
       "    </tr>\n",
       "    <tr>\n",
       "      <th>3</th>\n",
       "      <td>50</td>\n",
       "      <td>60</td>\n",
       "    </tr>\n",
       "  </tbody>\n",
       "</table>\n",
       "</div>"
      ],
      "text/plain": [
       "      A   B\n",
       "x 1   1   2\n",
       "  2   3   4\n",
       "  3   5   6\n",
       "y 1  10  20\n",
       "  2  30  40\n",
       "  3  50  60"
      ]
     },
     "execution_count": 63,
     "metadata": {
      "tags": []
     },
     "output_type": "execute_result"
    }
   ],
   "source": [
    "pd.concat([x,y], keys=['x','y'])"
   ]
  },
  {
   "cell_type": "markdown",
   "metadata": {
    "colab_type": "text",
    "id": "bCKsXvJGA2O-"
   },
   "source": [
    "### 3.2 Pivot Tables "
   ]
  },
  {
   "cell_type": "markdown",
   "metadata": {
    "colab_type": "text",
    "id": "JeAoM9NBBDeW"
   },
   "source": [
    "We have seen how the ``GroupBy`` abstraction lets us explore relationships within a dataset.\n",
    "A *pivot table* is a similar operation that is commonly seen in spreadsheets and other programs that operate on tabular data.\n",
    "The pivot table takes simple column-wise data as input, and groups the entries into a two-dimensional table that provides a multidimensional summarization of the data."
   ]
  },
  {
   "cell_type": "markdown",
   "metadata": {},
   "source": [
    "```\n",
    "pivot_table(\n",
    "    values=None(aggregation 할 값),\n",
    "    index=None(row 뭘로 할까),\n",
    "    columns=None(column 뭘로 할까),\n",
    "    aggfunc='mean'(어떻게 aggreagation 할까),\n",
    "    fill_value=None,\n",
    "    margins=False,\n",
    "    dropna=True,\n",
    "    margins_name='All',\n",
    "    observed=False,\n",
    ")\n",
    "Docstring:\n",
    "Create a spreadsheet-style pivot table as a DataFrame. The levels in\n",
    "the pivot table will be stored in MultiIndex objects (hierarchical\n",
    "indexes)\n",
    "```"
   ]
  },
  {
   "cell_type": "code",
   "execution_count": 26,
   "metadata": {
    "colab": {
     "base_uri": "https://localhost:8080/",
     "height": 206
    },
    "colab_type": "code",
    "executionInfo": {
     "elapsed": 2180,
     "status": "ok",
     "timestamp": 1573475789160,
     "user": {
      "displayName": "‍최상범[ 부교수 / 통계학과 ]",
      "photoUrl": "",
      "userId": "04920731355532988232"
     },
     "user_tz": -540
    },
    "id": "-ieHisbUD34G",
    "outputId": "a02d45e4-81bc-4b07-cfcf-25cfaf277f04"
   },
   "outputs": [
    {
     "data": {
      "text/html": [
       "<div>\n",
       "<style scoped>\n",
       "    .dataframe tbody tr th:only-of-type {\n",
       "        vertical-align: middle;\n",
       "    }\n",
       "\n",
       "    .dataframe tbody tr th {\n",
       "        vertical-align: top;\n",
       "    }\n",
       "\n",
       "    .dataframe thead th {\n",
       "        text-align: right;\n",
       "    }\n",
       "</style>\n",
       "<table border=\"1\" class=\"dataframe\">\n",
       "  <thead>\n",
       "    <tr style=\"text-align: right;\">\n",
       "      <th></th>\n",
       "      <th>survived</th>\n",
       "      <th>pclass</th>\n",
       "      <th>sex</th>\n",
       "      <th>age</th>\n",
       "      <th>sibsp</th>\n",
       "      <th>parch</th>\n",
       "      <th>fare</th>\n",
       "      <th>embarked</th>\n",
       "      <th>class</th>\n",
       "      <th>who</th>\n",
       "      <th>adult_male</th>\n",
       "      <th>deck</th>\n",
       "      <th>embark_town</th>\n",
       "      <th>alive</th>\n",
       "      <th>alone</th>\n",
       "    </tr>\n",
       "  </thead>\n",
       "  <tbody>\n",
       "    <tr>\n",
       "      <td>0</td>\n",
       "      <td>0</td>\n",
       "      <td>3</td>\n",
       "      <td>male</td>\n",
       "      <td>22.0</td>\n",
       "      <td>1</td>\n",
       "      <td>0</td>\n",
       "      <td>7.2500</td>\n",
       "      <td>S</td>\n",
       "      <td>Third</td>\n",
       "      <td>man</td>\n",
       "      <td>True</td>\n",
       "      <td>NaN</td>\n",
       "      <td>Southampton</td>\n",
       "      <td>no</td>\n",
       "      <td>False</td>\n",
       "    </tr>\n",
       "    <tr>\n",
       "      <td>1</td>\n",
       "      <td>1</td>\n",
       "      <td>1</td>\n",
       "      <td>female</td>\n",
       "      <td>38.0</td>\n",
       "      <td>1</td>\n",
       "      <td>0</td>\n",
       "      <td>71.2833</td>\n",
       "      <td>C</td>\n",
       "      <td>First</td>\n",
       "      <td>woman</td>\n",
       "      <td>False</td>\n",
       "      <td>C</td>\n",
       "      <td>Cherbourg</td>\n",
       "      <td>yes</td>\n",
       "      <td>False</td>\n",
       "    </tr>\n",
       "    <tr>\n",
       "      <td>2</td>\n",
       "      <td>1</td>\n",
       "      <td>3</td>\n",
       "      <td>female</td>\n",
       "      <td>26.0</td>\n",
       "      <td>0</td>\n",
       "      <td>0</td>\n",
       "      <td>7.9250</td>\n",
       "      <td>S</td>\n",
       "      <td>Third</td>\n",
       "      <td>woman</td>\n",
       "      <td>False</td>\n",
       "      <td>NaN</td>\n",
       "      <td>Southampton</td>\n",
       "      <td>yes</td>\n",
       "      <td>True</td>\n",
       "    </tr>\n",
       "    <tr>\n",
       "      <td>3</td>\n",
       "      <td>1</td>\n",
       "      <td>1</td>\n",
       "      <td>female</td>\n",
       "      <td>35.0</td>\n",
       "      <td>1</td>\n",
       "      <td>0</td>\n",
       "      <td>53.1000</td>\n",
       "      <td>S</td>\n",
       "      <td>First</td>\n",
       "      <td>woman</td>\n",
       "      <td>False</td>\n",
       "      <td>C</td>\n",
       "      <td>Southampton</td>\n",
       "      <td>yes</td>\n",
       "      <td>False</td>\n",
       "    </tr>\n",
       "    <tr>\n",
       "      <td>4</td>\n",
       "      <td>0</td>\n",
       "      <td>3</td>\n",
       "      <td>male</td>\n",
       "      <td>35.0</td>\n",
       "      <td>0</td>\n",
       "      <td>0</td>\n",
       "      <td>8.0500</td>\n",
       "      <td>S</td>\n",
       "      <td>Third</td>\n",
       "      <td>man</td>\n",
       "      <td>True</td>\n",
       "      <td>NaN</td>\n",
       "      <td>Southampton</td>\n",
       "      <td>no</td>\n",
       "      <td>True</td>\n",
       "    </tr>\n",
       "  </tbody>\n",
       "</table>\n",
       "</div>"
      ],
      "text/plain": [
       "   survived  pclass     sex   age  sibsp  parch     fare embarked  class  \\\n",
       "0         0       3    male  22.0      1      0   7.2500        S  Third   \n",
       "1         1       1  female  38.0      1      0  71.2833        C  First   \n",
       "2         1       3  female  26.0      0      0   7.9250        S  Third   \n",
       "3         1       1  female  35.0      1      0  53.1000        S  First   \n",
       "4         0       3    male  35.0      0      0   8.0500        S  Third   \n",
       "\n",
       "     who  adult_male deck  embark_town alive  alone  \n",
       "0    man        True  NaN  Southampton    no  False  \n",
       "1  woman       False    C    Cherbourg   yes  False  \n",
       "2  woman       False  NaN  Southampton   yes   True  \n",
       "3  woman       False    C  Southampton   yes  False  \n",
       "4    man        True  NaN  Southampton    no   True  "
      ]
     },
     "execution_count": 26,
     "metadata": {},
     "output_type": "execute_result"
    }
   ],
   "source": [
    "import seaborn as sns\n",
    "titanic = sns.load_dataset('titanic')\n",
    "titanic.head()"
   ]
  },
  {
   "cell_type": "code",
   "execution_count": 27,
   "metadata": {
    "colab": {
     "base_uri": "https://localhost:8080/",
     "height": 90
    },
    "colab_type": "code",
    "executionInfo": {
     "elapsed": 1319,
     "status": "ok",
     "timestamp": 1573475792285,
     "user": {
      "displayName": "‍최상범[ 부교수 / 통계학과 ]",
      "photoUrl": "",
      "userId": "04920731355532988232"
     },
     "user_tz": -540
    },
    "id": "Qln491ZIECBl",
    "outputId": "8c3b03d6-890e-4955-dac2-fb81fd8f94a9"
   },
   "outputs": [
    {
     "data": {
      "text/plain": [
       "sex\n",
       "female    0.742038\n",
       "male      0.188908\n",
       "Name: survived, dtype: float64"
      ]
     },
     "execution_count": 27,
     "metadata": {},
     "output_type": "execute_result"
    }
   ],
   "source": [
    "titanic.groupby('sex')['survived'].mean()"
   ]
  },
  {
   "cell_type": "code",
   "execution_count": 28,
   "metadata": {
    "colab": {
     "base_uri": "https://localhost:8080/",
     "height": 143
    },
    "colab_type": "code",
    "executionInfo": {
     "elapsed": 1330,
     "status": "ok",
     "timestamp": 1573475795465,
     "user": {
      "displayName": "‍최상범[ 부교수 / 통계학과 ]",
      "photoUrl": "",
      "userId": "04920731355532988232"
     },
     "user_tz": -540
    },
    "id": "4PvCqsn1ERDm",
    "outputId": "5ff64d03-65b1-47f9-ac26-da4e319d57da"
   },
   "outputs": [
    {
     "data": {
      "text/html": [
       "<div>\n",
       "<style scoped>\n",
       "    .dataframe tbody tr th:only-of-type {\n",
       "        vertical-align: middle;\n",
       "    }\n",
       "\n",
       "    .dataframe tbody tr th {\n",
       "        vertical-align: top;\n",
       "    }\n",
       "\n",
       "    .dataframe thead th {\n",
       "        text-align: right;\n",
       "    }\n",
       "</style>\n",
       "<table border=\"1\" class=\"dataframe\">\n",
       "  <thead>\n",
       "    <tr style=\"text-align: right;\">\n",
       "      <th>class</th>\n",
       "      <th>First</th>\n",
       "      <th>Second</th>\n",
       "      <th>Third</th>\n",
       "    </tr>\n",
       "    <tr>\n",
       "      <th>sex</th>\n",
       "      <th></th>\n",
       "      <th></th>\n",
       "      <th></th>\n",
       "    </tr>\n",
       "  </thead>\n",
       "  <tbody>\n",
       "    <tr>\n",
       "      <td>female</td>\n",
       "      <td>0.968085</td>\n",
       "      <td>0.921053</td>\n",
       "      <td>0.500000</td>\n",
       "    </tr>\n",
       "    <tr>\n",
       "      <td>male</td>\n",
       "      <td>0.368852</td>\n",
       "      <td>0.157407</td>\n",
       "      <td>0.135447</td>\n",
       "    </tr>\n",
       "  </tbody>\n",
       "</table>\n",
       "</div>"
      ],
      "text/plain": [
       "class      First    Second     Third\n",
       "sex                                 \n",
       "female  0.968085  0.921053  0.500000\n",
       "male    0.368852  0.157407  0.135447"
      ]
     },
     "execution_count": 28,
     "metadata": {},
     "output_type": "execute_result"
    }
   ],
   "source": [
    "# Group by class and gender, select survival, apply a mean aggregate, \n",
    "# combine the resulting groups, and then unstack the hierarchical index \n",
    "# to reveal the hidden multidimensionality\n",
    "titanic.groupby(['sex','class'])['survived'].aggregate('mean').unstack()\n",
    "## titanic.groupby(['sex', 'class'])['survived'].mean().unstack() : 같은 결과"
   ]
  },
  {
   "cell_type": "code",
   "execution_count": 96,
   "metadata": {
    "colab": {
     "base_uri": "https://localhost:8080/",
     "height": 143
    },
    "colab_type": "code",
    "executionInfo": {
     "elapsed": 1498,
     "status": "ok",
     "timestamp": 1573475801870,
     "user": {
      "displayName": "‍최상범[ 부교수 / 통계학과 ]",
      "photoUrl": "",
      "userId": "04920731355532988232"
     },
     "user_tz": -540
    },
    "id": "BKRH68GAEBzf",
    "outputId": "9d01ff74-f91e-4bbc-ae3f-b16bce871343"
   },
   "outputs": [
    {
     "data": {
      "text/html": [
       "<div>\n",
       "<style scoped>\n",
       "    .dataframe tbody tr th:only-of-type {\n",
       "        vertical-align: middle;\n",
       "    }\n",
       "\n",
       "    .dataframe tbody tr th {\n",
       "        vertical-align: top;\n",
       "    }\n",
       "\n",
       "    .dataframe thead th {\n",
       "        text-align: right;\n",
       "    }\n",
       "</style>\n",
       "<table border=\"1\" class=\"dataframe\">\n",
       "  <thead>\n",
       "    <tr style=\"text-align: right;\">\n",
       "      <th>class</th>\n",
       "      <th>First</th>\n",
       "      <th>Second</th>\n",
       "      <th>Third</th>\n",
       "    </tr>\n",
       "    <tr>\n",
       "      <th>sex</th>\n",
       "      <th></th>\n",
       "      <th></th>\n",
       "      <th></th>\n",
       "    </tr>\n",
       "  </thead>\n",
       "  <tbody>\n",
       "    <tr>\n",
       "      <th>female</th>\n",
       "      <td>0.968085</td>\n",
       "      <td>0.921053</td>\n",
       "      <td>0.500000</td>\n",
       "    </tr>\n",
       "    <tr>\n",
       "      <th>male</th>\n",
       "      <td>0.368852</td>\n",
       "      <td>0.157407</td>\n",
       "      <td>0.135447</td>\n",
       "    </tr>\n",
       "  </tbody>\n",
       "</table>\n",
       "</div>"
      ],
      "text/plain": [
       "class      First    Second     Third\n",
       "sex                                 \n",
       "female  0.968085  0.921053  0.500000\n",
       "male    0.368852  0.157407  0.135447"
      ]
     },
     "execution_count": 96,
     "metadata": {
      "tags": []
     },
     "output_type": "execute_result"
    }
   ],
   "source": [
    "# Here is the equivalent to the preceding operation using the ``pivot_table`` method:\n",
    "titanic.pivot_table('survived',index='sex',columns='class')\n",
    "# titanic.pivot_table('survived','sex','class')  # same results"
   ]
  },
  {
   "cell_type": "code",
   "execution_count": 32,
   "metadata": {
    "colab": {
     "base_uri": "https://localhost:8080/",
     "height": 206
    },
    "colab_type": "code",
    "executionInfo": {
     "elapsed": 748,
     "status": "ok",
     "timestamp": 1573475839375,
     "user": {
      "displayName": "‍최상범[ 부교수 / 통계학과 ]",
      "photoUrl": "",
      "userId": "04920731355532988232"
     },
     "user_tz": -540
    },
    "id": "Cnda9XvxFXvQ",
    "outputId": "936fa0eb-f39f-4b4a-d66e-d33a0868b8e0"
   },
   "outputs": [
    {
     "data": {
      "text/html": [
       "<div>\n",
       "<style scoped>\n",
       "    .dataframe tbody tr th:only-of-type {\n",
       "        vertical-align: middle;\n",
       "    }\n",
       "\n",
       "    .dataframe tbody tr th {\n",
       "        vertical-align: top;\n",
       "    }\n",
       "\n",
       "    .dataframe thead th {\n",
       "        text-align: right;\n",
       "    }\n",
       "</style>\n",
       "<table border=\"1\" class=\"dataframe\">\n",
       "  <thead>\n",
       "    <tr style=\"text-align: right;\">\n",
       "      <th></th>\n",
       "      <th>class</th>\n",
       "      <th>First</th>\n",
       "      <th>Second</th>\n",
       "      <th>Third</th>\n",
       "    </tr>\n",
       "    <tr>\n",
       "      <th>sex</th>\n",
       "      <th>age</th>\n",
       "      <th></th>\n",
       "      <th></th>\n",
       "      <th></th>\n",
       "    </tr>\n",
       "  </thead>\n",
       "  <tbody>\n",
       "    <tr>\n",
       "      <td rowspan=\"2\" valign=\"top\">female</td>\n",
       "      <td>(0, 18]</td>\n",
       "      <td>0.909091</td>\n",
       "      <td>1.000000</td>\n",
       "      <td>0.511628</td>\n",
       "    </tr>\n",
       "    <tr>\n",
       "      <td>(18, 80]</td>\n",
       "      <td>0.972973</td>\n",
       "      <td>0.900000</td>\n",
       "      <td>0.423729</td>\n",
       "    </tr>\n",
       "    <tr>\n",
       "      <td rowspan=\"2\" valign=\"top\">male</td>\n",
       "      <td>(0, 18]</td>\n",
       "      <td>0.800000</td>\n",
       "      <td>0.600000</td>\n",
       "      <td>0.215686</td>\n",
       "    </tr>\n",
       "    <tr>\n",
       "      <td>(18, 80]</td>\n",
       "      <td>0.375000</td>\n",
       "      <td>0.071429</td>\n",
       "      <td>0.133663</td>\n",
       "    </tr>\n",
       "  </tbody>\n",
       "</table>\n",
       "</div>"
      ],
      "text/plain": [
       "class               First    Second     Third\n",
       "sex    age                                   \n",
       "female (0, 18]   0.909091  1.000000  0.511628\n",
       "       (18, 80]  0.972973  0.900000  0.423729\n",
       "male   (0, 18]   0.800000  0.600000  0.215686\n",
       "       (18, 80]  0.375000  0.071429  0.133663"
      ]
     },
     "execution_count": 32,
     "metadata": {},
     "output_type": "execute_result"
    }
   ],
   "source": [
    "age = pd.cut(titanic['age'],[0,18,80])\n",
    "titanic.pivot_table('survived',['sex',age],'class')"
   ]
  },
  {
   "cell_type": "code",
   "execution_count": 33,
   "metadata": {
    "colab": {
     "base_uri": "https://localhost:8080/",
     "height": 175
    },
    "colab_type": "code",
    "executionInfo": {
     "elapsed": 704,
     "status": "ok",
     "timestamp": 1573475873248,
     "user": {
      "displayName": "‍최상범[ 부교수 / 통계학과 ]",
      "photoUrl": "",
      "userId": "04920731355532988232"
     },
     "user_tz": -540
    },
    "id": "7CPADNidGKz8",
    "outputId": "4142153e-7d27-4232-8e6c-de12e8d7ad85"
   },
   "outputs": [
    {
     "data": {
      "text/html": [
       "<div>\n",
       "<style scoped>\n",
       "    .dataframe tbody tr th:only-of-type {\n",
       "        vertical-align: middle;\n",
       "    }\n",
       "\n",
       "    .dataframe tbody tr th {\n",
       "        vertical-align: top;\n",
       "    }\n",
       "\n",
       "    .dataframe thead tr th {\n",
       "        text-align: left;\n",
       "    }\n",
       "\n",
       "    .dataframe thead tr:last-of-type th {\n",
       "        text-align: right;\n",
       "    }\n",
       "</style>\n",
       "<table border=\"1\" class=\"dataframe\">\n",
       "  <thead>\n",
       "    <tr>\n",
       "      <th></th>\n",
       "      <th colspan=\"3\" halign=\"left\">fare</th>\n",
       "      <th colspan=\"3\" halign=\"left\">survived</th>\n",
       "    </tr>\n",
       "    <tr>\n",
       "      <th>class</th>\n",
       "      <th>First</th>\n",
       "      <th>Second</th>\n",
       "      <th>Third</th>\n",
       "      <th>First</th>\n",
       "      <th>Second</th>\n",
       "      <th>Third</th>\n",
       "    </tr>\n",
       "    <tr>\n",
       "      <th>sex</th>\n",
       "      <th></th>\n",
       "      <th></th>\n",
       "      <th></th>\n",
       "      <th></th>\n",
       "      <th></th>\n",
       "      <th></th>\n",
       "    </tr>\n",
       "  </thead>\n",
       "  <tbody>\n",
       "    <tr>\n",
       "      <td>female</td>\n",
       "      <td>82.66455</td>\n",
       "      <td>22.0</td>\n",
       "      <td>12.475</td>\n",
       "      <td>91</td>\n",
       "      <td>70</td>\n",
       "      <td>72</td>\n",
       "    </tr>\n",
       "    <tr>\n",
       "      <td>male</td>\n",
       "      <td>41.26250</td>\n",
       "      <td>13.0</td>\n",
       "      <td>7.925</td>\n",
       "      <td>45</td>\n",
       "      <td>17</td>\n",
       "      <td>47</td>\n",
       "    </tr>\n",
       "  </tbody>\n",
       "</table>\n",
       "</div>"
      ],
      "text/plain": [
       "            fare                survived             \n",
       "class      First Second   Third    First Second Third\n",
       "sex                                                  \n",
       "female  82.66455   22.0  12.475       91     70    72\n",
       "male    41.26250   13.0   7.925       45     17    47"
      ]
     },
     "execution_count": 33,
     "metadata": {},
     "output_type": "execute_result"
    }
   ],
   "source": [
    "titanic.pivot_table(index='sex',columns='class',\n",
    "                    aggfunc={'fare':'median','survived':'sum'})"
   ]
  },
  {
   "cell_type": "markdown",
   "metadata": {},
   "source": [
    "### 3.3 long table, wide table\n",
    "* 열정보를 새로운 행 정보로 바꾸기 \"MultiIndex\"\n",
    "- `P`--> `P.stack()`--> `P.stack().unstack()`;(되돌리기)\n",
    "- (2,3) --> (6,) --> (2,3)"
   ]
  },
  {
   "cell_type": "code",
   "execution_count": 41,
   "metadata": {},
   "outputs": [
    {
     "name": "stdout",
     "output_type": "stream",
     "text": [
      "   1  2  3\n",
      "a  0  1  2\n",
      "b  3  4  5\n"
     ]
    }
   ],
   "source": [
    "P=pd.DataFrame(np.arange(6).reshape(2, 3),index=list('ab'),columns=list('123'))  #새로운 data의 설정\n",
    "print(P)"
   ]
  },
  {
   "cell_type": "code",
   "execution_count": 42,
   "metadata": {},
   "outputs": [
    {
     "name": "stdout",
     "output_type": "stream",
     "text": [
      "a  1    0\n",
      "   2    1\n",
      "   3    2\n",
      "b  1    3\n",
      "   2    4\n",
      "   3    5\n",
      "dtype: int64\n"
     ]
    }
   ],
   "source": [
    "print(P.stack()) #행 index와 열 index를 만들어 자료를 재정리"
   ]
  },
  {
   "cell_type": "code",
   "execution_count": 41,
   "metadata": {},
   "outputs": [
    {
     "name": "stdout",
     "output_type": "stream",
     "text": [
      "   1  2  3\n",
      "a  0  1  2\n",
      "b  3  4  5\n"
     ]
    }
   ],
   "source": [
    "print(P.stack().unstack())  #위 과정의 반대방향."
   ]
  },
  {
   "cell_type": "code",
   "execution_count": 51,
   "metadata": {},
   "outputs": [
    {
     "data": {
      "text/plain": [
       "(2, 3)"
      ]
     },
     "execution_count": 51,
     "metadata": {},
     "output_type": "execute_result"
    }
   ],
   "source": [
    "P.stack().unstack().shape"
   ]
  }
 ],
 "metadata": {
  "kernelspec": {
   "display_name": "Python 3",
   "language": "python",
   "name": "python3"
  },
  "language_info": {
   "codemirror_mode": {
    "name": "ipython",
    "version": 3
   },
   "file_extension": ".py",
   "mimetype": "text/x-python",
   "name": "python",
   "nbconvert_exporter": "python",
   "pygments_lexer": "ipython3",
   "version": "3.7.6"
  }
 },
 "nbformat": 4,
 "nbformat_minor": 4
}
